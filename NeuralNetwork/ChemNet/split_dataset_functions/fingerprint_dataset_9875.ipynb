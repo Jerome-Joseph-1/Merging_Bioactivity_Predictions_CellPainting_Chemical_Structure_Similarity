{
 "cells": [
  {
   "cell_type": "code",
   "execution_count": 3,
   "metadata": {},
   "outputs": [],
   "source": [
    "import pandas as pd "
   ]
  },
  {
   "cell_type": "code",
   "execution_count": 4,
   "metadata": {},
   "outputs": [],
   "source": [
    "entire_dataset = pd.read_csv('../../Datasets/Pubchem_inchi_merged_9875.csv')\n",
    "entire_dataset = entire_dataset.drop([\"Unnamed: 0\"], axis=1)"
   ]
  },
  {
   "cell_type": "code",
   "execution_count": 5,
   "metadata": {},
   "outputs": [],
   "source": [
    "chemical_fingerPrint_Dataset = entire_dataset[['InChICode_standardised', 'fp']]\n",
    "chemical_fingerPrint_Dataset.to_csv('../../Datasets/fingerPrint_filtered_9875.csv')"
   ]
  }
 ],
 "metadata": {
  "kernelspec": {
   "display_name": "Python 3",
   "language": "python",
   "name": "python3"
  },
  "language_info": {
   "codemirror_mode": {
    "name": "ipython",
    "version": 3
   },
   "file_extension": ".py",
   "mimetype": "text/x-python",
   "name": "python",
   "nbconvert_exporter": "python",
   "pygments_lexer": "ipython3",
   "version": "3.10.12"
  }
 },
 "nbformat": 4,
 "nbformat_minor": 2
}
