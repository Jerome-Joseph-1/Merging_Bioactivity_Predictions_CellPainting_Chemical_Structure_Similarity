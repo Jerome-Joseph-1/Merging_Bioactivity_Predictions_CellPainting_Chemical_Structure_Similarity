{
 "cells": [
  {
   "cell_type": "code",
   "execution_count": 1,
   "metadata": {},
   "outputs": [],
   "source": [
    "#This notebook builds a heirarchial model from baseline randomforest \n",
    "#Morgan fingerprint \n",
    "#and cell painting"
   ]
  },
  {
   "cell_type": "code",
   "execution_count": 2,
   "metadata": {},
   "outputs": [],
   "source": [
    "from rdkit import Chem, DataStructs\n",
    "from scipy.stats import randint\n",
    "from rdkit.Chem import AllChem\n",
    "from scipy import stats\n",
    "from rdkit.Chem import rdMolDescriptors as rdmd\n",
    "from rdkit.Chem.Scaffolds import MurckoScaffold\n",
    "import pandas as pd\n",
    "from tqdm import tqdm\n",
    "import time\n",
    "import numpy as np\n",
    "from scipy.spatial.distance import cdist\n",
    "from sklearn.cluster import MiniBatchKMeans\n",
    "import matplotlib.pyplot as plt\n",
    "from sklearn.ensemble import RandomForestClassifier\n",
    "from sklearn.model_selection import train_test_split\n",
    "from sklearn.metrics import matthews_corrcoef,confusion_matrix, roc_auc_score, roc_curve\n",
    "import seaborn as sns"
   ]
  },
  {
   "cell_type": "code",
   "execution_count": 3,
   "metadata": {},
   "outputs": [
    {
     "data": {
      "text/html": [
       "<div>\n",
       "<style scoped>\n",
       "    .dataframe tbody tr th:only-of-type {\n",
       "        vertical-align: middle;\n",
       "    }\n",
       "\n",
       "    .dataframe tbody tr th {\n",
       "        vertical-align: top;\n",
       "    }\n",
       "\n",
       "    .dataframe thead th {\n",
       "        text-align: right;\n",
       "    }\n",
       "</style>\n",
       "<table border=\"1\" class=\"dataframe\">\n",
       "  <thead>\n",
       "    <tr style=\"text-align: right;\">\n",
       "      <th></th>\n",
       "      <th>assay</th>\n",
       "      <th>InChICode_standardised</th>\n",
       "      <th>fp_proba</th>\n",
       "      <th>fp_pred</th>\n",
       "      <th>fp_threshold</th>\n",
       "      <th>CP_proba</th>\n",
       "      <th>CP_pred</th>\n",
       "      <th>CP_threshold</th>\n",
       "      <th>true</th>\n",
       "      <th>Data</th>\n",
       "      <th>MFP_Correct</th>\n",
       "      <th>CP_Correct</th>\n",
       "      <th>fp_proba_scaled</th>\n",
       "      <th>CP_proba_scaled</th>\n",
       "      <th>simple_pred</th>\n",
       "      <th>Ensemble_Correct</th>\n",
       "    </tr>\n",
       "  </thead>\n",
       "  <tbody>\n",
       "    <tr>\n",
       "      <th>0</th>\n",
       "      <td>178_684</td>\n",
       "      <td>InChI=1S/C46H56N4O10/c1-7-42(55)22-28-23-45(40...</td>\n",
       "      <td>0.853763</td>\n",
       "      <td>1</td>\n",
       "      <td>0.481794</td>\n",
       "      <td>0.893879</td>\n",
       "      <td>1</td>\n",
       "      <td>0.269814</td>\n",
       "      <td>1.0</td>\n",
       "      <td>Training</td>\n",
       "      <td>True</td>\n",
       "      <td>True</td>\n",
       "      <td>0.858900</td>\n",
       "      <td>0.927333</td>\n",
       "      <td>1.0</td>\n",
       "      <td>True</td>\n",
       "    </tr>\n",
       "    <tr>\n",
       "      <th>1</th>\n",
       "      <td>178_684</td>\n",
       "      <td>InChI=1S/C30H42ClN3O5S/c1-21-17-34(22(2)20-35)...</td>\n",
       "      <td>0.357098</td>\n",
       "      <td>0</td>\n",
       "      <td>0.481794</td>\n",
       "      <td>0.412432</td>\n",
       "      <td>1</td>\n",
       "      <td>0.269814</td>\n",
       "      <td>1.0</td>\n",
       "      <td>Training</td>\n",
       "      <td>False</td>\n",
       "      <td>True</td>\n",
       "      <td>0.370592</td>\n",
       "      <td>0.597659</td>\n",
       "      <td>0.0</td>\n",
       "      <td>False</td>\n",
       "    </tr>\n",
       "    <tr>\n",
       "      <th>2</th>\n",
       "      <td>178_684</td>\n",
       "      <td>InChI=1S/C31H44N4O6/c1-22-18-35(23(2)21-36)31(...</td>\n",
       "      <td>0.046336</td>\n",
       "      <td>0</td>\n",
       "      <td>0.481794</td>\n",
       "      <td>0.167905</td>\n",
       "      <td>0</td>\n",
       "      <td>0.269814</td>\n",
       "      <td>0.0</td>\n",
       "      <td>Training</td>\n",
       "      <td>True</td>\n",
       "      <td>True</td>\n",
       "      <td>0.048086</td>\n",
       "      <td>0.311150</td>\n",
       "      <td>0.0</td>\n",
       "      <td>True</td>\n",
       "    </tr>\n",
       "    <tr>\n",
       "      <th>3</th>\n",
       "      <td>178_684</td>\n",
       "      <td>InChI=1S/C35H60N4O5/c1-26-22-39(27(2)25-40)35(...</td>\n",
       "      <td>0.039431</td>\n",
       "      <td>0</td>\n",
       "      <td>0.481794</td>\n",
       "      <td>0.182939</td>\n",
       "      <td>0</td>\n",
       "      <td>0.269814</td>\n",
       "      <td>0.0</td>\n",
       "      <td>Training</td>\n",
       "      <td>True</td>\n",
       "      <td>True</td>\n",
       "      <td>0.040921</td>\n",
       "      <td>0.339009</td>\n",
       "      <td>0.0</td>\n",
       "      <td>True</td>\n",
       "    </tr>\n",
       "    <tr>\n",
       "      <th>4</th>\n",
       "      <td>178_684</td>\n",
       "      <td>InChI=1S/C29H39N5O5/c1-19-16-34(20(2)18-35)28(...</td>\n",
       "      <td>0.345300</td>\n",
       "      <td>0</td>\n",
       "      <td>0.481794</td>\n",
       "      <td>0.091189</td>\n",
       "      <td>0</td>\n",
       "      <td>0.269814</td>\n",
       "      <td>0.0</td>\n",
       "      <td>Training</td>\n",
       "      <td>True</td>\n",
       "      <td>True</td>\n",
       "      <td>0.358348</td>\n",
       "      <td>0.168984</td>\n",
       "      <td>0.0</td>\n",
       "      <td>True</td>\n",
       "    </tr>\n",
       "    <tr>\n",
       "      <th>...</th>\n",
       "      <td>...</td>\n",
       "      <td>...</td>\n",
       "      <td>...</td>\n",
       "      <td>...</td>\n",
       "      <td>...</td>\n",
       "      <td>...</td>\n",
       "      <td>...</td>\n",
       "      <td>...</td>\n",
       "      <td>...</td>\n",
       "      <td>...</td>\n",
       "      <td>...</td>\n",
       "      <td>...</td>\n",
       "      <td>...</td>\n",
       "      <td>...</td>\n",
       "      <td>...</td>\n",
       "      <td>...</td>\n",
       "    </tr>\n",
       "    <tr>\n",
       "      <th>58482</th>\n",
       "      <td>93_259</td>\n",
       "      <td>InChI=1S/C12H11N3O2S/c1-8-7-9(2)15(13-8)12-10-...</td>\n",
       "      <td>0.127744</td>\n",
       "      <td>0</td>\n",
       "      <td>0.245120</td>\n",
       "      <td>0.513325</td>\n",
       "      <td>1</td>\n",
       "      <td>0.428485</td>\n",
       "      <td>0.0</td>\n",
       "      <td>HeldOut</td>\n",
       "      <td>True</td>\n",
       "      <td>False</td>\n",
       "      <td>0.260575</td>\n",
       "      <td>0.574224</td>\n",
       "      <td>0.0</td>\n",
       "      <td>True</td>\n",
       "    </tr>\n",
       "    <tr>\n",
       "      <th>58483</th>\n",
       "      <td>93_259</td>\n",
       "      <td>InChI=1S/C17H16N2O4S/c1-22-14-7-8-16(23-2)17(1...</td>\n",
       "      <td>0.505973</td>\n",
       "      <td>1</td>\n",
       "      <td>0.245120</td>\n",
       "      <td>0.322499</td>\n",
       "      <td>0</td>\n",
       "      <td>0.428485</td>\n",
       "      <td>0.0</td>\n",
       "      <td>HeldOut</td>\n",
       "      <td>False</td>\n",
       "      <td>True</td>\n",
       "      <td>0.672778</td>\n",
       "      <td>0.376325</td>\n",
       "      <td>1.0</td>\n",
       "      <td>False</td>\n",
       "    </tr>\n",
       "    <tr>\n",
       "      <th>58484</th>\n",
       "      <td>93_259</td>\n",
       "      <td>InChI=1S/C24H21N3O2S/c28-23-19-8-4-5-9-21(19)3...</td>\n",
       "      <td>0.363862</td>\n",
       "      <td>1</td>\n",
       "      <td>0.245120</td>\n",
       "      <td>0.359675</td>\n",
       "      <td>0</td>\n",
       "      <td>0.428485</td>\n",
       "      <td>1.0</td>\n",
       "      <td>HeldOut</td>\n",
       "      <td>True</td>\n",
       "      <td>False</td>\n",
       "      <td>0.578650</td>\n",
       "      <td>0.419705</td>\n",
       "      <td>0.0</td>\n",
       "      <td>False</td>\n",
       "    </tr>\n",
       "    <tr>\n",
       "      <th>58485</th>\n",
       "      <td>93_259</td>\n",
       "      <td>InChI=1S/C18H22N2O4S/c1-14(2)15-5-7-16(8-6-15)...</td>\n",
       "      <td>0.290175</td>\n",
       "      <td>1</td>\n",
       "      <td>0.245120</td>\n",
       "      <td>0.260526</td>\n",
       "      <td>0</td>\n",
       "      <td>0.428485</td>\n",
       "      <td>0.0</td>\n",
       "      <td>HeldOut</td>\n",
       "      <td>False</td>\n",
       "      <td>True</td>\n",
       "      <td>0.529843</td>\n",
       "      <td>0.304008</td>\n",
       "      <td>0.0</td>\n",
       "      <td>True</td>\n",
       "    </tr>\n",
       "    <tr>\n",
       "      <th>58486</th>\n",
       "      <td>93_259</td>\n",
       "      <td>InChI=1S/C12H14N2O4S4/c15-21(16,11-3-1-9-19-11...</td>\n",
       "      <td>0.190948</td>\n",
       "      <td>0</td>\n",
       "      <td>0.245120</td>\n",
       "      <td>0.130083</td>\n",
       "      <td>0</td>\n",
       "      <td>0.428485</td>\n",
       "      <td>0.0</td>\n",
       "      <td>HeldOut</td>\n",
       "      <td>True</td>\n",
       "      <td>True</td>\n",
       "      <td>0.389498</td>\n",
       "      <td>0.151794</td>\n",
       "      <td>0.0</td>\n",
       "      <td>True</td>\n",
       "    </tr>\n",
       "  </tbody>\n",
       "</table>\n",
       "<p>58487 rows × 16 columns</p>\n",
       "</div>"
      ],
      "text/plain": [
       "         assay                             InChICode_standardised  fp_proba  \\\n",
       "0      178_684  InChI=1S/C46H56N4O10/c1-7-42(55)22-28-23-45(40...  0.853763   \n",
       "1      178_684  InChI=1S/C30H42ClN3O5S/c1-21-17-34(22(2)20-35)...  0.357098   \n",
       "2      178_684  InChI=1S/C31H44N4O6/c1-22-18-35(23(2)21-36)31(...  0.046336   \n",
       "3      178_684  InChI=1S/C35H60N4O5/c1-26-22-39(27(2)25-40)35(...  0.039431   \n",
       "4      178_684  InChI=1S/C29H39N5O5/c1-19-16-34(20(2)18-35)28(...  0.345300   \n",
       "...        ...                                                ...       ...   \n",
       "58482   93_259  InChI=1S/C12H11N3O2S/c1-8-7-9(2)15(13-8)12-10-...  0.127744   \n",
       "58483   93_259  InChI=1S/C17H16N2O4S/c1-22-14-7-8-16(23-2)17(1...  0.505973   \n",
       "58484   93_259  InChI=1S/C24H21N3O2S/c28-23-19-8-4-5-9-21(19)3...  0.363862   \n",
       "58485   93_259  InChI=1S/C18H22N2O4S/c1-14(2)15-5-7-16(8-6-15)...  0.290175   \n",
       "58486   93_259  InChI=1S/C12H14N2O4S4/c15-21(16,11-3-1-9-19-11...  0.190948   \n",
       "\n",
       "       fp_pred  fp_threshold  CP_proba  CP_pred  CP_threshold  true      Data  \\\n",
       "0            1      0.481794  0.893879        1      0.269814   1.0  Training   \n",
       "1            0      0.481794  0.412432        1      0.269814   1.0  Training   \n",
       "2            0      0.481794  0.167905        0      0.269814   0.0  Training   \n",
       "3            0      0.481794  0.182939        0      0.269814   0.0  Training   \n",
       "4            0      0.481794  0.091189        0      0.269814   0.0  Training   \n",
       "...        ...           ...       ...      ...           ...   ...       ...   \n",
       "58482        0      0.245120  0.513325        1      0.428485   0.0   HeldOut   \n",
       "58483        1      0.245120  0.322499        0      0.428485   0.0   HeldOut   \n",
       "58484        1      0.245120  0.359675        0      0.428485   1.0   HeldOut   \n",
       "58485        1      0.245120  0.260526        0      0.428485   0.0   HeldOut   \n",
       "58486        0      0.245120  0.130083        0      0.428485   0.0   HeldOut   \n",
       "\n",
       "       MFP_Correct  CP_Correct  fp_proba_scaled  CP_proba_scaled  simple_pred  \\\n",
       "0             True        True         0.858900         0.927333          1.0   \n",
       "1            False        True         0.370592         0.597659          0.0   \n",
       "2             True        True         0.048086         0.311150          0.0   \n",
       "3             True        True         0.040921         0.339009          0.0   \n",
       "4             True        True         0.358348         0.168984          0.0   \n",
       "...            ...         ...              ...              ...          ...   \n",
       "58482         True       False         0.260575         0.574224          0.0   \n",
       "58483        False        True         0.672778         0.376325          1.0   \n",
       "58484         True       False         0.578650         0.419705          0.0   \n",
       "58485        False        True         0.529843         0.304008          0.0   \n",
       "58486         True        True         0.389498         0.151794          0.0   \n",
       "\n",
       "       Ensemble_Correct  \n",
       "0                  True  \n",
       "1                 False  \n",
       "2                  True  \n",
       "3                  True  \n",
       "4                  True  \n",
       "...                 ...  \n",
       "58482              True  \n",
       "58483             False  \n",
       "58484             False  \n",
       "58485              True  \n",
       "58486              True  \n",
       "\n",
       "[58487 rows x 16 columns]"
      ]
     },
     "execution_count": 3,
     "metadata": {},
     "output_type": "execute_result"
    }
   ],
   "source": [
    "list_of_lists_df = pd.read_csv(\"Predictions_train_heldout_scaled_prob_all_assays_ensemble.csv\")\n",
    "list_of_lists_df"
   ]
  },
  {
   "cell_type": "code",
   "execution_count": 4,
   "metadata": {},
   "outputs": [],
   "source": [
    "from sklearn.linear_model import LogisticRegression\n",
    "from io import StringIO\n",
    "from itertools import product\n",
    "import sys\n",
    "import matplotlib.pyplot as plt\n",
    "from sklearn.tree import plot_tree\n",
    "from sklearn.tree import DecisionTreeClassifier\n",
    "from sklearn.model_selection import StratifiedKFold"
   ]
  },
  {
   "cell_type": "code",
   "execution_count": 5,
   "metadata": {},
   "outputs": [],
   "source": [
    "def RF_Fn(assay):\n",
    "\n",
    "    detail_list=pd.DataFrame()\n",
    "    detail_list = list_of_lists_df[list_of_lists_df[\"assay\"]==assay].reset_index(drop=True)\n",
    "    \n",
    "    \n",
    "    proba_batch=[]\n",
    "    pred_batch=[]\n",
    "    true_batch=[]\n",
    "    StdInChI_batch=[]\n",
    "    \n",
    "    train= detail_list[detail_list[\"Data\"]==\"Training\"]\n",
    "\n",
    "    test= detail_list[detail_list[\"Data\"]==\"HeldOut\"]\n",
    "    \n",
    "\n",
    "    print(\"Herirachal model for training data\")    \n",
    "\n",
    "    print(\"RF Model\")\n",
    "            \n",
    "    X_train = train[[\"fp_proba_scaled\", \"CP_proba_scaled\"]].to_numpy()\n",
    "    y_train = train[\"true\"].to_numpy()\n",
    "    X_test = test[[\"fp_proba_scaled\", \"CP_proba_scaled\"]].to_numpy()\n",
    "    y_test = test[\"true\"].to_numpy()\n",
    "\n",
    "\n",
    "    inner_cv = StratifiedKFold(n_splits=5, shuffle=True, random_state=42)\n",
    "         \n",
    "    param_dist_grid = {\n",
    "        'n_estimators':[100, 300, 400, 500],\n",
    "        'random_state': [42],\n",
    "        'n_jobs': [1],\n",
    "        'class_weight' : [None, 'balanced']\n",
    "        }\n",
    "        \n",
    "    rf = RandomForestClassifier(n_jobs=-1)\n",
    "    rsh = HalvingRandomSearchCV(estimator=rf, param_distributions=param_dist_grid, factor=2, \n",
    "                                random_state=42, n_jobs=20, verbose=0,  cv = inner_cv)\n",
    "\n",
    "    rsh.fit(X_train, y_train)\n",
    "\n",
    "    print(\"Tuned Mode: \", rsh.best_params_)\n",
    "    clf = rsh.best_estimator_\n",
    "        \n",
    "    #n_estimators=100\n",
    "    #clf = RandomForestClassifier(n_estimators=n_estimators, max_depth=10, random_state=42, class_weight=\"balanced\")           \n",
    "    clf.fit(X_train, y_train)\n",
    "    \n",
    "    #Threshold Balancing\n",
    "    cross_val_prob = cross_val_predict(rsh.best_estimator_, X_train, y_train, cv=inner_cv, method='predict_proba')[:, 1]\n",
    "    # calculate roc curves\n",
    "    fpr, tpr, thresholds = roc_curve(y_train, cross_val_prob)\n",
    "    # get the best threshold\n",
    "    J = tpr - fpr\n",
    "    ix = argmax(J)\n",
    "    best_thresh = thresholds[ix]\n",
    "    print('Best Threshold=%f' % (best_thresh))\n",
    "\n",
    "\n",
    "    proba = clf.predict_proba(X_test)[:,1]\n",
    "    pred  = [ 1 if x>best_thresh  else 0 for x in proba ] \n",
    "\n",
    "           \n",
    "    StdInChI = test[\"InChICode_standardised\"].to_numpy()\n",
    "    #pred = clf.predict(X_test) \n",
    "    #proba = clf.predict_proba(X_test)[:,1]\n",
    "    true = test[\"true\"].to_numpy()\n",
    "            \n",
    "\n",
    "    StdInChI_batch = np.concatenate([StdInChI_batch, StdInChI])\n",
    "    proba_batch = np.concatenate([proba_batch, proba])\n",
    "    pred_batch = np.concatenate([pred_batch, pred])\n",
    "    true_batch = np.concatenate([true_batch, true])\n",
    "\n",
    "    print(len(pred_batch))\n",
    "    print(len(true_batch))\n",
    "   \n",
    "    return StdInChI_batch, true_batch, pred_batch, proba_batch"
   ]
  },
  {
   "cell_type": "code",
   "execution_count": 6,
   "metadata": {},
   "outputs": [],
   "source": [
    "from sklearn.metrics import f1_score\n",
    "from sklearn.metrics import precision_score\n",
    "from sklearn.metrics import classification_report\n",
    "from sklearn.metrics import balanced_accuracy_score\n",
    "\n",
    "def check_heirarchial(assay, method, y_true, y_pred, y_prob):\n",
    "    \n",
    "    conf_matrix = confusion_matrix(y_true, y_pred)\n",
    "    #print(conf_matrix)\n",
    "    \n",
    "    #print(classification_report(y_true, y_pred))\n",
    "    \n",
    "    ba= balanced_accuracy_score(y_true, y_pred)\n",
    "    #print('balanced_accuracy_score ',ba)\n",
    "    \n",
    "    mcc=matthews_corrcoef(y_true, y_pred)\n",
    "    #print('matthews_corrcoef ',mcc)\n",
    "    # Sensitivity, hit rate, recall, or true positive rate\n",
    "    \n",
    "    f1= f1_score(y_true, y_pred, average='binary')\n",
    "    precision = precision_score(y_true, y_pred, average='binary')\n",
    "    \n",
    "    #print('F1 Toxic', f1)\n",
    "    #print('precision', precision)\n",
    "    \n",
    "    Specificity = conf_matrix[0,0]/(conf_matrix[0,0]+conf_matrix[0,1])\n",
    "    # Specificity or true negative rate\n",
    "    Sensitivity = conf_matrix[1,1]/(conf_matrix[1,0]+conf_matrix[1,1]) \n",
    "    \n",
    "    #print( 'Sensitivity', Sensitivity)\n",
    "    #print( 'Specificity', Specificity)\n",
    "    AUC = roc_auc_score(y_true, y_prob)\n",
    "    #print('AUC-ROC ',AUC)    \n",
    "    # calculate roc curves\n",
    "    best_model_fpr, best_model_tpr, _ = roc_curve(y_true, y_prob)   \n",
    "    \n",
    "    \n",
    "    row=[assay, method, f1, precision, Sensitivity, Specificity, ba, mcc, AUC]\n",
    "    metrics_list.append(row)\n",
    "    \n",
    "    return metrics_list"
   ]
  },
  {
   "cell_type": "code",
   "execution_count": 7,
   "metadata": {},
   "outputs": [],
   "source": [
    "from sklearn.model_selection import KFold\n",
    "from sklearn.model_selection import cross_val_predict\n",
    "from collections import Counter\n",
    "from numpy import argmax\n",
    "from sklearn.experimental import enable_halving_search_cv\n",
    "from sklearn.model_selection import HalvingRandomSearchCV"
   ]
  },
  {
   "cell_type": "code",
   "execution_count": 8,
   "metadata": {
    "scrolled": true
   },
   "outputs": [
    {
     "name": "stderr",
     "output_type": "stream",
     "text": [
      "\r",
      "  0%|                                                    | 0/89 [00:00<?, ?it/s]"
     ]
    },
    {
     "name": "stdout",
     "output_type": "stream",
     "text": [
      "Assay:  178_684\n",
      "Heirarchial_Model\n",
      "Herirachal model for training data\n",
      "RF Model\n",
      "Tuned Mode:  {'random_state': 42, 'n_jobs': 1, 'n_estimators': 500, 'class_weight': 'balanced'}\n"
     ]
    },
    {
     "name": "stderr",
     "output_type": "stream",
     "text": [
      "\r",
      "  1%|▍                                           | 1/89 [00:06<09:26,  6.43s/it]"
     ]
    },
    {
     "name": "stdout",
     "output_type": "stream",
     "text": [
      "Best Threshold=0.436000\n",
      "55\n",
      "55\n",
      "178_684\n",
      "Assay:  180_686\n",
      "Heirarchial_Model\n",
      "Herirachal model for training data\n",
      "RF Model\n",
      "Tuned Mode:  {'random_state': 42, 'n_jobs': 1, 'n_estimators': 100, 'class_weight': 'balanced'}\n"
     ]
    },
    {
     "name": "stderr",
     "output_type": "stream",
     "text": [
      "\r",
      "  2%|▉                                           | 2/89 [00:08<05:46,  3.98s/it]"
     ]
    },
    {
     "name": "stdout",
     "output_type": "stream",
     "text": [
      "Best Threshold=0.150000\n",
      "41\n",
      "41\n",
      "180_686\n",
      "Assay:  183_604\n",
      "Heirarchial_Model\n",
      "Herirachal model for training data\n",
      "RF Model\n",
      "Tuned Mode:  {'random_state': 42, 'n_jobs': 1, 'n_estimators': 100, 'class_weight': 'balanced'}\n"
     ]
    },
    {
     "name": "stderr",
     "output_type": "stream",
     "text": [
      "\r",
      "  3%|█▍                                          | 3/89 [00:11<04:37,  3.22s/it]"
     ]
    },
    {
     "name": "stdout",
     "output_type": "stream",
     "text": [
      "Best Threshold=0.370000\n",
      "36\n",
      "36\n",
      "183_604\n",
      "Assay:  184_606\n",
      "Heirarchial_Model\n",
      "Herirachal model for training data\n",
      "RF Model\n",
      "Tuned Mode:  {'random_state': 42, 'n_jobs': 1, 'n_estimators': 400, 'class_weight': 'balanced'}\n"
     ]
    },
    {
     "name": "stderr",
     "output_type": "stream",
     "text": [
      "\r",
      "  4%|█▉                                          | 4/89 [00:15<05:24,  3.81s/it]"
     ]
    },
    {
     "name": "stdout",
     "output_type": "stream",
     "text": [
      "Best Threshold=0.297500\n",
      "63\n",
      "63\n",
      "184_606\n",
      "Assay:  185_665\n",
      "Heirarchial_Model\n",
      "Herirachal model for training data\n",
      "RF Model\n",
      "Tuned Mode:  {'random_state': 42, 'n_jobs': 1, 'n_estimators': 500, 'class_weight': 'balanced'}\n"
     ]
    },
    {
     "name": "stderr",
     "output_type": "stream",
     "text": [
      "\r",
      "  6%|██▍                                         | 5/89 [00:20<05:36,  4.01s/it]"
     ]
    },
    {
     "name": "stdout",
     "output_type": "stream",
     "text": [
      "Best Threshold=0.170000\n",
      "24\n",
      "24\n",
      "185_665\n",
      "Assay:  185_666\n",
      "Heirarchial_Model\n",
      "Herirachal model for training data\n",
      "RF Model\n",
      "Tuned Mode:  {'random_state': 42, 'n_jobs': 1, 'n_estimators': 400, 'class_weight': None}\n"
     ]
    },
    {
     "name": "stderr",
     "output_type": "stream",
     "text": [
      "\r",
      "  7%|██▉                                         | 6/89 [00:23<05:27,  3.95s/it]"
     ]
    },
    {
     "name": "stdout",
     "output_type": "stream",
     "text": [
      "Best Threshold=0.660000\n",
      "35\n",
      "35\n",
      "185_666\n",
      "Assay:  186_668\n",
      "Heirarchial_Model\n",
      "Herirachal model for training data\n",
      "RF Model\n",
      "Tuned Mode:  {'random_state': 42, 'n_jobs': 1, 'n_estimators': 500, 'class_weight': 'balanced'}\n"
     ]
    },
    {
     "name": "stderr",
     "output_type": "stream",
     "text": [
      "\r",
      "  8%|███▍                                        | 7/89 [00:28<05:34,  4.08s/it]"
     ]
    },
    {
     "name": "stdout",
     "output_type": "stream",
     "text": [
      "Best Threshold=0.126000\n",
      "26\n",
      "26\n",
      "186_668\n",
      "Assay:  190_628\n",
      "Heirarchial_Model\n",
      "Herirachal model for training data\n",
      "RF Model\n",
      "Tuned Mode:  {'random_state': 42, 'n_jobs': 1, 'n_estimators': 500, 'class_weight': 'balanced'}\n"
     ]
    },
    {
     "name": "stderr",
     "output_type": "stream",
     "text": [
      "\r",
      "  9%|███▉                                        | 8/89 [00:32<05:39,  4.19s/it]"
     ]
    },
    {
     "name": "stdout",
     "output_type": "stream",
     "text": [
      "Best Threshold=0.204000\n",
      "32\n",
      "32\n",
      "190_628\n",
      "Assay:  190_629\n",
      "Heirarchial_Model\n",
      "Herirachal model for training data\n",
      "RF Model\n",
      "Tuned Mode:  {'random_state': 42, 'n_jobs': 1, 'n_estimators': 500, 'class_weight': 'balanced'}\n"
     ]
    },
    {
     "name": "stderr",
     "output_type": "stream",
     "text": [
      "\r",
      " 10%|████▍                                       | 9/89 [00:37<05:40,  4.26s/it]"
     ]
    },
    {
     "name": "stdout",
     "output_type": "stream",
     "text": [
      "Best Threshold=0.628000\n",
      "21\n",
      "21\n",
      "190_629\n",
      "Assay:  190_674\n",
      "Heirarchial_Model\n",
      "Herirachal model for training data\n",
      "RF Model\n",
      "Tuned Mode:  {'random_state': 42, 'n_jobs': 1, 'n_estimators': 500, 'class_weight': 'balanced'}\n"
     ]
    },
    {
     "name": "stderr",
     "output_type": "stream",
     "text": [
      "\r",
      " 11%|████▊                                      | 10/89 [00:41<05:40,  4.31s/it]"
     ]
    },
    {
     "name": "stdout",
     "output_type": "stream",
     "text": [
      "Best Threshold=0.436000\n",
      "25\n",
      "25\n",
      "190_674\n",
      "Assay:  191_630\n",
      "Heirarchial_Model\n",
      "Herirachal model for training data\n",
      "RF Model\n",
      "Tuned Mode:  {'random_state': 42, 'n_jobs': 1, 'n_estimators': 500, 'class_weight': 'balanced'}\n"
     ]
    },
    {
     "name": "stderr",
     "output_type": "stream",
     "text": [
      "\r",
      " 12%|█████▎                                     | 11/89 [00:46<05:46,  4.44s/it]"
     ]
    },
    {
     "name": "stdout",
     "output_type": "stream",
     "text": [
      "Best Threshold=0.038000\n",
      "37\n",
      "37\n",
      "191_630\n",
      "Assay:  191_631\n",
      "Heirarchial_Model\n",
      "Herirachal model for training data\n",
      "RF Model\n",
      "Tuned Mode:  {'random_state': 42, 'n_jobs': 1, 'n_estimators': 100, 'class_weight': 'balanced'}\n"
     ]
    },
    {
     "name": "stderr",
     "output_type": "stream",
     "text": [
      "\r",
      " 13%|█████▊                                     | 12/89 [00:48<04:47,  3.73s/it]"
     ]
    },
    {
     "name": "stdout",
     "output_type": "stream",
     "text": [
      "Best Threshold=0.470000\n",
      "33\n",
      "33\n",
      "191_631\n",
      "Assay:  193_723\n",
      "Heirarchial_Model\n",
      "Herirachal model for training data\n",
      "RF Model\n",
      "Tuned Mode:  {'random_state': 42, 'n_jobs': 1, 'n_estimators': 500, 'class_weight': 'balanced'}\n"
     ]
    },
    {
     "name": "stderr",
     "output_type": "stream",
     "text": [
      "\r",
      " 15%|██████▎                                    | 13/89 [00:53<05:23,  4.25s/it]"
     ]
    },
    {
     "name": "stdout",
     "output_type": "stream",
     "text": [
      "Best Threshold=0.212000\n",
      "40\n",
      "40\n",
      "193_723\n",
      "Assay:  194_639\n",
      "Heirarchial_Model\n",
      "Herirachal model for training data\n",
      "RF Model\n",
      "Tuned Mode:  {'random_state': 42, 'n_jobs': 1, 'n_estimators': 500, 'class_weight': 'balanced'}\n"
     ]
    },
    {
     "name": "stderr",
     "output_type": "stream",
     "text": [
      "\r",
      " 16%|██████▊                                    | 14/89 [00:59<05:46,  4.62s/it]"
     ]
    },
    {
     "name": "stdout",
     "output_type": "stream",
     "text": [
      "Best Threshold=0.676000\n",
      "48\n",
      "48\n",
      "194_639\n",
      "Assay:  195_642\n",
      "Heirarchial_Model\n",
      "Herirachal model for training data\n",
      "RF Model\n",
      "Tuned Mode:  {'random_state': 42, 'n_jobs': 1, 'n_estimators': 300, 'class_weight': 'balanced'}\n"
     ]
    },
    {
     "name": "stderr",
     "output_type": "stream",
     "text": [
      "\r",
      " 17%|███████▏                                   | 15/89 [01:03<05:35,  4.54s/it]"
     ]
    },
    {
     "name": "stdout",
     "output_type": "stream",
     "text": [
      "Best Threshold=0.520000\n",
      "108\n",
      "108\n",
      "195_642\n",
      "Assay:  197_645\n",
      "Heirarchial_Model\n",
      "Herirachal model for training data\n",
      "RF Model\n",
      "Tuned Mode:  {'random_state': 42, 'n_jobs': 1, 'n_estimators': 500, 'class_weight': 'balanced'}\n"
     ]
    },
    {
     "name": "stderr",
     "output_type": "stream",
     "text": [
      "\r",
      " 18%|███████▋                                   | 16/89 [01:09<05:52,  4.82s/it]"
     ]
    },
    {
     "name": "stdout",
     "output_type": "stream",
     "text": [
      "Best Threshold=0.488000\n",
      "68\n",
      "68\n",
      "197_645\n",
      "Assay:  197_646\n",
      "Heirarchial_Model\n",
      "Herirachal model for training data\n",
      "RF Model\n",
      "Tuned Mode:  {'random_state': 42, 'n_jobs': 1, 'n_estimators': 500, 'class_weight': 'balanced'}\n"
     ]
    },
    {
     "name": "stderr",
     "output_type": "stream",
     "text": [
      "\r",
      " 19%|████████▏                                  | 17/89 [01:13<05:35,  4.65s/it]"
     ]
    },
    {
     "name": "stdout",
     "output_type": "stream",
     "text": [
      "Best Threshold=0.326000\n",
      "25\n",
      "25\n",
      "197_646\n",
      "Assay:  197_649\n",
      "Heirarchial_Model\n",
      "Herirachal model for training data\n",
      "RF Model\n",
      "Tuned Mode:  {'random_state': 42, 'n_jobs': 1, 'n_estimators': 100, 'class_weight': None}\n"
     ]
    },
    {
     "name": "stderr",
     "output_type": "stream",
     "text": [
      "\r",
      " 20%|████████▋                                  | 18/89 [01:16<04:49,  4.08s/it]"
     ]
    },
    {
     "name": "stdout",
     "output_type": "stream",
     "text": [
      "Best Threshold=0.280000\n",
      "167\n",
      "167\n",
      "197_649\n",
      "Assay:  197_650\n",
      "Heirarchial_Model\n",
      "Herirachal model for training data\n",
      "RF Model\n",
      "Tuned Mode:  {'random_state': 42, 'n_jobs': 1, 'n_estimators': 500, 'class_weight': 'balanced'}\n"
     ]
    },
    {
     "name": "stderr",
     "output_type": "stream",
     "text": [
      "\r",
      " 21%|█████████▏                                 | 19/89 [01:21<05:13,  4.48s/it]"
     ]
    },
    {
     "name": "stdout",
     "output_type": "stream",
     "text": [
      "Best Threshold=0.142000\n",
      "72\n",
      "72\n",
      "197_650\n",
      "Assay:  198_682\n",
      "Heirarchial_Model\n",
      "Herirachal model for training data\n",
      "RF Model\n",
      "Tuned Mode:  {'random_state': 42, 'n_jobs': 1, 'n_estimators': 100, 'class_weight': 'balanced'}\n"
     ]
    },
    {
     "name": "stderr",
     "output_type": "stream",
     "text": [
      "\r",
      " 22%|█████████▋                                 | 20/89 [01:24<04:29,  3.91s/it]"
     ]
    },
    {
     "name": "stdout",
     "output_type": "stream",
     "text": [
      "Best Threshold=0.190000\n",
      "98\n",
      "98\n",
      "198_682\n",
      "Assay:  199_657\n",
      "Heirarchial_Model\n",
      "Herirachal model for training data\n",
      "RF Model\n",
      "Tuned Mode:  {'random_state': 42, 'n_jobs': 1, 'n_estimators': 300, 'class_weight': 'balanced'}\n"
     ]
    },
    {
     "name": "stderr",
     "output_type": "stream",
     "text": [
      "\r",
      " 24%|██████████▏                                | 21/89 [01:28<04:28,  3.94s/it]"
     ]
    },
    {
     "name": "stdout",
     "output_type": "stream",
     "text": [
      "Best Threshold=0.063333\n",
      "47\n",
      "47\n",
      "199_657\n",
      "Assay:  202_661\n",
      "Heirarchial_Model\n",
      "Herirachal model for training data\n",
      "RF Model\n",
      "Tuned Mode:  {'random_state': 42, 'n_jobs': 1, 'n_estimators': 400, 'class_weight': None}\n"
     ]
    },
    {
     "name": "stderr",
     "output_type": "stream",
     "text": [
      "\r",
      " 25%|██████████▋                                | 22/89 [01:31<04:17,  3.84s/it]"
     ]
    },
    {
     "name": "stdout",
     "output_type": "stream",
     "text": [
      "Best Threshold=0.155000\n",
      "35\n",
      "35\n",
      "202_661\n",
      "Assay:  205_664\n",
      "Heirarchial_Model\n",
      "Herirachal model for training data\n",
      "RF Model\n",
      "Tuned Mode:  {'random_state': 42, 'n_jobs': 1, 'n_estimators': 500, 'class_weight': 'balanced'}\n"
     ]
    },
    {
     "name": "stderr",
     "output_type": "stream",
     "text": [
      "\r",
      " 26%|███████████                                | 23/89 [01:38<05:02,  4.58s/it]"
     ]
    },
    {
     "name": "stdout",
     "output_type": "stream",
     "text": [
      "Best Threshold=0.226000\n",
      "184\n",
      "184\n",
      "205_664\n",
      "Assay:  206_670\n",
      "Heirarchial_Model\n",
      "Herirachal model for training data\n",
      "RF Model\n",
      "Tuned Mode:  {'random_state': 42, 'n_jobs': 1, 'n_estimators': 500, 'class_weight': 'balanced'}\n"
     ]
    },
    {
     "name": "stderr",
     "output_type": "stream",
     "text": [
      "\r",
      " 27%|███████████▌                               | 24/89 [01:42<04:55,  4.54s/it]"
     ]
    },
    {
     "name": "stdout",
     "output_type": "stream",
     "text": [
      "Best Threshold=0.200000\n",
      "29\n",
      "29\n",
      "206_670\n",
      "Assay:  206_671\n",
      "Heirarchial_Model\n",
      "Herirachal model for training data\n",
      "RF Model\n",
      "Tuned Mode:  {'random_state': 42, 'n_jobs': 1, 'n_estimators': 100, 'class_weight': 'balanced'}\n"
     ]
    },
    {
     "name": "stderr",
     "output_type": "stream",
     "text": [
      "\r",
      " 28%|████████████                               | 25/89 [01:44<04:09,  3.90s/it]"
     ]
    },
    {
     "name": "stdout",
     "output_type": "stream",
     "text": [
      "Best Threshold=0.150000\n",
      "39\n",
      "39\n",
      "206_671\n",
      "Assay:  207_672\n",
      "Heirarchial_Model\n",
      "Herirachal model for training data\n",
      "RF Model\n",
      "Tuned Mode:  {'random_state': 42, 'n_jobs': 1, 'n_estimators': 500, 'class_weight': 'balanced'}\n"
     ]
    },
    {
     "name": "stderr",
     "output_type": "stream",
     "text": [
      "\r",
      " 29%|████████████▌                              | 26/89 [01:50<04:37,  4.40s/it]"
     ]
    },
    {
     "name": "stdout",
     "output_type": "stream",
     "text": [
      "Best Threshold=0.298000\n",
      "77\n",
      "77\n",
      "207_672\n",
      "Assay:  208_673\n",
      "Heirarchial_Model\n",
      "Herirachal model for training data\n",
      "RF Model\n",
      "Tuned Mode:  {'random_state': 42, 'n_jobs': 1, 'n_estimators': 500, 'class_weight': 'balanced'}\n"
     ]
    },
    {
     "name": "stderr",
     "output_type": "stream",
     "text": [
      "\r",
      " 30%|█████████████                              | 27/89 [01:54<04:31,  4.38s/it]"
     ]
    },
    {
     "name": "stdout",
     "output_type": "stream",
     "text": [
      "Best Threshold=0.324000\n",
      "25\n",
      "25\n",
      "208_673\n",
      "Assay:  210_677\n",
      "Heirarchial_Model\n",
      "Herirachal model for training data\n",
      "RF Model\n",
      "Tuned Mode:  {'random_state': 42, 'n_jobs': 1, 'n_estimators': 500, 'class_weight': 'balanced'}\n"
     ]
    },
    {
     "name": "stderr",
     "output_type": "stream",
     "text": [
      "\r",
      " 31%|█████████████▌                             | 28/89 [02:00<04:48,  4.73s/it]"
     ]
    },
    {
     "name": "stdout",
     "output_type": "stream",
     "text": [
      "Best Threshold=0.076000\n",
      "77\n",
      "77\n",
      "210_677\n",
      "Assay:  213_681\n",
      "Heirarchial_Model\n",
      "Herirachal model for training data\n",
      "RF Model\n",
      "Tuned Mode:  {'random_state': 42, 'n_jobs': 1, 'n_estimators': 100, 'class_weight': 'balanced'}\n"
     ]
    },
    {
     "name": "stderr",
     "output_type": "stream",
     "text": [
      "\r",
      " 33%|██████████████                             | 29/89 [02:02<04:03,  4.06s/it]"
     ]
    },
    {
     "name": "stdout",
     "output_type": "stream",
     "text": [
      "Best Threshold=0.120000\n",
      "96\n",
      "96\n",
      "213_681\n",
      "Assay:  214_683\n",
      "Heirarchial_Model\n",
      "Herirachal model for training data\n",
      "RF Model\n",
      "Tuned Mode:  {'random_state': 42, 'n_jobs': 1, 'n_estimators': 100, 'class_weight': None}\n"
     ]
    },
    {
     "name": "stderr",
     "output_type": "stream",
     "text": [
      "\r",
      " 34%|██████████████▍                            | 30/89 [02:04<03:17,  3.35s/it]"
     ]
    },
    {
     "name": "stdout",
     "output_type": "stream",
     "text": [
      "Best Threshold=0.570000\n",
      "24\n",
      "24\n",
      "214_683\n",
      "Assay:  215_685\n",
      "Heirarchial_Model\n",
      "Herirachal model for training data\n",
      "RF Model\n",
      "Tuned Mode:  {'random_state': 42, 'n_jobs': 1, 'n_estimators': 500, 'class_weight': 'balanced'}\n"
     ]
    },
    {
     "name": "stderr",
     "output_type": "stream",
     "text": [
      "\r",
      " 35%|██████████████▉                            | 31/89 [02:10<03:51,  3.99s/it]"
     ]
    },
    {
     "name": "stdout",
     "output_type": "stream",
     "text": [
      "Best Threshold=0.272000\n",
      "89\n",
      "89\n",
      "215_685\n",
      "Assay:  217_688\n",
      "Heirarchial_Model\n",
      "Herirachal model for training data\n",
      "RF Model\n",
      "Tuned Mode:  {'random_state': 42, 'n_jobs': 1, 'n_estimators': 500, 'class_weight': 'balanced'}\n"
     ]
    },
    {
     "name": "stderr",
     "output_type": "stream",
     "text": [
      "\r",
      " 36%|███████████████▍                           | 32/89 [02:16<04:23,  4.62s/it]"
     ]
    },
    {
     "name": "stdout",
     "output_type": "stream",
     "text": [
      "Best Threshold=0.168000\n",
      "143\n",
      "143\n",
      "217_688\n",
      "Assay:  217_689\n",
      "Heirarchial_Model\n",
      "Herirachal model for training data\n",
      "RF Model\n",
      "Tuned Mode:  {'random_state': 42, 'n_jobs': 1, 'n_estimators': 500, 'class_weight': 'balanced'}\n"
     ]
    },
    {
     "name": "stderr",
     "output_type": "stream",
     "text": [
      "\r",
      " 37%|███████████████▉                           | 33/89 [02:21<04:32,  4.86s/it]"
     ]
    },
    {
     "name": "stdout",
     "output_type": "stream",
     "text": [
      "Best Threshold=0.042000\n",
      "55\n",
      "55\n",
      "217_689\n",
      "Assay:  219_691\n",
      "Heirarchial_Model\n",
      "Herirachal model for training data\n",
      "RF Model\n",
      "Tuned Mode:  {'random_state': 42, 'n_jobs': 1, 'n_estimators': 400, 'class_weight': None}\n"
     ]
    },
    {
     "name": "stderr",
     "output_type": "stream",
     "text": [
      "\r",
      " 38%|████████████████▍                          | 34/89 [02:25<04:10,  4.56s/it]"
     ]
    },
    {
     "name": "stdout",
     "output_type": "stream",
     "text": [
      "Best Threshold=0.045000\n",
      "27\n",
      "27\n",
      "219_691\n",
      "Assay:  220_692\n",
      "Heirarchial_Model\n",
      "Herirachal model for training data\n",
      "RF Model\n",
      "Tuned Mode:  {'random_state': 42, 'n_jobs': 1, 'n_estimators': 400, 'class_weight': 'balanced'}\n"
     ]
    },
    {
     "name": "stderr",
     "output_type": "stream",
     "text": [
      "\r",
      " 39%|████████████████▉                          | 35/89 [02:30<04:21,  4.84s/it]"
     ]
    },
    {
     "name": "stdout",
     "output_type": "stream",
     "text": [
      "Best Threshold=0.232500\n",
      "219\n",
      "219\n",
      "220_692\n",
      "Assay:  221_693\n",
      "Heirarchial_Model\n",
      "Herirachal model for training data\n",
      "RF Model\n",
      "Tuned Mode:  {'random_state': 42, 'n_jobs': 1, 'n_estimators': 500, 'class_weight': 'balanced'}\n"
     ]
    },
    {
     "name": "stderr",
     "output_type": "stream",
     "text": [
      "\r",
      " 40%|█████████████████▍                         | 36/89 [02:38<04:57,  5.61s/it]"
     ]
    },
    {
     "name": "stdout",
     "output_type": "stream",
     "text": [
      "Best Threshold=0.254000\n",
      "345\n",
      "345\n",
      "221_693\n",
      "Assay:  223_695\n",
      "Heirarchial_Model\n",
      "Herirachal model for training data\n",
      "RF Model\n",
      "Tuned Mode:  {'random_state': 42, 'n_jobs': 1, 'n_estimators': 400, 'class_weight': None}\n"
     ]
    },
    {
     "name": "stderr",
     "output_type": "stream",
     "text": [
      "\r",
      " 42%|█████████████████▉                         | 37/89 [02:42<04:24,  5.08s/it]"
     ]
    },
    {
     "name": "stdout",
     "output_type": "stream",
     "text": [
      "Best Threshold=0.272500\n",
      "26\n",
      "26\n",
      "223_695\n",
      "Assay:  224_696\n",
      "Heirarchial_Model\n",
      "Herirachal model for training data\n",
      "RF Model\n",
      "Tuned Mode:  {'random_state': 42, 'n_jobs': 1, 'n_estimators': 100, 'class_weight': 'balanced'}\n"
     ]
    },
    {
     "name": "stderr",
     "output_type": "stream",
     "text": [
      "\r",
      " 43%|██████████████████▎                        | 38/89 [02:44<03:42,  4.36s/it]"
     ]
    },
    {
     "name": "stdout",
     "output_type": "stream",
     "text": [
      "Best Threshold=0.110000\n",
      "80\n",
      "80\n",
      "224_696\n",
      "Assay:  228_700\n",
      "Heirarchial_Model\n",
      "Herirachal model for training data\n",
      "RF Model\n",
      "Tuned Mode:  {'random_state': 42, 'n_jobs': 1, 'n_estimators': 500, 'class_weight': 'balanced'}\n"
     ]
    },
    {
     "name": "stderr",
     "output_type": "stream",
     "text": [
      "\r",
      " 44%|██████████████████▊                        | 39/89 [02:50<03:54,  4.70s/it]"
     ]
    },
    {
     "name": "stdout",
     "output_type": "stream",
     "text": [
      "Best Threshold=0.396000\n",
      "47\n",
      "47\n",
      "228_700\n",
      "Assay:  229_701\n",
      "Heirarchial_Model\n",
      "Herirachal model for training data\n",
      "RF Model\n",
      "Tuned Mode:  {'random_state': 42, 'n_jobs': 1, 'n_estimators': 300, 'class_weight': 'balanced'}\n"
     ]
    },
    {
     "name": "stderr",
     "output_type": "stream",
     "text": [
      "\r",
      " 45%|███████████████████▎                       | 40/89 [02:55<03:51,  4.72s/it]"
     ]
    },
    {
     "name": "stdout",
     "output_type": "stream",
     "text": [
      "Best Threshold=0.140000\n",
      "256\n",
      "256\n",
      "229_701\n",
      "Assay:  230_702\n",
      "Heirarchial_Model\n",
      "Herirachal model for training data\n",
      "RF Model\n",
      "Tuned Mode:  {'random_state': 42, 'n_jobs': 1, 'n_estimators': 100, 'class_weight': 'balanced'}\n"
     ]
    },
    {
     "name": "stderr",
     "output_type": "stream",
     "text": [
      "\r",
      " 46%|███████████████████▊                       | 41/89 [02:57<03:09,  3.94s/it]"
     ]
    },
    {
     "name": "stdout",
     "output_type": "stream",
     "text": [
      "Best Threshold=1.850000\n",
      "33\n",
      "33\n",
      "230_702\n",
      "Assay:  231_703\n",
      "Heirarchial_Model\n",
      "Herirachal model for training data\n",
      "RF Model\n",
      "Tuned Mode:  {'random_state': 42, 'n_jobs': 1, 'n_estimators': 500, 'class_weight': 'balanced'}\n"
     ]
    },
    {
     "name": "stderr",
     "output_type": "stream",
     "text": [
      "\r",
      " 47%|████████████████████▎                      | 42/89 [03:03<03:40,  4.69s/it]"
     ]
    },
    {
     "name": "stdout",
     "output_type": "stream",
     "text": [
      "Best Threshold=0.228000\n",
      "224\n",
      "224\n",
      "231_703\n",
      "Assay:  232_704\n",
      "Heirarchial_Model\n",
      "Herirachal model for training data\n",
      "RF Model\n",
      "Tuned Mode:  {'random_state': 42, 'n_jobs': 1, 'n_estimators': 400, 'class_weight': 'balanced'}\n"
     ]
    },
    {
     "name": "stderr",
     "output_type": "stream",
     "text": [
      "\r",
      " 48%|████████████████████▊                      | 43/89 [03:08<03:42,  4.83s/it]"
     ]
    },
    {
     "name": "stdout",
     "output_type": "stream",
     "text": [
      "Best Threshold=0.462500\n",
      "123\n",
      "123\n",
      "232_704\n",
      "Assay:  232_705\n",
      "Heirarchial_Model\n",
      "Herirachal model for training data\n",
      "RF Model\n",
      "Tuned Mode:  {'random_state': 42, 'n_jobs': 1, 'n_estimators': 400, 'class_weight': 'balanced'}\n"
     ]
    },
    {
     "name": "stderr",
     "output_type": "stream",
     "text": [
      "\r",
      " 49%|█████████████████████▎                     | 44/89 [03:13<03:38,  4.85s/it]"
     ]
    },
    {
     "name": "stdout",
     "output_type": "stream",
     "text": [
      "Best Threshold=0.032500\n",
      "60\n",
      "60\n",
      "232_705\n",
      "Assay:  233_706\n",
      "Heirarchial_Model\n",
      "Herirachal model for training data\n",
      "RF Model\n",
      "Tuned Mode:  {'random_state': 42, 'n_jobs': 1, 'n_estimators': 500, 'class_weight': 'balanced'}\n"
     ]
    },
    {
     "name": "stderr",
     "output_type": "stream",
     "text": [
      "\r",
      " 51%|█████████████████████▋                     | 45/89 [03:19<03:49,  5.23s/it]"
     ]
    },
    {
     "name": "stdout",
     "output_type": "stream",
     "text": [
      "Best Threshold=0.234000\n",
      "145\n",
      "145\n",
      "233_706\n",
      "Assay:  234_707\n",
      "Heirarchial_Model\n",
      "Herirachal model for training data\n",
      "RF Model\n",
      "Tuned Mode:  {'random_state': 42, 'n_jobs': 1, 'n_estimators': 500, 'class_weight': None}\n"
     ]
    },
    {
     "name": "stderr",
     "output_type": "stream",
     "text": [
      "\r",
      " 52%|██████████████████████▏                    | 46/89 [03:27<04:20,  6.05s/it]"
     ]
    },
    {
     "name": "stdout",
     "output_type": "stream",
     "text": [
      "Best Threshold=0.326000\n",
      "412\n",
      "412\n",
      "234_707\n",
      "Assay:  235_708\n",
      "Heirarchial_Model\n",
      "Herirachal model for training data\n",
      "RF Model\n",
      "Tuned Mode:  {'random_state': 42, 'n_jobs': 1, 'n_estimators': 100, 'class_weight': None}\n"
     ]
    },
    {
     "name": "stderr",
     "output_type": "stream",
     "text": [
      "\r",
      " 53%|██████████████████████▋                    | 47/89 [03:30<03:31,  5.04s/it]"
     ]
    },
    {
     "name": "stdout",
     "output_type": "stream",
     "text": [
      "Best Threshold=0.260000\n",
      "354\n",
      "354\n",
      "235_708\n",
      "Assay:  236_709\n",
      "Heirarchial_Model\n",
      "Herirachal model for training data\n",
      "RF Model\n",
      "Tuned Mode:  {'random_state': 42, 'n_jobs': 1, 'n_estimators': 400, 'class_weight': 'balanced'}\n"
     ]
    },
    {
     "name": "stderr",
     "output_type": "stream",
     "text": [
      "\r",
      " 54%|███████████████████████▏                   | 48/89 [03:35<03:31,  5.17s/it]"
     ]
    },
    {
     "name": "stdout",
     "output_type": "stream",
     "text": [
      "Best Threshold=0.487500\n",
      "168\n",
      "168\n",
      "236_709\n",
      "Assay:  237_710\n",
      "Heirarchial_Model\n",
      "Herirachal model for training data\n",
      "RF Model\n",
      "Tuned Mode:  {'random_state': 42, 'n_jobs': 1, 'n_estimators': 500, 'class_weight': None}\n"
     ]
    },
    {
     "name": "stderr",
     "output_type": "stream",
     "text": [
      "\r",
      " 55%|███████████████████████▋                   | 49/89 [03:40<03:21,  5.04s/it]"
     ]
    },
    {
     "name": "stdout",
     "output_type": "stream",
     "text": [
      "Best Threshold=0.352000\n",
      "38\n",
      "38\n",
      "237_710\n",
      "Assay:  238_712\n",
      "Heirarchial_Model\n",
      "Herirachal model for training data\n",
      "RF Model\n",
      "Tuned Mode:  {'random_state': 42, 'n_jobs': 1, 'n_estimators': 400, 'class_weight': 'balanced'}\n"
     ]
    },
    {
     "name": "stderr",
     "output_type": "stream",
     "text": [
      "\r",
      " 56%|████████████████████████▏                  | 50/89 [03:48<03:48,  5.85s/it]"
     ]
    },
    {
     "name": "stdout",
     "output_type": "stream",
     "text": [
      "Best Threshold=0.285000\n",
      "428\n",
      "428\n",
      "238_712\n",
      "Assay:  239_713\n",
      "Heirarchial_Model\n",
      "Herirachal model for training data\n",
      "RF Model\n",
      "Tuned Mode:  {'random_state': 42, 'n_jobs': 1, 'n_estimators': 300, 'class_weight': 'balanced'}\n"
     ]
    },
    {
     "name": "stderr",
     "output_type": "stream",
     "text": [
      "\r",
      " 57%|████████████████████████▋                  | 51/89 [03:52<03:26,  5.42s/it]"
     ]
    },
    {
     "name": "stdout",
     "output_type": "stream",
     "text": [
      "Best Threshold=0.503333\n",
      "146\n",
      "146\n",
      "239_713\n",
      "Assay:  240_714\n",
      "Heirarchial_Model\n",
      "Herirachal model for training data\n",
      "RF Model\n",
      "Tuned Mode:  {'random_state': 42, 'n_jobs': 1, 'n_estimators': 400, 'class_weight': None}\n"
     ]
    },
    {
     "name": "stderr",
     "output_type": "stream",
     "text": [
      "\r",
      " 58%|█████████████████████████                  | 52/89 [03:59<03:36,  5.84s/it]"
     ]
    },
    {
     "name": "stdout",
     "output_type": "stream",
     "text": [
      "Best Threshold=0.242500\n",
      "424\n",
      "424\n",
      "240_714\n",
      "Assay:  241_715\n",
      "Heirarchial_Model\n",
      "Herirachal model for training data\n",
      "RF Model\n",
      "Tuned Mode:  {'random_state': 42, 'n_jobs': 1, 'n_estimators': 100, 'class_weight': 'balanced'}\n"
     ]
    },
    {
     "name": "stderr",
     "output_type": "stream",
     "text": [
      "\r",
      " 60%|█████████████████████████▌                 | 53/89 [04:02<02:58,  4.96s/it]"
     ]
    },
    {
     "name": "stdout",
     "output_type": "stream",
     "text": [
      "Best Threshold=0.250000\n",
      "492\n",
      "492\n",
      "241_715\n",
      "Assay:  242_716\n",
      "Heirarchial_Model\n",
      "Herirachal model for training data\n",
      "RF Model\n",
      "Tuned Mode:  {'random_state': 42, 'n_jobs': 1, 'n_estimators': 500, 'class_weight': 'balanced'}\n"
     ]
    },
    {
     "name": "stderr",
     "output_type": "stream",
     "text": [
      "\r",
      " 61%|██████████████████████████                 | 54/89 [04:09<03:12,  5.49s/it]"
     ]
    },
    {
     "name": "stdout",
     "output_type": "stream",
     "text": [
      "Best Threshold=0.364000\n",
      "235\n",
      "235\n",
      "242_716\n",
      "Assay:  243_717\n",
      "Heirarchial_Model\n",
      "Herirachal model for training data\n",
      "RF Model\n",
      "Tuned Mode:  {'random_state': 42, 'n_jobs': 1, 'n_estimators': 500, 'class_weight': 'balanced'}\n"
     ]
    },
    {
     "name": "stderr",
     "output_type": "stream",
     "text": [
      "\r",
      " 62%|██████████████████████████▌                | 55/89 [04:15<03:11,  5.62s/it]"
     ]
    },
    {
     "name": "stdout",
     "output_type": "stream",
     "text": [
      "Best Threshold=0.612000\n",
      "129\n",
      "129\n",
      "243_717\n",
      "Assay:  244_718\n",
      "Heirarchial_Model\n",
      "Herirachal model for training data\n",
      "RF Model\n",
      "Tuned Mode:  {'random_state': 42, 'n_jobs': 1, 'n_estimators': 500, 'class_weight': 'balanced'}\n"
     ]
    },
    {
     "name": "stderr",
     "output_type": "stream",
     "text": [
      "\r",
      " 63%|███████████████████████████                | 56/89 [04:20<03:04,  5.58s/it]"
     ]
    },
    {
     "name": "stdout",
     "output_type": "stream",
     "text": [
      "Best Threshold=0.212000\n",
      "63\n",
      "63\n",
      "244_718\n",
      "Assay:  245_719\n",
      "Heirarchial_Model\n",
      "Herirachal model for training data\n",
      "RF Model\n",
      "Tuned Mode:  {'random_state': 42, 'n_jobs': 1, 'n_estimators': 500, 'class_weight': 'balanced'}\n"
     ]
    },
    {
     "name": "stderr",
     "output_type": "stream",
     "text": [
      "\r",
      " 64%|███████████████████████████▌               | 57/89 [04:26<03:01,  5.69s/it]"
     ]
    },
    {
     "name": "stdout",
     "output_type": "stream",
     "text": [
      "Best Threshold=0.284000\n",
      "102\n",
      "102\n",
      "245_719\n",
      "Assay:  246_720\n",
      "Heirarchial_Model\n",
      "Herirachal model for training data\n",
      "RF Model\n",
      "Tuned Mode:  {'random_state': 42, 'n_jobs': 1, 'n_estimators': 400, 'class_weight': 'balanced'}\n"
     ]
    },
    {
     "name": "stderr",
     "output_type": "stream",
     "text": [
      "\r",
      " 65%|████████████████████████████               | 58/89 [04:31<02:48,  5.43s/it]"
     ]
    },
    {
     "name": "stdout",
     "output_type": "stream",
     "text": [
      "Best Threshold=0.555000\n",
      "76\n",
      "76\n",
      "246_720\n",
      "Assay:  247_721\n",
      "Heirarchial_Model\n",
      "Herirachal model for training data\n",
      "RF Model\n",
      "Tuned Mode:  {'random_state': 42, 'n_jobs': 1, 'n_estimators': 300, 'class_weight': 'balanced'}\n"
     ]
    },
    {
     "name": "stderr",
     "output_type": "stream",
     "text": [
      "\r",
      " 66%|████████████████████████████▌              | 59/89 [04:35<02:32,  5.09s/it]"
     ]
    },
    {
     "name": "stdout",
     "output_type": "stream",
     "text": [
      "Best Threshold=0.143333\n",
      "130\n",
      "130\n",
      "247_721\n",
      "Assay:  248_722\n",
      "Heirarchial_Model\n",
      "Herirachal model for training data\n",
      "RF Model\n",
      "Tuned Mode:  {'random_state': 42, 'n_jobs': 1, 'n_estimators': 500, 'class_weight': 'balanced'}\n"
     ]
    },
    {
     "name": "stderr",
     "output_type": "stream",
     "text": [
      "\r",
      " 67%|████████████████████████████▉              | 60/89 [04:43<02:46,  5.74s/it]"
     ]
    },
    {
     "name": "stdout",
     "output_type": "stream",
     "text": [
      "Best Threshold=0.424000\n",
      "308\n",
      "308\n",
      "248_722\n",
      "Assay:  249_724\n",
      "Heirarchial_Model\n",
      "Herirachal model for training data\n",
      "RF Model\n",
      "Tuned Mode:  {'random_state': 42, 'n_jobs': 1, 'n_estimators': 500, 'class_weight': 'balanced'}\n"
     ]
    },
    {
     "name": "stderr",
     "output_type": "stream",
     "text": [
      "\r",
      " 69%|█████████████████████████████▍             | 61/89 [04:52<03:13,  6.91s/it]"
     ]
    },
    {
     "name": "stdout",
     "output_type": "stream",
     "text": [
      "Best Threshold=0.430000\n",
      "460\n",
      "460\n",
      "249_724\n",
      "Assay:  250_726\n",
      "Heirarchial_Model\n",
      "Herirachal model for training data\n",
      "RF Model\n",
      "Tuned Mode:  {'random_state': 42, 'n_jobs': 1, 'n_estimators': 100, 'class_weight': None}\n"
     ]
    },
    {
     "name": "stderr",
     "output_type": "stream",
     "text": [
      "\r",
      " 70%|█████████████████████████████▉             | 62/89 [04:54<02:27,  5.45s/it]"
     ]
    },
    {
     "name": "stdout",
     "output_type": "stream",
     "text": [
      "Best Threshold=0.200000\n",
      "36\n",
      "36\n",
      "250_726\n",
      "Assay:  251_727\n",
      "Heirarchial_Model\n",
      "Herirachal model for training data\n",
      "RF Model\n",
      "Tuned Mode:  {'random_state': 42, 'n_jobs': 1, 'n_estimators': 400, 'class_weight': None}\n"
     ]
    },
    {
     "name": "stderr",
     "output_type": "stream",
     "text": [
      "\r",
      " 71%|██████████████████████████████▍            | 63/89 [04:59<02:15,  5.23s/it]"
     ]
    },
    {
     "name": "stdout",
     "output_type": "stream",
     "text": [
      "Best Threshold=0.545000\n",
      "72\n",
      "72\n",
      "251_727\n",
      "Assay:  253_729\n",
      "Heirarchial_Model\n",
      "Herirachal model for training data\n",
      "RF Model\n",
      "Tuned Mode:  {'random_state': 42, 'n_jobs': 1, 'n_estimators': 500, 'class_weight': 'balanced'}\n"
     ]
    },
    {
     "name": "stderr",
     "output_type": "stream",
     "text": [
      "\r",
      " 72%|██████████████████████████████▉            | 64/89 [05:04<02:12,  5.31s/it]"
     ]
    },
    {
     "name": "stdout",
     "output_type": "stream",
     "text": [
      "Best Threshold=0.182000\n",
      "64\n",
      "64\n",
      "253_729\n",
      "Assay:  257_735\n",
      "Heirarchial_Model\n",
      "Herirachal model for training data\n",
      "RF Model\n",
      "Tuned Mode:  {'random_state': 42, 'n_jobs': 1, 'n_estimators': 500, 'class_weight': 'balanced'}\n"
     ]
    },
    {
     "name": "stderr",
     "output_type": "stream",
     "text": [
      "\r",
      " 73%|███████████████████████████████▍           | 65/89 [05:11<02:14,  5.59s/it]"
     ]
    },
    {
     "name": "stdout",
     "output_type": "stream",
     "text": [
      "Best Threshold=0.228000\n",
      "157\n",
      "157\n",
      "257_735\n",
      "Assay:  259_737\n",
      "Heirarchial_Model\n",
      "Herirachal model for training data\n",
      "RF Model\n",
      "Tuned Mode:  {'random_state': 42, 'n_jobs': 1, 'n_estimators': 400, 'class_weight': None}\n"
     ]
    },
    {
     "name": "stderr",
     "output_type": "stream",
     "text": [
      "\r",
      " 74%|███████████████████████████████▉           | 66/89 [05:14<01:55,  5.04s/it]"
     ]
    },
    {
     "name": "stdout",
     "output_type": "stream",
     "text": [
      "Best Threshold=0.170000\n",
      "29\n",
      "29\n",
      "259_737\n",
      "Assay:  260_738\n",
      "Heirarchial_Model\n",
      "Herirachal model for training data\n",
      "RF Model\n",
      "Tuned Mode:  {'random_state': 42, 'n_jobs': 1, 'n_estimators': 500, 'class_weight': 'balanced'}\n"
     ]
    },
    {
     "name": "stderr",
     "output_type": "stream",
     "text": [
      "\r",
      " 75%|████████████████████████████████▎          | 67/89 [05:23<02:11,  5.99s/it]"
     ]
    },
    {
     "name": "stdout",
     "output_type": "stream",
     "text": [
      "Best Threshold=0.354000\n",
      "454\n",
      "454\n",
      "260_738\n",
      "Assay:  261_739\n",
      "Heirarchial_Model\n",
      "Herirachal model for training data\n",
      "RF Model\n",
      "Tuned Mode:  {'random_state': 42, 'n_jobs': 1, 'n_estimators': 500, 'class_weight': 'balanced'}\n"
     ]
    },
    {
     "name": "stderr",
     "output_type": "stream",
     "text": [
      "\r",
      " 76%|████████████████████████████████▊          | 68/89 [05:29<02:08,  6.10s/it]"
     ]
    },
    {
     "name": "stdout",
     "output_type": "stream",
     "text": [
      "Best Threshold=0.348000\n",
      "220\n",
      "220\n",
      "261_739\n",
      "Assay:  262_740\n",
      "Heirarchial_Model\n",
      "Herirachal model for training data\n",
      "RF Model\n",
      "Tuned Mode:  {'random_state': 42, 'n_jobs': 1, 'n_estimators': 100, 'class_weight': 'balanced'}\n"
     ]
    },
    {
     "name": "stderr",
     "output_type": "stream",
     "text": [
      "\r",
      " 78%|█████████████████████████████████▎         | 69/89 [05:31<01:37,  4.88s/it]"
     ]
    },
    {
     "name": "stdout",
     "output_type": "stream",
     "text": [
      "Best Threshold=0.130000\n",
      "36\n",
      "36\n",
      "262_740\n",
      "Assay:  263_741\n",
      "Heirarchial_Model\n",
      "Herirachal model for training data\n",
      "RF Model\n",
      "Tuned Mode:  {'random_state': 42, 'n_jobs': 1, 'n_estimators': 500, 'class_weight': 'balanced'}\n"
     ]
    },
    {
     "name": "stderr",
     "output_type": "stream",
     "text": [
      "\r",
      " 79%|█████████████████████████████████▊         | 70/89 [05:37<01:38,  5.18s/it]"
     ]
    },
    {
     "name": "stdout",
     "output_type": "stream",
     "text": [
      "Best Threshold=0.404000\n",
      "108\n",
      "108\n",
      "263_741\n",
      "Assay:  264_742\n",
      "Heirarchial_Model\n",
      "Herirachal model for training data\n",
      "RF Model\n",
      "Tuned Mode:  {'random_state': 42, 'n_jobs': 1, 'n_estimators': 500, 'class_weight': 'balanced'}\n"
     ]
    },
    {
     "name": "stderr",
     "output_type": "stream",
     "text": [
      "\r",
      " 80%|██████████████████████████████████▎        | 71/89 [05:41<01:28,  4.94s/it]"
     ]
    },
    {
     "name": "stdout",
     "output_type": "stream",
     "text": [
      "Best Threshold=0.374000\n",
      "30\n",
      "30\n",
      "264_742\n",
      "Assay:  265_743\n",
      "Heirarchial_Model\n",
      "Herirachal model for training data\n",
      "RF Model\n",
      "Tuned Mode:  {'random_state': 42, 'n_jobs': 1, 'n_estimators': 500, 'class_weight': 'balanced'}\n"
     ]
    },
    {
     "name": "stderr",
     "output_type": "stream",
     "text": [
      "\r",
      " 81%|██████████████████████████████████▊        | 72/89 [05:52<01:50,  6.53s/it]"
     ]
    },
    {
     "name": "stdout",
     "output_type": "stream",
     "text": [
      "Best Threshold=0.312000\n",
      "613\n",
      "613\n",
      "265_743\n",
      "Assay:  266_744\n",
      "Heirarchial_Model\n",
      "Herirachal model for training data\n",
      "RF Model\n",
      "Tuned Mode:  {'random_state': 42, 'n_jobs': 1, 'n_estimators': 400, 'class_weight': 'balanced'}\n"
     ]
    },
    {
     "name": "stderr",
     "output_type": "stream",
     "text": [
      "\r",
      " 82%|███████████████████████████████████▎       | 73/89 [05:57<01:37,  6.09s/it]"
     ]
    },
    {
     "name": "stdout",
     "output_type": "stream",
     "text": [
      "Best Threshold=0.245000\n",
      "140\n",
      "140\n",
      "266_744\n",
      "Assay:  267_745\n",
      "Heirarchial_Model\n",
      "Herirachal model for training data\n",
      "RF Model\n",
      "Tuned Mode:  {'random_state': 42, 'n_jobs': 1, 'n_estimators': 400, 'class_weight': 'balanced'}\n"
     ]
    },
    {
     "name": "stderr",
     "output_type": "stream",
     "text": [
      "\r",
      " 83%|███████████████████████████████████▊       | 74/89 [06:02<01:28,  5.90s/it]"
     ]
    },
    {
     "name": "stdout",
     "output_type": "stream",
     "text": [
      "Best Threshold=0.375000\n",
      "182\n",
      "182\n",
      "267_745\n",
      "Assay:  268_746\n",
      "Heirarchial_Model\n",
      "Herirachal model for training data\n",
      "RF Model\n",
      "Tuned Mode:  {'random_state': 42, 'n_jobs': 1, 'n_estimators': 500, 'class_weight': 'balanced'}\n"
     ]
    },
    {
     "name": "stderr",
     "output_type": "stream",
     "text": [
      "\r",
      " 84%|████████████████████████████████████▏      | 75/89 [06:09<01:28,  6.35s/it]"
     ]
    },
    {
     "name": "stdout",
     "output_type": "stream",
     "text": [
      "Best Threshold=0.304000\n",
      "318\n",
      "318\n",
      "268_746\n",
      "Assay:  269_747\n",
      "Heirarchial_Model\n",
      "Herirachal model for training data\n",
      "RF Model\n",
      "Tuned Mode:  {'random_state': 42, 'n_jobs': 1, 'n_estimators': 500, 'class_weight': 'balanced'}\n"
     ]
    },
    {
     "name": "stderr",
     "output_type": "stream",
     "text": [
      "\r",
      " 85%|████████████████████████████████████▋      | 76/89 [06:18<01:31,  7.06s/it]"
     ]
    },
    {
     "name": "stdout",
     "output_type": "stream",
     "text": [
      "Best Threshold=0.256000\n",
      "485\n",
      "485\n",
      "269_747\n",
      "Assay:  270_748\n",
      "Heirarchial_Model\n",
      "Herirachal model for training data\n",
      "RF Model\n",
      "Tuned Mode:  {'random_state': 42, 'n_jobs': 1, 'n_estimators': 500, 'class_weight': None}\n"
     ]
    },
    {
     "name": "stderr",
     "output_type": "stream",
     "text": [
      "\r",
      " 87%|█████████████████████████████████████▏     | 77/89 [06:24<01:19,  6.64s/it]"
     ]
    },
    {
     "name": "stdout",
     "output_type": "stream",
     "text": [
      "Best Threshold=0.404000\n",
      "87\n",
      "87\n",
      "270_748\n",
      "Assay:  271_749\n",
      "Heirarchial_Model\n",
      "Herirachal model for training data\n",
      "RF Model\n",
      "Tuned Mode:  {'random_state': 42, 'n_jobs': 1, 'n_estimators': 400, 'class_weight': 'balanced'}\n"
     ]
    },
    {
     "name": "stderr",
     "output_type": "stream",
     "text": [
      "\r",
      " 88%|█████████████████████████████████████▋     | 78/89 [06:29<01:09,  6.32s/it]"
     ]
    },
    {
     "name": "stdout",
     "output_type": "stream",
     "text": [
      "Best Threshold=0.100000\n",
      "190\n",
      "190\n",
      "271_749\n",
      "Assay:  272_750\n",
      "Heirarchial_Model\n",
      "Herirachal model for training data\n",
      "RF Model\n",
      "Tuned Mode:  {'random_state': 42, 'n_jobs': 1, 'n_estimators': 100, 'class_weight': 'balanced'}\n"
     ]
    },
    {
     "name": "stderr",
     "output_type": "stream",
     "text": [
      "\r",
      " 89%|██████████████████████████████████████▏    | 79/89 [06:32<00:52,  5.21s/it]"
     ]
    },
    {
     "name": "stdout",
     "output_type": "stream",
     "text": [
      "Best Threshold=0.200000\n",
      "62\n",
      "62\n",
      "272_750\n",
      "Assay:  273_751\n",
      "Heirarchial_Model\n",
      "Herirachal model for training data\n",
      "RF Model\n",
      "Tuned Mode:  {'random_state': 42, 'n_jobs': 1, 'n_estimators': 500, 'class_weight': 'balanced'}\n"
     ]
    },
    {
     "name": "stderr",
     "output_type": "stream",
     "text": [
      "\r",
      " 90%|██████████████████████████████████████▋    | 80/89 [06:37<00:45,  5.08s/it]"
     ]
    },
    {
     "name": "stdout",
     "output_type": "stream",
     "text": [
      "Best Threshold=0.594000\n",
      "36\n",
      "36\n",
      "273_751\n",
      "Assay:  274_752\n",
      "Heirarchial_Model\n",
      "Herirachal model for training data\n",
      "RF Model\n",
      "Tuned Mode:  {'random_state': 42, 'n_jobs': 1, 'n_estimators': 500, 'class_weight': 'balanced'}\n"
     ]
    },
    {
     "name": "stderr",
     "output_type": "stream",
     "text": [
      "\r",
      " 91%|███████████████████████████████████████▏   | 81/89 [06:42<00:41,  5.19s/it]"
     ]
    },
    {
     "name": "stdout",
     "output_type": "stream",
     "text": [
      "Best Threshold=0.288000\n",
      "86\n",
      "86\n",
      "274_752\n",
      "Assay:  275_753\n",
      "Heirarchial_Model\n",
      "Herirachal model for training data\n",
      "RF Model\n",
      "Tuned Mode:  {'random_state': 42, 'n_jobs': 1, 'n_estimators': 400, 'class_weight': None}\n"
     ]
    },
    {
     "name": "stderr",
     "output_type": "stream",
     "text": [
      "\r",
      " 92%|███████████████████████████████████████▌   | 82/89 [06:46<00:33,  4.79s/it]"
     ]
    },
    {
     "name": "stdout",
     "output_type": "stream",
     "text": [
      "Best Threshold=0.332500\n",
      "32\n",
      "32\n",
      "275_753\n",
      "Assay:  275_754\n",
      "Heirarchial_Model\n",
      "Herirachal model for training data\n",
      "RF Model\n",
      "Tuned Mode:  {'random_state': 42, 'n_jobs': 1, 'n_estimators': 500, 'class_weight': 'balanced'}\n"
     ]
    },
    {
     "name": "stderr",
     "output_type": "stream",
     "text": [
      "\r",
      " 93%|████████████████████████████████████████   | 83/89 [06:52<00:30,  5.06s/it]"
     ]
    },
    {
     "name": "stdout",
     "output_type": "stream",
     "text": [
      "Best Threshold=0.188000\n",
      "84\n",
      "84\n",
      "275_754\n",
      "Assay:  276_755\n",
      "Heirarchial_Model\n",
      "Herirachal model for training data\n",
      "RF Model\n",
      "Tuned Mode:  {'random_state': 42, 'n_jobs': 1, 'n_estimators': 500, 'class_weight': 'balanced'}\n"
     ]
    },
    {
     "name": "stderr",
     "output_type": "stream",
     "text": [
      "\r",
      " 94%|████████████████████████████████████████▌  | 84/89 [06:58<00:26,  5.28s/it]"
     ]
    },
    {
     "name": "stdout",
     "output_type": "stream",
     "text": [
      "Best Threshold=0.198000\n",
      "112\n",
      "112\n",
      "276_755\n",
      "Assay:  278_757\n",
      "Heirarchial_Model\n",
      "Herirachal model for training data\n",
      "RF Model\n",
      "Tuned Mode:  {'random_state': 42, 'n_jobs': 1, 'n_estimators': 500, 'class_weight': 'balanced'}\n"
     ]
    },
    {
     "name": "stderr",
     "output_type": "stream",
     "text": [
      "\r",
      " 96%|█████████████████████████████████████████  | 85/89 [07:05<00:23,  5.90s/it]"
     ]
    },
    {
     "name": "stdout",
     "output_type": "stream",
     "text": [
      "Best Threshold=0.260000\n",
      "302\n",
      "302\n",
      "278_757\n",
      "Assay:  279_758\n",
      "Heirarchial_Model\n",
      "Herirachal model for training data\n",
      "RF Model\n",
      "Tuned Mode:  {'random_state': 42, 'n_jobs': 1, 'n_estimators': 100, 'class_weight': 'balanced'}\n"
     ]
    },
    {
     "name": "stderr",
     "output_type": "stream",
     "text": [
      "\r",
      " 97%|█████████████████████████████████████████▌ | 86/89 [07:08<00:14,  4.92s/it]"
     ]
    },
    {
     "name": "stdout",
     "output_type": "stream",
     "text": [
      "Best Threshold=0.400000\n",
      "53\n",
      "53\n",
      "279_758\n",
      "Assay:  280_759\n",
      "Heirarchial_Model\n",
      "Herirachal model for training data\n",
      "RF Model\n",
      "Tuned Mode:  {'random_state': 42, 'n_jobs': 1, 'n_estimators': 500, 'class_weight': 'balanced'}\n"
     ]
    },
    {
     "name": "stderr",
     "output_type": "stream",
     "text": [
      "\r",
      " 98%|██████████████████████████████████████████ | 87/89 [07:13<00:10,  5.14s/it]"
     ]
    },
    {
     "name": "stdout",
     "output_type": "stream",
     "text": [
      "Best Threshold=0.134000\n",
      "108\n",
      "108\n",
      "280_759\n",
      "Assay:  283_762\n",
      "Heirarchial_Model\n",
      "Herirachal model for training data\n",
      "RF Model\n",
      "Tuned Mode:  {'random_state': 42, 'n_jobs': 1, 'n_estimators': 500, 'class_weight': 'balanced'}\n"
     ]
    },
    {
     "name": "stderr",
     "output_type": "stream",
     "text": [
      "\r",
      " 99%|██████████████████████████████████████████▌| 88/89 [07:19<00:05,  5.33s/it]"
     ]
    },
    {
     "name": "stdout",
     "output_type": "stream",
     "text": [
      "Best Threshold=0.206000\n",
      "86\n",
      "86\n",
      "283_762\n",
      "Assay:  93_259\n",
      "Heirarchial_Model\n",
      "Herirachal model for training data\n",
      "RF Model\n",
      "Tuned Mode:  {'random_state': 42, 'n_jobs': 1, 'n_estimators': 400, 'class_weight': None}\n"
     ]
    },
    {
     "name": "stderr",
     "output_type": "stream",
     "text": [
      "100%|███████████████████████████████████████████| 89/89 [07:23<00:00,  4.98s/it]"
     ]
    },
    {
     "name": "stdout",
     "output_type": "stream",
     "text": [
      "Best Threshold=0.570000\n",
      "26\n",
      "26\n",
      "93_259\n"
     ]
    },
    {
     "name": "stderr",
     "output_type": "stream",
     "text": [
      "\n"
     ]
    }
   ],
   "source": [
    "import warnings\n",
    "warnings.filterwarnings(\"ignore\") #ignore, default\n",
    "import pandas\n",
    "\n",
    "#sns.set(rc={'figure.figsize':(2, 2)})\n",
    "#plt.rcParams['figure.dpi'] = 80\n",
    "#sns.set_style(\"white\")\n",
    "metrics_list=[]\n",
    "all_preds_test_compounds=pd.DataFrame(columns=['assay', 'InChICode_standardised', 'fp_proba', 'fp_pred', 'fp_threshold', 'CP_proba',\n",
    "       'CP_pred', 'CP_threshold', 'true', 'Data', 'MFP_Correct',\n",
    "       'CP_Correct', 'fp_proba_scaled', 'CP_proba_scaled', 'simple_pred',\n",
    "       'Ensemble_Correct', 'heirarchial_pred', 'heirarchial_Correct'])\n",
    "\n",
    "\n",
    "#for assay in tqdm(assaylist[:7]):\n",
    "for assay in tqdm(list_of_lists_df.assay.unique()[:]):\n",
    "    \n",
    "    print(\"Assay: \", assay)\n",
    "    detail_list=pd.DataFrame()\n",
    "    detail_list = list_of_lists_df[list_of_lists_df[\"assay\"]==assay].reset_index(drop=True)\n",
    "    detail_list_test = detail_list[detail_list[\"Data\"]==\"HeldOut\"]\n",
    "\n",
    "    print(\"Heirarchial_Model\")\n",
    "    merger_df=pd.DataFrame()\n",
    "    \n",
    "    StdInChI_batch, true_batch, pred_batch, proba_batch = RF_Fn(assay)\n",
    "    check_heirarchial(assay, \"Heirarchial Model\", true_batch, pred_batch, proba_batch)\n",
    "    \n",
    "    #print(true_batch)\n",
    "    \n",
    "    print(assay)\n",
    "    \n",
    "    merger_df[\"InChICode_standardised\"]=StdInChI_batch\n",
    "    merger_df[\"heirarchial_pred\"]= pred_batch\n",
    "    merger_df[\"true\"]=true_batch\n",
    "    merger_df[\"heirarchial_Correct\"]= merger_df[\"heirarchial_pred\"] == merger_df[\"true\"]\n",
    "    merger_df[\"assay\"]=assay\n",
    "    \n",
    "    \n",
    "    #For each assay combine original predictions and merger_df predictions\n",
    "    #all_preds = pd.DataFrame()\n",
    "    all_preds_test_compounds= pd.concat([all_preds_test_compounds, pd.merge(detail_list_test, merger_df)])  \n",
    "    \n",
    "    \n",
    "    "
   ]
  },
  {
   "cell_type": "code",
   "execution_count": 9,
   "metadata": {},
   "outputs": [
    {
     "data": {
      "text/html": [
       "<div>\n",
       "<style scoped>\n",
       "    .dataframe tbody tr th:only-of-type {\n",
       "        vertical-align: middle;\n",
       "    }\n",
       "\n",
       "    .dataframe tbody tr th {\n",
       "        vertical-align: top;\n",
       "    }\n",
       "\n",
       "    .dataframe thead th {\n",
       "        text-align: right;\n",
       "    }\n",
       "</style>\n",
       "<table border=\"1\" class=\"dataframe\">\n",
       "  <thead>\n",
       "    <tr style=\"text-align: right;\">\n",
       "      <th></th>\n",
       "      <th>assay</th>\n",
       "      <th>InChICode_standardised</th>\n",
       "      <th>fp_proba</th>\n",
       "      <th>fp_pred</th>\n",
       "      <th>fp_threshold</th>\n",
       "      <th>CP_proba</th>\n",
       "      <th>CP_pred</th>\n",
       "      <th>CP_threshold</th>\n",
       "      <th>true</th>\n",
       "      <th>Data</th>\n",
       "      <th>MFP_Correct</th>\n",
       "      <th>CP_Correct</th>\n",
       "      <th>fp_proba_scaled</th>\n",
       "      <th>CP_proba_scaled</th>\n",
       "      <th>simple_pred</th>\n",
       "      <th>Ensemble_Correct</th>\n",
       "      <th>heirarchial_pred</th>\n",
       "      <th>heirarchial_Correct</th>\n",
       "    </tr>\n",
       "  </thead>\n",
       "  <tbody>\n",
       "    <tr>\n",
       "      <th>0</th>\n",
       "      <td>178_684</td>\n",
       "      <td>InChI=1S/C24H28N4O4S/c1-14-12-28(15(2)13-29)24...</td>\n",
       "      <td>0.431564</td>\n",
       "      <td>1</td>\n",
       "      <td>0.420981</td>\n",
       "      <td>0.687784</td>\n",
       "      <td>1</td>\n",
       "      <td>0.306156</td>\n",
       "      <td>1.0</td>\n",
       "      <td>HeldOut</td>\n",
       "      <td>True</td>\n",
       "      <td>True</td>\n",
       "      <td>0.509139</td>\n",
       "      <td>0.775010</td>\n",
       "      <td>1.0</td>\n",
       "      <td>True</td>\n",
       "      <td>1.0</td>\n",
       "      <td>True</td>\n",
       "    </tr>\n",
       "    <tr>\n",
       "      <th>1</th>\n",
       "      <td>178_684</td>\n",
       "      <td>InChI=1S/C30H42ClN3O5S/c1-21-17-34(22(2)20-35)...</td>\n",
       "      <td>0.431601</td>\n",
       "      <td>1</td>\n",
       "      <td>0.420981</td>\n",
       "      <td>0.186083</td>\n",
       "      <td>0</td>\n",
       "      <td>0.306156</td>\n",
       "      <td>0.0</td>\n",
       "      <td>HeldOut</td>\n",
       "      <td>False</td>\n",
       "      <td>True</td>\n",
       "      <td>0.509171</td>\n",
       "      <td>0.303902</td>\n",
       "      <td>0.0</td>\n",
       "      <td>True</td>\n",
       "      <td>0.0</td>\n",
       "      <td>True</td>\n",
       "    </tr>\n",
       "    <tr>\n",
       "      <th>2</th>\n",
       "      <td>178_684</td>\n",
       "      <td>InChI=1S/C25H35N3O5S/c1-17-10-12-20(13-11-17)3...</td>\n",
       "      <td>0.105376</td>\n",
       "      <td>0</td>\n",
       "      <td>0.420981</td>\n",
       "      <td>0.074175</td>\n",
       "      <td>0</td>\n",
       "      <td>0.306156</td>\n",
       "      <td>0.0</td>\n",
       "      <td>HeldOut</td>\n",
       "      <td>True</td>\n",
       "      <td>True</td>\n",
       "      <td>0.125156</td>\n",
       "      <td>0.121139</td>\n",
       "      <td>0.0</td>\n",
       "      <td>True</td>\n",
       "      <td>0.0</td>\n",
       "      <td>True</td>\n",
       "    </tr>\n",
       "    <tr>\n",
       "      <th>3</th>\n",
       "      <td>178_684</td>\n",
       "      <td>InChI=1S/C31H42N4O6/c1-20-15-35(21(2)18-36)30(...</td>\n",
       "      <td>0.173670</td>\n",
       "      <td>0</td>\n",
       "      <td>0.420981</td>\n",
       "      <td>0.061583</td>\n",
       "      <td>0</td>\n",
       "      <td>0.306156</td>\n",
       "      <td>0.0</td>\n",
       "      <td>HeldOut</td>\n",
       "      <td>True</td>\n",
       "      <td>True</td>\n",
       "      <td>0.206269</td>\n",
       "      <td>0.100575</td>\n",
       "      <td>0.0</td>\n",
       "      <td>True</td>\n",
       "      <td>0.0</td>\n",
       "      <td>True</td>\n",
       "    </tr>\n",
       "    <tr>\n",
       "      <th>4</th>\n",
       "      <td>178_684</td>\n",
       "      <td>InChI=1S/C30H41N5O5/c1-20-17-35(21(2)19-36)28(...</td>\n",
       "      <td>0.307765</td>\n",
       "      <td>0</td>\n",
       "      <td>0.420981</td>\n",
       "      <td>0.083022</td>\n",
       "      <td>0</td>\n",
       "      <td>0.306156</td>\n",
       "      <td>1.0</td>\n",
       "      <td>HeldOut</td>\n",
       "      <td>False</td>\n",
       "      <td>False</td>\n",
       "      <td>0.365534</td>\n",
       "      <td>0.135587</td>\n",
       "      <td>0.0</td>\n",
       "      <td>False</td>\n",
       "      <td>0.0</td>\n",
       "      <td>False</td>\n",
       "    </tr>\n",
       "    <tr>\n",
       "      <th>...</th>\n",
       "      <td>...</td>\n",
       "      <td>...</td>\n",
       "      <td>...</td>\n",
       "      <td>...</td>\n",
       "      <td>...</td>\n",
       "      <td>...</td>\n",
       "      <td>...</td>\n",
       "      <td>...</td>\n",
       "      <td>...</td>\n",
       "      <td>...</td>\n",
       "      <td>...</td>\n",
       "      <td>...</td>\n",
       "      <td>...</td>\n",
       "      <td>...</td>\n",
       "      <td>...</td>\n",
       "      <td>...</td>\n",
       "      <td>...</td>\n",
       "      <td>...</td>\n",
       "    </tr>\n",
       "    <tr>\n",
       "      <th>21</th>\n",
       "      <td>93_259</td>\n",
       "      <td>InChI=1S/C12H11N3O2S/c1-8-7-9(2)15(13-8)12-10-...</td>\n",
       "      <td>0.127744</td>\n",
       "      <td>0</td>\n",
       "      <td>0.245120</td>\n",
       "      <td>0.513325</td>\n",
       "      <td>1</td>\n",
       "      <td>0.428485</td>\n",
       "      <td>0.0</td>\n",
       "      <td>HeldOut</td>\n",
       "      <td>True</td>\n",
       "      <td>False</td>\n",
       "      <td>0.260575</td>\n",
       "      <td>0.574224</td>\n",
       "      <td>0.0</td>\n",
       "      <td>True</td>\n",
       "      <td>0.0</td>\n",
       "      <td>True</td>\n",
       "    </tr>\n",
       "    <tr>\n",
       "      <th>22</th>\n",
       "      <td>93_259</td>\n",
       "      <td>InChI=1S/C17H16N2O4S/c1-22-14-7-8-16(23-2)17(1...</td>\n",
       "      <td>0.505973</td>\n",
       "      <td>1</td>\n",
       "      <td>0.245120</td>\n",
       "      <td>0.322499</td>\n",
       "      <td>0</td>\n",
       "      <td>0.428485</td>\n",
       "      <td>0.0</td>\n",
       "      <td>HeldOut</td>\n",
       "      <td>False</td>\n",
       "      <td>True</td>\n",
       "      <td>0.672778</td>\n",
       "      <td>0.376325</td>\n",
       "      <td>1.0</td>\n",
       "      <td>False</td>\n",
       "      <td>0.0</td>\n",
       "      <td>True</td>\n",
       "    </tr>\n",
       "    <tr>\n",
       "      <th>23</th>\n",
       "      <td>93_259</td>\n",
       "      <td>InChI=1S/C24H21N3O2S/c28-23-19-8-4-5-9-21(19)3...</td>\n",
       "      <td>0.363862</td>\n",
       "      <td>1</td>\n",
       "      <td>0.245120</td>\n",
       "      <td>0.359675</td>\n",
       "      <td>0</td>\n",
       "      <td>0.428485</td>\n",
       "      <td>1.0</td>\n",
       "      <td>HeldOut</td>\n",
       "      <td>True</td>\n",
       "      <td>False</td>\n",
       "      <td>0.578650</td>\n",
       "      <td>0.419705</td>\n",
       "      <td>0.0</td>\n",
       "      <td>False</td>\n",
       "      <td>0.0</td>\n",
       "      <td>False</td>\n",
       "    </tr>\n",
       "    <tr>\n",
       "      <th>24</th>\n",
       "      <td>93_259</td>\n",
       "      <td>InChI=1S/C18H22N2O4S/c1-14(2)15-5-7-16(8-6-15)...</td>\n",
       "      <td>0.290175</td>\n",
       "      <td>1</td>\n",
       "      <td>0.245120</td>\n",
       "      <td>0.260526</td>\n",
       "      <td>0</td>\n",
       "      <td>0.428485</td>\n",
       "      <td>0.0</td>\n",
       "      <td>HeldOut</td>\n",
       "      <td>False</td>\n",
       "      <td>True</td>\n",
       "      <td>0.529843</td>\n",
       "      <td>0.304008</td>\n",
       "      <td>0.0</td>\n",
       "      <td>True</td>\n",
       "      <td>0.0</td>\n",
       "      <td>True</td>\n",
       "    </tr>\n",
       "    <tr>\n",
       "      <th>25</th>\n",
       "      <td>93_259</td>\n",
       "      <td>InChI=1S/C12H14N2O4S4/c15-21(16,11-3-1-9-19-11...</td>\n",
       "      <td>0.190948</td>\n",
       "      <td>0</td>\n",
       "      <td>0.245120</td>\n",
       "      <td>0.130083</td>\n",
       "      <td>0</td>\n",
       "      <td>0.428485</td>\n",
       "      <td>0.0</td>\n",
       "      <td>HeldOut</td>\n",
       "      <td>True</td>\n",
       "      <td>True</td>\n",
       "      <td>0.389498</td>\n",
       "      <td>0.151794</td>\n",
       "      <td>0.0</td>\n",
       "      <td>True</td>\n",
       "      <td>0.0</td>\n",
       "      <td>True</td>\n",
       "    </tr>\n",
       "  </tbody>\n",
       "</table>\n",
       "<p>11732 rows × 18 columns</p>\n",
       "</div>"
      ],
      "text/plain": [
       "      assay                             InChICode_standardised  fp_proba  \\\n",
       "0   178_684  InChI=1S/C24H28N4O4S/c1-14-12-28(15(2)13-29)24...  0.431564   \n",
       "1   178_684  InChI=1S/C30H42ClN3O5S/c1-21-17-34(22(2)20-35)...  0.431601   \n",
       "2   178_684  InChI=1S/C25H35N3O5S/c1-17-10-12-20(13-11-17)3...  0.105376   \n",
       "3   178_684  InChI=1S/C31H42N4O6/c1-20-15-35(21(2)18-36)30(...  0.173670   \n",
       "4   178_684  InChI=1S/C30H41N5O5/c1-20-17-35(21(2)19-36)28(...  0.307765   \n",
       "..      ...                                                ...       ...   \n",
       "21   93_259  InChI=1S/C12H11N3O2S/c1-8-7-9(2)15(13-8)12-10-...  0.127744   \n",
       "22   93_259  InChI=1S/C17H16N2O4S/c1-22-14-7-8-16(23-2)17(1...  0.505973   \n",
       "23   93_259  InChI=1S/C24H21N3O2S/c28-23-19-8-4-5-9-21(19)3...  0.363862   \n",
       "24   93_259  InChI=1S/C18H22N2O4S/c1-14(2)15-5-7-16(8-6-15)...  0.290175   \n",
       "25   93_259  InChI=1S/C12H14N2O4S4/c15-21(16,11-3-1-9-19-11...  0.190948   \n",
       "\n",
       "   fp_pred  fp_threshold  CP_proba CP_pred  CP_threshold  true     Data  \\\n",
       "0        1      0.420981  0.687784       1      0.306156   1.0  HeldOut   \n",
       "1        1      0.420981  0.186083       0      0.306156   0.0  HeldOut   \n",
       "2        0      0.420981  0.074175       0      0.306156   0.0  HeldOut   \n",
       "3        0      0.420981  0.061583       0      0.306156   0.0  HeldOut   \n",
       "4        0      0.420981  0.083022       0      0.306156   1.0  HeldOut   \n",
       "..     ...           ...       ...     ...           ...   ...      ...   \n",
       "21       0      0.245120  0.513325       1      0.428485   0.0  HeldOut   \n",
       "22       1      0.245120  0.322499       0      0.428485   0.0  HeldOut   \n",
       "23       1      0.245120  0.359675       0      0.428485   1.0  HeldOut   \n",
       "24       1      0.245120  0.260526       0      0.428485   0.0  HeldOut   \n",
       "25       0      0.245120  0.130083       0      0.428485   0.0  HeldOut   \n",
       "\n",
       "   MFP_Correct CP_Correct  fp_proba_scaled  CP_proba_scaled  simple_pred  \\\n",
       "0         True       True         0.509139         0.775010          1.0   \n",
       "1        False       True         0.509171         0.303902          0.0   \n",
       "2         True       True         0.125156         0.121139          0.0   \n",
       "3         True       True         0.206269         0.100575          0.0   \n",
       "4        False      False         0.365534         0.135587          0.0   \n",
       "..         ...        ...              ...              ...          ...   \n",
       "21        True      False         0.260575         0.574224          0.0   \n",
       "22       False       True         0.672778         0.376325          1.0   \n",
       "23        True      False         0.578650         0.419705          0.0   \n",
       "24       False       True         0.529843         0.304008          0.0   \n",
       "25        True       True         0.389498         0.151794          0.0   \n",
       "\n",
       "   Ensemble_Correct  heirarchial_pred heirarchial_Correct  \n",
       "0              True               1.0                True  \n",
       "1              True               0.0                True  \n",
       "2              True               0.0                True  \n",
       "3              True               0.0                True  \n",
       "4             False               0.0               False  \n",
       "..              ...               ...                 ...  \n",
       "21             True               0.0                True  \n",
       "22            False               0.0                True  \n",
       "23            False               0.0               False  \n",
       "24             True               0.0                True  \n",
       "25             True               0.0                True  \n",
       "\n",
       "[11732 rows x 18 columns]"
      ]
     },
     "execution_count": 9,
     "metadata": {},
     "output_type": "execute_result"
    }
   ],
   "source": [
    "all_preds_test_compounds"
   ]
  },
  {
   "cell_type": "code",
   "execution_count": 10,
   "metadata": {},
   "outputs": [],
   "source": [
    "all_preds_test_compounds.to_csv(\"Predictions_train_heldout_scaled_prob_all_assays_heirarchial_model_test_compounds.csv\", index=False)"
   ]
  },
  {
   "cell_type": "code",
   "execution_count": 11,
   "metadata": {},
   "outputs": [
    {
     "data": {
      "text/html": [
       "<div>\n",
       "<style scoped>\n",
       "    .dataframe tbody tr th:only-of-type {\n",
       "        vertical-align: middle;\n",
       "    }\n",
       "\n",
       "    .dataframe tbody tr th {\n",
       "        vertical-align: top;\n",
       "    }\n",
       "\n",
       "    .dataframe thead th {\n",
       "        text-align: right;\n",
       "    }\n",
       "</style>\n",
       "<table border=\"1\" class=\"dataframe\">\n",
       "  <thead>\n",
       "    <tr style=\"text-align: right;\">\n",
       "      <th></th>\n",
       "      <th>assay</th>\n",
       "      <th>method</th>\n",
       "      <th>f1</th>\n",
       "      <th>precision</th>\n",
       "      <th>Sensitivity</th>\n",
       "      <th>Specificity</th>\n",
       "      <th>ba</th>\n",
       "      <th>mcc</th>\n",
       "      <th>AUC</th>\n",
       "    </tr>\n",
       "  </thead>\n",
       "  <tbody>\n",
       "    <tr>\n",
       "      <th>0</th>\n",
       "      <td>178_684</td>\n",
       "      <td>Heirarchial Model</td>\n",
       "      <td>0.583333</td>\n",
       "      <td>0.700000</td>\n",
       "      <td>0.500000</td>\n",
       "      <td>0.926829</td>\n",
       "      <td>0.713415</td>\n",
       "      <td>0.482063</td>\n",
       "      <td>0.770035</td>\n",
       "    </tr>\n",
       "    <tr>\n",
       "      <th>1</th>\n",
       "      <td>180_686</td>\n",
       "      <td>Heirarchial Model</td>\n",
       "      <td>0.370370</td>\n",
       "      <td>0.294118</td>\n",
       "      <td>0.500000</td>\n",
       "      <td>0.612903</td>\n",
       "      <td>0.556452</td>\n",
       "      <td>0.098414</td>\n",
       "      <td>0.558065</td>\n",
       "    </tr>\n",
       "    <tr>\n",
       "      <th>2</th>\n",
       "      <td>183_604</td>\n",
       "      <td>Heirarchial Model</td>\n",
       "      <td>0.500000</td>\n",
       "      <td>0.571429</td>\n",
       "      <td>0.444444</td>\n",
       "      <td>0.888889</td>\n",
       "      <td>0.666667</td>\n",
       "      <td>0.364698</td>\n",
       "      <td>0.860082</td>\n",
       "    </tr>\n",
       "    <tr>\n",
       "      <th>3</th>\n",
       "      <td>184_606</td>\n",
       "      <td>Heirarchial Model</td>\n",
       "      <td>0.848485</td>\n",
       "      <td>0.823529</td>\n",
       "      <td>0.875000</td>\n",
       "      <td>0.936170</td>\n",
       "      <td>0.905585</td>\n",
       "      <td>0.795459</td>\n",
       "      <td>0.953457</td>\n",
       "    </tr>\n",
       "    <tr>\n",
       "      <th>4</th>\n",
       "      <td>185_665</td>\n",
       "      <td>Heirarchial Model</td>\n",
       "      <td>0.375000</td>\n",
       "      <td>0.300000</td>\n",
       "      <td>0.500000</td>\n",
       "      <td>0.611111</td>\n",
       "      <td>0.555556</td>\n",
       "      <td>0.097590</td>\n",
       "      <td>0.587963</td>\n",
       "    </tr>\n",
       "    <tr>\n",
       "      <th>...</th>\n",
       "      <td>...</td>\n",
       "      <td>...</td>\n",
       "      <td>...</td>\n",
       "      <td>...</td>\n",
       "      <td>...</td>\n",
       "      <td>...</td>\n",
       "      <td>...</td>\n",
       "      <td>...</td>\n",
       "      <td>...</td>\n",
       "    </tr>\n",
       "    <tr>\n",
       "      <th>84</th>\n",
       "      <td>278_757</td>\n",
       "      <td>Heirarchial Model</td>\n",
       "      <td>0.502924</td>\n",
       "      <td>0.447917</td>\n",
       "      <td>0.573333</td>\n",
       "      <td>0.766520</td>\n",
       "      <td>0.669927</td>\n",
       "      <td>0.315330</td>\n",
       "      <td>0.708488</td>\n",
       "    </tr>\n",
       "    <tr>\n",
       "      <th>85</th>\n",
       "      <td>279_758</td>\n",
       "      <td>Heirarchial Model</td>\n",
       "      <td>0.551724</td>\n",
       "      <td>0.500000</td>\n",
       "      <td>0.615385</td>\n",
       "      <td>0.800000</td>\n",
       "      <td>0.707692</td>\n",
       "      <td>0.389306</td>\n",
       "      <td>0.742308</td>\n",
       "    </tr>\n",
       "    <tr>\n",
       "      <th>86</th>\n",
       "      <td>280_759</td>\n",
       "      <td>Heirarchial Model</td>\n",
       "      <td>0.603175</td>\n",
       "      <td>0.527778</td>\n",
       "      <td>0.703704</td>\n",
       "      <td>0.790123</td>\n",
       "      <td>0.746914</td>\n",
       "      <td>0.453609</td>\n",
       "      <td>0.764746</td>\n",
       "    </tr>\n",
       "    <tr>\n",
       "      <th>87</th>\n",
       "      <td>283_762</td>\n",
       "      <td>Heirarchial Model</td>\n",
       "      <td>0.294118</td>\n",
       "      <td>0.212766</td>\n",
       "      <td>0.476190</td>\n",
       "      <td>0.430769</td>\n",
       "      <td>0.453480</td>\n",
       "      <td>-0.080289</td>\n",
       "      <td>0.463736</td>\n",
       "    </tr>\n",
       "    <tr>\n",
       "      <th>88</th>\n",
       "      <td>93_259</td>\n",
       "      <td>Heirarchial Model</td>\n",
       "      <td>0.250000</td>\n",
       "      <td>1.000000</td>\n",
       "      <td>0.142857</td>\n",
       "      <td>1.000000</td>\n",
       "      <td>0.571429</td>\n",
       "      <td>0.329502</td>\n",
       "      <td>0.473684</td>\n",
       "    </tr>\n",
       "  </tbody>\n",
       "</table>\n",
       "<p>89 rows × 9 columns</p>\n",
       "</div>"
      ],
      "text/plain": [
       "      assay             method        f1  precision  Sensitivity  Specificity  \\\n",
       "0   178_684  Heirarchial Model  0.583333   0.700000     0.500000     0.926829   \n",
       "1   180_686  Heirarchial Model  0.370370   0.294118     0.500000     0.612903   \n",
       "2   183_604  Heirarchial Model  0.500000   0.571429     0.444444     0.888889   \n",
       "3   184_606  Heirarchial Model  0.848485   0.823529     0.875000     0.936170   \n",
       "4   185_665  Heirarchial Model  0.375000   0.300000     0.500000     0.611111   \n",
       "..      ...                ...       ...        ...          ...          ...   \n",
       "84  278_757  Heirarchial Model  0.502924   0.447917     0.573333     0.766520   \n",
       "85  279_758  Heirarchial Model  0.551724   0.500000     0.615385     0.800000   \n",
       "86  280_759  Heirarchial Model  0.603175   0.527778     0.703704     0.790123   \n",
       "87  283_762  Heirarchial Model  0.294118   0.212766     0.476190     0.430769   \n",
       "88   93_259  Heirarchial Model  0.250000   1.000000     0.142857     1.000000   \n",
       "\n",
       "          ba       mcc       AUC  \n",
       "0   0.713415  0.482063  0.770035  \n",
       "1   0.556452  0.098414  0.558065  \n",
       "2   0.666667  0.364698  0.860082  \n",
       "3   0.905585  0.795459  0.953457  \n",
       "4   0.555556  0.097590  0.587963  \n",
       "..       ...       ...       ...  \n",
       "84  0.669927  0.315330  0.708488  \n",
       "85  0.707692  0.389306  0.742308  \n",
       "86  0.746914  0.453609  0.764746  \n",
       "87  0.453480 -0.080289  0.463736  \n",
       "88  0.571429  0.329502  0.473684  \n",
       "\n",
       "[89 rows x 9 columns]"
      ]
     },
     "execution_count": 11,
     "metadata": {},
     "output_type": "execute_result"
    }
   ],
   "source": [
    "metrics_list = pd.DataFrame(metrics_list,columns=[\"assay\",\"method\",\"f1\", \"precision\", \"Sensitivity\", \"Specificity\", \"ba\", \"mcc\", \"AUC\"])\n",
    "metrics_list"
   ]
  },
  {
   "cell_type": "code",
   "execution_count": 12,
   "metadata": {},
   "outputs": [],
   "source": [
    "metrics_list.to_csv(\"heirarchial_model_metrics.csv\", index=False)"
   ]
  },
  {
   "cell_type": "code",
   "execution_count": null,
   "metadata": {},
   "outputs": [],
   "source": []
  },
  {
   "cell_type": "code",
   "execution_count": null,
   "metadata": {},
   "outputs": [],
   "source": []
  }
 ],
 "metadata": {
  "kernelspec": {
   "display_name": "Python 3 (ipykernel)",
   "language": "python",
   "name": "python3"
  },
  "language_info": {
   "codemirror_mode": {
    "name": "ipython",
    "version": 3
   },
   "file_extension": ".py",
   "mimetype": "text/x-python",
   "name": "python",
   "nbconvert_exporter": "python",
   "pygments_lexer": "ipython3",
   "version": "3.9.6"
  }
 },
 "nbformat": 4,
 "nbformat_minor": 4
}
