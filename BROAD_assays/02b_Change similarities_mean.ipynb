{
 "cells": [
  {
   "cell_type": "code",
   "execution_count": 1,
   "id": "f180ee0c",
   "metadata": {},
   "outputs": [],
   "source": [
    "from rdkit.Chem import AllChem\n",
    "from scipy import stats\n",
    "import pandas as pd\n",
    "from rdkit import Chem, DataStructs\n",
    "from rdkit.Chem import AllChem\n",
    "from scipy import stats\n",
    "from rdkit.Chem import rdMolDescriptors as rdmd\n",
    "from rdkit.Chem.Scaffolds import MurckoScaffold\n",
    "import pandas as pd\n",
    "from tqdm import tqdm\n",
    "import time\n",
    "import numpy as np\n",
    "from sklearn.ensemble import RandomForestClassifier\n",
    "from sklearn.model_selection import train_test_split\n",
    "from sklearn.metrics import matthews_corrcoef,confusion_matrix, roc_auc_score, roc_curve\n",
    "import seaborn as sns\n",
    "import time\n",
    "from scipy.spatial.distance import cdist\n",
    "import matplotlib.pyplot as plt\n",
    "from sklearn.ensemble import RandomForestClassifier"
   ]
  },
  {
   "cell_type": "code",
   "execution_count": 2,
   "id": "4bfc7352",
   "metadata": {},
   "outputs": [],
   "source": [
    "import pandas as pd\n",
    "import numpy as np"
   ]
  },
  {
   "cell_type": "code",
   "execution_count": 3,
   "id": "2639fa47",
   "metadata": {},
   "outputs": [
    {
     "data": {
      "text/html": [
       "<div>\n",
       "<style scoped>\n",
       "    .dataframe tbody tr th:only-of-type {\n",
       "        vertical-align: middle;\n",
       "    }\n",
       "\n",
       "    .dataframe tbody tr th {\n",
       "        vertical-align: top;\n",
       "    }\n",
       "\n",
       "    .dataframe thead th {\n",
       "        text-align: right;\n",
       "    }\n",
       "</style>\n",
       "<table border=\"1\" class=\"dataframe\">\n",
       "  <thead>\n",
       "    <tr style=\"text-align: right;\">\n",
       "      <th></th>\n",
       "      <th>InChICode_standardised</th>\n",
       "      <th>178_684</th>\n",
       "      <th>180_686</th>\n",
       "      <th>183_604</th>\n",
       "      <th>184_606</th>\n",
       "      <th>185_665</th>\n",
       "      <th>185_666</th>\n",
       "      <th>186_668</th>\n",
       "      <th>190_628</th>\n",
       "      <th>190_629</th>\n",
       "      <th>...</th>\n",
       "      <th>273_751</th>\n",
       "      <th>274_752</th>\n",
       "      <th>275_753</th>\n",
       "      <th>275_754</th>\n",
       "      <th>276_755</th>\n",
       "      <th>278_757</th>\n",
       "      <th>279_758</th>\n",
       "      <th>280_759</th>\n",
       "      <th>283_762</th>\n",
       "      <th>93_259</th>\n",
       "    </tr>\n",
       "  </thead>\n",
       "  <tbody>\n",
       "    <tr>\n",
       "      <th>0</th>\n",
       "      <td>InChI=1S/C20H29NO5S/c1-13-5-3-4-6-14(2)9-18(22...</td>\n",
       "      <td>1.0</td>\n",
       "      <td>1.0</td>\n",
       "      <td>NaN</td>\n",
       "      <td>1.0</td>\n",
       "      <td>NaN</td>\n",
       "      <td>NaN</td>\n",
       "      <td>1.0</td>\n",
       "      <td>1.0</td>\n",
       "      <td>1.0</td>\n",
       "      <td>...</td>\n",
       "      <td>NaN</td>\n",
       "      <td>NaN</td>\n",
       "      <td>NaN</td>\n",
       "      <td>NaN</td>\n",
       "      <td>NaN</td>\n",
       "      <td>NaN</td>\n",
       "      <td>NaN</td>\n",
       "      <td>NaN</td>\n",
       "      <td>NaN</td>\n",
       "      <td>NaN</td>\n",
       "    </tr>\n",
       "    <tr>\n",
       "      <th>1</th>\n",
       "      <td>InChI=1S/C22H26N2O3/c1-25-20-9-5-18(6-10-20)4-...</td>\n",
       "      <td>1.0</td>\n",
       "      <td>1.0</td>\n",
       "      <td>NaN</td>\n",
       "      <td>1.0</td>\n",
       "      <td>NaN</td>\n",
       "      <td>NaN</td>\n",
       "      <td>1.0</td>\n",
       "      <td>NaN</td>\n",
       "      <td>NaN</td>\n",
       "      <td>...</td>\n",
       "      <td>NaN</td>\n",
       "      <td>NaN</td>\n",
       "      <td>NaN</td>\n",
       "      <td>NaN</td>\n",
       "      <td>NaN</td>\n",
       "      <td>NaN</td>\n",
       "      <td>NaN</td>\n",
       "      <td>NaN</td>\n",
       "      <td>NaN</td>\n",
       "      <td>1.0</td>\n",
       "    </tr>\n",
       "    <tr>\n",
       "      <th>2</th>\n",
       "      <td>InChI=1S/C10H12ClN5O3/c11-10-14-8(12)7-9(15-10...</td>\n",
       "      <td>1.0</td>\n",
       "      <td>NaN</td>\n",
       "      <td>1.0</td>\n",
       "      <td>1.0</td>\n",
       "      <td>NaN</td>\n",
       "      <td>NaN</td>\n",
       "      <td>NaN</td>\n",
       "      <td>1.0</td>\n",
       "      <td>NaN</td>\n",
       "      <td>...</td>\n",
       "      <td>NaN</td>\n",
       "      <td>NaN</td>\n",
       "      <td>NaN</td>\n",
       "      <td>NaN</td>\n",
       "      <td>NaN</td>\n",
       "      <td>NaN</td>\n",
       "      <td>NaN</td>\n",
       "      <td>NaN</td>\n",
       "      <td>NaN</td>\n",
       "      <td>0.0</td>\n",
       "    </tr>\n",
       "    <tr>\n",
       "      <th>3</th>\n",
       "      <td>InChI=1S/C31H39F3N4O5/c1-19-16-38(20(2)18-39)2...</td>\n",
       "      <td>1.0</td>\n",
       "      <td>NaN</td>\n",
       "      <td>1.0</td>\n",
       "      <td>1.0</td>\n",
       "      <td>NaN</td>\n",
       "      <td>NaN</td>\n",
       "      <td>NaN</td>\n",
       "      <td>NaN</td>\n",
       "      <td>NaN</td>\n",
       "      <td>...</td>\n",
       "      <td>NaN</td>\n",
       "      <td>NaN</td>\n",
       "      <td>NaN</td>\n",
       "      <td>NaN</td>\n",
       "      <td>0.0</td>\n",
       "      <td>NaN</td>\n",
       "      <td>NaN</td>\n",
       "      <td>NaN</td>\n",
       "      <td>NaN</td>\n",
       "      <td>NaN</td>\n",
       "    </tr>\n",
       "    <tr>\n",
       "      <th>4</th>\n",
       "      <td>InChI=1S/C36H40N4O4/c1-25-21-40(26(2)24-41)35(...</td>\n",
       "      <td>1.0</td>\n",
       "      <td>NaN</td>\n",
       "      <td>NaN</td>\n",
       "      <td>1.0</td>\n",
       "      <td>NaN</td>\n",
       "      <td>NaN</td>\n",
       "      <td>NaN</td>\n",
       "      <td>NaN</td>\n",
       "      <td>NaN</td>\n",
       "      <td>...</td>\n",
       "      <td>NaN</td>\n",
       "      <td>NaN</td>\n",
       "      <td>NaN</td>\n",
       "      <td>NaN</td>\n",
       "      <td>NaN</td>\n",
       "      <td>NaN</td>\n",
       "      <td>NaN</td>\n",
       "      <td>NaN</td>\n",
       "      <td>NaN</td>\n",
       "      <td>NaN</td>\n",
       "    </tr>\n",
       "    <tr>\n",
       "      <th>...</th>\n",
       "      <td>...</td>\n",
       "      <td>...</td>\n",
       "      <td>...</td>\n",
       "      <td>...</td>\n",
       "      <td>...</td>\n",
       "      <td>...</td>\n",
       "      <td>...</td>\n",
       "      <td>...</td>\n",
       "      <td>...</td>\n",
       "      <td>...</td>\n",
       "      <td>...</td>\n",
       "      <td>...</td>\n",
       "      <td>...</td>\n",
       "      <td>...</td>\n",
       "      <td>...</td>\n",
       "      <td>...</td>\n",
       "      <td>...</td>\n",
       "      <td>...</td>\n",
       "      <td>...</td>\n",
       "      <td>...</td>\n",
       "      <td>...</td>\n",
       "    </tr>\n",
       "    <tr>\n",
       "      <th>15267</th>\n",
       "      <td>InChI=1S/C29H42O10/c1-15-22(32)23(33)24(34)25(...</td>\n",
       "      <td>NaN</td>\n",
       "      <td>NaN</td>\n",
       "      <td>NaN</td>\n",
       "      <td>NaN</td>\n",
       "      <td>NaN</td>\n",
       "      <td>NaN</td>\n",
       "      <td>NaN</td>\n",
       "      <td>NaN</td>\n",
       "      <td>NaN</td>\n",
       "      <td>...</td>\n",
       "      <td>NaN</td>\n",
       "      <td>NaN</td>\n",
       "      <td>NaN</td>\n",
       "      <td>NaN</td>\n",
       "      <td>NaN</td>\n",
       "      <td>NaN</td>\n",
       "      <td>NaN</td>\n",
       "      <td>NaN</td>\n",
       "      <td>NaN</td>\n",
       "      <td>0.0</td>\n",
       "    </tr>\n",
       "    <tr>\n",
       "      <th>15268</th>\n",
       "      <td>InChI=1S/C9H11N3O4/c10-5-1-2-12-8-7(16-9(12)11...</td>\n",
       "      <td>NaN</td>\n",
       "      <td>NaN</td>\n",
       "      <td>NaN</td>\n",
       "      <td>NaN</td>\n",
       "      <td>NaN</td>\n",
       "      <td>NaN</td>\n",
       "      <td>NaN</td>\n",
       "      <td>NaN</td>\n",
       "      <td>NaN</td>\n",
       "      <td>...</td>\n",
       "      <td>NaN</td>\n",
       "      <td>NaN</td>\n",
       "      <td>NaN</td>\n",
       "      <td>NaN</td>\n",
       "      <td>NaN</td>\n",
       "      <td>NaN</td>\n",
       "      <td>NaN</td>\n",
       "      <td>NaN</td>\n",
       "      <td>NaN</td>\n",
       "      <td>1.0</td>\n",
       "    </tr>\n",
       "    <tr>\n",
       "      <th>15269</th>\n",
       "      <td>InChI=1S/C22H22O8/c1-25-14-5-10(6-15(26-2)20(1...</td>\n",
       "      <td>NaN</td>\n",
       "      <td>NaN</td>\n",
       "      <td>NaN</td>\n",
       "      <td>NaN</td>\n",
       "      <td>NaN</td>\n",
       "      <td>NaN</td>\n",
       "      <td>NaN</td>\n",
       "      <td>NaN</td>\n",
       "      <td>NaN</td>\n",
       "      <td>...</td>\n",
       "      <td>NaN</td>\n",
       "      <td>NaN</td>\n",
       "      <td>NaN</td>\n",
       "      <td>NaN</td>\n",
       "      <td>NaN</td>\n",
       "      <td>NaN</td>\n",
       "      <td>NaN</td>\n",
       "      <td>NaN</td>\n",
       "      <td>NaN</td>\n",
       "      <td>0.0</td>\n",
       "    </tr>\n",
       "    <tr>\n",
       "      <th>15270</th>\n",
       "      <td>InChI=1S/C40H71NO14/c1-15-27-40(11,48)33(44)22...</td>\n",
       "      <td>NaN</td>\n",
       "      <td>NaN</td>\n",
       "      <td>NaN</td>\n",
       "      <td>NaN</td>\n",
       "      <td>NaN</td>\n",
       "      <td>NaN</td>\n",
       "      <td>NaN</td>\n",
       "      <td>NaN</td>\n",
       "      <td>NaN</td>\n",
       "      <td>...</td>\n",
       "      <td>NaN</td>\n",
       "      <td>NaN</td>\n",
       "      <td>NaN</td>\n",
       "      <td>NaN</td>\n",
       "      <td>NaN</td>\n",
       "      <td>NaN</td>\n",
       "      <td>NaN</td>\n",
       "      <td>NaN</td>\n",
       "      <td>NaN</td>\n",
       "      <td>1.0</td>\n",
       "    </tr>\n",
       "    <tr>\n",
       "      <th>15271</th>\n",
       "      <td>InChI=1S/C25H34N2O3/c1-5-26(6-2)13-15-29-19-9-...</td>\n",
       "      <td>NaN</td>\n",
       "      <td>NaN</td>\n",
       "      <td>NaN</td>\n",
       "      <td>NaN</td>\n",
       "      <td>NaN</td>\n",
       "      <td>NaN</td>\n",
       "      <td>NaN</td>\n",
       "      <td>NaN</td>\n",
       "      <td>NaN</td>\n",
       "      <td>...</td>\n",
       "      <td>NaN</td>\n",
       "      <td>NaN</td>\n",
       "      <td>NaN</td>\n",
       "      <td>NaN</td>\n",
       "      <td>NaN</td>\n",
       "      <td>NaN</td>\n",
       "      <td>NaN</td>\n",
       "      <td>NaN</td>\n",
       "      <td>NaN</td>\n",
       "      <td>0.0</td>\n",
       "    </tr>\n",
       "  </tbody>\n",
       "</table>\n",
       "<p>15272 rows × 90 columns</p>\n",
       "</div>"
      ],
      "text/plain": [
       "                                  InChICode_standardised  178_684  180_686  \\\n",
       "0      InChI=1S/C20H29NO5S/c1-13-5-3-4-6-14(2)9-18(22...      1.0      1.0   \n",
       "1      InChI=1S/C22H26N2O3/c1-25-20-9-5-18(6-10-20)4-...      1.0      1.0   \n",
       "2      InChI=1S/C10H12ClN5O3/c11-10-14-8(12)7-9(15-10...      1.0      NaN   \n",
       "3      InChI=1S/C31H39F3N4O5/c1-19-16-38(20(2)18-39)2...      1.0      NaN   \n",
       "4      InChI=1S/C36H40N4O4/c1-25-21-40(26(2)24-41)35(...      1.0      NaN   \n",
       "...                                                  ...      ...      ...   \n",
       "15267  InChI=1S/C29H42O10/c1-15-22(32)23(33)24(34)25(...      NaN      NaN   \n",
       "15268  InChI=1S/C9H11N3O4/c10-5-1-2-12-8-7(16-9(12)11...      NaN      NaN   \n",
       "15269  InChI=1S/C22H22O8/c1-25-14-5-10(6-15(26-2)20(1...      NaN      NaN   \n",
       "15270  InChI=1S/C40H71NO14/c1-15-27-40(11,48)33(44)22...      NaN      NaN   \n",
       "15271  InChI=1S/C25H34N2O3/c1-5-26(6-2)13-15-29-19-9-...      NaN      NaN   \n",
       "\n",
       "       183_604  184_606  185_665  185_666  186_668  190_628  190_629  ...  \\\n",
       "0          NaN      1.0      NaN      NaN      1.0      1.0      1.0  ...   \n",
       "1          NaN      1.0      NaN      NaN      1.0      NaN      NaN  ...   \n",
       "2          1.0      1.0      NaN      NaN      NaN      1.0      NaN  ...   \n",
       "3          1.0      1.0      NaN      NaN      NaN      NaN      NaN  ...   \n",
       "4          NaN      1.0      NaN      NaN      NaN      NaN      NaN  ...   \n",
       "...        ...      ...      ...      ...      ...      ...      ...  ...   \n",
       "15267      NaN      NaN      NaN      NaN      NaN      NaN      NaN  ...   \n",
       "15268      NaN      NaN      NaN      NaN      NaN      NaN      NaN  ...   \n",
       "15269      NaN      NaN      NaN      NaN      NaN      NaN      NaN  ...   \n",
       "15270      NaN      NaN      NaN      NaN      NaN      NaN      NaN  ...   \n",
       "15271      NaN      NaN      NaN      NaN      NaN      NaN      NaN  ...   \n",
       "\n",
       "       273_751  274_752  275_753  275_754  276_755  278_757  279_758  280_759  \\\n",
       "0          NaN      NaN      NaN      NaN      NaN      NaN      NaN      NaN   \n",
       "1          NaN      NaN      NaN      NaN      NaN      NaN      NaN      NaN   \n",
       "2          NaN      NaN      NaN      NaN      NaN      NaN      NaN      NaN   \n",
       "3          NaN      NaN      NaN      NaN      0.0      NaN      NaN      NaN   \n",
       "4          NaN      NaN      NaN      NaN      NaN      NaN      NaN      NaN   \n",
       "...        ...      ...      ...      ...      ...      ...      ...      ...   \n",
       "15267      NaN      NaN      NaN      NaN      NaN      NaN      NaN      NaN   \n",
       "15268      NaN      NaN      NaN      NaN      NaN      NaN      NaN      NaN   \n",
       "15269      NaN      NaN      NaN      NaN      NaN      NaN      NaN      NaN   \n",
       "15270      NaN      NaN      NaN      NaN      NaN      NaN      NaN      NaN   \n",
       "15271      NaN      NaN      NaN      NaN      NaN      NaN      NaN      NaN   \n",
       "\n",
       "       283_762  93_259  \n",
       "0          NaN     NaN  \n",
       "1          NaN     1.0  \n",
       "2          NaN     0.0  \n",
       "3          NaN     NaN  \n",
       "4          NaN     NaN  \n",
       "...        ...     ...  \n",
       "15267      NaN     0.0  \n",
       "15268      NaN     1.0  \n",
       "15269      NaN     0.0  \n",
       "15270      NaN     1.0  \n",
       "15271      NaN     0.0  \n",
       "\n",
       "[15272 rows x 90 columns]"
      ]
     },
     "execution_count": 3,
     "metadata": {},
     "output_type": "execute_result"
    }
   ],
   "source": [
    "assay_data = pd.read_csv(\"./assay_data_filtered_89_inchi.csv\") \n",
    "assay_list= assay_data.columns.to_list()[1:-1]\n",
    "assay_data = assay_data.drop(columns= [\"smiles_r\"])\n",
    "assay_data"
   ]
  },
  {
   "cell_type": "code",
   "execution_count": 4,
   "id": "2b48f417",
   "metadata": {},
   "outputs": [
    {
     "data": {
      "text/html": [
       "<div>\n",
       "<style scoped>\n",
       "    .dataframe tbody tr th:only-of-type {\n",
       "        vertical-align: middle;\n",
       "    }\n",
       "\n",
       "    .dataframe tbody tr th {\n",
       "        vertical-align: top;\n",
       "    }\n",
       "\n",
       "    .dataframe thead th {\n",
       "        text-align: right;\n",
       "    }\n",
       "</style>\n",
       "<table border=\"1\" class=\"dataframe\">\n",
       "  <thead>\n",
       "    <tr style=\"text-align: right;\">\n",
       "      <th></th>\n",
       "      <th>Cells_Correlation_Correlation_RNA_AGP</th>\n",
       "      <th>Cells_Correlation_Costes_AGP_RNA</th>\n",
       "      <th>Cells_Correlation_K_AGP_DNA</th>\n",
       "      <th>Cells_Correlation_K_DNA_AGP</th>\n",
       "      <th>Cells_Correlation_K_DNA_ER</th>\n",
       "      <th>Cells_Correlation_K_DNA_Mito</th>\n",
       "      <th>Cells_Correlation_K_ER_DNA</th>\n",
       "      <th>Cells_Correlation_K_ER_Mito</th>\n",
       "      <th>Cells_Correlation_K_Mito_DNA</th>\n",
       "      <th>Cells_Correlation_K_RNA_DNA</th>\n",
       "      <th>...</th>\n",
       "      <th>Nuclei_Texture_SumVariance_AGP_10_0</th>\n",
       "      <th>Nuclei_Texture_SumVariance_DNA_10_0</th>\n",
       "      <th>Nuclei_Texture_SumVariance_ER_10_0</th>\n",
       "      <th>Nuclei_Texture_SumVariance_Mito_10_0</th>\n",
       "      <th>Nuclei_Texture_SumVariance_RNA_10_0</th>\n",
       "      <th>Nuclei_Texture_Variance_AGP_10_0</th>\n",
       "      <th>Nuclei_Texture_Variance_ER_10_0</th>\n",
       "      <th>Nuclei_Texture_Variance_Mito_10_0</th>\n",
       "      <th>Nuclei_Texture_Variance_RNA_10_0</th>\n",
       "      <th>InChICode_standardised</th>\n",
       "    </tr>\n",
       "  </thead>\n",
       "  <tbody>\n",
       "    <tr>\n",
       "      <th>0</th>\n",
       "      <td>0.213520</td>\n",
       "      <td>0.052182</td>\n",
       "      <td>0.340759</td>\n",
       "      <td>-0.107108</td>\n",
       "      <td>0.030104</td>\n",
       "      <td>0.043808</td>\n",
       "      <td>-0.058823</td>\n",
       "      <td>-0.076555</td>\n",
       "      <td>-0.080047</td>\n",
       "      <td>-0.060985</td>\n",
       "      <td>...</td>\n",
       "      <td>0.127041</td>\n",
       "      <td>0.300797</td>\n",
       "      <td>1.601798</td>\n",
       "      <td>0.649545</td>\n",
       "      <td>0.117986</td>\n",
       "      <td>-0.124655</td>\n",
       "      <td>0.875722</td>\n",
       "      <td>0.060316</td>\n",
       "      <td>-0.108497</td>\n",
       "      <td>InChI=1S/C20H29NO5S/c1-13-5-3-4-6-14(2)9-18(22...</td>\n",
       "    </tr>\n",
       "    <tr>\n",
       "      <th>1</th>\n",
       "      <td>0.500980</td>\n",
       "      <td>-0.049488</td>\n",
       "      <td>0.034006</td>\n",
       "      <td>0.009368</td>\n",
       "      <td>0.042325</td>\n",
       "      <td>0.289250</td>\n",
       "      <td>0.072184</td>\n",
       "      <td>0.236915</td>\n",
       "      <td>-0.090521</td>\n",
       "      <td>0.025497</td>\n",
       "      <td>...</td>\n",
       "      <td>0.113111</td>\n",
       "      <td>-0.031291</td>\n",
       "      <td>0.736375</td>\n",
       "      <td>-0.052299</td>\n",
       "      <td>-0.182771</td>\n",
       "      <td>0.020039</td>\n",
       "      <td>0.309519</td>\n",
       "      <td>0.146067</td>\n",
       "      <td>-0.135633</td>\n",
       "      <td>InChI=1S/C22H26N2O3/c1-25-20-9-5-18(6-10-20)4-...</td>\n",
       "    </tr>\n",
       "    <tr>\n",
       "      <th>2</th>\n",
       "      <td>0.554610</td>\n",
       "      <td>-0.037230</td>\n",
       "      <td>-0.144126</td>\n",
       "      <td>0.907236</td>\n",
       "      <td>0.762857</td>\n",
       "      <td>0.869041</td>\n",
       "      <td>-0.197808</td>\n",
       "      <td>0.050745</td>\n",
       "      <td>-0.265411</td>\n",
       "      <td>-0.223704</td>\n",
       "      <td>...</td>\n",
       "      <td>0.402068</td>\n",
       "      <td>-0.528586</td>\n",
       "      <td>0.894280</td>\n",
       "      <td>1.096441</td>\n",
       "      <td>0.201130</td>\n",
       "      <td>0.023909</td>\n",
       "      <td>0.209528</td>\n",
       "      <td>0.384470</td>\n",
       "      <td>0.242193</td>\n",
       "      <td>InChI=1S/C10H12ClN5O3/c11-10-14-8(12)7-9(15-10...</td>\n",
       "    </tr>\n",
       "    <tr>\n",
       "      <th>3</th>\n",
       "      <td>0.065095</td>\n",
       "      <td>0.052121</td>\n",
       "      <td>-0.021547</td>\n",
       "      <td>0.185901</td>\n",
       "      <td>0.081906</td>\n",
       "      <td>0.034104</td>\n",
       "      <td>-0.030566</td>\n",
       "      <td>-0.068275</td>\n",
       "      <td>-0.000007</td>\n",
       "      <td>-0.060455</td>\n",
       "      <td>...</td>\n",
       "      <td>-0.356829</td>\n",
       "      <td>-0.001533</td>\n",
       "      <td>0.040114</td>\n",
       "      <td>-0.145918</td>\n",
       "      <td>0.025249</td>\n",
       "      <td>-0.111571</td>\n",
       "      <td>0.086286</td>\n",
       "      <td>-0.083360</td>\n",
       "      <td>0.011623</td>\n",
       "      <td>InChI=1S/C31H39F3N4O5/c1-19-16-38(20(2)18-39)2...</td>\n",
       "    </tr>\n",
       "    <tr>\n",
       "      <th>4</th>\n",
       "      <td>0.116754</td>\n",
       "      <td>-0.089409</td>\n",
       "      <td>-0.006915</td>\n",
       "      <td>-0.116876</td>\n",
       "      <td>-0.017143</td>\n",
       "      <td>0.037999</td>\n",
       "      <td>0.008466</td>\n",
       "      <td>0.130419</td>\n",
       "      <td>-0.026270</td>\n",
       "      <td>0.015191</td>\n",
       "      <td>...</td>\n",
       "      <td>-0.565546</td>\n",
       "      <td>-0.050469</td>\n",
       "      <td>-0.191591</td>\n",
       "      <td>-0.484524</td>\n",
       "      <td>-0.230474</td>\n",
       "      <td>-0.250742</td>\n",
       "      <td>-0.028181</td>\n",
       "      <td>-0.188926</td>\n",
       "      <td>-0.048785</td>\n",
       "      <td>InChI=1S/C36H40N4O4/c1-25-21-40(26(2)24-41)35(...</td>\n",
       "    </tr>\n",
       "    <tr>\n",
       "      <th>...</th>\n",
       "      <td>...</td>\n",
       "      <td>...</td>\n",
       "      <td>...</td>\n",
       "      <td>...</td>\n",
       "      <td>...</td>\n",
       "      <td>...</td>\n",
       "      <td>...</td>\n",
       "      <td>...</td>\n",
       "      <td>...</td>\n",
       "      <td>...</td>\n",
       "      <td>...</td>\n",
       "      <td>...</td>\n",
       "      <td>...</td>\n",
       "      <td>...</td>\n",
       "      <td>...</td>\n",
       "      <td>...</td>\n",
       "      <td>...</td>\n",
       "      <td>...</td>\n",
       "      <td>...</td>\n",
       "      <td>...</td>\n",
       "      <td>...</td>\n",
       "    </tr>\n",
       "    <tr>\n",
       "      <th>15267</th>\n",
       "      <td>0.600421</td>\n",
       "      <td>0.006980</td>\n",
       "      <td>0.341992</td>\n",
       "      <td>-0.482678</td>\n",
       "      <td>-0.421343</td>\n",
       "      <td>0.160259</td>\n",
       "      <td>0.486249</td>\n",
       "      <td>0.404443</td>\n",
       "      <td>0.035852</td>\n",
       "      <td>0.378471</td>\n",
       "      <td>...</td>\n",
       "      <td>0.854714</td>\n",
       "      <td>0.141265</td>\n",
       "      <td>1.257099</td>\n",
       "      <td>0.942200</td>\n",
       "      <td>0.412648</td>\n",
       "      <td>1.143416</td>\n",
       "      <td>1.082932</td>\n",
       "      <td>0.892884</td>\n",
       "      <td>1.190745</td>\n",
       "      <td>InChI=1S/C29H42O10/c1-15-22(32)23(33)24(34)25(...</td>\n",
       "    </tr>\n",
       "    <tr>\n",
       "      <th>15268</th>\n",
       "      <td>0.357634</td>\n",
       "      <td>-0.102040</td>\n",
       "      <td>-0.155204</td>\n",
       "      <td>1.278826</td>\n",
       "      <td>0.829811</td>\n",
       "      <td>0.756359</td>\n",
       "      <td>-0.187745</td>\n",
       "      <td>-0.028950</td>\n",
       "      <td>-0.237447</td>\n",
       "      <td>-0.202268</td>\n",
       "      <td>...</td>\n",
       "      <td>-0.235418</td>\n",
       "      <td>-1.117448</td>\n",
       "      <td>-0.116413</td>\n",
       "      <td>0.036485</td>\n",
       "      <td>0.631407</td>\n",
       "      <td>-0.277122</td>\n",
       "      <td>-0.071896</td>\n",
       "      <td>-0.108458</td>\n",
       "      <td>0.260039</td>\n",
       "      <td>InChI=1S/C9H11N3O4/c10-5-1-2-12-8-7(16-9(12)11...</td>\n",
       "    </tr>\n",
       "    <tr>\n",
       "      <th>15269</th>\n",
       "      <td>0.385746</td>\n",
       "      <td>-0.010448</td>\n",
       "      <td>0.021540</td>\n",
       "      <td>-0.015133</td>\n",
       "      <td>-0.165300</td>\n",
       "      <td>0.102597</td>\n",
       "      <td>0.144109</td>\n",
       "      <td>0.218774</td>\n",
       "      <td>-0.041078</td>\n",
       "      <td>0.056075</td>\n",
       "      <td>...</td>\n",
       "      <td>0.822444</td>\n",
       "      <td>0.501358</td>\n",
       "      <td>0.956281</td>\n",
       "      <td>1.116960</td>\n",
       "      <td>0.726610</td>\n",
       "      <td>0.275630</td>\n",
       "      <td>0.493553</td>\n",
       "      <td>0.230773</td>\n",
       "      <td>0.175383</td>\n",
       "      <td>InChI=1S/C22H22O8/c1-25-14-5-10(6-15(26-2)20(1...</td>\n",
       "    </tr>\n",
       "    <tr>\n",
       "      <th>15270</th>\n",
       "      <td>0.078460</td>\n",
       "      <td>0.015044</td>\n",
       "      <td>-0.009505</td>\n",
       "      <td>-0.009737</td>\n",
       "      <td>-0.060708</td>\n",
       "      <td>-0.000053</td>\n",
       "      <td>-0.001857</td>\n",
       "      <td>0.068244</td>\n",
       "      <td>-0.021163</td>\n",
       "      <td>0.063623</td>\n",
       "      <td>...</td>\n",
       "      <td>-0.252019</td>\n",
       "      <td>0.261459</td>\n",
       "      <td>-0.101648</td>\n",
       "      <td>-0.197162</td>\n",
       "      <td>-0.011630</td>\n",
       "      <td>-0.169541</td>\n",
       "      <td>-0.096224</td>\n",
       "      <td>-0.132107</td>\n",
       "      <td>0.046411</td>\n",
       "      <td>InChI=1S/C40H71NO14/c1-15-27-40(11,48)33(44)22...</td>\n",
       "    </tr>\n",
       "    <tr>\n",
       "      <th>15271</th>\n",
       "      <td>0.088166</td>\n",
       "      <td>0.013988</td>\n",
       "      <td>-0.038157</td>\n",
       "      <td>0.098509</td>\n",
       "      <td>0.186182</td>\n",
       "      <td>0.156374</td>\n",
       "      <td>-0.133162</td>\n",
       "      <td>-0.023434</td>\n",
       "      <td>-0.117217</td>\n",
       "      <td>-0.128264</td>\n",
       "      <td>...</td>\n",
       "      <td>-0.036430</td>\n",
       "      <td>-0.078891</td>\n",
       "      <td>-0.205359</td>\n",
       "      <td>-0.157530</td>\n",
       "      <td>-0.114362</td>\n",
       "      <td>-0.047605</td>\n",
       "      <td>-0.037492</td>\n",
       "      <td>-0.033800</td>\n",
       "      <td>-0.120534</td>\n",
       "      <td>InChI=1S/C25H34N2O3/c1-5-26(6-2)13-15-29-19-9-...</td>\n",
       "    </tr>\n",
       "  </tbody>\n",
       "</table>\n",
       "<p>15272 rows × 192 columns</p>\n",
       "</div>"
      ],
      "text/plain": [
       "       Cells_Correlation_Correlation_RNA_AGP  \\\n",
       "0                                   0.213520   \n",
       "1                                   0.500980   \n",
       "2                                   0.554610   \n",
       "3                                   0.065095   \n",
       "4                                   0.116754   \n",
       "...                                      ...   \n",
       "15267                               0.600421   \n",
       "15268                               0.357634   \n",
       "15269                               0.385746   \n",
       "15270                               0.078460   \n",
       "15271                               0.088166   \n",
       "\n",
       "       Cells_Correlation_Costes_AGP_RNA  Cells_Correlation_K_AGP_DNA  \\\n",
       "0                              0.052182                     0.340759   \n",
       "1                             -0.049488                     0.034006   \n",
       "2                             -0.037230                    -0.144126   \n",
       "3                              0.052121                    -0.021547   \n",
       "4                             -0.089409                    -0.006915   \n",
       "...                                 ...                          ...   \n",
       "15267                          0.006980                     0.341992   \n",
       "15268                         -0.102040                    -0.155204   \n",
       "15269                         -0.010448                     0.021540   \n",
       "15270                          0.015044                    -0.009505   \n",
       "15271                          0.013988                    -0.038157   \n",
       "\n",
       "       Cells_Correlation_K_DNA_AGP  Cells_Correlation_K_DNA_ER  \\\n",
       "0                        -0.107108                    0.030104   \n",
       "1                         0.009368                    0.042325   \n",
       "2                         0.907236                    0.762857   \n",
       "3                         0.185901                    0.081906   \n",
       "4                        -0.116876                   -0.017143   \n",
       "...                            ...                         ...   \n",
       "15267                    -0.482678                   -0.421343   \n",
       "15268                     1.278826                    0.829811   \n",
       "15269                    -0.015133                   -0.165300   \n",
       "15270                    -0.009737                   -0.060708   \n",
       "15271                     0.098509                    0.186182   \n",
       "\n",
       "       Cells_Correlation_K_DNA_Mito  Cells_Correlation_K_ER_DNA  \\\n",
       "0                          0.043808                   -0.058823   \n",
       "1                          0.289250                    0.072184   \n",
       "2                          0.869041                   -0.197808   \n",
       "3                          0.034104                   -0.030566   \n",
       "4                          0.037999                    0.008466   \n",
       "...                             ...                         ...   \n",
       "15267                      0.160259                    0.486249   \n",
       "15268                      0.756359                   -0.187745   \n",
       "15269                      0.102597                    0.144109   \n",
       "15270                     -0.000053                   -0.001857   \n",
       "15271                      0.156374                   -0.133162   \n",
       "\n",
       "       Cells_Correlation_K_ER_Mito  Cells_Correlation_K_Mito_DNA  \\\n",
       "0                        -0.076555                     -0.080047   \n",
       "1                         0.236915                     -0.090521   \n",
       "2                         0.050745                     -0.265411   \n",
       "3                        -0.068275                     -0.000007   \n",
       "4                         0.130419                     -0.026270   \n",
       "...                            ...                           ...   \n",
       "15267                     0.404443                      0.035852   \n",
       "15268                    -0.028950                     -0.237447   \n",
       "15269                     0.218774                     -0.041078   \n",
       "15270                     0.068244                     -0.021163   \n",
       "15271                    -0.023434                     -0.117217   \n",
       "\n",
       "       Cells_Correlation_K_RNA_DNA  ...  Nuclei_Texture_SumVariance_AGP_10_0  \\\n",
       "0                        -0.060985  ...                             0.127041   \n",
       "1                         0.025497  ...                             0.113111   \n",
       "2                        -0.223704  ...                             0.402068   \n",
       "3                        -0.060455  ...                            -0.356829   \n",
       "4                         0.015191  ...                            -0.565546   \n",
       "...                            ...  ...                                  ...   \n",
       "15267                     0.378471  ...                             0.854714   \n",
       "15268                    -0.202268  ...                            -0.235418   \n",
       "15269                     0.056075  ...                             0.822444   \n",
       "15270                     0.063623  ...                            -0.252019   \n",
       "15271                    -0.128264  ...                            -0.036430   \n",
       "\n",
       "       Nuclei_Texture_SumVariance_DNA_10_0  \\\n",
       "0                                 0.300797   \n",
       "1                                -0.031291   \n",
       "2                                -0.528586   \n",
       "3                                -0.001533   \n",
       "4                                -0.050469   \n",
       "...                                    ...   \n",
       "15267                             0.141265   \n",
       "15268                            -1.117448   \n",
       "15269                             0.501358   \n",
       "15270                             0.261459   \n",
       "15271                            -0.078891   \n",
       "\n",
       "       Nuclei_Texture_SumVariance_ER_10_0  \\\n",
       "0                                1.601798   \n",
       "1                                0.736375   \n",
       "2                                0.894280   \n",
       "3                                0.040114   \n",
       "4                               -0.191591   \n",
       "...                                   ...   \n",
       "15267                            1.257099   \n",
       "15268                           -0.116413   \n",
       "15269                            0.956281   \n",
       "15270                           -0.101648   \n",
       "15271                           -0.205359   \n",
       "\n",
       "       Nuclei_Texture_SumVariance_Mito_10_0  \\\n",
       "0                                  0.649545   \n",
       "1                                 -0.052299   \n",
       "2                                  1.096441   \n",
       "3                                 -0.145918   \n",
       "4                                 -0.484524   \n",
       "...                                     ...   \n",
       "15267                              0.942200   \n",
       "15268                              0.036485   \n",
       "15269                              1.116960   \n",
       "15270                             -0.197162   \n",
       "15271                             -0.157530   \n",
       "\n",
       "       Nuclei_Texture_SumVariance_RNA_10_0  Nuclei_Texture_Variance_AGP_10_0  \\\n",
       "0                                 0.117986                         -0.124655   \n",
       "1                                -0.182771                          0.020039   \n",
       "2                                 0.201130                          0.023909   \n",
       "3                                 0.025249                         -0.111571   \n",
       "4                                -0.230474                         -0.250742   \n",
       "...                                    ...                               ...   \n",
       "15267                             0.412648                          1.143416   \n",
       "15268                             0.631407                         -0.277122   \n",
       "15269                             0.726610                          0.275630   \n",
       "15270                            -0.011630                         -0.169541   \n",
       "15271                            -0.114362                         -0.047605   \n",
       "\n",
       "       Nuclei_Texture_Variance_ER_10_0  Nuclei_Texture_Variance_Mito_10_0  \\\n",
       "0                             0.875722                           0.060316   \n",
       "1                             0.309519                           0.146067   \n",
       "2                             0.209528                           0.384470   \n",
       "3                             0.086286                          -0.083360   \n",
       "4                            -0.028181                          -0.188926   \n",
       "...                                ...                                ...   \n",
       "15267                         1.082932                           0.892884   \n",
       "15268                        -0.071896                          -0.108458   \n",
       "15269                         0.493553                           0.230773   \n",
       "15270                        -0.096224                          -0.132107   \n",
       "15271                        -0.037492                          -0.033800   \n",
       "\n",
       "       Nuclei_Texture_Variance_RNA_10_0  \\\n",
       "0                             -0.108497   \n",
       "1                             -0.135633   \n",
       "2                              0.242193   \n",
       "3                              0.011623   \n",
       "4                             -0.048785   \n",
       "...                                 ...   \n",
       "15267                          1.190745   \n",
       "15268                          0.260039   \n",
       "15269                          0.175383   \n",
       "15270                          0.046411   \n",
       "15271                         -0.120534   \n",
       "\n",
       "                                  InChICode_standardised  \n",
       "0      InChI=1S/C20H29NO5S/c1-13-5-3-4-6-14(2)9-18(22...  \n",
       "1      InChI=1S/C22H26N2O3/c1-25-20-9-5-18(6-10-20)4-...  \n",
       "2      InChI=1S/C10H12ClN5O3/c11-10-14-8(12)7-9(15-10...  \n",
       "3      InChI=1S/C31H39F3N4O5/c1-19-16-38(20(2)18-39)2...  \n",
       "4      InChI=1S/C36H40N4O4/c1-25-21-40(26(2)24-41)35(...  \n",
       "...                                                  ...  \n",
       "15267  InChI=1S/C29H42O10/c1-15-22(32)23(33)24(34)25(...  \n",
       "15268  InChI=1S/C9H11N3O4/c10-5-1-2-12-8-7(16-9(12)11...  \n",
       "15269  InChI=1S/C22H22O8/c1-25-14-5-10(6-15(26-2)20(1...  \n",
       "15270  InChI=1S/C40H71NO14/c1-15-27-40(11,48)33(44)22...  \n",
       "15271  InChI=1S/C25H34N2O3/c1-5-26(6-2)13-15-29-19-9-...  \n",
       "\n",
       "[15272 rows x 192 columns]"
      ]
     },
     "execution_count": 4,
     "metadata": {},
     "output_type": "execute_result"
    }
   ],
   "source": [
    "CP_features = pd.read_csv(\"./CP_filtered_15272.csv\") \n",
    "CP_features_list= CP_features.columns.to_list()[:-1]\n",
    "#CP_features = CP_features.to_numpy()\n",
    "CP_features"
   ]
  },
  {
   "cell_type": "code",
   "execution_count": 5,
   "id": "fba16d0c",
   "metadata": {},
   "outputs": [
    {
     "data": {
      "text/html": [
       "<div>\n",
       "<style scoped>\n",
       "    .dataframe tbody tr th:only-of-type {\n",
       "        vertical-align: middle;\n",
       "    }\n",
       "\n",
       "    .dataframe tbody tr th {\n",
       "        vertical-align: top;\n",
       "    }\n",
       "\n",
       "    .dataframe thead th {\n",
       "        text-align: right;\n",
       "    }\n",
       "</style>\n",
       "<table border=\"1\" class=\"dataframe\">\n",
       "  <thead>\n",
       "    <tr style=\"text-align: right;\">\n",
       "      <th></th>\n",
       "      <th>InChICode_standardised</th>\n",
       "      <th>fp</th>\n",
       "    </tr>\n",
       "  </thead>\n",
       "  <tbody>\n",
       "    <tr>\n",
       "      <th>0</th>\n",
       "      <td>InChI=1S/C20H29NO5S/c1-13-5-3-4-6-14(2)9-18(22...</td>\n",
       "      <td>[0, 0, 0, 0, 0, 0, 0, 0, 0, 0, 0, 0, 0, 0, 0, ...</td>\n",
       "    </tr>\n",
       "    <tr>\n",
       "      <th>1</th>\n",
       "      <td>InChI=1S/C22H26N2O3/c1-25-20-9-5-18(6-10-20)4-...</td>\n",
       "      <td>[1, 0, 0, 0, 0, 0, 0, 0, 1, 0, 0, 0, 0, 0, 0, ...</td>\n",
       "    </tr>\n",
       "    <tr>\n",
       "      <th>2</th>\n",
       "      <td>InChI=1S/C10H12ClN5O3/c11-10-14-8(12)7-9(15-10...</td>\n",
       "      <td>[0, 0, 0, 0, 0, 0, 0, 0, 1, 0, 0, 0, 0, 0, 0, ...</td>\n",
       "    </tr>\n",
       "    <tr>\n",
       "      <th>3</th>\n",
       "      <td>InChI=1S/C31H39F3N4O5/c1-19-16-38(20(2)18-39)2...</td>\n",
       "      <td>[1, 1, 0, 0, 0, 0, 0, 0, 1, 0, 0, 1, 0, 0, 0, ...</td>\n",
       "    </tr>\n",
       "    <tr>\n",
       "      <th>4</th>\n",
       "      <td>InChI=1S/C36H40N4O4/c1-25-21-40(26(2)24-41)35(...</td>\n",
       "      <td>[1, 0, 0, 0, 0, 0, 0, 0, 1, 0, 0, 0, 0, 0, 0, ...</td>\n",
       "    </tr>\n",
       "    <tr>\n",
       "      <th>...</th>\n",
       "      <td>...</td>\n",
       "      <td>...</td>\n",
       "    </tr>\n",
       "    <tr>\n",
       "      <th>15267</th>\n",
       "      <td>InChI=1S/C29H42O10/c1-15-22(32)23(33)24(34)25(...</td>\n",
       "      <td>[0, 0, 0, 0, 0, 0, 0, 0, 0, 0, 0, 0, 0, 0, 0, ...</td>\n",
       "    </tr>\n",
       "    <tr>\n",
       "      <th>15268</th>\n",
       "      <td>InChI=1S/C9H11N3O4/c10-5-1-2-12-8-7(16-9(12)11...</td>\n",
       "      <td>[0, 0, 0, 0, 0, 0, 0, 0, 1, 0, 0, 0, 0, 0, 0, ...</td>\n",
       "    </tr>\n",
       "    <tr>\n",
       "      <th>15269</th>\n",
       "      <td>InChI=1S/C22H22O8/c1-25-14-5-10(6-15(26-2)20(1...</td>\n",
       "      <td>[0, 0, 0, 0, 0, 0, 0, 0, 0, 0, 0, 0, 0, 0, 0, ...</td>\n",
       "    </tr>\n",
       "    <tr>\n",
       "      <th>15270</th>\n",
       "      <td>InChI=1S/C40H71NO14/c1-15-27-40(11,48)33(44)22...</td>\n",
       "      <td>[0, 0, 0, 0, 0, 0, 0, 0, 1, 0, 0, 0, 0, 0, 0, ...</td>\n",
       "    </tr>\n",
       "    <tr>\n",
       "      <th>15271</th>\n",
       "      <td>InChI=1S/C25H34N2O3/c1-5-26(6-2)13-15-29-19-9-...</td>\n",
       "      <td>[0, 0, 0, 0, 0, 0, 0, 0, 1, 0, 0, 0, 0, 0, 0, ...</td>\n",
       "    </tr>\n",
       "  </tbody>\n",
       "</table>\n",
       "<p>15272 rows × 2 columns</p>\n",
       "</div>"
      ],
      "text/plain": [
       "                                  InChICode_standardised  \\\n",
       "0      InChI=1S/C20H29NO5S/c1-13-5-3-4-6-14(2)9-18(22...   \n",
       "1      InChI=1S/C22H26N2O3/c1-25-20-9-5-18(6-10-20)4-...   \n",
       "2      InChI=1S/C10H12ClN5O3/c11-10-14-8(12)7-9(15-10...   \n",
       "3      InChI=1S/C31H39F3N4O5/c1-19-16-38(20(2)18-39)2...   \n",
       "4      InChI=1S/C36H40N4O4/c1-25-21-40(26(2)24-41)35(...   \n",
       "...                                                  ...   \n",
       "15267  InChI=1S/C29H42O10/c1-15-22(32)23(33)24(34)25(...   \n",
       "15268  InChI=1S/C9H11N3O4/c10-5-1-2-12-8-7(16-9(12)11...   \n",
       "15269  InChI=1S/C22H22O8/c1-25-14-5-10(6-15(26-2)20(1...   \n",
       "15270  InChI=1S/C40H71NO14/c1-15-27-40(11,48)33(44)22...   \n",
       "15271  InChI=1S/C25H34N2O3/c1-5-26(6-2)13-15-29-19-9-...   \n",
       "\n",
       "                                                      fp  \n",
       "0      [0, 0, 0, 0, 0, 0, 0, 0, 0, 0, 0, 0, 0, 0, 0, ...  \n",
       "1      [1, 0, 0, 0, 0, 0, 0, 0, 1, 0, 0, 0, 0, 0, 0, ...  \n",
       "2      [0, 0, 0, 0, 0, 0, 0, 0, 1, 0, 0, 0, 0, 0, 0, ...  \n",
       "3      [1, 1, 0, 0, 0, 0, 0, 0, 1, 0, 0, 1, 0, 0, 0, ...  \n",
       "4      [1, 0, 0, 0, 0, 0, 0, 0, 1, 0, 0, 0, 0, 0, 0, ...  \n",
       "...                                                  ...  \n",
       "15267  [0, 0, 0, 0, 0, 0, 0, 0, 0, 0, 0, 0, 0, 0, 0, ...  \n",
       "15268  [0, 0, 0, 0, 0, 0, 0, 0, 1, 0, 0, 0, 0, 0, 0, ...  \n",
       "15269  [0, 0, 0, 0, 0, 0, 0, 0, 0, 0, 0, 0, 0, 0, 0, ...  \n",
       "15270  [0, 0, 0, 0, 0, 0, 0, 0, 1, 0, 0, 0, 0, 0, 0, ...  \n",
       "15271  [0, 0, 0, 0, 0, 0, 0, 0, 1, 0, 0, 0, 0, 0, 0, ...  \n",
       "\n",
       "[15272 rows x 2 columns]"
      ]
     },
     "execution_count": 5,
     "metadata": {},
     "output_type": "execute_result"
    }
   ],
   "source": [
    "mfp_features = pd.read_csv(\"./Mfp_filtered_15272.csv\") \n",
    "mfp_features_list = mfp_features.columns.to_list()[:-1]\n",
    "mfp_features['fp'] = [(x) for x in mfp_features.iloc[:, :-1].to_numpy()]\n",
    "mfp_features = mfp_features[[\"InChICode_standardised\", \"fp\"]]\n",
    "mfp_features"
   ]
  },
  {
   "cell_type": "code",
   "execution_count": 6,
   "id": "9f449bd0",
   "metadata": {},
   "outputs": [
    {
     "data": {
      "text/html": [
       "<div>\n",
       "<style scoped>\n",
       "    .dataframe tbody tr th:only-of-type {\n",
       "        vertical-align: middle;\n",
       "    }\n",
       "\n",
       "    .dataframe tbody tr th {\n",
       "        vertical-align: top;\n",
       "    }\n",
       "\n",
       "    .dataframe thead th {\n",
       "        text-align: right;\n",
       "    }\n",
       "</style>\n",
       "<table border=\"1\" class=\"dataframe\">\n",
       "  <thead>\n",
       "    <tr style=\"text-align: right;\">\n",
       "      <th></th>\n",
       "      <th>InChICode_standardised</th>\n",
       "      <th>178_684</th>\n",
       "      <th>180_686</th>\n",
       "      <th>183_604</th>\n",
       "      <th>184_606</th>\n",
       "      <th>185_665</th>\n",
       "      <th>185_666</th>\n",
       "      <th>186_668</th>\n",
       "      <th>190_628</th>\n",
       "      <th>190_629</th>\n",
       "      <th>...</th>\n",
       "      <th>Nuclei_Texture_SumVariance_AGP_10_0</th>\n",
       "      <th>Nuclei_Texture_SumVariance_DNA_10_0</th>\n",
       "      <th>Nuclei_Texture_SumVariance_ER_10_0</th>\n",
       "      <th>Nuclei_Texture_SumVariance_Mito_10_0</th>\n",
       "      <th>Nuclei_Texture_SumVariance_RNA_10_0</th>\n",
       "      <th>Nuclei_Texture_Variance_AGP_10_0</th>\n",
       "      <th>Nuclei_Texture_Variance_ER_10_0</th>\n",
       "      <th>Nuclei_Texture_Variance_Mito_10_0</th>\n",
       "      <th>Nuclei_Texture_Variance_RNA_10_0</th>\n",
       "      <th>fp</th>\n",
       "    </tr>\n",
       "  </thead>\n",
       "  <tbody>\n",
       "    <tr>\n",
       "      <th>0</th>\n",
       "      <td>InChI=1S/C20H29NO5S/c1-13-5-3-4-6-14(2)9-18(22...</td>\n",
       "      <td>1.0</td>\n",
       "      <td>1.0</td>\n",
       "      <td>NaN</td>\n",
       "      <td>1.0</td>\n",
       "      <td>NaN</td>\n",
       "      <td>NaN</td>\n",
       "      <td>1.0</td>\n",
       "      <td>1.0</td>\n",
       "      <td>1.0</td>\n",
       "      <td>...</td>\n",
       "      <td>0.127041</td>\n",
       "      <td>0.300797</td>\n",
       "      <td>1.601798</td>\n",
       "      <td>0.649545</td>\n",
       "      <td>0.117986</td>\n",
       "      <td>-0.124655</td>\n",
       "      <td>0.875722</td>\n",
       "      <td>0.060316</td>\n",
       "      <td>-0.108497</td>\n",
       "      <td>[0, 0, 0, 0, 0, 0, 0, 0, 0, 0, 0, 0, 0, 0, 0, ...</td>\n",
       "    </tr>\n",
       "    <tr>\n",
       "      <th>1</th>\n",
       "      <td>InChI=1S/C22H26N2O3/c1-25-20-9-5-18(6-10-20)4-...</td>\n",
       "      <td>1.0</td>\n",
       "      <td>1.0</td>\n",
       "      <td>NaN</td>\n",
       "      <td>1.0</td>\n",
       "      <td>NaN</td>\n",
       "      <td>NaN</td>\n",
       "      <td>1.0</td>\n",
       "      <td>NaN</td>\n",
       "      <td>NaN</td>\n",
       "      <td>...</td>\n",
       "      <td>0.113111</td>\n",
       "      <td>-0.031291</td>\n",
       "      <td>0.736375</td>\n",
       "      <td>-0.052299</td>\n",
       "      <td>-0.182771</td>\n",
       "      <td>0.020039</td>\n",
       "      <td>0.309519</td>\n",
       "      <td>0.146067</td>\n",
       "      <td>-0.135633</td>\n",
       "      <td>[1, 0, 0, 0, 0, 0, 0, 0, 1, 0, 0, 0, 0, 0, 0, ...</td>\n",
       "    </tr>\n",
       "    <tr>\n",
       "      <th>2</th>\n",
       "      <td>InChI=1S/C10H12ClN5O3/c11-10-14-8(12)7-9(15-10...</td>\n",
       "      <td>1.0</td>\n",
       "      <td>NaN</td>\n",
       "      <td>1.0</td>\n",
       "      <td>1.0</td>\n",
       "      <td>NaN</td>\n",
       "      <td>NaN</td>\n",
       "      <td>NaN</td>\n",
       "      <td>1.0</td>\n",
       "      <td>NaN</td>\n",
       "      <td>...</td>\n",
       "      <td>0.402068</td>\n",
       "      <td>-0.528586</td>\n",
       "      <td>0.894280</td>\n",
       "      <td>1.096441</td>\n",
       "      <td>0.201130</td>\n",
       "      <td>0.023909</td>\n",
       "      <td>0.209528</td>\n",
       "      <td>0.384470</td>\n",
       "      <td>0.242193</td>\n",
       "      <td>[0, 0, 0, 0, 0, 0, 0, 0, 1, 0, 0, 0, 0, 0, 0, ...</td>\n",
       "    </tr>\n",
       "    <tr>\n",
       "      <th>3</th>\n",
       "      <td>InChI=1S/C31H39F3N4O5/c1-19-16-38(20(2)18-39)2...</td>\n",
       "      <td>1.0</td>\n",
       "      <td>NaN</td>\n",
       "      <td>1.0</td>\n",
       "      <td>1.0</td>\n",
       "      <td>NaN</td>\n",
       "      <td>NaN</td>\n",
       "      <td>NaN</td>\n",
       "      <td>NaN</td>\n",
       "      <td>NaN</td>\n",
       "      <td>...</td>\n",
       "      <td>-0.356829</td>\n",
       "      <td>-0.001533</td>\n",
       "      <td>0.040114</td>\n",
       "      <td>-0.145918</td>\n",
       "      <td>0.025249</td>\n",
       "      <td>-0.111571</td>\n",
       "      <td>0.086286</td>\n",
       "      <td>-0.083360</td>\n",
       "      <td>0.011623</td>\n",
       "      <td>[1, 1, 0, 0, 0, 0, 0, 0, 1, 0, 0, 1, 0, 0, 0, ...</td>\n",
       "    </tr>\n",
       "    <tr>\n",
       "      <th>4</th>\n",
       "      <td>InChI=1S/C36H40N4O4/c1-25-21-40(26(2)24-41)35(...</td>\n",
       "      <td>1.0</td>\n",
       "      <td>NaN</td>\n",
       "      <td>NaN</td>\n",
       "      <td>1.0</td>\n",
       "      <td>NaN</td>\n",
       "      <td>NaN</td>\n",
       "      <td>NaN</td>\n",
       "      <td>NaN</td>\n",
       "      <td>NaN</td>\n",
       "      <td>...</td>\n",
       "      <td>-0.565546</td>\n",
       "      <td>-0.050469</td>\n",
       "      <td>-0.191591</td>\n",
       "      <td>-0.484524</td>\n",
       "      <td>-0.230474</td>\n",
       "      <td>-0.250742</td>\n",
       "      <td>-0.028181</td>\n",
       "      <td>-0.188926</td>\n",
       "      <td>-0.048785</td>\n",
       "      <td>[1, 0, 0, 0, 0, 0, 0, 0, 1, 0, 0, 0, 0, 0, 0, ...</td>\n",
       "    </tr>\n",
       "    <tr>\n",
       "      <th>...</th>\n",
       "      <td>...</td>\n",
       "      <td>...</td>\n",
       "      <td>...</td>\n",
       "      <td>...</td>\n",
       "      <td>...</td>\n",
       "      <td>...</td>\n",
       "      <td>...</td>\n",
       "      <td>...</td>\n",
       "      <td>...</td>\n",
       "      <td>...</td>\n",
       "      <td>...</td>\n",
       "      <td>...</td>\n",
       "      <td>...</td>\n",
       "      <td>...</td>\n",
       "      <td>...</td>\n",
       "      <td>...</td>\n",
       "      <td>...</td>\n",
       "      <td>...</td>\n",
       "      <td>...</td>\n",
       "      <td>...</td>\n",
       "      <td>...</td>\n",
       "    </tr>\n",
       "    <tr>\n",
       "      <th>15267</th>\n",
       "      <td>InChI=1S/C29H42O10/c1-15-22(32)23(33)24(34)25(...</td>\n",
       "      <td>NaN</td>\n",
       "      <td>NaN</td>\n",
       "      <td>NaN</td>\n",
       "      <td>NaN</td>\n",
       "      <td>NaN</td>\n",
       "      <td>NaN</td>\n",
       "      <td>NaN</td>\n",
       "      <td>NaN</td>\n",
       "      <td>NaN</td>\n",
       "      <td>...</td>\n",
       "      <td>0.854714</td>\n",
       "      <td>0.141265</td>\n",
       "      <td>1.257099</td>\n",
       "      <td>0.942200</td>\n",
       "      <td>0.412648</td>\n",
       "      <td>1.143416</td>\n",
       "      <td>1.082932</td>\n",
       "      <td>0.892884</td>\n",
       "      <td>1.190745</td>\n",
       "      <td>[0, 0, 0, 0, 0, 0, 0, 0, 0, 0, 0, 0, 0, 0, 0, ...</td>\n",
       "    </tr>\n",
       "    <tr>\n",
       "      <th>15268</th>\n",
       "      <td>InChI=1S/C9H11N3O4/c10-5-1-2-12-8-7(16-9(12)11...</td>\n",
       "      <td>NaN</td>\n",
       "      <td>NaN</td>\n",
       "      <td>NaN</td>\n",
       "      <td>NaN</td>\n",
       "      <td>NaN</td>\n",
       "      <td>NaN</td>\n",
       "      <td>NaN</td>\n",
       "      <td>NaN</td>\n",
       "      <td>NaN</td>\n",
       "      <td>...</td>\n",
       "      <td>-0.235418</td>\n",
       "      <td>-1.117448</td>\n",
       "      <td>-0.116413</td>\n",
       "      <td>0.036485</td>\n",
       "      <td>0.631407</td>\n",
       "      <td>-0.277122</td>\n",
       "      <td>-0.071896</td>\n",
       "      <td>-0.108458</td>\n",
       "      <td>0.260039</td>\n",
       "      <td>[0, 0, 0, 0, 0, 0, 0, 0, 1, 0, 0, 0, 0, 0, 0, ...</td>\n",
       "    </tr>\n",
       "    <tr>\n",
       "      <th>15269</th>\n",
       "      <td>InChI=1S/C22H22O8/c1-25-14-5-10(6-15(26-2)20(1...</td>\n",
       "      <td>NaN</td>\n",
       "      <td>NaN</td>\n",
       "      <td>NaN</td>\n",
       "      <td>NaN</td>\n",
       "      <td>NaN</td>\n",
       "      <td>NaN</td>\n",
       "      <td>NaN</td>\n",
       "      <td>NaN</td>\n",
       "      <td>NaN</td>\n",
       "      <td>...</td>\n",
       "      <td>0.822444</td>\n",
       "      <td>0.501358</td>\n",
       "      <td>0.956281</td>\n",
       "      <td>1.116960</td>\n",
       "      <td>0.726610</td>\n",
       "      <td>0.275630</td>\n",
       "      <td>0.493553</td>\n",
       "      <td>0.230773</td>\n",
       "      <td>0.175383</td>\n",
       "      <td>[0, 0, 0, 0, 0, 0, 0, 0, 0, 0, 0, 0, 0, 0, 0, ...</td>\n",
       "    </tr>\n",
       "    <tr>\n",
       "      <th>15270</th>\n",
       "      <td>InChI=1S/C40H71NO14/c1-15-27-40(11,48)33(44)22...</td>\n",
       "      <td>NaN</td>\n",
       "      <td>NaN</td>\n",
       "      <td>NaN</td>\n",
       "      <td>NaN</td>\n",
       "      <td>NaN</td>\n",
       "      <td>NaN</td>\n",
       "      <td>NaN</td>\n",
       "      <td>NaN</td>\n",
       "      <td>NaN</td>\n",
       "      <td>...</td>\n",
       "      <td>-0.252019</td>\n",
       "      <td>0.261459</td>\n",
       "      <td>-0.101648</td>\n",
       "      <td>-0.197162</td>\n",
       "      <td>-0.011630</td>\n",
       "      <td>-0.169541</td>\n",
       "      <td>-0.096224</td>\n",
       "      <td>-0.132107</td>\n",
       "      <td>0.046411</td>\n",
       "      <td>[0, 0, 0, 0, 0, 0, 0, 0, 1, 0, 0, 0, 0, 0, 0, ...</td>\n",
       "    </tr>\n",
       "    <tr>\n",
       "      <th>15271</th>\n",
       "      <td>InChI=1S/C25H34N2O3/c1-5-26(6-2)13-15-29-19-9-...</td>\n",
       "      <td>NaN</td>\n",
       "      <td>NaN</td>\n",
       "      <td>NaN</td>\n",
       "      <td>NaN</td>\n",
       "      <td>NaN</td>\n",
       "      <td>NaN</td>\n",
       "      <td>NaN</td>\n",
       "      <td>NaN</td>\n",
       "      <td>NaN</td>\n",
       "      <td>...</td>\n",
       "      <td>-0.036430</td>\n",
       "      <td>-0.078891</td>\n",
       "      <td>-0.205359</td>\n",
       "      <td>-0.157530</td>\n",
       "      <td>-0.114362</td>\n",
       "      <td>-0.047605</td>\n",
       "      <td>-0.037492</td>\n",
       "      <td>-0.033800</td>\n",
       "      <td>-0.120534</td>\n",
       "      <td>[0, 0, 0, 0, 0, 0, 0, 0, 1, 0, 0, 0, 0, 0, 0, ...</td>\n",
       "    </tr>\n",
       "  </tbody>\n",
       "</table>\n",
       "<p>15272 rows × 282 columns</p>\n",
       "</div>"
      ],
      "text/plain": [
       "                                  InChICode_standardised  178_684  180_686  \\\n",
       "0      InChI=1S/C20H29NO5S/c1-13-5-3-4-6-14(2)9-18(22...      1.0      1.0   \n",
       "1      InChI=1S/C22H26N2O3/c1-25-20-9-5-18(6-10-20)4-...      1.0      1.0   \n",
       "2      InChI=1S/C10H12ClN5O3/c11-10-14-8(12)7-9(15-10...      1.0      NaN   \n",
       "3      InChI=1S/C31H39F3N4O5/c1-19-16-38(20(2)18-39)2...      1.0      NaN   \n",
       "4      InChI=1S/C36H40N4O4/c1-25-21-40(26(2)24-41)35(...      1.0      NaN   \n",
       "...                                                  ...      ...      ...   \n",
       "15267  InChI=1S/C29H42O10/c1-15-22(32)23(33)24(34)25(...      NaN      NaN   \n",
       "15268  InChI=1S/C9H11N3O4/c10-5-1-2-12-8-7(16-9(12)11...      NaN      NaN   \n",
       "15269  InChI=1S/C22H22O8/c1-25-14-5-10(6-15(26-2)20(1...      NaN      NaN   \n",
       "15270  InChI=1S/C40H71NO14/c1-15-27-40(11,48)33(44)22...      NaN      NaN   \n",
       "15271  InChI=1S/C25H34N2O3/c1-5-26(6-2)13-15-29-19-9-...      NaN      NaN   \n",
       "\n",
       "       183_604  184_606  185_665  185_666  186_668  190_628  190_629  ...  \\\n",
       "0          NaN      1.0      NaN      NaN      1.0      1.0      1.0  ...   \n",
       "1          NaN      1.0      NaN      NaN      1.0      NaN      NaN  ...   \n",
       "2          1.0      1.0      NaN      NaN      NaN      1.0      NaN  ...   \n",
       "3          1.0      1.0      NaN      NaN      NaN      NaN      NaN  ...   \n",
       "4          NaN      1.0      NaN      NaN      NaN      NaN      NaN  ...   \n",
       "...        ...      ...      ...      ...      ...      ...      ...  ...   \n",
       "15267      NaN      NaN      NaN      NaN      NaN      NaN      NaN  ...   \n",
       "15268      NaN      NaN      NaN      NaN      NaN      NaN      NaN  ...   \n",
       "15269      NaN      NaN      NaN      NaN      NaN      NaN      NaN  ...   \n",
       "15270      NaN      NaN      NaN      NaN      NaN      NaN      NaN  ...   \n",
       "15271      NaN      NaN      NaN      NaN      NaN      NaN      NaN  ...   \n",
       "\n",
       "       Nuclei_Texture_SumVariance_AGP_10_0  \\\n",
       "0                                 0.127041   \n",
       "1                                 0.113111   \n",
       "2                                 0.402068   \n",
       "3                                -0.356829   \n",
       "4                                -0.565546   \n",
       "...                                    ...   \n",
       "15267                             0.854714   \n",
       "15268                            -0.235418   \n",
       "15269                             0.822444   \n",
       "15270                            -0.252019   \n",
       "15271                            -0.036430   \n",
       "\n",
       "       Nuclei_Texture_SumVariance_DNA_10_0  \\\n",
       "0                                 0.300797   \n",
       "1                                -0.031291   \n",
       "2                                -0.528586   \n",
       "3                                -0.001533   \n",
       "4                                -0.050469   \n",
       "...                                    ...   \n",
       "15267                             0.141265   \n",
       "15268                            -1.117448   \n",
       "15269                             0.501358   \n",
       "15270                             0.261459   \n",
       "15271                            -0.078891   \n",
       "\n",
       "       Nuclei_Texture_SumVariance_ER_10_0  \\\n",
       "0                                1.601798   \n",
       "1                                0.736375   \n",
       "2                                0.894280   \n",
       "3                                0.040114   \n",
       "4                               -0.191591   \n",
       "...                                   ...   \n",
       "15267                            1.257099   \n",
       "15268                           -0.116413   \n",
       "15269                            0.956281   \n",
       "15270                           -0.101648   \n",
       "15271                           -0.205359   \n",
       "\n",
       "       Nuclei_Texture_SumVariance_Mito_10_0  \\\n",
       "0                                  0.649545   \n",
       "1                                 -0.052299   \n",
       "2                                  1.096441   \n",
       "3                                 -0.145918   \n",
       "4                                 -0.484524   \n",
       "...                                     ...   \n",
       "15267                              0.942200   \n",
       "15268                              0.036485   \n",
       "15269                              1.116960   \n",
       "15270                             -0.197162   \n",
       "15271                             -0.157530   \n",
       "\n",
       "       Nuclei_Texture_SumVariance_RNA_10_0  Nuclei_Texture_Variance_AGP_10_0  \\\n",
       "0                                 0.117986                         -0.124655   \n",
       "1                                -0.182771                          0.020039   \n",
       "2                                 0.201130                          0.023909   \n",
       "3                                 0.025249                         -0.111571   \n",
       "4                                -0.230474                         -0.250742   \n",
       "...                                    ...                               ...   \n",
       "15267                             0.412648                          1.143416   \n",
       "15268                             0.631407                         -0.277122   \n",
       "15269                             0.726610                          0.275630   \n",
       "15270                            -0.011630                         -0.169541   \n",
       "15271                            -0.114362                         -0.047605   \n",
       "\n",
       "       Nuclei_Texture_Variance_ER_10_0  Nuclei_Texture_Variance_Mito_10_0  \\\n",
       "0                             0.875722                           0.060316   \n",
       "1                             0.309519                           0.146067   \n",
       "2                             0.209528                           0.384470   \n",
       "3                             0.086286                          -0.083360   \n",
       "4                            -0.028181                          -0.188926   \n",
       "...                                ...                                ...   \n",
       "15267                         1.082932                           0.892884   \n",
       "15268                        -0.071896                          -0.108458   \n",
       "15269                         0.493553                           0.230773   \n",
       "15270                        -0.096224                          -0.132107   \n",
       "15271                        -0.037492                          -0.033800   \n",
       "\n",
       "       Nuclei_Texture_Variance_RNA_10_0  \\\n",
       "0                             -0.108497   \n",
       "1                             -0.135633   \n",
       "2                              0.242193   \n",
       "3                              0.011623   \n",
       "4                             -0.048785   \n",
       "...                                 ...   \n",
       "15267                          1.190745   \n",
       "15268                          0.260039   \n",
       "15269                          0.175383   \n",
       "15270                          0.046411   \n",
       "15271                         -0.120534   \n",
       "\n",
       "                                                      fp  \n",
       "0      [0, 0, 0, 0, 0, 0, 0, 0, 0, 0, 0, 0, 0, 0, 0, ...  \n",
       "1      [1, 0, 0, 0, 0, 0, 0, 0, 1, 0, 0, 0, 0, 0, 0, ...  \n",
       "2      [0, 0, 0, 0, 0, 0, 0, 0, 1, 0, 0, 0, 0, 0, 0, ...  \n",
       "3      [1, 1, 0, 0, 0, 0, 0, 0, 1, 0, 0, 1, 0, 0, 0, ...  \n",
       "4      [1, 0, 0, 0, 0, 0, 0, 0, 1, 0, 0, 0, 0, 0, 0, ...  \n",
       "...                                                  ...  \n",
       "15267  [0, 0, 0, 0, 0, 0, 0, 0, 0, 0, 0, 0, 0, 0, 0, ...  \n",
       "15268  [0, 0, 0, 0, 0, 0, 0, 0, 1, 0, 0, 0, 0, 0, 0, ...  \n",
       "15269  [0, 0, 0, 0, 0, 0, 0, 0, 0, 0, 0, 0, 0, 0, 0, ...  \n",
       "15270  [0, 0, 0, 0, 0, 0, 0, 0, 1, 0, 0, 0, 0, 0, 0, ...  \n",
       "15271  [0, 0, 0, 0, 0, 0, 0, 0, 1, 0, 0, 0, 0, 0, 0, ...  \n",
       "\n",
       "[15272 rows x 282 columns]"
      ]
     },
     "execution_count": 6,
     "metadata": {},
     "output_type": "execute_result"
    }
   ],
   "source": [
    "broad_data= pd.merge(assay_data, CP_features)\n",
    "broad_data= pd.merge(broad_data, mfp_features)\n",
    "broad_data"
   ]
  },
  {
   "cell_type": "code",
   "execution_count": 7,
   "id": "f4722fd6",
   "metadata": {},
   "outputs": [],
   "source": [
    "def TanimotoSimilarity(ex1, ex2, attrs):\n",
    "  \"\"\"\n",
    "    >>> v1 = [0,1,0,1]\n",
    "    >>> v2 = [1,0,1,0]\n",
    "    >>> TanimotoDist(v1,v2,range(4))\n",
    "    1.0\n",
    "    \"\"\"\n",
    "  inter = 0.0\n",
    "  unin = 0.0\n",
    "  for i in attrs:\n",
    "    if (ex1[i] or ex2[i]):\n",
    "      unin += 1\n",
    "      if (ex1[i] and ex2[i]):\n",
    "        inter += 1\n",
    "  if (unin != 0.0):\n",
    "    return (inter / unin)\n",
    "  else:\n",
    "    return 0"
   ]
  },
  {
   "cell_type": "code",
   "execution_count": 8,
   "id": "365bf054",
   "metadata": {},
   "outputs": [],
   "source": [
    "def BulkTanimoto(siv1, sivs):\n",
    "    res = []\n",
    "    for i in range(len(sivs)): \n",
    "        siv2 = sivs[i]\n",
    "        simVal = TanimotoSimilarity(siv1, siv2, range(len(siv1)))\n",
    "        res.append(simVal)\n",
    "    return res"
   ]
  },
  {
   "cell_type": "code",
   "execution_count": 9,
   "id": "778195db",
   "metadata": {},
   "outputs": [
    {
     "data": {
      "text/plain": [
       "[4, 3, 2, 1]"
      ]
     },
     "execution_count": 9,
     "metadata": {},
     "output_type": "execute_result"
    }
   ],
   "source": [
    "[1,2, 3,4][::-1]"
   ]
  },
  {
   "cell_type": "code",
   "execution_count": 70,
   "id": "e5926f68",
   "metadata": {},
   "outputs": [],
   "source": [
    "#Find similarity between each test compounds and train set compounds\n",
    "#mean of the 5 highest tanimoto similarity of MFP keys, all, actives, inactives\n",
    "#perc of compound with MFP TS>0.55, all, actives, inactives\n",
    "neighbours_limit = 5\n",
    "def findsimscore(assay, train, test): \n",
    "    \n",
    "    ts_nearest_list =[]\n",
    "    ts_nearest_actives_list=[]\n",
    "    ts_nearest_inactives_list=[]\n",
    "    perc_list=[]\n",
    "    perc_actives_list=[]\n",
    "    perc_inactives_list=[]\n",
    "    \n",
    "    for index, row in test.iterrows():\n",
    "\n",
    "        fps_test = row[\"fp\"]\n",
    "\n",
    "        temp_train = pd.DataFrame()\n",
    "        temp_train= train\n",
    "\n",
    "        fps_temp_train=[(x) for x in temp_train[\"fp\"]]\n",
    "        ts_nearest = []\n",
    "        ts_nearest = BulkTanimoto(fps_test ,fps_temp_train)\n",
    "\n",
    "        #Add all values with Activity\n",
    "        df_temp = pd.DataFrame([temp_train[[assay]].values.flatten(), ts_nearest]).T\n",
    "        df_temp.columns = [\"Activity\", \"TS_similarity\"]\n",
    "        \n",
    "        #Calculate overall percetages\n",
    "        count = len([i for i in df_temp[\"TS_similarity\"].values if i > 0.55])\n",
    "        total= len(df_temp)\n",
    "        perc= float(count/total)  \n",
    "        perc_list.append(perc)\n",
    "       \n",
    "        ts_nearest_ovarall = df_temp.sort_values(by=\"TS_similarity\", ascending=False)[\"TS_similarity\"][:neighbours_limit].mean()\n",
    "        #print(ts_nearest_ovarall)\n",
    "        ts_nearest_list.append(ts_nearest_ovarall)\n",
    "        \n",
    "        #Calculate percetages active compound\n",
    "        count = len([i for i in df_temp[df_temp[\"Activity\"]==1][\"TS_similarity\"].values if i > 0.55])\n",
    "        total= (len(df_temp[df_temp[\"Activity\"]==1]))\n",
    "        perc_actives= float(count/total)\n",
    "        perc_actives_list.append(perc_actives)\n",
    "        \n",
    "        ts_nearest_actives = df_temp[df_temp[\"Activity\"]==1].sort_values(by=\"TS_similarity\", ascending=False)[\"TS_similarity\"][:neighbours_limit].mean()\n",
    "        #print(ts_nearest_actives)\n",
    "        ts_nearest_actives_list.append(ts_nearest_actives)\n",
    "        \n",
    "        #Calculate percetages inactive compound\n",
    "        count = len([i for i in df_temp[df_temp[\"Activity\"]==0][\"TS_similarity\"].values if i > 0.55])\n",
    "        total= (len(df_temp[df_temp[\"Activity\"]==0]))\n",
    "        perc_inactives= float(count/total)\n",
    "        perc_inactives_list.append(perc_inactives)\n",
    "        \n",
    "        ts_nearest_inactives = df_temp[df_temp[\"Activity\"]==0].sort_values(by=\"TS_similarity\", ascending=False)[\"TS_similarity\"][:neighbours_limit].mean()\n",
    "        #print(ts_nearest_inactives)\n",
    "        ts_nearest_inactives_list.append(ts_nearest_inactives)\n",
    "\n",
    "    ts_nearest_list=np.array(ts_nearest_list)\n",
    "    ts_nearest_list= ts_nearest_list.reshape(len(test))\n",
    "    \n",
    "    ts_nearest_actives_list=np.array(ts_nearest_actives_list)\n",
    "    ts_nearest_actives_list= ts_nearest_actives_list.reshape(len(test))\n",
    "    \n",
    "    ts_nearest_inactives_list=np.array(ts_nearest_inactives_list)\n",
    "    ts_nearest_inactives_list= ts_nearest_inactives_list.reshape(len(test))\n",
    "\n",
    "    perc_list=np.array(perc_list)\n",
    "    perc_list= perc_list.reshape(len(test))\n",
    "    \n",
    "    perc_actives_list=np.array(perc_actives_list)\n",
    "    perc_actives_list= perc_actives_list.reshape(len(test))\n",
    "    \n",
    "    perc_inactives_list=np.array(perc_inactives_list)\n",
    "    perc_inactives_list= perc_inactives_list.reshape(len(test))\n",
    "\n",
    "    df_ts_nearest = pd.DataFrame({\"ts_nearest\": ts_nearest_list, \"perc\": perc_list,\n",
    "                              \"ts_nearest_actives\": ts_nearest_actives_list, \"perc_actives\": perc_actives_list,\n",
    "                              \"ts_nearest_inactives\": ts_nearest_inactives_list, \"perc_inactives\": perc_inactives_list})\n",
    "    return df_ts_nearest"
   ]
  },
  {
   "cell_type": "code",
   "execution_count": 88,
   "id": "6c1a7680",
   "metadata": {},
   "outputs": [],
   "source": [
    "#Find similarity between each test compounds and train set compounds\n",
    "#mean of the 5 highest PC keys, all, actives, inactives\n",
    "#perc of compound with PC TS>0.55, all, actives, inactives\n",
    "\n",
    "neighbours_limit = 5\n",
    "def findpearsonscore(assay, train, test): \n",
    "    pc_highest_list =[]\n",
    "    pc_highest_actives_list=[]\n",
    "    pc_highest_inactives_list=[]\n",
    "    perc_list=[]\n",
    "    perc_actives_list=[]\n",
    "    perc_inactives_list=[]\n",
    "    \n",
    "    for index, row in test.iterrows():\n",
    "\n",
    "        fps_test = row[CP_features_list].to_numpy()\n",
    "\n",
    "        temp_train = pd.DataFrame()\n",
    "        temp_train= train\n",
    "\n",
    "        fps_temp_train=[(x) for x in temp_train[CP_features_list].to_numpy()]\n",
    "        pearson_s_list = []\n",
    "        \n",
    "        for n in range(len(fps_temp_train)):\n",
    "            \n",
    "            pearson= stats.pearsonr(fps_test, fps_temp_train[n])\n",
    "            pearson_s_list.append(pearson[0])\n",
    "            #mean of 15 positive correlations\n",
    "            \n",
    "        #Add all values with Activity\n",
    "        df_temp = pd.DataFrame([temp_train[[assay]].values.flatten(), pearson_s_list]).T\n",
    "        df_temp.columns = [\"Activity\", \"PC_corr\"]\n",
    "        \n",
    "        #Calculate overall percetages\n",
    "        count = len([i for i in df_temp[\"PC_corr\"].values if i > 0.55])\n",
    "        total= len(df_temp)\n",
    "        perc= float(count/total)  \n",
    "        perc_list.append(perc)\n",
    "       \n",
    "        pc_highest_ovarall = df_temp.sort_values(by=\"PC_corr\", ascending=False)[\"PC_corr\"][:neighbours_limit].mean()\n",
    "        #print(pc_highest_ovarall)\n",
    "        pc_highest_list.append(pc_highest_ovarall)\n",
    "        \n",
    "        #Calculate percetages active compound\n",
    "        count = len([i for i in df_temp[df_temp[\"Activity\"]==1][\"PC_corr\"].values if i > 0.50])\n",
    "        total= (len(df_temp[df_temp[\"Activity\"]==1]))\n",
    "        perc_actives= float(count/total)\n",
    "        perc_actives_list.append(perc_actives)\n",
    "        \n",
    "        pc_highest_actives = df_temp[df_temp[\"Activity\"]==1].sort_values(by=\"PC_corr\", ascending=False)[\"PC_corr\"][:neighbours_limit].mean()\n",
    "        #print(pc_highest_actives)\n",
    "        pc_highest_actives_list.append(pc_highest_actives)\n",
    "        \n",
    "        #Calculate percetages inactive compound\n",
    "        count = len([i for i in df_temp[df_temp[\"Activity\"]==0][\"PC_corr\"].values if i > 0.50])\n",
    "        total= (len(df_temp[df_temp[\"Activity\"]==0]))\n",
    "        perc_inactives= float(count/total)\n",
    "        perc_inactives_list.append(perc_inactives)\n",
    "        \n",
    "        pc_highest_inactives = df_temp[df_temp[\"Activity\"]==0].sort_values(by=\"PC_corr\", ascending=False)[\"PC_corr\"][:neighbours_limit].mean()\n",
    "        #print(ts_nearest_inactives)\n",
    "        pc_highest_inactives_list.append(pc_highest_inactives)\n",
    "\n",
    "    pc_highest_list=np.array(pc_highest_list)\n",
    "    pc_highest_list= pc_highest_list.reshape(len(test))\n",
    "    \n",
    "    pc_highest_actives_list=np.array(pc_highest_actives_list)\n",
    "    pc_highest_actives_list= pc_highest_actives_list.reshape(len(test))\n",
    "    \n",
    "    pc_highest_inactives_list=np.array(pc_highest_inactives_list)\n",
    "    pc_highest_inactives_list= pc_highest_inactives_list.reshape(len(test))\n",
    "\n",
    "    perc_list=np.array(perc_list)\n",
    "    perc_list= perc_list.reshape(len(test))\n",
    "    \n",
    "    perc_actives_list=np.array(perc_actives_list)\n",
    "    perc_actives_list= perc_actives_list.reshape(len(test))\n",
    "    \n",
    "    perc_inactives_list=np.array(perc_inactives_list)\n",
    "    perc_inactives_list= perc_inactives_list.reshape(len(test))\n",
    "\n",
    "    df_pc_highest = pd.DataFrame({\"pc_highest\": pc_highest_list, \"perc\": perc_list,\n",
    "                              \"pc_highest_actives\": pc_highest_actives_list, \"perc_actives\": perc_actives_list,\n",
    "                              \"pc_highest_inactives\": pc_highest_inactives_list, \"perc_inactives\": perc_inactives_list})\n",
    "    return df_pc_highest"
   ]
  },
  {
   "cell_type": "code",
   "execution_count": 89,
   "id": "684976c3",
   "metadata": {},
   "outputs": [],
   "source": [
    "def plot_hist_ts(df):\n",
    "    \n",
    "    #f, (ax_box, ax_hist) = plt.subplots(2, sharex=True, gridspec_kw= {\"height_ratios\": (0.2, 1)})\n",
    "    \n",
    "    mean=df['ts_nearest'].mean()\n",
    "    median=df['ts_nearest'].median()\n",
    "    mode=df['ts_nearest'].mode().tolist()[0]\n",
    "    \n",
    "    \n",
    "    #sns.boxplot(x=df[\"td_nearest\"], ax=ax_box)\n",
    "    #ax_box.axvline(mean, color='r', linestyle='--',  label='Mean')\n",
    "    #ax_box.axvline(median, color='g', linestyle='-',  label='Median')\n",
    "    #ax_box.axvline(mode, color='b', linestyle='-',  label='Mode')\n",
    "\n",
    "    #sns.histplot(x=df[\"td_nearest\"],  kde=True, ax=ax_hist)\n",
    "    #ax_hist.axvline(mean, color='r', linestyle='--', label='Mean')\n",
    "    #ax_hist.axvline(median, color='g', linestyle='-', label='Median')\n",
    "    #ax_hist.axvline(mode, color='b', linestyle='-', label='Mode')\n",
    "\n",
    "    #plt.legend()\n",
    "    #ax_box.set(xlabel='')\n",
    "    #plt.show()\n",
    "    \n",
    "    return mean, median, mode\n",
    "\n",
    "def plot_hist_pc(df):\n",
    "    \n",
    "    #f, (ax_box, ax_hist) = plt.subplots(2, sharex=True, gridspec_kw= {\"height_ratios\": (0.2, 1)})\n",
    "    \n",
    "    mean=df['pc_highest'].mean()\n",
    "    median=df['pc_highest'].median()\n",
    "    mode=df['pc_highest'].mode().tolist()[0]\n",
    "    \n",
    "    \n",
    "    #sns.boxplot(x=df[\"pc_highest\"], ax=ax_box)\n",
    "    #ax_box.axvline(mean, color='r', linestyle='--',  label='Mean')\n",
    "    #ax_box.axvline(median, color='g', linestyle='-',  label='Median')\n",
    "    #ax_box.axvline(mode, color='b', linestyle='-',  label='Mode')\n",
    "\n",
    "    #sns.histplot(x=df[\"pc_highest\"],  kde=True, ax=ax_hist)\n",
    "    #ax_hist.axvline(mean, color='r', linestyle='--', label='Mean')\n",
    "    #ax_hist.axvline(median, color='g', linestyle='-', label='Median')\n",
    "    #ax_hist.axvline(mode, color='b', linestyle='-', label='Mode')\n",
    "\n",
    "    #plt.legend()\n",
    "    #ax_box.set(xlabel='')\n",
    "    #plt.show()\n",
    "    \n",
    "    return mean, median, mode"
   ]
  },
  {
   "cell_type": "code",
   "execution_count": 93,
   "id": "bdc96cde",
   "metadata": {},
   "outputs": [],
   "source": [
    "#Nested Cross validation\n",
    "#stat_list_batch: contains assay number, mean, median, mode of tanimoto distance in that cycle, mcc and auc of that cycle\n",
    "#detail_list_batch contains assay number, each inchi and its proba, pred, true values and ts\n",
    "#pred_list_batch contains proba, pred and true values\n",
    "\n",
    "from sklearn.experimental import enable_halving_search_cv\n",
    "from sklearn.model_selection import HalvingRandomSearchCV\n",
    "from imblearn.over_sampling import SMOTE\n",
    "from imblearn.combine import SMOTEENN, SMOTETomek\n",
    "from imblearn.under_sampling import RandomUnderSampler \n",
    "\n",
    "from collections import Counter\n",
    "from numpy import argmax\n",
    "\n",
    "from sklearn.preprocessing import StandardScaler\n",
    "from sklearn.model_selection import StratifiedKFold\n",
    "from sklearn.model_selection import GridSearchCV\n",
    "from scipy.stats import ks_2samp \n",
    "from scipy.stats import randint\n",
    "from sklearn.model_selection import cross_val_predict\n",
    "\n",
    "def my_function_nested_rhs(assay, cycle):   \n",
    "        \n",
    "    detail_list_batch_train = []\n",
    "\n",
    "    X_fp = df_assay_train.loc[:, \"fp\"].to_numpy()\n",
    "    X_CP = df_assay_train[CP_features_list].to_numpy()\n",
    "    \n",
    "    #print(X)\n",
    "    y = df_assay_train[assay].to_numpy()\n",
    "    #print(y)\n",
    "    \n",
    "    \n",
    "    #Split\n",
    "    outercv = StratifiedKFold(n_splits=5,shuffle=True, random_state=cycle)\n",
    "   \n",
    "    for i, (train_index, test_index) in enumerate(outercv.split(X_fp, y)):\n",
    "        \n",
    "        train= df_assay_train.iloc[train_index]\n",
    "        test= df_assay_train.iloc[test_index]\n",
    "        #print(train)\n",
    "        #print(test)\n",
    "\n",
    "        #df_ts_perc = findsimsperc(assay, train, test) \n",
    "        #print\n",
    "        \n",
    "        df_ts_highest = findsimscore(assay, train, test)\n",
    "        df_pc_highest = findpearsonscore(assay, train, test)    \n",
    "        \n",
    "        mean_ts, median_score, mode_score= plot_hist_ts(df_ts_highest)\n",
    "        mean_pc, median_score, mode_score= plot_hist_pc(df_pc_highest)\n",
    "\n",
    "        #combine results\n",
    "        for InChICode_standardised, ts, ts_perc, ts_actives, ts_perc_actives, ts_inactives, ts_perc_inactives, pc, pc_perc, pc_actives, pc_perc_actives, pc_inactives, pc_perc_inactives  in zip(test.InChICode_standardised, \n",
    "                                                df_ts_highest.ts_nearest, df_ts_highest.perc, df_ts_highest.ts_nearest_actives, df_ts_highest.perc_actives,  df_ts_highest.ts_nearest_inactives, df_ts_highest.perc_inactives,   \n",
    "                                                  df_pc_highest.pc_highest, df_pc_highest.perc, df_pc_highest.pc_highest_actives, df_pc_highest.perc_actives, df_pc_highest.pc_highest_inactives, df_pc_highest.perc_inactives):\n",
    "            detail_list_batch_train.append([assay, InChICode_standardised, ts, ts_perc, ts_actives, ts_perc_actives, \n",
    "                                            ts_inactives, ts_perc_inactives, pc, pc_perc, pc_actives, \n",
    "                                            pc_perc_actives, pc_inactives, pc_perc_inactives, \"Training\"])\n",
    "    \n",
    "    return detail_list_batch_train"
   ]
  },
  {
   "cell_type": "code",
   "execution_count": 94,
   "id": "6b91e887",
   "metadata": {},
   "outputs": [],
   "source": [
    "#Predict External Test Set\n",
    "#detail_list_batch contains assay number, each inchi and its proba, pred, true values and ts\n",
    "\n",
    "def my_function_heldout_rhs(assay, cycle):   \n",
    "        \n",
    "        detail_list_batch_test = []\n",
    "\n",
    "        train= df_assay_train\n",
    "        test= df_assay_test\n",
    "\n",
    "        df_ts_highest = findsimscore(assay, train, test)\n",
    "        df_pc_highest = findpearsonscore(assay, train, test)    \n",
    "        \n",
    "        mean_ts, median_score, mode_score= plot_hist_ts(df_ts_highest)\n",
    "        mean_pc, median_score, mode_score= plot_hist_pc(df_pc_highest)\n",
    "        \n",
    "        #combine results\n",
    "        for InChICode_standardised, ts, ts_perc, ts_actives, ts_perc_actives, ts_inactives, ts_perc_inactives, pc, pc_perc, pc_actives, pc_perc_actives, pc_inactives, pc_perc_inactives  in zip(test.InChICode_standardised, \n",
    "                                                df_ts_highest.ts_nearest, df_ts_highest.perc, df_ts_highest.ts_nearest_actives, df_ts_highest.perc_actives,  df_ts_highest.ts_nearest_inactives, df_ts_highest.perc_inactives,   \n",
    "                                                  df_pc_highest.pc_highest, df_pc_highest.perc, df_pc_highest.pc_highest_actives, df_pc_highest.perc_actives, df_pc_highest.pc_highest_inactives, df_pc_highest.perc_inactives):\n",
    "            detail_list_batch_test.append([assay, InChICode_standardised, ts, ts_perc, ts_actives, ts_perc_actives, \n",
    "                                           ts_inactives, ts_perc_inactives, pc, pc_perc, pc_actives, pc_perc_actives, \n",
    "                                           pc_inactives, pc_perc_inactives, \"HeldOut\"])\n",
    "    \n",
    "        return detail_list_batch_test"
   ]
  },
  {
   "cell_type": "code",
   "execution_count": 100,
   "id": "99590aac",
   "metadata": {
    "scrolled": true
   },
   "outputs": [
    {
     "name": "stderr",
     "output_type": "stream",
     "text": [
      "\r",
      "  0%|                                                    | 0/89 [00:00<?, ?it/s]"
     ]
    },
    {
     "name": "stdout",
     "output_type": "stream",
     "text": [
      "Assay  178_684\n",
      "Total Compounds  272\n",
      "Inactive Compounds  204\n",
      "Active Compounds  68\n",
      "Perform nested cross validation on training set\n",
      "Predictions on held out set\n"
     ]
    },
    {
     "name": "stderr",
     "output_type": "stream",
     "text": [
      "\r",
      "  1%|▍                                           | 1/89 [00:08<12:00,  8.19s/it]"
     ]
    },
    {
     "name": "stdout",
     "output_type": "stream",
     "text": [
      "Assay  180_686\n",
      "Total Compounds  204\n",
      "Inactive Compounds  153\n",
      "Active Compounds  51\n",
      "Perform nested cross validation on training set\n",
      "Predictions on held out set\n"
     ]
    },
    {
     "name": "stderr",
     "output_type": "stream",
     "text": [
      "\r",
      "  2%|▉                                           | 2/89 [00:13<09:05,  6.27s/it]"
     ]
    },
    {
     "name": "stdout",
     "output_type": "stream",
     "text": [
      "Assay  183_604\n",
      "Total Compounds  180\n",
      "Inactive Compounds  135\n",
      "Active Compounds  45\n",
      "Perform nested cross validation on training set\n",
      "Predictions on held out set\n"
     ]
    },
    {
     "name": "stderr",
     "output_type": "stream",
     "text": [
      "\r",
      "  3%|█▍                                          | 3/89 [00:17<07:30,  5.24s/it]"
     ]
    },
    {
     "name": "stdout",
     "output_type": "stream",
     "text": [
      "Assay  184_606\n",
      "Total Compounds  312\n",
      "Inactive Compounds  234\n",
      "Active Compounds  78\n",
      "Perform nested cross validation on training set\n",
      "Predictions on held out set\n"
     ]
    },
    {
     "name": "stderr",
     "output_type": "stream",
     "text": [
      "\r",
      "  4%|█▉                                          | 4/89 [00:27<10:20,  7.30s/it]"
     ]
    },
    {
     "name": "stdout",
     "output_type": "stream",
     "text": [
      "Assay  185_665\n",
      "Total Compounds  120\n",
      "Inactive Compounds  90\n",
      "Active Compounds  30\n",
      "Perform nested cross validation on training set\n",
      "Predictions on held out set\n"
     ]
    },
    {
     "name": "stderr",
     "output_type": "stream",
     "text": [
      "\r",
      "  6%|██▍                                         | 5/89 [00:29<07:33,  5.40s/it]"
     ]
    },
    {
     "name": "stdout",
     "output_type": "stream",
     "text": [
      "Assay  185_666\n",
      "Total Compounds  172\n",
      "Inactive Compounds  129\n",
      "Active Compounds  43\n",
      "Perform nested cross validation on training set\n",
      "Predictions on held out set\n"
     ]
    },
    {
     "name": "stderr",
     "output_type": "stream",
     "text": [
      "\r",
      "  7%|██▉                                         | 6/89 [00:33<06:40,  4.83s/it]"
     ]
    },
    {
     "name": "stdout",
     "output_type": "stream",
     "text": [
      "Assay  186_668\n",
      "Total Compounds  128\n",
      "Inactive Compounds  96\n",
      "Active Compounds  32\n",
      "Perform nested cross validation on training set\n",
      "Predictions on held out set\n"
     ]
    },
    {
     "name": "stderr",
     "output_type": "stream",
     "text": [
      "\r",
      "  8%|███▍                                        | 7/89 [00:35<05:28,  4.00s/it]"
     ]
    },
    {
     "name": "stdout",
     "output_type": "stream",
     "text": [
      "Assay  190_628\n",
      "Total Compounds  156\n",
      "Inactive Compounds  117\n",
      "Active Compounds  39\n",
      "Perform nested cross validation on training set\n",
      "Predictions on held out set\n"
     ]
    },
    {
     "name": "stderr",
     "output_type": "stream",
     "text": [
      "\r",
      "  9%|███▉                                        | 8/89 [00:38<05:02,  3.74s/it]"
     ]
    },
    {
     "name": "stdout",
     "output_type": "stream",
     "text": [
      "Assay  190_629\n",
      "Total Compounds  104\n",
      "Inactive Compounds  78\n",
      "Active Compounds  26\n",
      "Perform nested cross validation on training set\n",
      "Predictions on held out set\n"
     ]
    },
    {
     "name": "stderr",
     "output_type": "stream",
     "text": [
      "\r",
      " 10%|████▍                                       | 9/89 [00:40<04:07,  3.09s/it]"
     ]
    },
    {
     "name": "stdout",
     "output_type": "stream",
     "text": [
      "Assay  190_674\n",
      "Total Compounds  124\n",
      "Inactive Compounds  93\n",
      "Active Compounds  31\n",
      "Perform nested cross validation on training set\n",
      "Predictions on held out set\n"
     ]
    },
    {
     "name": "stderr",
     "output_type": "stream",
     "text": [
      "\r",
      " 11%|████▊                                      | 10/89 [00:42<03:42,  2.82s/it]"
     ]
    },
    {
     "name": "stdout",
     "output_type": "stream",
     "text": [
      "Assay  191_630\n",
      "Total Compounds  184\n",
      "Inactive Compounds  138\n",
      "Active Compounds  46\n",
      "Perform nested cross validation on training set\n",
      "Predictions on held out set\n"
     ]
    },
    {
     "name": "stderr",
     "output_type": "stream",
     "text": [
      "\r",
      " 12%|█████▎                                     | 11/89 [00:46<04:09,  3.20s/it]"
     ]
    },
    {
     "name": "stdout",
     "output_type": "stream",
     "text": [
      "Assay  191_631\n",
      "Total Compounds  164\n",
      "Inactive Compounds  123\n",
      "Active Compounds  41\n",
      "Perform nested cross validation on training set\n",
      "Predictions on held out set\n"
     ]
    },
    {
     "name": "stderr",
     "output_type": "stream",
     "text": [
      "\r",
      " 13%|█████▊                                     | 12/89 [00:50<04:10,  3.25s/it]"
     ]
    },
    {
     "name": "stdout",
     "output_type": "stream",
     "text": [
      "Assay  193_723\n",
      "Total Compounds  200\n",
      "Inactive Compounds  150\n",
      "Active Compounds  50\n",
      "Perform nested cross validation on training set\n",
      "Predictions on held out set\n"
     ]
    },
    {
     "name": "stderr",
     "output_type": "stream",
     "text": [
      "\r",
      " 15%|██████▎                                    | 13/89 [00:54<04:43,  3.73s/it]"
     ]
    },
    {
     "name": "stdout",
     "output_type": "stream",
     "text": [
      "Assay  194_639\n",
      "Total Compounds  236\n",
      "Inactive Compounds  177\n",
      "Active Compounds  59\n",
      "Perform nested cross validation on training set\n",
      "Predictions on held out set\n"
     ]
    },
    {
     "name": "stderr",
     "output_type": "stream",
     "text": [
      "\r",
      " 16%|██████▊                                    | 14/89 [01:01<05:35,  4.47s/it]"
     ]
    },
    {
     "name": "stdout",
     "output_type": "stream",
     "text": [
      "Assay  195_642\n",
      "Total Compounds  536\n",
      "Inactive Compounds  402\n",
      "Active Compounds  134\n",
      "Perform nested cross validation on training set\n",
      "Predictions on held out set\n"
     ]
    },
    {
     "name": "stderr",
     "output_type": "stream",
     "text": [
      "\r",
      " 17%|███████▏                                   | 15/89 [01:28<14:03, 11.40s/it]"
     ]
    },
    {
     "name": "stdout",
     "output_type": "stream",
     "text": [
      "Assay  197_645\n",
      "Total Compounds  340\n",
      "Inactive Compounds  255\n",
      "Active Compounds  85\n",
      "Perform nested cross validation on training set\n",
      "Predictions on held out set\n"
     ]
    },
    {
     "name": "stderr",
     "output_type": "stream",
     "text": [
      "\r",
      " 18%|███████▋                                   | 16/89 [01:40<14:13, 11.69s/it]"
     ]
    },
    {
     "name": "stdout",
     "output_type": "stream",
     "text": [
      "Assay  197_646\n",
      "Total Compounds  124\n",
      "Inactive Compounds  93\n",
      "Active Compounds  31\n",
      "Perform nested cross validation on training set\n",
      "Predictions on held out set\n"
     ]
    },
    {
     "name": "stderr",
     "output_type": "stream",
     "text": [
      "\r",
      " 19%|████████▏                                  | 17/89 [01:43<10:36,  8.85s/it]"
     ]
    },
    {
     "name": "stdout",
     "output_type": "stream",
     "text": [
      "Assay  197_649\n",
      "Total Compounds  832\n",
      "Inactive Compounds  624\n",
      "Active Compounds  208\n",
      "Perform nested cross validation on training set\n",
      "Predictions on held out set\n"
     ]
    },
    {
     "name": "stderr",
     "output_type": "stream",
     "text": [
      "\r",
      " 20%|████████▋                                  | 18/89 [02:49<30:47, 26.02s/it]"
     ]
    },
    {
     "name": "stdout",
     "output_type": "stream",
     "text": [
      "Assay  197_650\n",
      "Total Compounds  360\n",
      "Inactive Compounds  270\n",
      "Active Compounds  90\n",
      "Perform nested cross validation on training set\n",
      "Predictions on held out set\n"
     ]
    },
    {
     "name": "stderr",
     "output_type": "stream",
     "text": [
      "\r",
      " 21%|█████████▏                                 | 19/89 [03:02<26:04, 22.35s/it]"
     ]
    },
    {
     "name": "stdout",
     "output_type": "stream",
     "text": [
      "Assay  198_682\n",
      "Total Compounds  488\n",
      "Inactive Compounds  366\n",
      "Active Compounds  122\n",
      "Perform nested cross validation on training set\n",
      "Predictions on held out set\n"
     ]
    },
    {
     "name": "stderr",
     "output_type": "stream",
     "text": [
      "\r",
      " 22%|█████████▋                                 | 20/89 [03:26<25:59, 22.60s/it]"
     ]
    },
    {
     "name": "stdout",
     "output_type": "stream",
     "text": [
      "Assay  199_657\n",
      "Total Compounds  232\n",
      "Inactive Compounds  174\n",
      "Active Compounds  58\n",
      "Perform nested cross validation on training set\n",
      "Predictions on held out set\n"
     ]
    },
    {
     "name": "stderr",
     "output_type": "stream",
     "text": [
      "\r",
      " 24%|██████████▏                                | 21/89 [03:32<19:59, 17.64s/it]"
     ]
    },
    {
     "name": "stdout",
     "output_type": "stream",
     "text": [
      "Assay  202_661\n",
      "Total Compounds  172\n",
      "Inactive Compounds  129\n",
      "Active Compounds  43\n",
      "Perform nested cross validation on training set\n",
      "Predictions on held out set\n"
     ]
    },
    {
     "name": "stderr",
     "output_type": "stream",
     "text": [
      "\r",
      " 25%|██████████▋                                | 22/89 [03:35<15:01, 13.45s/it]"
     ]
    },
    {
     "name": "stdout",
     "output_type": "stream",
     "text": [
      "Assay  205_664\n",
      "Total Compounds  920\n",
      "Inactive Compounds  690\n",
      "Active Compounds  230\n",
      "Perform nested cross validation on training set\n",
      "Predictions on held out set\n"
     ]
    },
    {
     "name": "stderr",
     "output_type": "stream",
     "text": [
      "\r",
      " 26%|███████████                                | 23/89 [04:53<36:05, 32.81s/it]"
     ]
    },
    {
     "name": "stdout",
     "output_type": "stream",
     "text": [
      "Assay  206_670\n",
      "Total Compounds  144\n",
      "Inactive Compounds  108\n",
      "Active Compounds  36\n",
      "Perform nested cross validation on training set\n",
      "Predictions on held out set\n"
     ]
    },
    {
     "name": "stderr",
     "output_type": "stream",
     "text": [
      "\r",
      " 27%|███████████▌                               | 24/89 [04:56<25:45, 23.78s/it]"
     ]
    },
    {
     "name": "stdout",
     "output_type": "stream",
     "text": [
      "Assay  206_671\n",
      "Total Compounds  192\n",
      "Inactive Compounds  144\n",
      "Active Compounds  48\n",
      "Perform nested cross validation on training set\n",
      "Predictions on held out set\n"
     ]
    },
    {
     "name": "stderr",
     "output_type": "stream",
     "text": [
      "\r",
      " 28%|████████████                               | 25/89 [05:01<19:09, 17.97s/it]"
     ]
    },
    {
     "name": "stdout",
     "output_type": "stream",
     "text": [
      "Assay  207_672\n",
      "Total Compounds  384\n",
      "Inactive Compounds  288\n",
      "Active Compounds  96\n",
      "Perform nested cross validation on training set\n",
      "Predictions on held out set\n"
     ]
    },
    {
     "name": "stderr",
     "output_type": "stream",
     "text": [
      "\r",
      " 29%|████████████▌                              | 26/89 [05:16<18:05, 17.24s/it]"
     ]
    },
    {
     "name": "stdout",
     "output_type": "stream",
     "text": [
      "Assay  208_673\n",
      "Total Compounds  124\n",
      "Inactive Compounds  93\n",
      "Active Compounds  31\n",
      "Perform nested cross validation on training set\n",
      "Predictions on held out set\n"
     ]
    },
    {
     "name": "stderr",
     "output_type": "stream",
     "text": [
      "\r",
      " 30%|█████████████                              | 27/89 [05:18<13:08, 12.71s/it]"
     ]
    },
    {
     "name": "stdout",
     "output_type": "stream",
     "text": [
      "Assay  210_677\n",
      "Total Compounds  384\n",
      "Inactive Compounds  288\n",
      "Active Compounds  96\n",
      "Perform nested cross validation on training set\n",
      "Predictions on held out set\n"
     ]
    },
    {
     "name": "stderr",
     "output_type": "stream",
     "text": [
      "\r",
      " 31%|█████████████▌                             | 28/89 [05:33<13:40, 13.45s/it]"
     ]
    },
    {
     "name": "stdout",
     "output_type": "stream",
     "text": [
      "Assay  213_681\n",
      "Total Compounds  480\n",
      "Inactive Compounds  360\n",
      "Active Compounds  120\n",
      "Perform nested cross validation on training set\n",
      "Predictions on held out set\n"
     ]
    },
    {
     "name": "stderr",
     "output_type": "stream",
     "text": [
      "\r",
      " 33%|██████████████                             | 29/89 [05:57<16:27, 16.45s/it]"
     ]
    },
    {
     "name": "stdout",
     "output_type": "stream",
     "text": [
      "Assay  214_683\n",
      "Total Compounds  120\n",
      "Inactive Compounds  90\n",
      "Active Compounds  30\n",
      "Perform nested cross validation on training set\n",
      "Predictions on held out set\n"
     ]
    },
    {
     "name": "stderr",
     "output_type": "stream",
     "text": [
      "\r",
      " 34%|██████████████▍                            | 30/89 [05:59<11:55, 12.12s/it]"
     ]
    },
    {
     "name": "stdout",
     "output_type": "stream",
     "text": [
      "Assay  215_685\n",
      "Total Compounds  444\n",
      "Inactive Compounds  333\n",
      "Active Compounds  111\n",
      "Perform nested cross validation on training set\n",
      "Predictions on held out set\n"
     ]
    },
    {
     "name": "stderr",
     "output_type": "stream",
     "text": [
      "\r",
      " 35%|██████████████▉                            | 31/89 [06:19<14:02, 14.53s/it]"
     ]
    },
    {
     "name": "stdout",
     "output_type": "stream",
     "text": [
      "Assay  217_688\n",
      "Total Compounds  712\n",
      "Inactive Compounds  534\n",
      "Active Compounds  178\n",
      "Perform nested cross validation on training set\n",
      "Predictions on held out set\n"
     ]
    },
    {
     "name": "stderr",
     "output_type": "stream",
     "text": [
      "\r",
      " 36%|███████████████▍                           | 32/89 [07:06<23:06, 24.32s/it]"
     ]
    },
    {
     "name": "stdout",
     "output_type": "stream",
     "text": [
      "Assay  217_689\n",
      "Total Compounds  272\n",
      "Inactive Compounds  204\n",
      "Active Compounds  68\n",
      "Perform nested cross validation on training set\n",
      "Predictions on held out set\n"
     ]
    },
    {
     "name": "stderr",
     "output_type": "stream",
     "text": [
      "\r",
      " 37%|███████████████▉                           | 33/89 [07:14<18:13, 19.52s/it]"
     ]
    },
    {
     "name": "stdout",
     "output_type": "stream",
     "text": [
      "Assay  219_691\n",
      "Total Compounds  132\n",
      "Inactive Compounds  99\n",
      "Active Compounds  33\n",
      "Perform nested cross validation on training set\n",
      "Predictions on held out set\n"
     ]
    },
    {
     "name": "stderr",
     "output_type": "stream",
     "text": [
      "\r",
      " 38%|████████████████▍                          | 34/89 [07:17<13:10, 14.38s/it]"
     ]
    },
    {
     "name": "stdout",
     "output_type": "stream",
     "text": [
      "Assay  220_692\n",
      "Total Compounds  1092\n",
      "Inactive Compounds  819\n",
      "Active Compounds  273\n",
      "Perform nested cross validation on training set\n",
      "Predictions on held out set\n"
     ]
    },
    {
     "name": "stderr",
     "output_type": "stream",
     "text": [
      "\r",
      " 39%|████████████████▉                          | 35/89 [09:09<39:14, 43.61s/it]"
     ]
    },
    {
     "name": "stdout",
     "output_type": "stream",
     "text": [
      "Assay  221_693\n",
      "Total Compounds  1724\n",
      "Inactive Compounds  1293\n",
      "Active Compounds  431\n",
      "Perform nested cross validation on training set\n",
      "Predictions on held out set\n"
     ]
    },
    {
     "name": "stderr",
     "output_type": "stream",
     "text": [
      "\r",
      " 40%|████████████████▏                       | 36/89 [13:40<1:38:49, 111.89s/it]"
     ]
    },
    {
     "name": "stdout",
     "output_type": "stream",
     "text": [
      "Assay  223_695\n",
      "Total Compounds  128\n",
      "Inactive Compounds  96\n",
      "Active Compounds  32\n",
      "Perform nested cross validation on training set\n",
      "Predictions on held out set\n"
     ]
    },
    {
     "name": "stderr",
     "output_type": "stream",
     "text": [
      "\r",
      " 42%|█████████████████                        | 37/89 [13:42<1:08:28, 79.00s/it]"
     ]
    },
    {
     "name": "stdout",
     "output_type": "stream",
     "text": [
      "Assay  224_696\n",
      "Total Compounds  396\n",
      "Inactive Compounds  297\n",
      "Active Compounds  99\n",
      "Perform nested cross validation on training set\n",
      "Predictions on held out set\n"
     ]
    },
    {
     "name": "stderr",
     "output_type": "stream",
     "text": [
      "\r",
      " 43%|██████████████████▎                        | 38/89 [13:58<51:05, 60.10s/it]"
     ]
    },
    {
     "name": "stdout",
     "output_type": "stream",
     "text": [
      "Assay  228_700\n",
      "Total Compounds  232\n",
      "Inactive Compounds  174\n",
      "Active Compounds  58\n",
      "Perform nested cross validation on training set\n",
      "Predictions on held out set\n"
     ]
    },
    {
     "name": "stderr",
     "output_type": "stream",
     "text": [
      "\r",
      " 44%|██████████████████▊                        | 39/89 [14:04<36:37, 43.95s/it]"
     ]
    },
    {
     "name": "stdout",
     "output_type": "stream",
     "text": [
      "Assay  229_701\n",
      "Total Compounds  1276\n",
      "Inactive Compounds  957\n",
      "Active Compounds  319\n",
      "Perform nested cross validation on training set\n",
      "Predictions on held out set\n"
     ]
    },
    {
     "name": "stderr",
     "output_type": "stream",
     "text": [
      "\r",
      " 45%|██████████████████▍                      | 40/89 [16:33<1:01:26, 75.24s/it]"
     ]
    },
    {
     "name": "stdout",
     "output_type": "stream",
     "text": [
      "Assay  230_702\n",
      "Total Compounds  164\n",
      "Inactive Compounds  123\n",
      "Active Compounds  41\n",
      "Perform nested cross validation on training set\n",
      "Predictions on held out set\n"
     ]
    },
    {
     "name": "stderr",
     "output_type": "stream",
     "text": [
      "\r",
      " 46%|███████████████████▊                       | 41/89 [16:36<42:56, 53.68s/it]"
     ]
    },
    {
     "name": "stdout",
     "output_type": "stream",
     "text": [
      "Assay  231_703\n",
      "Total Compounds  1120\n",
      "Inactive Compounds  840\n",
      "Active Compounds  280\n",
      "Perform nested cross validation on training set\n",
      "Predictions on held out set\n"
     ]
    },
    {
     "name": "stderr",
     "output_type": "stream",
     "text": [
      "\r",
      " 47%|████████████████████▎                      | 42/89 [18:32<56:37, 72.29s/it]"
     ]
    },
    {
     "name": "stdout",
     "output_type": "stream",
     "text": [
      "Assay  232_704\n",
      "Total Compounds  612\n",
      "Inactive Compounds  459\n",
      "Active Compounds  153\n",
      "Perform nested cross validation on training set\n",
      "Predictions on held out set\n"
     ]
    },
    {
     "name": "stderr",
     "output_type": "stream",
     "text": [
      "\r",
      " 48%|████████████████████▊                      | 43/89 [19:07<46:58, 61.27s/it]"
     ]
    },
    {
     "name": "stdout",
     "output_type": "stream",
     "text": [
      "Assay  232_705\n",
      "Total Compounds  296\n",
      "Inactive Compounds  222\n",
      "Active Compounds  74\n",
      "Perform nested cross validation on training set\n",
      "Predictions on held out set\n"
     ]
    },
    {
     "name": "stderr",
     "output_type": "stream",
     "text": [
      "\r",
      " 49%|█████████████████████▎                     | 44/89 [19:17<34:15, 45.69s/it]"
     ]
    },
    {
     "name": "stdout",
     "output_type": "stream",
     "text": [
      "Assay  233_706\n",
      "Total Compounds  724\n",
      "Inactive Compounds  543\n",
      "Active Compounds  181\n",
      "Perform nested cross validation on training set\n",
      "Predictions on held out set\n"
     ]
    },
    {
     "name": "stderr",
     "output_type": "stream",
     "text": [
      "\r",
      " 51%|█████████████████████▋                     | 45/89 [20:07<34:34, 47.14s/it]"
     ]
    },
    {
     "name": "stdout",
     "output_type": "stream",
     "text": [
      "Assay  234_707\n",
      "Total Compounds  2056\n",
      "Inactive Compounds  1542\n",
      "Active Compounds  514\n",
      "Perform nested cross validation on training set\n",
      "Predictions on held out set\n"
     ]
    },
    {
     "name": "stderr",
     "output_type": "stream",
     "text": [
      "\r",
      " 52%|████████████████████▋                   | 46/89 [26:28<1:45:25, 147.11s/it]"
     ]
    },
    {
     "name": "stdout",
     "output_type": "stream",
     "text": [
      "Assay  235_708\n",
      "Total Compounds  1768\n",
      "Inactive Compounds  1326\n",
      "Active Compounds  442\n",
      "Perform nested cross validation on training set\n",
      "Predictions on held out set\n"
     ]
    },
    {
     "name": "stderr",
     "output_type": "stream",
     "text": [
      "\r",
      " 53%|█████████████████████                   | 47/89 [31:11<2:11:33, 187.95s/it]"
     ]
    },
    {
     "name": "stdout",
     "output_type": "stream",
     "text": [
      "Assay  236_709\n",
      "Total Compounds  840\n",
      "Inactive Compounds  630\n",
      "Active Compounds  210\n",
      "Perform nested cross validation on training set\n",
      "Predictions on held out set\n"
     ]
    },
    {
     "name": "stderr",
     "output_type": "stream",
     "text": [
      "\r",
      " 54%|█████████████████████▌                  | 48/89 [32:15<1:43:07, 150.91s/it]"
     ]
    },
    {
     "name": "stdout",
     "output_type": "stream",
     "text": [
      "Assay  237_710\n",
      "Total Compounds  188\n",
      "Inactive Compounds  141\n",
      "Active Compounds  47\n",
      "Perform nested cross validation on training set\n",
      "Predictions on held out set\n"
     ]
    },
    {
     "name": "stderr",
     "output_type": "stream",
     "text": [
      "\r",
      " 55%|██████████████████████                  | 49/89 [32:19<1:11:15, 106.89s/it]"
     ]
    },
    {
     "name": "stdout",
     "output_type": "stream",
     "text": [
      "Assay  238_712\n",
      "Total Compounds  2136\n",
      "Inactive Compounds  1602\n",
      "Active Compounds  534\n",
      "Perform nested cross validation on training set\n",
      "Predictions on held out set\n"
     ]
    },
    {
     "name": "stderr",
     "output_type": "stream",
     "text": [
      "\r",
      " 56%|██████████████████████▍                 | 50/89 [39:07<2:08:06, 197.08s/it]"
     ]
    },
    {
     "name": "stdout",
     "output_type": "stream",
     "text": [
      "Assay  239_713\n",
      "Total Compounds  728\n",
      "Inactive Compounds  546\n",
      "Active Compounds  182\n",
      "Perform nested cross validation on training set\n",
      "Predictions on held out set\n"
     ]
    },
    {
     "name": "stderr",
     "output_type": "stream",
     "text": [
      "\r",
      " 57%|██████████████████████▉                 | 51/89 [39:58<1:36:59, 153.14s/it]"
     ]
    },
    {
     "name": "stdout",
     "output_type": "stream",
     "text": [
      "Assay  240_714\n",
      "Total Compounds  2116\n",
      "Inactive Compounds  1587\n",
      "Active Compounds  529\n",
      "Perform nested cross validation on training set\n",
      "Predictions on held out set\n"
     ]
    },
    {
     "name": "stderr",
     "output_type": "stream",
     "text": [
      "\r",
      " 58%|███████████████████████▎                | 52/89 [46:41<2:20:42, 228.19s/it]"
     ]
    },
    {
     "name": "stdout",
     "output_type": "stream",
     "text": [
      "Assay  241_715\n",
      "Total Compounds  2456\n",
      "Inactive Compounds  1842\n",
      "Active Compounds  614\n",
      "Perform nested cross validation on training set\n",
      "Predictions on held out set\n"
     ]
    },
    {
     "name": "stderr",
     "output_type": "stream",
     "text": [
      "\r",
      " 60%|███████████████████████▊                | 53/89 [55:40<3:12:56, 321.58s/it]"
     ]
    },
    {
     "name": "stdout",
     "output_type": "stream",
     "text": [
      "Assay  242_716\n",
      "Total Compounds  1172\n",
      "Inactive Compounds  879\n",
      "Active Compounds  293\n",
      "Perform nested cross validation on training set\n",
      "Predictions on held out set\n"
     ]
    },
    {
     "name": "stderr",
     "output_type": "stream",
     "text": [
      "\r",
      " 61%|████████████████████████▎               | 54/89 [57:48<2:33:38, 263.38s/it]"
     ]
    },
    {
     "name": "stdout",
     "output_type": "stream",
     "text": [
      "Assay  243_717\n",
      "Total Compounds  644\n",
      "Inactive Compounds  483\n",
      "Active Compounds  161\n",
      "Perform nested cross validation on training set\n",
      "Predictions on held out set\n"
     ]
    },
    {
     "name": "stderr",
     "output_type": "stream",
     "text": [
      "\r",
      " 62%|████████████████████████▋               | 55/89 [58:28<1:51:18, 196.42s/it]"
     ]
    },
    {
     "name": "stdout",
     "output_type": "stream",
     "text": [
      "Assay  244_718\n",
      "Total Compounds  312\n",
      "Inactive Compounds  234\n",
      "Active Compounds  78\n",
      "Perform nested cross validation on training set\n",
      "Predictions on held out set\n"
     ]
    },
    {
     "name": "stderr",
     "output_type": "stream",
     "text": [
      "\r",
      " 63%|█████████████████████████▏              | 56/89 [58:39<1:17:21, 140.65s/it]"
     ]
    },
    {
     "name": "stdout",
     "output_type": "stream",
     "text": [
      "Assay  245_719\n",
      "Total Compounds  508\n",
      "Inactive Compounds  381\n",
      "Active Compounds  127\n",
      "Perform nested cross validation on training set\n",
      "Predictions on held out set\n"
     ]
    },
    {
     "name": "stderr",
     "output_type": "stream",
     "text": [
      "\r",
      " 64%|██████████████████████████▉               | 57/89 [59:03<56:28, 105.90s/it]"
     ]
    },
    {
     "name": "stdout",
     "output_type": "stream",
     "text": [
      "Assay  246_720\n",
      "Total Compounds  376\n",
      "Inactive Compounds  282\n",
      "Active Compounds  94\n",
      "Perform nested cross validation on training set\n",
      "Predictions on held out set\n"
     ]
    },
    {
     "name": "stderr",
     "output_type": "stream",
     "text": [
      "\r",
      " 65%|████████████████████████████               | 58/89 [59:18<40:34, 78.55s/it]"
     ]
    },
    {
     "name": "stdout",
     "output_type": "stream",
     "text": [
      "Assay  247_721\n",
      "Total Compounds  648\n",
      "Inactive Compounds  486\n",
      "Active Compounds  162\n",
      "Perform nested cross validation on training set\n",
      "Predictions on held out set\n"
     ]
    },
    {
     "name": "stderr",
     "output_type": "stream",
     "text": [
      "\r",
      " 66%|████████████████████████████▌              | 59/89 [59:59<33:36, 67.22s/it]"
     ]
    },
    {
     "name": "stdout",
     "output_type": "stream",
     "text": [
      "Assay  248_722\n",
      "Total Compounds  1536\n",
      "Inactive Compounds  1152\n",
      "Active Compounds  384\n",
      "Perform nested cross validation on training set\n",
      "Predictions on held out set\n"
     ]
    },
    {
     "name": "stderr",
     "output_type": "stream",
     "text": [
      "\r",
      " 67%|██████████████████████████▉             | 60/89 [1:03:34<53:52, 111.47s/it]"
     ]
    },
    {
     "name": "stdout",
     "output_type": "stream",
     "text": [
      "Assay  249_724\n",
      "Total Compounds  2300\n",
      "Inactive Compounds  1725\n",
      "Active Compounds  575\n",
      "Perform nested cross validation on training set\n",
      "Predictions on held out set\n"
     ]
    },
    {
     "name": "stderr",
     "output_type": "stream",
     "text": [
      "\r",
      " 69%|██████████████████████████            | 61/89 [1:11:31<1:43:13, 221.18s/it]"
     ]
    },
    {
     "name": "stdout",
     "output_type": "stream",
     "text": [
      "Assay  250_726\n",
      "Total Compounds  180\n",
      "Inactive Compounds  135\n",
      "Active Compounds  45\n",
      "Perform nested cross validation on training set\n",
      "Predictions on held out set\n"
     ]
    },
    {
     "name": "stderr",
     "output_type": "stream",
     "text": [
      "\r",
      " 70%|██████████████████████████▍           | 62/89 [1:11:35<1:10:12, 156.02s/it]"
     ]
    },
    {
     "name": "stdout",
     "output_type": "stream",
     "text": [
      "Assay  251_727\n",
      "Total Compounds  360\n",
      "Inactive Compounds  270\n",
      "Active Compounds  90\n",
      "Perform nested cross validation on training set\n",
      "Predictions on held out set\n"
     ]
    },
    {
     "name": "stderr",
     "output_type": "stream",
     "text": [
      "\r",
      " 71%|████████████████████████████▎           | 63/89 [1:11:48<49:06, 113.31s/it]"
     ]
    },
    {
     "name": "stdout",
     "output_type": "stream",
     "text": [
      "Assay  253_729\n",
      "Total Compounds  316\n",
      "Inactive Compounds  237\n",
      "Active Compounds  79\n",
      "Perform nested cross validation on training set\n",
      "Predictions on held out set\n"
     ]
    },
    {
     "name": "stderr",
     "output_type": "stream",
     "text": [
      "\r",
      " 72%|█████████████████████████████▍           | 64/89 [1:11:59<34:23, 82.55s/it]"
     ]
    },
    {
     "name": "stdout",
     "output_type": "stream",
     "text": [
      "Assay  257_735\n",
      "Total Compounds  784\n",
      "Inactive Compounds  588\n",
      "Active Compounds  196\n",
      "Perform nested cross validation on training set\n",
      "Predictions on held out set\n"
     ]
    },
    {
     "name": "stderr",
     "output_type": "stream",
     "text": [
      "\r",
      " 73%|█████████████████████████████▉           | 65/89 [1:12:56<29:52, 74.69s/it]"
     ]
    },
    {
     "name": "stdout",
     "output_type": "stream",
     "text": [
      "Assay  259_737\n",
      "Total Compounds  144\n",
      "Inactive Compounds  108\n",
      "Active Compounds  36\n",
      "Perform nested cross validation on training set\n",
      "Predictions on held out set\n"
     ]
    },
    {
     "name": "stderr",
     "output_type": "stream",
     "text": [
      "\r",
      " 74%|██████████████████████████████▍          | 66/89 [1:12:58<20:21, 53.11s/it]"
     ]
    },
    {
     "name": "stdout",
     "output_type": "stream",
     "text": [
      "Assay  260_738\n",
      "Total Compounds  2268\n",
      "Inactive Compounds  1701\n",
      "Active Compounds  567\n",
      "Perform nested cross validation on training set\n",
      "Predictions on held out set\n"
     ]
    },
    {
     "name": "stderr",
     "output_type": "stream",
     "text": [
      "\r",
      " 75%|████████████████████████████▌         | 67/89 [1:20:42<1:04:36, 176.20s/it]"
     ]
    },
    {
     "name": "stdout",
     "output_type": "stream",
     "text": [
      "Assay  261_739\n",
      "Total Compounds  1096\n",
      "Inactive Compounds  822\n",
      "Active Compounds  274\n",
      "Perform nested cross validation on training set\n",
      "Predictions on held out set\n"
     ]
    },
    {
     "name": "stderr",
     "output_type": "stream",
     "text": [
      "\r",
      " 76%|██████████████████████████████▌         | 68/89 [1:22:34<54:57, 157.01s/it]"
     ]
    },
    {
     "name": "stdout",
     "output_type": "stream",
     "text": [
      "Assay  262_740\n",
      "Total Compounds  176\n",
      "Inactive Compounds  132\n",
      "Active Compounds  44\n",
      "Perform nested cross validation on training set\n",
      "Predictions on held out set\n"
     ]
    },
    {
     "name": "stderr",
     "output_type": "stream",
     "text": [
      "\r",
      " 78%|███████████████████████████████         | 69/89 [1:22:38<37:00, 111.04s/it]"
     ]
    },
    {
     "name": "stdout",
     "output_type": "stream",
     "text": [
      "Assay  263_741\n",
      "Total Compounds  540\n",
      "Inactive Compounds  405\n",
      "Active Compounds  135\n",
      "Perform nested cross validation on training set\n",
      "Predictions on held out set\n"
     ]
    },
    {
     "name": "stderr",
     "output_type": "stream",
     "text": [
      "\r",
      " 79%|████████████████████████████████▏        | 70/89 [1:23:06<27:15, 86.10s/it]"
     ]
    },
    {
     "name": "stdout",
     "output_type": "stream",
     "text": [
      "Assay  264_742\n",
      "Total Compounds  148\n",
      "Inactive Compounds  111\n",
      "Active Compounds  37\n",
      "Perform nested cross validation on training set\n",
      "Predictions on held out set\n"
     ]
    },
    {
     "name": "stderr",
     "output_type": "stream",
     "text": [
      "\r",
      " 80%|████████████████████████████████▋        | 71/89 [1:23:09<18:20, 61.14s/it]"
     ]
    },
    {
     "name": "stdout",
     "output_type": "stream",
     "text": [
      "Assay  265_743\n",
      "Total Compounds  3064\n",
      "Inactive Compounds  2298\n",
      "Active Compounds  766\n",
      "Perform nested cross validation on training set\n",
      "Predictions on held out set\n"
     ]
    },
    {
     "name": "stderr",
     "output_type": "stream",
     "text": [
      "\r",
      " 81%|██████████████████████████████▋       | 72/89 [1:37:11<1:23:45, 295.64s/it]"
     ]
    },
    {
     "name": "stdout",
     "output_type": "stream",
     "text": [
      "Assay  266_744\n",
      "Total Compounds  696\n",
      "Inactive Compounds  522\n",
      "Active Compounds  174\n",
      "Perform nested cross validation on training set\n",
      "Predictions on held out set\n"
     ]
    },
    {
     "name": "stderr",
     "output_type": "stream",
     "text": [
      "\r",
      " 82%|████████████████████████████████▊       | 73/89 [1:37:58<58:53, 220.82s/it]"
     ]
    },
    {
     "name": "stdout",
     "output_type": "stream",
     "text": [
      "Assay  267_745\n",
      "Total Compounds  908\n",
      "Inactive Compounds  681\n",
      "Active Compounds  227\n",
      "Perform nested cross validation on training set\n",
      "Predictions on held out set\n"
     ]
    },
    {
     "name": "stderr",
     "output_type": "stream",
     "text": [
      "\r",
      " 83%|█████████████████████████████████▎      | 74/89 [1:39:15<44:27, 177.86s/it]"
     ]
    },
    {
     "name": "stdout",
     "output_type": "stream",
     "text": [
      "Assay  268_746\n",
      "Total Compounds  1588\n",
      "Inactive Compounds  1191\n",
      "Active Compounds  397\n",
      "Perform nested cross validation on training set\n",
      "Predictions on held out set\n"
     ]
    },
    {
     "name": "stderr",
     "output_type": "stream",
     "text": [
      "\r",
      " 84%|█████████████████████████████████▋      | 75/89 [1:43:06<45:12, 193.72s/it]"
     ]
    },
    {
     "name": "stdout",
     "output_type": "stream",
     "text": [
      "Assay  269_747\n",
      "Total Compounds  2424\n",
      "Inactive Compounds  1818\n",
      "Active Compounds  606\n",
      "Perform nested cross validation on training set\n",
      "Predictions on held out set\n"
     ]
    },
    {
     "name": "stderr",
     "output_type": "stream",
     "text": [
      "\r",
      " 85%|████████████████████████████████▍     | 76/89 [1:51:52<1:03:35, 293.53s/it]"
     ]
    },
    {
     "name": "stdout",
     "output_type": "stream",
     "text": [
      "Assay  270_748\n",
      "Total Compounds  432\n",
      "Inactive Compounds  324\n",
      "Active Compounds  108\n",
      "Perform nested cross validation on training set\n",
      "Predictions on held out set\n"
     ]
    },
    {
     "name": "stderr",
     "output_type": "stream",
     "text": [
      "\r",
      " 87%|██████████████████████████████████▌     | 77/89 [1:52:12<42:14, 211.20s/it]"
     ]
    },
    {
     "name": "stdout",
     "output_type": "stream",
     "text": [
      "Assay  271_749\n",
      "Total Compounds  948\n",
      "Inactive Compounds  711\n",
      "Active Compounds  237\n",
      "Perform nested cross validation on training set\n",
      "Predictions on held out set\n"
     ]
    },
    {
     "name": "stderr",
     "output_type": "stream",
     "text": [
      "\r",
      " 88%|███████████████████████████████████     | 78/89 [1:53:34<31:37, 172.49s/it]"
     ]
    },
    {
     "name": "stdout",
     "output_type": "stream",
     "text": [
      "Assay  272_750\n",
      "Total Compounds  308\n",
      "Inactive Compounds  231\n",
      "Active Compounds  77\n",
      "Perform nested cross validation on training set\n",
      "Predictions on held out set\n"
     ]
    },
    {
     "name": "stderr",
     "output_type": "stream",
     "text": [
      "\r",
      " 89%|███████████████████████████████████▌    | 79/89 [1:53:44<20:38, 123.81s/it]"
     ]
    },
    {
     "name": "stdout",
     "output_type": "stream",
     "text": [
      "Assay  273_751\n",
      "Total Compounds  180\n",
      "Inactive Compounds  135\n",
      "Active Compounds  45\n",
      "Perform nested cross validation on training set\n",
      "Predictions on held out set\n"
     ]
    },
    {
     "name": "stderr",
     "output_type": "stream",
     "text": [
      "\r",
      " 90%|████████████████████████████████████▊    | 80/89 [1:53:48<13:10, 87.88s/it]"
     ]
    },
    {
     "name": "stdout",
     "output_type": "stream",
     "text": [
      "Assay  274_752\n",
      "Total Compounds  428\n",
      "Inactive Compounds  321\n",
      "Active Compounds  107\n",
      "Perform nested cross validation on training set\n",
      "Predictions on held out set\n"
     ]
    },
    {
     "name": "stderr",
     "output_type": "stream",
     "text": [
      "\r",
      " 91%|█████████████████████████████████████▎   | 81/89 [1:54:07<08:56, 67.10s/it]"
     ]
    },
    {
     "name": "stdout",
     "output_type": "stream",
     "text": [
      "Assay  275_753\n",
      "Total Compounds  156\n",
      "Inactive Compounds  117\n",
      "Active Compounds  39\n",
      "Perform nested cross validation on training set\n",
      "Predictions on held out set\n"
     ]
    },
    {
     "name": "stderr",
     "output_type": "stream",
     "text": [
      "\r",
      " 92%|█████████████████████████████████████▊   | 82/89 [1:54:10<05:35, 47.90s/it]"
     ]
    },
    {
     "name": "stdout",
     "output_type": "stream",
     "text": [
      "Assay  275_754\n",
      "Total Compounds  420\n",
      "Inactive Compounds  315\n",
      "Active Compounds  105\n",
      "Perform nested cross validation on training set\n",
      "Predictions on held out set\n"
     ]
    },
    {
     "name": "stderr",
     "output_type": "stream",
     "text": [
      "\r",
      " 93%|██████████████████████████████████████▏  | 83/89 [1:54:28<03:53, 38.98s/it]"
     ]
    },
    {
     "name": "stdout",
     "output_type": "stream",
     "text": [
      "Assay  276_755\n",
      "Total Compounds  560\n",
      "Inactive Compounds  420\n",
      "Active Compounds  140\n",
      "Perform nested cross validation on training set\n",
      "Predictions on held out set\n"
     ]
    },
    {
     "name": "stderr",
     "output_type": "stream",
     "text": [
      "\r",
      " 94%|██████████████████████████████████████▋  | 84/89 [1:54:59<03:02, 36.53s/it]"
     ]
    },
    {
     "name": "stdout",
     "output_type": "stream",
     "text": [
      "Assay  278_757\n",
      "Total Compounds  1508\n",
      "Inactive Compounds  1131\n",
      "Active Compounds  377\n",
      "Perform nested cross validation on training set\n",
      "Predictions on held out set\n"
     ]
    },
    {
     "name": "stderr",
     "output_type": "stream",
     "text": [
      "\r",
      " 96%|███████████████████████████████████████▏ | 85/89 [1:58:26<05:51, 87.80s/it]"
     ]
    },
    {
     "name": "stdout",
     "output_type": "stream",
     "text": [
      "Assay  279_758\n",
      "Total Compounds  264\n",
      "Inactive Compounds  198\n",
      "Active Compounds  66\n",
      "Perform nested cross validation on training set\n",
      "Predictions on held out set\n"
     ]
    },
    {
     "name": "stderr",
     "output_type": "stream",
     "text": [
      "\r",
      " 97%|███████████████████████████████████████▌ | 86/89 [1:58:34<03:11, 63.82s/it]"
     ]
    },
    {
     "name": "stdout",
     "output_type": "stream",
     "text": [
      "Assay  280_759\n",
      "Total Compounds  540\n",
      "Inactive Compounds  405\n",
      "Active Compounds  135\n",
      "Perform nested cross validation on training set\n",
      "Predictions on held out set\n"
     ]
    },
    {
     "name": "stderr",
     "output_type": "stream",
     "text": [
      "\r",
      " 98%|████████████████████████████████████████ | 87/89 [1:59:03<01:46, 53.36s/it]"
     ]
    },
    {
     "name": "stdout",
     "output_type": "stream",
     "text": [
      "Assay  283_762\n",
      "Total Compounds  428\n",
      "Inactive Compounds  321\n",
      "Active Compounds  107\n",
      "Perform nested cross validation on training set\n",
      "Predictions on held out set\n"
     ]
    },
    {
     "name": "stderr",
     "output_type": "stream",
     "text": [
      "\r",
      " 99%|████████████████████████████████████████▌| 88/89 [1:59:21<00:42, 42.77s/it]"
     ]
    },
    {
     "name": "stdout",
     "output_type": "stream",
     "text": [
      "Assay  93_259\n",
      "Total Compounds  127\n",
      "Inactive Compounds  93\n",
      "Active Compounds  34\n",
      "Perform nested cross validation on training set\n",
      "Predictions on held out set\n"
     ]
    },
    {
     "name": "stderr",
     "output_type": "stream",
     "text": [
      "100%|█████████████████████████████████████████| 89/89 [1:59:23<00:00, 80.49s/it]\n"
     ]
    }
   ],
   "source": [
    "from tqdm import tqdm\n",
    "from sklearn.model_selection import train_test_split\n",
    "\n",
    "master_detail_list=[]\n",
    "for assay in tqdm(assay_list[:]):\n",
    "    \n",
    "    print(\"Assay \", assay )\n",
    "    df_assay= broad_data[pd.notnull(broad_data[assay])]\n",
    "\n",
    "    print(\"Total Compounds \", len(df_assay) )\n",
    "\n",
    "    df_assay_inactive = df_assay[df_assay[assay] == 0]\n",
    "    inactives_n=len(df_assay_inactive)\n",
    "    print(\"Inactive Compounds \", inactives_n)\n",
    "\n",
    "    df_assay_active = df_assay[df_assay[assay] == 1]\n",
    "    actives_n=len(df_assay_active)\n",
    "    print(\"Active Compounds \", actives_n)\n",
    "\n",
    "    df_assay_train, df_assay_test= train_test_split(df_assay, stratify=df_assay[[assay]], test_size=0.20, random_state=42)\n",
    "    \n",
    "    print(\"Perform nested cross validation on training set\")\n",
    "    detail_list_train =  my_function_nested_rhs(assay, 42)\n",
    "   \n",
    "    \n",
    "    print(\"Predictions on held out set\")\n",
    "    detail_list_test = my_function_heldout_rhs(assay, 42)\n",
    "\n",
    "    \n",
    "    master_detail_list.append(detail_list_train) \n",
    "    master_detail_list.append(detail_list_test) \n",
    "     "
   ]
  },
  {
   "cell_type": "code",
   "execution_count": 101,
   "id": "f1ca7a69",
   "metadata": {},
   "outputs": [
    {
     "data": {
      "text/html": [
       "<div>\n",
       "<style scoped>\n",
       "    .dataframe tbody tr th:only-of-type {\n",
       "        vertical-align: middle;\n",
       "    }\n",
       "\n",
       "    .dataframe tbody tr th {\n",
       "        vertical-align: top;\n",
       "    }\n",
       "\n",
       "    .dataframe thead th {\n",
       "        text-align: right;\n",
       "    }\n",
       "</style>\n",
       "<table border=\"1\" class=\"dataframe\">\n",
       "  <thead>\n",
       "    <tr style=\"text-align: right;\">\n",
       "      <th></th>\n",
       "      <th>assay</th>\n",
       "      <th>InChICode_standardised</th>\n",
       "      <th>ts</th>\n",
       "      <th>ts_perc</th>\n",
       "      <th>ts_actives</th>\n",
       "      <th>ts_perc_actives</th>\n",
       "      <th>ts_inactives</th>\n",
       "      <th>ts_perc_inactives</th>\n",
       "      <th>pc</th>\n",
       "      <th>pc_perc</th>\n",
       "      <th>pc_actives</th>\n",
       "      <th>pc_perc_actives</th>\n",
       "      <th>pc_inactives</th>\n",
       "      <th>pc_perc_inactives</th>\n",
       "      <th>Data</th>\n",
       "    </tr>\n",
       "  </thead>\n",
       "  <tbody>\n",
       "    <tr>\n",
       "      <th>0</th>\n",
       "      <td>178_684</td>\n",
       "      <td>InChI=1S/C46H56N4O10/c1-7-42(55)22-28-23-45(40...</td>\n",
       "      <td>0.290269</td>\n",
       "      <td>0.000000</td>\n",
       "      <td>0.284818</td>\n",
       "      <td>0.000000</td>\n",
       "      <td>0.271792</td>\n",
       "      <td>0.000000</td>\n",
       "      <td>0.859367</td>\n",
       "      <td>0.063584</td>\n",
       "      <td>0.859367</td>\n",
       "      <td>0.209302</td>\n",
       "      <td>0.512414</td>\n",
       "      <td>0.015385</td>\n",
       "      <td>Training</td>\n",
       "    </tr>\n",
       "    <tr>\n",
       "      <th>1</th>\n",
       "      <td>178_684</td>\n",
       "      <td>InChI=1S/C30H42ClN3O5S/c1-21-17-34(22(2)20-35)...</td>\n",
       "      <td>0.787685</td>\n",
       "      <td>0.213873</td>\n",
       "      <td>0.660846</td>\n",
       "      <td>0.093023</td>\n",
       "      <td>0.745801</td>\n",
       "      <td>0.253846</td>\n",
       "      <td>0.754709</td>\n",
       "      <td>0.231214</td>\n",
       "      <td>0.729592</td>\n",
       "      <td>0.465116</td>\n",
       "      <td>0.723072</td>\n",
       "      <td>0.246154</td>\n",
       "      <td>Training</td>\n",
       "    </tr>\n",
       "    <tr>\n",
       "      <th>2</th>\n",
       "      <td>178_684</td>\n",
       "      <td>InChI=1S/C31H44N4O6/c1-22-18-35(23(2)21-36)31(...</td>\n",
       "      <td>0.772941</td>\n",
       "      <td>0.132948</td>\n",
       "      <td>0.553399</td>\n",
       "      <td>0.023256</td>\n",
       "      <td>0.772941</td>\n",
       "      <td>0.169231</td>\n",
       "      <td>0.557030</td>\n",
       "      <td>0.017341</td>\n",
       "      <td>0.436839</td>\n",
       "      <td>0.046512</td>\n",
       "      <td>0.499498</td>\n",
       "      <td>0.015385</td>\n",
       "      <td>Training</td>\n",
       "    </tr>\n",
       "    <tr>\n",
       "      <th>3</th>\n",
       "      <td>178_684</td>\n",
       "      <td>InChI=1S/C35H60N4O5/c1-26-22-39(27(2)25-40)35(...</td>\n",
       "      <td>0.812935</td>\n",
       "      <td>0.208092</td>\n",
       "      <td>0.574854</td>\n",
       "      <td>0.069767</td>\n",
       "      <td>0.812935</td>\n",
       "      <td>0.253846</td>\n",
       "      <td>0.717875</td>\n",
       "      <td>0.104046</td>\n",
       "      <td>0.500185</td>\n",
       "      <td>0.023256</td>\n",
       "      <td>0.716548</td>\n",
       "      <td>0.146154</td>\n",
       "      <td>Training</td>\n",
       "    </tr>\n",
       "    <tr>\n",
       "      <th>4</th>\n",
       "      <td>178_684</td>\n",
       "      <td>InChI=1S/C29H39N5O5/c1-19-16-34(20(2)18-35)28(...</td>\n",
       "      <td>0.770504</td>\n",
       "      <td>0.346821</td>\n",
       "      <td>0.670484</td>\n",
       "      <td>0.255814</td>\n",
       "      <td>0.762533</td>\n",
       "      <td>0.376923</td>\n",
       "      <td>0.478680</td>\n",
       "      <td>0.005780</td>\n",
       "      <td>0.370233</td>\n",
       "      <td>0.000000</td>\n",
       "      <td>0.478680</td>\n",
       "      <td>0.007692</td>\n",
       "      <td>Training</td>\n",
       "    </tr>\n",
       "    <tr>\n",
       "      <th>...</th>\n",
       "      <td>...</td>\n",
       "      <td>...</td>\n",
       "      <td>...</td>\n",
       "      <td>...</td>\n",
       "      <td>...</td>\n",
       "      <td>...</td>\n",
       "      <td>...</td>\n",
       "      <td>...</td>\n",
       "      <td>...</td>\n",
       "      <td>...</td>\n",
       "      <td>...</td>\n",
       "      <td>...</td>\n",
       "      <td>...</td>\n",
       "      <td>...</td>\n",
       "      <td>...</td>\n",
       "    </tr>\n",
       "    <tr>\n",
       "      <th>58482</th>\n",
       "      <td>93_259</td>\n",
       "      <td>InChI=1S/C12H11N3O2S/c1-8-7-9(2)15(13-8)12-10-...</td>\n",
       "      <td>0.324773</td>\n",
       "      <td>0.000000</td>\n",
       "      <td>0.279837</td>\n",
       "      <td>0.000000</td>\n",
       "      <td>0.305871</td>\n",
       "      <td>0.000000</td>\n",
       "      <td>0.681960</td>\n",
       "      <td>0.089109</td>\n",
       "      <td>0.509096</td>\n",
       "      <td>0.111111</td>\n",
       "      <td>0.678402</td>\n",
       "      <td>0.121622</td>\n",
       "      <td>HeldOut</td>\n",
       "    </tr>\n",
       "    <tr>\n",
       "      <th>58483</th>\n",
       "      <td>93_259</td>\n",
       "      <td>InChI=1S/C17H16N2O4S/c1-22-14-7-8-16(23-2)17(1...</td>\n",
       "      <td>0.316906</td>\n",
       "      <td>0.000000</td>\n",
       "      <td>0.277834</td>\n",
       "      <td>0.000000</td>\n",
       "      <td>0.308875</td>\n",
       "      <td>0.000000</td>\n",
       "      <td>0.504201</td>\n",
       "      <td>0.009901</td>\n",
       "      <td>0.373719</td>\n",
       "      <td>0.037037</td>\n",
       "      <td>0.483532</td>\n",
       "      <td>0.027027</td>\n",
       "      <td>HeldOut</td>\n",
       "    </tr>\n",
       "    <tr>\n",
       "      <th>58484</th>\n",
       "      <td>93_259</td>\n",
       "      <td>InChI=1S/C24H21N3O2S/c28-23-19-8-4-5-9-21(19)3...</td>\n",
       "      <td>0.276304</td>\n",
       "      <td>0.000000</td>\n",
       "      <td>0.263956</td>\n",
       "      <td>0.000000</td>\n",
       "      <td>0.261232</td>\n",
       "      <td>0.000000</td>\n",
       "      <td>0.425408</td>\n",
       "      <td>0.000000</td>\n",
       "      <td>0.353781</td>\n",
       "      <td>0.000000</td>\n",
       "      <td>0.423772</td>\n",
       "      <td>0.000000</td>\n",
       "      <td>HeldOut</td>\n",
       "    </tr>\n",
       "    <tr>\n",
       "      <th>58485</th>\n",
       "      <td>93_259</td>\n",
       "      <td>InChI=1S/C18H22N2O4S/c1-14(2)15-5-7-16(8-6-15)...</td>\n",
       "      <td>0.343005</td>\n",
       "      <td>0.000000</td>\n",
       "      <td>0.328585</td>\n",
       "      <td>0.000000</td>\n",
       "      <td>0.323085</td>\n",
       "      <td>0.000000</td>\n",
       "      <td>0.628148</td>\n",
       "      <td>0.069307</td>\n",
       "      <td>0.441401</td>\n",
       "      <td>0.074074</td>\n",
       "      <td>0.616700</td>\n",
       "      <td>0.094595</td>\n",
       "      <td>HeldOut</td>\n",
       "    </tr>\n",
       "    <tr>\n",
       "      <th>58486</th>\n",
       "      <td>93_259</td>\n",
       "      <td>InChI=1S/C12H14N2O4S4/c15-21(16,11-3-1-9-19-11...</td>\n",
       "      <td>0.296797</td>\n",
       "      <td>0.000000</td>\n",
       "      <td>0.283556</td>\n",
       "      <td>0.000000</td>\n",
       "      <td>0.241762</td>\n",
       "      <td>0.000000</td>\n",
       "      <td>0.501800</td>\n",
       "      <td>0.000000</td>\n",
       "      <td>0.367154</td>\n",
       "      <td>0.037037</td>\n",
       "      <td>0.483108</td>\n",
       "      <td>0.013514</td>\n",
       "      <td>HeldOut</td>\n",
       "    </tr>\n",
       "  </tbody>\n",
       "</table>\n",
       "<p>58487 rows × 15 columns</p>\n",
       "</div>"
      ],
      "text/plain": [
       "         assay                             InChICode_standardised        ts  \\\n",
       "0      178_684  InChI=1S/C46H56N4O10/c1-7-42(55)22-28-23-45(40...  0.290269   \n",
       "1      178_684  InChI=1S/C30H42ClN3O5S/c1-21-17-34(22(2)20-35)...  0.787685   \n",
       "2      178_684  InChI=1S/C31H44N4O6/c1-22-18-35(23(2)21-36)31(...  0.772941   \n",
       "3      178_684  InChI=1S/C35H60N4O5/c1-26-22-39(27(2)25-40)35(...  0.812935   \n",
       "4      178_684  InChI=1S/C29H39N5O5/c1-19-16-34(20(2)18-35)28(...  0.770504   \n",
       "...        ...                                                ...       ...   \n",
       "58482   93_259  InChI=1S/C12H11N3O2S/c1-8-7-9(2)15(13-8)12-10-...  0.324773   \n",
       "58483   93_259  InChI=1S/C17H16N2O4S/c1-22-14-7-8-16(23-2)17(1...  0.316906   \n",
       "58484   93_259  InChI=1S/C24H21N3O2S/c28-23-19-8-4-5-9-21(19)3...  0.276304   \n",
       "58485   93_259  InChI=1S/C18H22N2O4S/c1-14(2)15-5-7-16(8-6-15)...  0.343005   \n",
       "58486   93_259  InChI=1S/C12H14N2O4S4/c15-21(16,11-3-1-9-19-11...  0.296797   \n",
       "\n",
       "        ts_perc  ts_actives  ts_perc_actives  ts_inactives  ts_perc_inactives  \\\n",
       "0      0.000000    0.284818         0.000000      0.271792           0.000000   \n",
       "1      0.213873    0.660846         0.093023      0.745801           0.253846   \n",
       "2      0.132948    0.553399         0.023256      0.772941           0.169231   \n",
       "3      0.208092    0.574854         0.069767      0.812935           0.253846   \n",
       "4      0.346821    0.670484         0.255814      0.762533           0.376923   \n",
       "...         ...         ...              ...           ...                ...   \n",
       "58482  0.000000    0.279837         0.000000      0.305871           0.000000   \n",
       "58483  0.000000    0.277834         0.000000      0.308875           0.000000   \n",
       "58484  0.000000    0.263956         0.000000      0.261232           0.000000   \n",
       "58485  0.000000    0.328585         0.000000      0.323085           0.000000   \n",
       "58486  0.000000    0.283556         0.000000      0.241762           0.000000   \n",
       "\n",
       "             pc   pc_perc  pc_actives  pc_perc_actives  pc_inactives  \\\n",
       "0      0.859367  0.063584    0.859367         0.209302      0.512414   \n",
       "1      0.754709  0.231214    0.729592         0.465116      0.723072   \n",
       "2      0.557030  0.017341    0.436839         0.046512      0.499498   \n",
       "3      0.717875  0.104046    0.500185         0.023256      0.716548   \n",
       "4      0.478680  0.005780    0.370233         0.000000      0.478680   \n",
       "...         ...       ...         ...              ...           ...   \n",
       "58482  0.681960  0.089109    0.509096         0.111111      0.678402   \n",
       "58483  0.504201  0.009901    0.373719         0.037037      0.483532   \n",
       "58484  0.425408  0.000000    0.353781         0.000000      0.423772   \n",
       "58485  0.628148  0.069307    0.441401         0.074074      0.616700   \n",
       "58486  0.501800  0.000000    0.367154         0.037037      0.483108   \n",
       "\n",
       "       pc_perc_inactives      Data  \n",
       "0               0.015385  Training  \n",
       "1               0.246154  Training  \n",
       "2               0.015385  Training  \n",
       "3               0.146154  Training  \n",
       "4               0.007692  Training  \n",
       "...                  ...       ...  \n",
       "58482           0.121622   HeldOut  \n",
       "58483           0.027027   HeldOut  \n",
       "58484           0.000000   HeldOut  \n",
       "58485           0.094595   HeldOut  \n",
       "58486           0.013514   HeldOut  \n",
       "\n",
       "[58487 rows x 15 columns]"
      ]
     },
     "execution_count": 101,
     "metadata": {},
     "output_type": "execute_result"
    }
   ],
   "source": [
    "flatList_master_detail_list = [ item for elem in master_detail_list for item in elem]\n",
    "list_of_lists_df = pd.DataFrame(flatList_master_detail_list,columns=[\"assay\",\"InChICode_standardised\",\n",
    "                                                                    \"ts\", \"ts_perc\", \"ts_actives\", \"ts_perc_actives\", \n",
    "                                                                     \"ts_inactives\", \"ts_perc_inactives\", \"pc\", \"pc_perc\", \"pc_actives\", \"pc_perc_actives\", \n",
    "                                                                     \"pc_inactives\", \"pc_perc_inactives\", \n",
    "                                                                     \"Data\"])\n",
    "list_of_lists_df"
   ]
  },
  {
   "cell_type": "code",
   "execution_count": 102,
   "id": "051267b1",
   "metadata": {},
   "outputs": [],
   "source": [
    "#list_of_lists_df.to_csv(\"Similarity_def_mean_train_test_no_Classv2.csv\", index=False)"
   ]
  },
  {
   "cell_type": "code",
   "execution_count": null,
   "id": "423f4265",
   "metadata": {},
   "outputs": [],
   "source": []
  }
 ],
 "metadata": {
  "kernelspec": {
   "display_name": "Python 3 (ipykernel)",
   "language": "python",
   "name": "python3"
  },
  "language_info": {
   "codemirror_mode": {
    "name": "ipython",
    "version": 3
   },
   "file_extension": ".py",
   "mimetype": "text/x-python",
   "name": "python",
   "nbconvert_exporter": "python",
   "pygments_lexer": "ipython3",
   "version": "3.9.6"
  }
 },
 "nbformat": 4,
 "nbformat_minor": 5
}
