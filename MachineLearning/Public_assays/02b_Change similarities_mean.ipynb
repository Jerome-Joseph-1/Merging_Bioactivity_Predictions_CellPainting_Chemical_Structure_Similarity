{
 "cells": [
  {
   "cell_type": "code",
   "execution_count": 1,
   "id": "f180ee0c",
   "metadata": {},
   "outputs": [],
   "source": [
    "from rdkit.Chem import AllChem\n",
    "from scipy import stats\n",
    "import pandas as pd\n",
    "from rdkit import Chem, DataStructs\n",
    "from rdkit.Chem import AllChem\n",
    "from scipy import stats\n",
    "from rdkit.Chem import rdMolDescriptors as rdmd\n",
    "from rdkit.Chem.Scaffolds import MurckoScaffold\n",
    "import pandas as pd\n",
    "from tqdm import tqdm\n",
    "import time\n",
    "import numpy as np\n",
    "from sklearn.ensemble import RandomForestClassifier\n",
    "from sklearn.model_selection import train_test_split\n",
    "from sklearn.metrics import matthews_corrcoef,confusion_matrix, roc_auc_score, roc_curve\n",
    "import seaborn as sns\n",
    "import time\n",
    "from scipy.spatial.distance import cdist\n",
    "import matplotlib.pyplot as plt\n",
    "from sklearn.ensemble import RandomForestClassifier"
   ]
  },
  {
   "cell_type": "code",
   "execution_count": 2,
   "id": "4bfc7352",
   "metadata": {},
   "outputs": [],
   "source": [
    "import pandas as pd\n",
    "import numpy as np"
   ]
  },
  {
   "cell_type": "code",
   "execution_count": 3,
   "id": "2639fa47",
   "metadata": {},
   "outputs": [
    {
     "data": {
      "text/html": [
       "<div>\n",
       "<style scoped>\n",
       "    .dataframe tbody tr th:only-of-type {\n",
       "        vertical-align: middle;\n",
       "    }\n",
       "\n",
       "    .dataframe tbody tr th {\n",
       "        vertical-align: top;\n",
       "    }\n",
       "\n",
       "    .dataframe thead th {\n",
       "        text-align: right;\n",
       "    }\n",
       "</style>\n",
       "<table border=\"1\" class=\"dataframe\">\n",
       "  <thead>\n",
       "    <tr style=\"text-align: right;\">\n",
       "      <th></th>\n",
       "      <th>InChICode_standardised</th>\n",
       "      <th>588458</th>\n",
       "      <th>588334</th>\n",
       "      <th>2642</th>\n",
       "      <th>2156</th>\n",
       "      <th>2330</th>\n",
       "      <th>2216</th>\n",
       "      <th>743015</th>\n",
       "      <th>504444</th>\n",
       "      <th>894</th>\n",
       "      <th>...</th>\n",
       "      <th>652104</th>\n",
       "      <th>720579</th>\n",
       "      <th>720533</th>\n",
       "      <th>720542</th>\n",
       "      <th>720580</th>\n",
       "      <th>720504</th>\n",
       "      <th>720532</th>\n",
       "      <th>1159524</th>\n",
       "      <th>1117304</th>\n",
       "      <th>1117305</th>\n",
       "    </tr>\n",
       "  </thead>\n",
       "  <tbody>\n",
       "    <tr>\n",
       "      <th>0</th>\n",
       "      <td>InChI=1S/C14H13N5O5S2/c1-2-5-3-25-12-8(11(21)1...</td>\n",
       "      <td>1.0</td>\n",
       "      <td>NaN</td>\n",
       "      <td>NaN</td>\n",
       "      <td>NaN</td>\n",
       "      <td>NaN</td>\n",
       "      <td>NaN</td>\n",
       "      <td>NaN</td>\n",
       "      <td>NaN</td>\n",
       "      <td>NaN</td>\n",
       "      <td>...</td>\n",
       "      <td>NaN</td>\n",
       "      <td>NaN</td>\n",
       "      <td>NaN</td>\n",
       "      <td>NaN</td>\n",
       "      <td>NaN</td>\n",
       "      <td>NaN</td>\n",
       "      <td>NaN</td>\n",
       "      <td>NaN</td>\n",
       "      <td>NaN</td>\n",
       "      <td>NaN</td>\n",
       "    </tr>\n",
       "    <tr>\n",
       "      <th>1</th>\n",
       "      <td>InChI=1S/C22H21NO2S/c23-20(21(24)25)16-26-22(1...</td>\n",
       "      <td>1.0</td>\n",
       "      <td>NaN</td>\n",
       "      <td>NaN</td>\n",
       "      <td>NaN</td>\n",
       "      <td>NaN</td>\n",
       "      <td>NaN</td>\n",
       "      <td>NaN</td>\n",
       "      <td>NaN</td>\n",
       "      <td>NaN</td>\n",
       "      <td>...</td>\n",
       "      <td>NaN</td>\n",
       "      <td>NaN</td>\n",
       "      <td>NaN</td>\n",
       "      <td>NaN</td>\n",
       "      <td>NaN</td>\n",
       "      <td>NaN</td>\n",
       "      <td>NaN</td>\n",
       "      <td>NaN</td>\n",
       "      <td>NaN</td>\n",
       "      <td>0.0</td>\n",
       "    </tr>\n",
       "    <tr>\n",
       "      <th>2</th>\n",
       "      <td>InChI=1S/C15H8O7/c16-6-3-8-12(10(18)4-6)14(20)...</td>\n",
       "      <td>1.0</td>\n",
       "      <td>NaN</td>\n",
       "      <td>NaN</td>\n",
       "      <td>NaN</td>\n",
       "      <td>NaN</td>\n",
       "      <td>NaN</td>\n",
       "      <td>NaN</td>\n",
       "      <td>NaN</td>\n",
       "      <td>1.0</td>\n",
       "      <td>...</td>\n",
       "      <td>0.0</td>\n",
       "      <td>NaN</td>\n",
       "      <td>NaN</td>\n",
       "      <td>NaN</td>\n",
       "      <td>NaN</td>\n",
       "      <td>NaN</td>\n",
       "      <td>0.0</td>\n",
       "      <td>NaN</td>\n",
       "      <td>NaN</td>\n",
       "      <td>NaN</td>\n",
       "    </tr>\n",
       "    <tr>\n",
       "      <th>3</th>\n",
       "      <td>InChI=1S/C8H10O4/c1-5(2)8(10)6(11-3)4-7(9)12-8...</td>\n",
       "      <td>1.0</td>\n",
       "      <td>NaN</td>\n",
       "      <td>NaN</td>\n",
       "      <td>NaN</td>\n",
       "      <td>NaN</td>\n",
       "      <td>NaN</td>\n",
       "      <td>NaN</td>\n",
       "      <td>NaN</td>\n",
       "      <td>0.0</td>\n",
       "      <td>...</td>\n",
       "      <td>NaN</td>\n",
       "      <td>NaN</td>\n",
       "      <td>NaN</td>\n",
       "      <td>NaN</td>\n",
       "      <td>NaN</td>\n",
       "      <td>NaN</td>\n",
       "      <td>NaN</td>\n",
       "      <td>NaN</td>\n",
       "      <td>NaN</td>\n",
       "      <td>NaN</td>\n",
       "    </tr>\n",
       "    <tr>\n",
       "      <th>4</th>\n",
       "      <td>InChI=1S/C14H14O4S2/c15-5-7-19-13-11(17)9-3-1-...</td>\n",
       "      <td>1.0</td>\n",
       "      <td>NaN</td>\n",
       "      <td>NaN</td>\n",
       "      <td>NaN</td>\n",
       "      <td>1.0</td>\n",
       "      <td>NaN</td>\n",
       "      <td>NaN</td>\n",
       "      <td>1.0</td>\n",
       "      <td>1.0</td>\n",
       "      <td>...</td>\n",
       "      <td>NaN</td>\n",
       "      <td>NaN</td>\n",
       "      <td>NaN</td>\n",
       "      <td>NaN</td>\n",
       "      <td>NaN</td>\n",
       "      <td>NaN</td>\n",
       "      <td>NaN</td>\n",
       "      <td>NaN</td>\n",
       "      <td>NaN</td>\n",
       "      <td>NaN</td>\n",
       "    </tr>\n",
       "    <tr>\n",
       "      <th>...</th>\n",
       "      <td>...</td>\n",
       "      <td>...</td>\n",
       "      <td>...</td>\n",
       "      <td>...</td>\n",
       "      <td>...</td>\n",
       "      <td>...</td>\n",
       "      <td>...</td>\n",
       "      <td>...</td>\n",
       "      <td>...</td>\n",
       "      <td>...</td>\n",
       "      <td>...</td>\n",
       "      <td>...</td>\n",
       "      <td>...</td>\n",
       "      <td>...</td>\n",
       "      <td>...</td>\n",
       "      <td>...</td>\n",
       "      <td>...</td>\n",
       "      <td>...</td>\n",
       "      <td>...</td>\n",
       "      <td>...</td>\n",
       "      <td>...</td>\n",
       "    </tr>\n",
       "    <tr>\n",
       "      <th>9871</th>\n",
       "      <td>InChI=1S/C11H8O3/c1-7(12)9-6-8-4-2-3-5-10(8)14...</td>\n",
       "      <td>NaN</td>\n",
       "      <td>NaN</td>\n",
       "      <td>NaN</td>\n",
       "      <td>NaN</td>\n",
       "      <td>NaN</td>\n",
       "      <td>NaN</td>\n",
       "      <td>NaN</td>\n",
       "      <td>NaN</td>\n",
       "      <td>NaN</td>\n",
       "      <td>...</td>\n",
       "      <td>NaN</td>\n",
       "      <td>NaN</td>\n",
       "      <td>NaN</td>\n",
       "      <td>NaN</td>\n",
       "      <td>NaN</td>\n",
       "      <td>NaN</td>\n",
       "      <td>NaN</td>\n",
       "      <td>NaN</td>\n",
       "      <td>0.0</td>\n",
       "      <td>0.0</td>\n",
       "    </tr>\n",
       "    <tr>\n",
       "      <th>9872</th>\n",
       "      <td>InChI=1S/C15H18N2/c1-2-7-14-12(5-1)13-6-3-4-11...</td>\n",
       "      <td>NaN</td>\n",
       "      <td>NaN</td>\n",
       "      <td>NaN</td>\n",
       "      <td>NaN</td>\n",
       "      <td>NaN</td>\n",
       "      <td>NaN</td>\n",
       "      <td>NaN</td>\n",
       "      <td>NaN</td>\n",
       "      <td>NaN</td>\n",
       "      <td>...</td>\n",
       "      <td>NaN</td>\n",
       "      <td>NaN</td>\n",
       "      <td>NaN</td>\n",
       "      <td>NaN</td>\n",
       "      <td>NaN</td>\n",
       "      <td>NaN</td>\n",
       "      <td>NaN</td>\n",
       "      <td>NaN</td>\n",
       "      <td>0.0</td>\n",
       "      <td>0.0</td>\n",
       "    </tr>\n",
       "    <tr>\n",
       "      <th>9873</th>\n",
       "      <td>InChI=1S/C33H44N4O4/c1-22-18-37(23(2)20-38)32(...</td>\n",
       "      <td>NaN</td>\n",
       "      <td>NaN</td>\n",
       "      <td>NaN</td>\n",
       "      <td>NaN</td>\n",
       "      <td>NaN</td>\n",
       "      <td>NaN</td>\n",
       "      <td>NaN</td>\n",
       "      <td>NaN</td>\n",
       "      <td>NaN</td>\n",
       "      <td>...</td>\n",
       "      <td>NaN</td>\n",
       "      <td>NaN</td>\n",
       "      <td>NaN</td>\n",
       "      <td>NaN</td>\n",
       "      <td>NaN</td>\n",
       "      <td>NaN</td>\n",
       "      <td>NaN</td>\n",
       "      <td>NaN</td>\n",
       "      <td>1.0</td>\n",
       "      <td>1.0</td>\n",
       "    </tr>\n",
       "    <tr>\n",
       "      <th>9874</th>\n",
       "      <td>InChI=1S/C18H16NO/c1-14-11-12-19(17-10-6-5-9-1...</td>\n",
       "      <td>NaN</td>\n",
       "      <td>NaN</td>\n",
       "      <td>NaN</td>\n",
       "      <td>NaN</td>\n",
       "      <td>NaN</td>\n",
       "      <td>NaN</td>\n",
       "      <td>NaN</td>\n",
       "      <td>NaN</td>\n",
       "      <td>NaN</td>\n",
       "      <td>...</td>\n",
       "      <td>NaN</td>\n",
       "      <td>NaN</td>\n",
       "      <td>NaN</td>\n",
       "      <td>NaN</td>\n",
       "      <td>NaN</td>\n",
       "      <td>NaN</td>\n",
       "      <td>NaN</td>\n",
       "      <td>NaN</td>\n",
       "      <td>0.0</td>\n",
       "      <td>0.0</td>\n",
       "    </tr>\n",
       "    <tr>\n",
       "      <th>9875</th>\n",
       "      <td>InChI=1S/C13H11Cl2N3O/c1-8-5-6-9(7-16-8)17-13(...</td>\n",
       "      <td>NaN</td>\n",
       "      <td>NaN</td>\n",
       "      <td>NaN</td>\n",
       "      <td>NaN</td>\n",
       "      <td>NaN</td>\n",
       "      <td>NaN</td>\n",
       "      <td>NaN</td>\n",
       "      <td>NaN</td>\n",
       "      <td>NaN</td>\n",
       "      <td>...</td>\n",
       "      <td>NaN</td>\n",
       "      <td>NaN</td>\n",
       "      <td>NaN</td>\n",
       "      <td>NaN</td>\n",
       "      <td>NaN</td>\n",
       "      <td>NaN</td>\n",
       "      <td>NaN</td>\n",
       "      <td>NaN</td>\n",
       "      <td>1.0</td>\n",
       "      <td>1.0</td>\n",
       "    </tr>\n",
       "  </tbody>\n",
       "</table>\n",
       "<p>9876 rows × 89 columns</p>\n",
       "</div>"
      ],
      "text/plain": [
       "                                 InChICode_standardised  588458  588334  2642  \\\n",
       "0     InChI=1S/C14H13N5O5S2/c1-2-5-3-25-12-8(11(21)1...     1.0     NaN   NaN   \n",
       "1     InChI=1S/C22H21NO2S/c23-20(21(24)25)16-26-22(1...     1.0     NaN   NaN   \n",
       "2     InChI=1S/C15H8O7/c16-6-3-8-12(10(18)4-6)14(20)...     1.0     NaN   NaN   \n",
       "3     InChI=1S/C8H10O4/c1-5(2)8(10)6(11-3)4-7(9)12-8...     1.0     NaN   NaN   \n",
       "4     InChI=1S/C14H14O4S2/c15-5-7-19-13-11(17)9-3-1-...     1.0     NaN   NaN   \n",
       "...                                                 ...     ...     ...   ...   \n",
       "9871  InChI=1S/C11H8O3/c1-7(12)9-6-8-4-2-3-5-10(8)14...     NaN     NaN   NaN   \n",
       "9872  InChI=1S/C15H18N2/c1-2-7-14-12(5-1)13-6-3-4-11...     NaN     NaN   NaN   \n",
       "9873  InChI=1S/C33H44N4O4/c1-22-18-37(23(2)20-38)32(...     NaN     NaN   NaN   \n",
       "9874  InChI=1S/C18H16NO/c1-14-11-12-19(17-10-6-5-9-1...     NaN     NaN   NaN   \n",
       "9875  InChI=1S/C13H11Cl2N3O/c1-8-5-6-9(7-16-8)17-13(...     NaN     NaN   NaN   \n",
       "\n",
       "      2156  2330  2216  743015  504444  894  ...  652104  720579  720533  \\\n",
       "0      NaN   NaN   NaN     NaN     NaN  NaN  ...     NaN     NaN     NaN   \n",
       "1      NaN   NaN   NaN     NaN     NaN  NaN  ...     NaN     NaN     NaN   \n",
       "2      NaN   NaN   NaN     NaN     NaN  1.0  ...     0.0     NaN     NaN   \n",
       "3      NaN   NaN   NaN     NaN     NaN  0.0  ...     NaN     NaN     NaN   \n",
       "4      NaN   1.0   NaN     NaN     1.0  1.0  ...     NaN     NaN     NaN   \n",
       "...    ...   ...   ...     ...     ...  ...  ...     ...     ...     ...   \n",
       "9871   NaN   NaN   NaN     NaN     NaN  NaN  ...     NaN     NaN     NaN   \n",
       "9872   NaN   NaN   NaN     NaN     NaN  NaN  ...     NaN     NaN     NaN   \n",
       "9873   NaN   NaN   NaN     NaN     NaN  NaN  ...     NaN     NaN     NaN   \n",
       "9874   NaN   NaN   NaN     NaN     NaN  NaN  ...     NaN     NaN     NaN   \n",
       "9875   NaN   NaN   NaN     NaN     NaN  NaN  ...     NaN     NaN     NaN   \n",
       "\n",
       "      720542  720580  720504  720532  1159524  1117304  1117305  \n",
       "0        NaN     NaN     NaN     NaN      NaN      NaN      NaN  \n",
       "1        NaN     NaN     NaN     NaN      NaN      NaN      0.0  \n",
       "2        NaN     NaN     NaN     0.0      NaN      NaN      NaN  \n",
       "3        NaN     NaN     NaN     NaN      NaN      NaN      NaN  \n",
       "4        NaN     NaN     NaN     NaN      NaN      NaN      NaN  \n",
       "...      ...     ...     ...     ...      ...      ...      ...  \n",
       "9871     NaN     NaN     NaN     NaN      NaN      0.0      0.0  \n",
       "9872     NaN     NaN     NaN     NaN      NaN      0.0      0.0  \n",
       "9873     NaN     NaN     NaN     NaN      NaN      1.0      1.0  \n",
       "9874     NaN     NaN     NaN     NaN      NaN      0.0      0.0  \n",
       "9875     NaN     NaN     NaN     NaN      NaN      1.0      1.0  \n",
       "\n",
       "[9876 rows x 89 columns]"
      ]
     },
     "execution_count": 3,
     "metadata": {},
     "output_type": "execute_result"
    }
   ],
   "source": [
    "df_data = pd.read_csv(\"./assay_data_filtered_88_inchi.csv\") \n",
    "assay_list= df_data.columns.to_list()[1:-1]\n",
    "df_data = df_data.drop(columns= [\"smiles_r\"])\n",
    "df_data"
   ]
  },
  {
   "cell_type": "code",
   "execution_count": 4,
   "id": "905ab2fa",
   "metadata": {},
   "outputs": [
    {
     "data": {
      "text/plain": [
       "88"
      ]
     },
     "execution_count": 4,
     "metadata": {},
     "output_type": "execute_result"
    }
   ],
   "source": [
    "len(assay_list)"
   ]
  },
  {
   "cell_type": "code",
   "execution_count": 5,
   "id": "0d1e744e",
   "metadata": {},
   "outputs": [
    {
     "data": {
      "text/plain": [
       "'1117305'"
      ]
     },
     "execution_count": 5,
     "metadata": {},
     "output_type": "execute_result"
    }
   ],
   "source": [
    "assay_list[-1]"
   ]
  },
  {
   "cell_type": "code",
   "execution_count": 6,
   "id": "2b48f417",
   "metadata": {},
   "outputs": [
    {
     "data": {
      "text/html": [
       "<div>\n",
       "<style scoped>\n",
       "    .dataframe tbody tr th:only-of-type {\n",
       "        vertical-align: middle;\n",
       "    }\n",
       "\n",
       "    .dataframe tbody tr th {\n",
       "        vertical-align: top;\n",
       "    }\n",
       "\n",
       "    .dataframe thead th {\n",
       "        text-align: right;\n",
       "    }\n",
       "</style>\n",
       "<table border=\"1\" class=\"dataframe\">\n",
       "  <thead>\n",
       "    <tr style=\"text-align: right;\">\n",
       "      <th></th>\n",
       "      <th>Cells_AreaShape_MedianRadius</th>\n",
       "      <th>Cells_Correlation_Correlation_DNA_AGP</th>\n",
       "      <th>Cells_Correlation_Correlation_ER_AGP</th>\n",
       "      <th>Cells_Correlation_K_AGP_DNA</th>\n",
       "      <th>Cells_Correlation_K_DNA_AGP</th>\n",
       "      <th>Cells_Correlation_K_DNA_ER</th>\n",
       "      <th>Cells_Correlation_K_DNA_Mito</th>\n",
       "      <th>Cells_Correlation_K_ER_DNA</th>\n",
       "      <th>Cells_Correlation_K_Mito_DNA</th>\n",
       "      <th>Cells_Correlation_K_RNA_DNA</th>\n",
       "      <th>...</th>\n",
       "      <th>Nuclei_Texture_SumVariance_DNA_10_0</th>\n",
       "      <th>Nuclei_Texture_SumVariance_ER_10_0</th>\n",
       "      <th>Nuclei_Texture_SumVariance_Mito_10_0</th>\n",
       "      <th>Nuclei_Texture_SumVariance_RNA_10_0</th>\n",
       "      <th>Nuclei_Texture_SumVariance_RNA_5_0</th>\n",
       "      <th>Nuclei_Texture_Variance_AGP_10_0</th>\n",
       "      <th>Nuclei_Texture_Variance_ER_10_0</th>\n",
       "      <th>Nuclei_Texture_Variance_Mito_10_0</th>\n",
       "      <th>Nuclei_Texture_Variance_RNA_10_0</th>\n",
       "      <th>InChICode_standardised</th>\n",
       "    </tr>\n",
       "  </thead>\n",
       "  <tbody>\n",
       "    <tr>\n",
       "      <th>0</th>\n",
       "      <td>0.963798</td>\n",
       "      <td>0.159010</td>\n",
       "      <td>0.047354</td>\n",
       "      <td>-0.137963</td>\n",
       "      <td>0.216676</td>\n",
       "      <td>0.144280</td>\n",
       "      <td>0.113497</td>\n",
       "      <td>-0.117675</td>\n",
       "      <td>-0.079211</td>\n",
       "      <td>-0.206469</td>\n",
       "      <td>...</td>\n",
       "      <td>-0.245524</td>\n",
       "      <td>-0.268078</td>\n",
       "      <td>-0.123740</td>\n",
       "      <td>0.122226</td>\n",
       "      <td>0.402861</td>\n",
       "      <td>-0.206448</td>\n",
       "      <td>-0.158874</td>\n",
       "      <td>-0.121066</td>\n",
       "      <td>0.185686</td>\n",
       "      <td>InChI=1S/C14H13N5O5S2/c1-2-5-3-25-12-8(11(21)1...</td>\n",
       "    </tr>\n",
       "    <tr>\n",
       "      <th>1</th>\n",
       "      <td>1.210207</td>\n",
       "      <td>0.367478</td>\n",
       "      <td>0.263613</td>\n",
       "      <td>0.083119</td>\n",
       "      <td>-0.181781</td>\n",
       "      <td>-0.118582</td>\n",
       "      <td>-0.041744</td>\n",
       "      <td>0.069925</td>\n",
       "      <td>0.043344</td>\n",
       "      <td>0.016976</td>\n",
       "      <td>...</td>\n",
       "      <td>-0.125642</td>\n",
       "      <td>0.168251</td>\n",
       "      <td>-0.116379</td>\n",
       "      <td>0.316108</td>\n",
       "      <td>0.299225</td>\n",
       "      <td>-0.173420</td>\n",
       "      <td>0.057710</td>\n",
       "      <td>0.010376</td>\n",
       "      <td>0.272074</td>\n",
       "      <td>InChI=1S/C22H21NO2S/c23-20(21(24)25)16-26-22(1...</td>\n",
       "    </tr>\n",
       "    <tr>\n",
       "      <th>2</th>\n",
       "      <td>0.581696</td>\n",
       "      <td>0.125987</td>\n",
       "      <td>0.092521</td>\n",
       "      <td>-0.021064</td>\n",
       "      <td>0.054373</td>\n",
       "      <td>-0.037538</td>\n",
       "      <td>0.053001</td>\n",
       "      <td>0.018777</td>\n",
       "      <td>-0.053614</td>\n",
       "      <td>0.075178</td>\n",
       "      <td>...</td>\n",
       "      <td>-0.059526</td>\n",
       "      <td>0.071001</td>\n",
       "      <td>-0.029977</td>\n",
       "      <td>-1.310799</td>\n",
       "      <td>-1.847892</td>\n",
       "      <td>-0.000630</td>\n",
       "      <td>0.055282</td>\n",
       "      <td>0.028152</td>\n",
       "      <td>-0.610017</td>\n",
       "      <td>InChI=1S/C15H8O7/c16-6-3-8-12(10(18)4-6)14(20)...</td>\n",
       "    </tr>\n",
       "    <tr>\n",
       "      <th>3</th>\n",
       "      <td>0.248304</td>\n",
       "      <td>-0.014260</td>\n",
       "      <td>-0.018056</td>\n",
       "      <td>-0.037718</td>\n",
       "      <td>0.063135</td>\n",
       "      <td>0.032092</td>\n",
       "      <td>-0.014411</td>\n",
       "      <td>-0.009945</td>\n",
       "      <td>-0.000591</td>\n",
       "      <td>-0.023499</td>\n",
       "      <td>...</td>\n",
       "      <td>-0.554508</td>\n",
       "      <td>-0.357952</td>\n",
       "      <td>-0.232800</td>\n",
       "      <td>-0.197858</td>\n",
       "      <td>-0.499390</td>\n",
       "      <td>-0.065841</td>\n",
       "      <td>-0.123535</td>\n",
       "      <td>-0.071141</td>\n",
       "      <td>-0.109201</td>\n",
       "      <td>InChI=1S/C8H10O4/c1-5(2)8(10)6(11-3)4-7(9)12-8...</td>\n",
       "    </tr>\n",
       "    <tr>\n",
       "      <th>4</th>\n",
       "      <td>-2.382596</td>\n",
       "      <td>0.342042</td>\n",
       "      <td>0.183357</td>\n",
       "      <td>-0.814742</td>\n",
       "      <td>1.361776</td>\n",
       "      <td>3.826898</td>\n",
       "      <td>3.387335</td>\n",
       "      <td>-0.507087</td>\n",
       "      <td>-0.559135</td>\n",
       "      <td>-0.432035</td>\n",
       "      <td>...</td>\n",
       "      <td>-2.017392</td>\n",
       "      <td>1.497684</td>\n",
       "      <td>0.264454</td>\n",
       "      <td>-0.562605</td>\n",
       "      <td>1.086744</td>\n",
       "      <td>0.311285</td>\n",
       "      <td>0.727071</td>\n",
       "      <td>0.874987</td>\n",
       "      <td>0.189458</td>\n",
       "      <td>InChI=1S/C14H14O4S2/c15-5-7-19-13-11(17)9-3-1-...</td>\n",
       "    </tr>\n",
       "    <tr>\n",
       "      <th>...</th>\n",
       "      <td>...</td>\n",
       "      <td>...</td>\n",
       "      <td>...</td>\n",
       "      <td>...</td>\n",
       "      <td>...</td>\n",
       "      <td>...</td>\n",
       "      <td>...</td>\n",
       "      <td>...</td>\n",
       "      <td>...</td>\n",
       "      <td>...</td>\n",
       "      <td>...</td>\n",
       "      <td>...</td>\n",
       "      <td>...</td>\n",
       "      <td>...</td>\n",
       "      <td>...</td>\n",
       "      <td>...</td>\n",
       "      <td>...</td>\n",
       "      <td>...</td>\n",
       "      <td>...</td>\n",
       "      <td>...</td>\n",
       "      <td>...</td>\n",
       "    </tr>\n",
       "    <tr>\n",
       "      <th>9871</th>\n",
       "      <td>-0.000341</td>\n",
       "      <td>-0.022052</td>\n",
       "      <td>-0.049354</td>\n",
       "      <td>-0.077226</td>\n",
       "      <td>0.036142</td>\n",
       "      <td>0.035560</td>\n",
       "      <td>0.034507</td>\n",
       "      <td>-0.021980</td>\n",
       "      <td>-0.036769</td>\n",
       "      <td>-0.026607</td>\n",
       "      <td>...</td>\n",
       "      <td>-0.154942</td>\n",
       "      <td>-0.208285</td>\n",
       "      <td>0.094947</td>\n",
       "      <td>-0.064585</td>\n",
       "      <td>-0.062841</td>\n",
       "      <td>-0.050082</td>\n",
       "      <td>-0.050364</td>\n",
       "      <td>0.009238</td>\n",
       "      <td>-0.025615</td>\n",
       "      <td>InChI=1S/C11H8O3/c1-7(12)9-6-8-4-2-3-5-10(8)14...</td>\n",
       "    </tr>\n",
       "    <tr>\n",
       "      <th>9872</th>\n",
       "      <td>0.148294</td>\n",
       "      <td>0.043186</td>\n",
       "      <td>0.001665</td>\n",
       "      <td>-0.007765</td>\n",
       "      <td>-0.000027</td>\n",
       "      <td>-0.011346</td>\n",
       "      <td>0.075195</td>\n",
       "      <td>0.006984</td>\n",
       "      <td>-0.059737</td>\n",
       "      <td>-0.038276</td>\n",
       "      <td>...</td>\n",
       "      <td>-0.421050</td>\n",
       "      <td>-0.162980</td>\n",
       "      <td>-0.191575</td>\n",
       "      <td>-0.036555</td>\n",
       "      <td>-0.244200</td>\n",
       "      <td>-0.052731</td>\n",
       "      <td>-0.053152</td>\n",
       "      <td>-0.102096</td>\n",
       "      <td>0.074795</td>\n",
       "      <td>InChI=1S/C15H18N2/c1-2-7-14-12(5-1)13-6-3-4-11...</td>\n",
       "    </tr>\n",
       "    <tr>\n",
       "      <th>9873</th>\n",
       "      <td>0.043964</td>\n",
       "      <td>0.063290</td>\n",
       "      <td>0.016303</td>\n",
       "      <td>-0.056327</td>\n",
       "      <td>0.025226</td>\n",
       "      <td>0.010598</td>\n",
       "      <td>0.121048</td>\n",
       "      <td>-0.004245</td>\n",
       "      <td>-0.069040</td>\n",
       "      <td>-0.121069</td>\n",
       "      <td>...</td>\n",
       "      <td>0.805582</td>\n",
       "      <td>0.352569</td>\n",
       "      <td>-0.237808</td>\n",
       "      <td>0.390295</td>\n",
       "      <td>0.707784</td>\n",
       "      <td>0.231027</td>\n",
       "      <td>0.102048</td>\n",
       "      <td>-0.001059</td>\n",
       "      <td>0.298214</td>\n",
       "      <td>InChI=1S/C33H44N4O4/c1-22-18-37(23(2)20-38)32(...</td>\n",
       "    </tr>\n",
       "    <tr>\n",
       "      <th>9874</th>\n",
       "      <td>-0.080926</td>\n",
       "      <td>-0.094140</td>\n",
       "      <td>-0.105359</td>\n",
       "      <td>0.045901</td>\n",
       "      <td>-0.024562</td>\n",
       "      <td>0.026936</td>\n",
       "      <td>-0.022409</td>\n",
       "      <td>-0.024922</td>\n",
       "      <td>0.042600</td>\n",
       "      <td>-0.009710</td>\n",
       "      <td>...</td>\n",
       "      <td>-0.200248</td>\n",
       "      <td>-0.237660</td>\n",
       "      <td>-0.151925</td>\n",
       "      <td>-0.112267</td>\n",
       "      <td>-0.158519</td>\n",
       "      <td>-0.020584</td>\n",
       "      <td>-0.080274</td>\n",
       "      <td>-0.091421</td>\n",
       "      <td>-0.034917</td>\n",
       "      <td>InChI=1S/C18H16NO/c1-14-11-12-19(17-10-6-5-9-1...</td>\n",
       "    </tr>\n",
       "    <tr>\n",
       "      <th>9875</th>\n",
       "      <td>-0.371197</td>\n",
       "      <td>-0.033093</td>\n",
       "      <td>0.044666</td>\n",
       "      <td>0.078833</td>\n",
       "      <td>-0.041874</td>\n",
       "      <td>-0.077236</td>\n",
       "      <td>0.010462</td>\n",
       "      <td>0.089939</td>\n",
       "      <td>0.004667</td>\n",
       "      <td>0.101875</td>\n",
       "      <td>...</td>\n",
       "      <td>-0.134047</td>\n",
       "      <td>-0.065733</td>\n",
       "      <td>-0.135633</td>\n",
       "      <td>0.086946</td>\n",
       "      <td>0.180089</td>\n",
       "      <td>0.022658</td>\n",
       "      <td>-0.005595</td>\n",
       "      <td>0.023331</td>\n",
       "      <td>0.095939</td>\n",
       "      <td>InChI=1S/C13H11Cl2N3O/c1-8-5-6-9(7-16-8)17-13(...</td>\n",
       "    </tr>\n",
       "  </tbody>\n",
       "</table>\n",
       "<p>9876 rows × 185 columns</p>\n",
       "</div>"
      ],
      "text/plain": [
       "      Cells_AreaShape_MedianRadius  Cells_Correlation_Correlation_DNA_AGP  \\\n",
       "0                         0.963798                               0.159010   \n",
       "1                         1.210207                               0.367478   \n",
       "2                         0.581696                               0.125987   \n",
       "3                         0.248304                              -0.014260   \n",
       "4                        -2.382596                               0.342042   \n",
       "...                            ...                                    ...   \n",
       "9871                     -0.000341                              -0.022052   \n",
       "9872                      0.148294                               0.043186   \n",
       "9873                      0.043964                               0.063290   \n",
       "9874                     -0.080926                              -0.094140   \n",
       "9875                     -0.371197                              -0.033093   \n",
       "\n",
       "      Cells_Correlation_Correlation_ER_AGP  Cells_Correlation_K_AGP_DNA  \\\n",
       "0                                 0.047354                    -0.137963   \n",
       "1                                 0.263613                     0.083119   \n",
       "2                                 0.092521                    -0.021064   \n",
       "3                                -0.018056                    -0.037718   \n",
       "4                                 0.183357                    -0.814742   \n",
       "...                                    ...                          ...   \n",
       "9871                             -0.049354                    -0.077226   \n",
       "9872                              0.001665                    -0.007765   \n",
       "9873                              0.016303                    -0.056327   \n",
       "9874                             -0.105359                     0.045901   \n",
       "9875                              0.044666                     0.078833   \n",
       "\n",
       "      Cells_Correlation_K_DNA_AGP  Cells_Correlation_K_DNA_ER  \\\n",
       "0                        0.216676                    0.144280   \n",
       "1                       -0.181781                   -0.118582   \n",
       "2                        0.054373                   -0.037538   \n",
       "3                        0.063135                    0.032092   \n",
       "4                        1.361776                    3.826898   \n",
       "...                           ...                         ...   \n",
       "9871                     0.036142                    0.035560   \n",
       "9872                    -0.000027                   -0.011346   \n",
       "9873                     0.025226                    0.010598   \n",
       "9874                    -0.024562                    0.026936   \n",
       "9875                    -0.041874                   -0.077236   \n",
       "\n",
       "      Cells_Correlation_K_DNA_Mito  Cells_Correlation_K_ER_DNA  \\\n",
       "0                         0.113497                   -0.117675   \n",
       "1                        -0.041744                    0.069925   \n",
       "2                         0.053001                    0.018777   \n",
       "3                        -0.014411                   -0.009945   \n",
       "4                         3.387335                   -0.507087   \n",
       "...                            ...                         ...   \n",
       "9871                      0.034507                   -0.021980   \n",
       "9872                      0.075195                    0.006984   \n",
       "9873                      0.121048                   -0.004245   \n",
       "9874                     -0.022409                   -0.024922   \n",
       "9875                      0.010462                    0.089939   \n",
       "\n",
       "      Cells_Correlation_K_Mito_DNA  Cells_Correlation_K_RNA_DNA  ...  \\\n",
       "0                        -0.079211                    -0.206469  ...   \n",
       "1                         0.043344                     0.016976  ...   \n",
       "2                        -0.053614                     0.075178  ...   \n",
       "3                        -0.000591                    -0.023499  ...   \n",
       "4                        -0.559135                    -0.432035  ...   \n",
       "...                            ...                          ...  ...   \n",
       "9871                     -0.036769                    -0.026607  ...   \n",
       "9872                     -0.059737                    -0.038276  ...   \n",
       "9873                     -0.069040                    -0.121069  ...   \n",
       "9874                      0.042600                    -0.009710  ...   \n",
       "9875                      0.004667                     0.101875  ...   \n",
       "\n",
       "      Nuclei_Texture_SumVariance_DNA_10_0  Nuclei_Texture_SumVariance_ER_10_0  \\\n",
       "0                               -0.245524                           -0.268078   \n",
       "1                               -0.125642                            0.168251   \n",
       "2                               -0.059526                            0.071001   \n",
       "3                               -0.554508                           -0.357952   \n",
       "4                               -2.017392                            1.497684   \n",
       "...                                   ...                                 ...   \n",
       "9871                            -0.154942                           -0.208285   \n",
       "9872                            -0.421050                           -0.162980   \n",
       "9873                             0.805582                            0.352569   \n",
       "9874                            -0.200248                           -0.237660   \n",
       "9875                            -0.134047                           -0.065733   \n",
       "\n",
       "      Nuclei_Texture_SumVariance_Mito_10_0  \\\n",
       "0                                -0.123740   \n",
       "1                                -0.116379   \n",
       "2                                -0.029977   \n",
       "3                                -0.232800   \n",
       "4                                 0.264454   \n",
       "...                                    ...   \n",
       "9871                              0.094947   \n",
       "9872                             -0.191575   \n",
       "9873                             -0.237808   \n",
       "9874                             -0.151925   \n",
       "9875                             -0.135633   \n",
       "\n",
       "      Nuclei_Texture_SumVariance_RNA_10_0  Nuclei_Texture_SumVariance_RNA_5_0  \\\n",
       "0                                0.122226                            0.402861   \n",
       "1                                0.316108                            0.299225   \n",
       "2                               -1.310799                           -1.847892   \n",
       "3                               -0.197858                           -0.499390   \n",
       "4                               -0.562605                            1.086744   \n",
       "...                                   ...                                 ...   \n",
       "9871                            -0.064585                           -0.062841   \n",
       "9872                            -0.036555                           -0.244200   \n",
       "9873                             0.390295                            0.707784   \n",
       "9874                            -0.112267                           -0.158519   \n",
       "9875                             0.086946                            0.180089   \n",
       "\n",
       "      Nuclei_Texture_Variance_AGP_10_0  Nuclei_Texture_Variance_ER_10_0  \\\n",
       "0                            -0.206448                        -0.158874   \n",
       "1                            -0.173420                         0.057710   \n",
       "2                            -0.000630                         0.055282   \n",
       "3                            -0.065841                        -0.123535   \n",
       "4                             0.311285                         0.727071   \n",
       "...                                ...                              ...   \n",
       "9871                         -0.050082                        -0.050364   \n",
       "9872                         -0.052731                        -0.053152   \n",
       "9873                          0.231027                         0.102048   \n",
       "9874                         -0.020584                        -0.080274   \n",
       "9875                          0.022658                        -0.005595   \n",
       "\n",
       "      Nuclei_Texture_Variance_Mito_10_0  Nuclei_Texture_Variance_RNA_10_0  \\\n",
       "0                             -0.121066                          0.185686   \n",
       "1                              0.010376                          0.272074   \n",
       "2                              0.028152                         -0.610017   \n",
       "3                             -0.071141                         -0.109201   \n",
       "4                              0.874987                          0.189458   \n",
       "...                                 ...                               ...   \n",
       "9871                           0.009238                         -0.025615   \n",
       "9872                          -0.102096                          0.074795   \n",
       "9873                          -0.001059                          0.298214   \n",
       "9874                          -0.091421                         -0.034917   \n",
       "9875                           0.023331                          0.095939   \n",
       "\n",
       "                                 InChICode_standardised  \n",
       "0     InChI=1S/C14H13N5O5S2/c1-2-5-3-25-12-8(11(21)1...  \n",
       "1     InChI=1S/C22H21NO2S/c23-20(21(24)25)16-26-22(1...  \n",
       "2     InChI=1S/C15H8O7/c16-6-3-8-12(10(18)4-6)14(20)...  \n",
       "3     InChI=1S/C8H10O4/c1-5(2)8(10)6(11-3)4-7(9)12-8...  \n",
       "4     InChI=1S/C14H14O4S2/c15-5-7-19-13-11(17)9-3-1-...  \n",
       "...                                                 ...  \n",
       "9871  InChI=1S/C11H8O3/c1-7(12)9-6-8-4-2-3-5-10(8)14...  \n",
       "9872  InChI=1S/C15H18N2/c1-2-7-14-12(5-1)13-6-3-4-11...  \n",
       "9873  InChI=1S/C33H44N4O4/c1-22-18-37(23(2)20-38)32(...  \n",
       "9874  InChI=1S/C18H16NO/c1-14-11-12-19(17-10-6-5-9-1...  \n",
       "9875  InChI=1S/C13H11Cl2N3O/c1-8-5-6-9(7-16-8)17-13(...  \n",
       "\n",
       "[9876 rows x 185 columns]"
      ]
     },
     "execution_count": 6,
     "metadata": {},
     "output_type": "execute_result"
    }
   ],
   "source": [
    "CP_features = pd.read_csv(\"./CP_filtered_9876.csv\") \n",
    "CP_features_list= CP_features.columns.to_list()[:-1]\n",
    "#CP_features = CP_features.to_numpy()\n",
    "CP_features"
   ]
  },
  {
   "cell_type": "code",
   "execution_count": 7,
   "id": "fba16d0c",
   "metadata": {},
   "outputs": [
    {
     "data": {
      "text/html": [
       "<div>\n",
       "<style scoped>\n",
       "    .dataframe tbody tr th:only-of-type {\n",
       "        vertical-align: middle;\n",
       "    }\n",
       "\n",
       "    .dataframe tbody tr th {\n",
       "        vertical-align: top;\n",
       "    }\n",
       "\n",
       "    .dataframe thead th {\n",
       "        text-align: right;\n",
       "    }\n",
       "</style>\n",
       "<table border=\"1\" class=\"dataframe\">\n",
       "  <thead>\n",
       "    <tr style=\"text-align: right;\">\n",
       "      <th></th>\n",
       "      <th>InChICode_standardised</th>\n",
       "      <th>fp</th>\n",
       "    </tr>\n",
       "  </thead>\n",
       "  <tbody>\n",
       "    <tr>\n",
       "      <th>0</th>\n",
       "      <td>InChI=1S/C14H13N5O5S2/c1-2-5-3-25-12-8(11(21)1...</td>\n",
       "      <td>[0, 0, 0, 0, 0, 0, 0, 0, 0, 0, 0, 0, 0, 0, 0, ...</td>\n",
       "    </tr>\n",
       "    <tr>\n",
       "      <th>1</th>\n",
       "      <td>InChI=1S/C22H21NO2S/c23-20(21(24)25)16-26-22(1...</td>\n",
       "      <td>[1, 0, 0, 0, 0, 1, 0, 1, 1, 0, 0, 0, 0, 0, 0, ...</td>\n",
       "    </tr>\n",
       "    <tr>\n",
       "      <th>2</th>\n",
       "      <td>InChI=1S/C15H8O7/c16-6-3-8-12(10(18)4-6)14(20)...</td>\n",
       "      <td>[0, 0, 0, 0, 0, 0, 0, 0, 0, 0, 0, 0, 0, 0, 0, ...</td>\n",
       "    </tr>\n",
       "    <tr>\n",
       "      <th>3</th>\n",
       "      <td>InChI=1S/C8H10O4/c1-5(2)8(10)6(11-3)4-7(9)12-8...</td>\n",
       "      <td>[0, 0, 0, 0, 0, 0, 0, 0, 0, 0, 0, 0, 0, 0, 0, ...</td>\n",
       "    </tr>\n",
       "    <tr>\n",
       "      <th>4</th>\n",
       "      <td>InChI=1S/C14H14O4S2/c15-5-7-19-13-11(17)9-3-1-...</td>\n",
       "      <td>[1, 0, 0, 0, 0, 1, 0, 0, 1, 0, 0, 0, 0, 0, 0, ...</td>\n",
       "    </tr>\n",
       "    <tr>\n",
       "      <th>...</th>\n",
       "      <td>...</td>\n",
       "      <td>...</td>\n",
       "    </tr>\n",
       "    <tr>\n",
       "      <th>9871</th>\n",
       "      <td>InChI=1S/C11H8O3/c1-7(12)9-6-8-4-2-3-5-10(8)14...</td>\n",
       "      <td>[0, 0, 0, 0, 0, 0, 0, 0, 0, 0, 0, 0, 0, 0, 0, ...</td>\n",
       "    </tr>\n",
       "    <tr>\n",
       "      <th>9872</th>\n",
       "      <td>InChI=1S/C15H18N2/c1-2-7-14-12(5-1)13-6-3-4-11...</td>\n",
       "      <td>[0, 0, 0, 0, 0, 0, 0, 0, 0, 0, 0, 0, 0, 0, 0, ...</td>\n",
       "    </tr>\n",
       "    <tr>\n",
       "      <th>9873</th>\n",
       "      <td>InChI=1S/C33H44N4O4/c1-22-18-37(23(2)20-38)32(...</td>\n",
       "      <td>[1, 1, 0, 0, 1, 1, 0, 0, 0, 0, 0, 0, 0, 0, 0, ...</td>\n",
       "    </tr>\n",
       "    <tr>\n",
       "      <th>9874</th>\n",
       "      <td>InChI=1S/C18H16NO/c1-14-11-12-19(17-10-6-5-9-1...</td>\n",
       "      <td>[0, 0, 0, 0, 0, 1, 0, 0, 0, 0, 0, 0, 0, 0, 0, ...</td>\n",
       "    </tr>\n",
       "    <tr>\n",
       "      <th>9875</th>\n",
       "      <td>InChI=1S/C13H11Cl2N3O/c1-8-5-6-9(7-16-8)17-13(...</td>\n",
       "      <td>[0, 0, 0, 0, 0, 0, 0, 0, 0, 0, 0, 0, 0, 1, 0, ...</td>\n",
       "    </tr>\n",
       "  </tbody>\n",
       "</table>\n",
       "<p>9876 rows × 2 columns</p>\n",
       "</div>"
      ],
      "text/plain": [
       "                                 InChICode_standardised  \\\n",
       "0     InChI=1S/C14H13N5O5S2/c1-2-5-3-25-12-8(11(21)1...   \n",
       "1     InChI=1S/C22H21NO2S/c23-20(21(24)25)16-26-22(1...   \n",
       "2     InChI=1S/C15H8O7/c16-6-3-8-12(10(18)4-6)14(20)...   \n",
       "3     InChI=1S/C8H10O4/c1-5(2)8(10)6(11-3)4-7(9)12-8...   \n",
       "4     InChI=1S/C14H14O4S2/c15-5-7-19-13-11(17)9-3-1-...   \n",
       "...                                                 ...   \n",
       "9871  InChI=1S/C11H8O3/c1-7(12)9-6-8-4-2-3-5-10(8)14...   \n",
       "9872  InChI=1S/C15H18N2/c1-2-7-14-12(5-1)13-6-3-4-11...   \n",
       "9873  InChI=1S/C33H44N4O4/c1-22-18-37(23(2)20-38)32(...   \n",
       "9874  InChI=1S/C18H16NO/c1-14-11-12-19(17-10-6-5-9-1...   \n",
       "9875  InChI=1S/C13H11Cl2N3O/c1-8-5-6-9(7-16-8)17-13(...   \n",
       "\n",
       "                                                     fp  \n",
       "0     [0, 0, 0, 0, 0, 0, 0, 0, 0, 0, 0, 0, 0, 0, 0, ...  \n",
       "1     [1, 0, 0, 0, 0, 1, 0, 1, 1, 0, 0, 0, 0, 0, 0, ...  \n",
       "2     [0, 0, 0, 0, 0, 0, 0, 0, 0, 0, 0, 0, 0, 0, 0, ...  \n",
       "3     [0, 0, 0, 0, 0, 0, 0, 0, 0, 0, 0, 0, 0, 0, 0, ...  \n",
       "4     [1, 0, 0, 0, 0, 1, 0, 0, 1, 0, 0, 0, 0, 0, 0, ...  \n",
       "...                                                 ...  \n",
       "9871  [0, 0, 0, 0, 0, 0, 0, 0, 0, 0, 0, 0, 0, 0, 0, ...  \n",
       "9872  [0, 0, 0, 0, 0, 0, 0, 0, 0, 0, 0, 0, 0, 0, 0, ...  \n",
       "9873  [1, 1, 0, 0, 1, 1, 0, 0, 0, 0, 0, 0, 0, 0, 0, ...  \n",
       "9874  [0, 0, 0, 0, 0, 1, 0, 0, 0, 0, 0, 0, 0, 0, 0, ...  \n",
       "9875  [0, 0, 0, 0, 0, 0, 0, 0, 0, 0, 0, 0, 0, 1, 0, ...  \n",
       "\n",
       "[9876 rows x 2 columns]"
      ]
     },
     "execution_count": 7,
     "metadata": {},
     "output_type": "execute_result"
    }
   ],
   "source": [
    "mfp_features = pd.read_csv(\"./Mfp_filtered_9876.csv\") \n",
    "mfp_features_list = mfp_features.columns.to_list()[:-1]\n",
    "mfp_features['fp'] = [(x) for x in mfp_features.iloc[:, :-1].to_numpy()]\n",
    "mfp_features = mfp_features[[\"InChICode_standardised\", \"fp\"]]\n",
    "mfp_features"
   ]
  },
  {
   "cell_type": "code",
   "execution_count": 8,
   "id": "9f449bd0",
   "metadata": {},
   "outputs": [
    {
     "data": {
      "text/html": [
       "<div>\n",
       "<style scoped>\n",
       "    .dataframe tbody tr th:only-of-type {\n",
       "        vertical-align: middle;\n",
       "    }\n",
       "\n",
       "    .dataframe tbody tr th {\n",
       "        vertical-align: top;\n",
       "    }\n",
       "\n",
       "    .dataframe thead th {\n",
       "        text-align: right;\n",
       "    }\n",
       "</style>\n",
       "<table border=\"1\" class=\"dataframe\">\n",
       "  <thead>\n",
       "    <tr style=\"text-align: right;\">\n",
       "      <th></th>\n",
       "      <th>InChICode_standardised</th>\n",
       "      <th>588458</th>\n",
       "      <th>588334</th>\n",
       "      <th>2642</th>\n",
       "      <th>2156</th>\n",
       "      <th>2330</th>\n",
       "      <th>2216</th>\n",
       "      <th>743015</th>\n",
       "      <th>504444</th>\n",
       "      <th>894</th>\n",
       "      <th>...</th>\n",
       "      <th>Nuclei_Texture_SumVariance_DNA_10_0</th>\n",
       "      <th>Nuclei_Texture_SumVariance_ER_10_0</th>\n",
       "      <th>Nuclei_Texture_SumVariance_Mito_10_0</th>\n",
       "      <th>Nuclei_Texture_SumVariance_RNA_10_0</th>\n",
       "      <th>Nuclei_Texture_SumVariance_RNA_5_0</th>\n",
       "      <th>Nuclei_Texture_Variance_AGP_10_0</th>\n",
       "      <th>Nuclei_Texture_Variance_ER_10_0</th>\n",
       "      <th>Nuclei_Texture_Variance_Mito_10_0</th>\n",
       "      <th>Nuclei_Texture_Variance_RNA_10_0</th>\n",
       "      <th>fp</th>\n",
       "    </tr>\n",
       "  </thead>\n",
       "  <tbody>\n",
       "    <tr>\n",
       "      <th>0</th>\n",
       "      <td>InChI=1S/C14H13N5O5S2/c1-2-5-3-25-12-8(11(21)1...</td>\n",
       "      <td>1.0</td>\n",
       "      <td>NaN</td>\n",
       "      <td>NaN</td>\n",
       "      <td>NaN</td>\n",
       "      <td>NaN</td>\n",
       "      <td>NaN</td>\n",
       "      <td>NaN</td>\n",
       "      <td>NaN</td>\n",
       "      <td>NaN</td>\n",
       "      <td>...</td>\n",
       "      <td>-0.245524</td>\n",
       "      <td>-0.268078</td>\n",
       "      <td>-0.123740</td>\n",
       "      <td>0.122226</td>\n",
       "      <td>0.402861</td>\n",
       "      <td>-0.206448</td>\n",
       "      <td>-0.158874</td>\n",
       "      <td>-0.121066</td>\n",
       "      <td>0.185686</td>\n",
       "      <td>[0, 0, 0, 0, 0, 0, 0, 0, 0, 0, 0, 0, 0, 0, 0, ...</td>\n",
       "    </tr>\n",
       "    <tr>\n",
       "      <th>1</th>\n",
       "      <td>InChI=1S/C22H21NO2S/c23-20(21(24)25)16-26-22(1...</td>\n",
       "      <td>1.0</td>\n",
       "      <td>NaN</td>\n",
       "      <td>NaN</td>\n",
       "      <td>NaN</td>\n",
       "      <td>NaN</td>\n",
       "      <td>NaN</td>\n",
       "      <td>NaN</td>\n",
       "      <td>NaN</td>\n",
       "      <td>NaN</td>\n",
       "      <td>...</td>\n",
       "      <td>-0.125642</td>\n",
       "      <td>0.168251</td>\n",
       "      <td>-0.116379</td>\n",
       "      <td>0.316108</td>\n",
       "      <td>0.299225</td>\n",
       "      <td>-0.173420</td>\n",
       "      <td>0.057710</td>\n",
       "      <td>0.010376</td>\n",
       "      <td>0.272074</td>\n",
       "      <td>[1, 0, 0, 0, 0, 1, 0, 1, 1, 0, 0, 0, 0, 0, 0, ...</td>\n",
       "    </tr>\n",
       "    <tr>\n",
       "      <th>2</th>\n",
       "      <td>InChI=1S/C15H8O7/c16-6-3-8-12(10(18)4-6)14(20)...</td>\n",
       "      <td>1.0</td>\n",
       "      <td>NaN</td>\n",
       "      <td>NaN</td>\n",
       "      <td>NaN</td>\n",
       "      <td>NaN</td>\n",
       "      <td>NaN</td>\n",
       "      <td>NaN</td>\n",
       "      <td>NaN</td>\n",
       "      <td>1.0</td>\n",
       "      <td>...</td>\n",
       "      <td>-0.059526</td>\n",
       "      <td>0.071001</td>\n",
       "      <td>-0.029977</td>\n",
       "      <td>-1.310799</td>\n",
       "      <td>-1.847892</td>\n",
       "      <td>-0.000630</td>\n",
       "      <td>0.055282</td>\n",
       "      <td>0.028152</td>\n",
       "      <td>-0.610017</td>\n",
       "      <td>[0, 0, 0, 0, 0, 0, 0, 0, 0, 0, 0, 0, 0, 0, 0, ...</td>\n",
       "    </tr>\n",
       "    <tr>\n",
       "      <th>3</th>\n",
       "      <td>InChI=1S/C8H10O4/c1-5(2)8(10)6(11-3)4-7(9)12-8...</td>\n",
       "      <td>1.0</td>\n",
       "      <td>NaN</td>\n",
       "      <td>NaN</td>\n",
       "      <td>NaN</td>\n",
       "      <td>NaN</td>\n",
       "      <td>NaN</td>\n",
       "      <td>NaN</td>\n",
       "      <td>NaN</td>\n",
       "      <td>0.0</td>\n",
       "      <td>...</td>\n",
       "      <td>-0.554508</td>\n",
       "      <td>-0.357952</td>\n",
       "      <td>-0.232800</td>\n",
       "      <td>-0.197858</td>\n",
       "      <td>-0.499390</td>\n",
       "      <td>-0.065841</td>\n",
       "      <td>-0.123535</td>\n",
       "      <td>-0.071141</td>\n",
       "      <td>-0.109201</td>\n",
       "      <td>[0, 0, 0, 0, 0, 0, 0, 0, 0, 0, 0, 0, 0, 0, 0, ...</td>\n",
       "    </tr>\n",
       "    <tr>\n",
       "      <th>4</th>\n",
       "      <td>InChI=1S/C14H14O4S2/c15-5-7-19-13-11(17)9-3-1-...</td>\n",
       "      <td>1.0</td>\n",
       "      <td>NaN</td>\n",
       "      <td>NaN</td>\n",
       "      <td>NaN</td>\n",
       "      <td>1.0</td>\n",
       "      <td>NaN</td>\n",
       "      <td>NaN</td>\n",
       "      <td>1.0</td>\n",
       "      <td>1.0</td>\n",
       "      <td>...</td>\n",
       "      <td>-2.017392</td>\n",
       "      <td>1.497684</td>\n",
       "      <td>0.264454</td>\n",
       "      <td>-0.562605</td>\n",
       "      <td>1.086744</td>\n",
       "      <td>0.311285</td>\n",
       "      <td>0.727071</td>\n",
       "      <td>0.874987</td>\n",
       "      <td>0.189458</td>\n",
       "      <td>[1, 0, 0, 0, 0, 1, 0, 0, 1, 0, 0, 0, 0, 0, 0, ...</td>\n",
       "    </tr>\n",
       "    <tr>\n",
       "      <th>...</th>\n",
       "      <td>...</td>\n",
       "      <td>...</td>\n",
       "      <td>...</td>\n",
       "      <td>...</td>\n",
       "      <td>...</td>\n",
       "      <td>...</td>\n",
       "      <td>...</td>\n",
       "      <td>...</td>\n",
       "      <td>...</td>\n",
       "      <td>...</td>\n",
       "      <td>...</td>\n",
       "      <td>...</td>\n",
       "      <td>...</td>\n",
       "      <td>...</td>\n",
       "      <td>...</td>\n",
       "      <td>...</td>\n",
       "      <td>...</td>\n",
       "      <td>...</td>\n",
       "      <td>...</td>\n",
       "      <td>...</td>\n",
       "      <td>...</td>\n",
       "    </tr>\n",
       "    <tr>\n",
       "      <th>9871</th>\n",
       "      <td>InChI=1S/C11H8O3/c1-7(12)9-6-8-4-2-3-5-10(8)14...</td>\n",
       "      <td>NaN</td>\n",
       "      <td>NaN</td>\n",
       "      <td>NaN</td>\n",
       "      <td>NaN</td>\n",
       "      <td>NaN</td>\n",
       "      <td>NaN</td>\n",
       "      <td>NaN</td>\n",
       "      <td>NaN</td>\n",
       "      <td>NaN</td>\n",
       "      <td>...</td>\n",
       "      <td>-0.154942</td>\n",
       "      <td>-0.208285</td>\n",
       "      <td>0.094947</td>\n",
       "      <td>-0.064585</td>\n",
       "      <td>-0.062841</td>\n",
       "      <td>-0.050082</td>\n",
       "      <td>-0.050364</td>\n",
       "      <td>0.009238</td>\n",
       "      <td>-0.025615</td>\n",
       "      <td>[0, 0, 0, 0, 0, 0, 0, 0, 0, 0, 0, 0, 0, 0, 0, ...</td>\n",
       "    </tr>\n",
       "    <tr>\n",
       "      <th>9872</th>\n",
       "      <td>InChI=1S/C15H18N2/c1-2-7-14-12(5-1)13-6-3-4-11...</td>\n",
       "      <td>NaN</td>\n",
       "      <td>NaN</td>\n",
       "      <td>NaN</td>\n",
       "      <td>NaN</td>\n",
       "      <td>NaN</td>\n",
       "      <td>NaN</td>\n",
       "      <td>NaN</td>\n",
       "      <td>NaN</td>\n",
       "      <td>NaN</td>\n",
       "      <td>...</td>\n",
       "      <td>-0.421050</td>\n",
       "      <td>-0.162980</td>\n",
       "      <td>-0.191575</td>\n",
       "      <td>-0.036555</td>\n",
       "      <td>-0.244200</td>\n",
       "      <td>-0.052731</td>\n",
       "      <td>-0.053152</td>\n",
       "      <td>-0.102096</td>\n",
       "      <td>0.074795</td>\n",
       "      <td>[0, 0, 0, 0, 0, 0, 0, 0, 0, 0, 0, 0, 0, 0, 0, ...</td>\n",
       "    </tr>\n",
       "    <tr>\n",
       "      <th>9873</th>\n",
       "      <td>InChI=1S/C33H44N4O4/c1-22-18-37(23(2)20-38)32(...</td>\n",
       "      <td>NaN</td>\n",
       "      <td>NaN</td>\n",
       "      <td>NaN</td>\n",
       "      <td>NaN</td>\n",
       "      <td>NaN</td>\n",
       "      <td>NaN</td>\n",
       "      <td>NaN</td>\n",
       "      <td>NaN</td>\n",
       "      <td>NaN</td>\n",
       "      <td>...</td>\n",
       "      <td>0.805582</td>\n",
       "      <td>0.352569</td>\n",
       "      <td>-0.237808</td>\n",
       "      <td>0.390295</td>\n",
       "      <td>0.707784</td>\n",
       "      <td>0.231027</td>\n",
       "      <td>0.102048</td>\n",
       "      <td>-0.001059</td>\n",
       "      <td>0.298214</td>\n",
       "      <td>[1, 1, 0, 0, 1, 1, 0, 0, 0, 0, 0, 0, 0, 0, 0, ...</td>\n",
       "    </tr>\n",
       "    <tr>\n",
       "      <th>9874</th>\n",
       "      <td>InChI=1S/C18H16NO/c1-14-11-12-19(17-10-6-5-9-1...</td>\n",
       "      <td>NaN</td>\n",
       "      <td>NaN</td>\n",
       "      <td>NaN</td>\n",
       "      <td>NaN</td>\n",
       "      <td>NaN</td>\n",
       "      <td>NaN</td>\n",
       "      <td>NaN</td>\n",
       "      <td>NaN</td>\n",
       "      <td>NaN</td>\n",
       "      <td>...</td>\n",
       "      <td>-0.200248</td>\n",
       "      <td>-0.237660</td>\n",
       "      <td>-0.151925</td>\n",
       "      <td>-0.112267</td>\n",
       "      <td>-0.158519</td>\n",
       "      <td>-0.020584</td>\n",
       "      <td>-0.080274</td>\n",
       "      <td>-0.091421</td>\n",
       "      <td>-0.034917</td>\n",
       "      <td>[0, 0, 0, 0, 0, 1, 0, 0, 0, 0, 0, 0, 0, 0, 0, ...</td>\n",
       "    </tr>\n",
       "    <tr>\n",
       "      <th>9875</th>\n",
       "      <td>InChI=1S/C13H11Cl2N3O/c1-8-5-6-9(7-16-8)17-13(...</td>\n",
       "      <td>NaN</td>\n",
       "      <td>NaN</td>\n",
       "      <td>NaN</td>\n",
       "      <td>NaN</td>\n",
       "      <td>NaN</td>\n",
       "      <td>NaN</td>\n",
       "      <td>NaN</td>\n",
       "      <td>NaN</td>\n",
       "      <td>NaN</td>\n",
       "      <td>...</td>\n",
       "      <td>-0.134047</td>\n",
       "      <td>-0.065733</td>\n",
       "      <td>-0.135633</td>\n",
       "      <td>0.086946</td>\n",
       "      <td>0.180089</td>\n",
       "      <td>0.022658</td>\n",
       "      <td>-0.005595</td>\n",
       "      <td>0.023331</td>\n",
       "      <td>0.095939</td>\n",
       "      <td>[0, 0, 0, 0, 0, 0, 0, 0, 0, 0, 0, 0, 0, 1, 0, ...</td>\n",
       "    </tr>\n",
       "  </tbody>\n",
       "</table>\n",
       "<p>9876 rows × 274 columns</p>\n",
       "</div>"
      ],
      "text/plain": [
       "                                 InChICode_standardised  588458  588334  2642  \\\n",
       "0     InChI=1S/C14H13N5O5S2/c1-2-5-3-25-12-8(11(21)1...     1.0     NaN   NaN   \n",
       "1     InChI=1S/C22H21NO2S/c23-20(21(24)25)16-26-22(1...     1.0     NaN   NaN   \n",
       "2     InChI=1S/C15H8O7/c16-6-3-8-12(10(18)4-6)14(20)...     1.0     NaN   NaN   \n",
       "3     InChI=1S/C8H10O4/c1-5(2)8(10)6(11-3)4-7(9)12-8...     1.0     NaN   NaN   \n",
       "4     InChI=1S/C14H14O4S2/c15-5-7-19-13-11(17)9-3-1-...     1.0     NaN   NaN   \n",
       "...                                                 ...     ...     ...   ...   \n",
       "9871  InChI=1S/C11H8O3/c1-7(12)9-6-8-4-2-3-5-10(8)14...     NaN     NaN   NaN   \n",
       "9872  InChI=1S/C15H18N2/c1-2-7-14-12(5-1)13-6-3-4-11...     NaN     NaN   NaN   \n",
       "9873  InChI=1S/C33H44N4O4/c1-22-18-37(23(2)20-38)32(...     NaN     NaN   NaN   \n",
       "9874  InChI=1S/C18H16NO/c1-14-11-12-19(17-10-6-5-9-1...     NaN     NaN   NaN   \n",
       "9875  InChI=1S/C13H11Cl2N3O/c1-8-5-6-9(7-16-8)17-13(...     NaN     NaN   NaN   \n",
       "\n",
       "      2156  2330  2216  743015  504444  894  ...  \\\n",
       "0      NaN   NaN   NaN     NaN     NaN  NaN  ...   \n",
       "1      NaN   NaN   NaN     NaN     NaN  NaN  ...   \n",
       "2      NaN   NaN   NaN     NaN     NaN  1.0  ...   \n",
       "3      NaN   NaN   NaN     NaN     NaN  0.0  ...   \n",
       "4      NaN   1.0   NaN     NaN     1.0  1.0  ...   \n",
       "...    ...   ...   ...     ...     ...  ...  ...   \n",
       "9871   NaN   NaN   NaN     NaN     NaN  NaN  ...   \n",
       "9872   NaN   NaN   NaN     NaN     NaN  NaN  ...   \n",
       "9873   NaN   NaN   NaN     NaN     NaN  NaN  ...   \n",
       "9874   NaN   NaN   NaN     NaN     NaN  NaN  ...   \n",
       "9875   NaN   NaN   NaN     NaN     NaN  NaN  ...   \n",
       "\n",
       "      Nuclei_Texture_SumVariance_DNA_10_0  Nuclei_Texture_SumVariance_ER_10_0  \\\n",
       "0                               -0.245524                           -0.268078   \n",
       "1                               -0.125642                            0.168251   \n",
       "2                               -0.059526                            0.071001   \n",
       "3                               -0.554508                           -0.357952   \n",
       "4                               -2.017392                            1.497684   \n",
       "...                                   ...                                 ...   \n",
       "9871                            -0.154942                           -0.208285   \n",
       "9872                            -0.421050                           -0.162980   \n",
       "9873                             0.805582                            0.352569   \n",
       "9874                            -0.200248                           -0.237660   \n",
       "9875                            -0.134047                           -0.065733   \n",
       "\n",
       "      Nuclei_Texture_SumVariance_Mito_10_0  \\\n",
       "0                                -0.123740   \n",
       "1                                -0.116379   \n",
       "2                                -0.029977   \n",
       "3                                -0.232800   \n",
       "4                                 0.264454   \n",
       "...                                    ...   \n",
       "9871                              0.094947   \n",
       "9872                             -0.191575   \n",
       "9873                             -0.237808   \n",
       "9874                             -0.151925   \n",
       "9875                             -0.135633   \n",
       "\n",
       "      Nuclei_Texture_SumVariance_RNA_10_0  Nuclei_Texture_SumVariance_RNA_5_0  \\\n",
       "0                                0.122226                            0.402861   \n",
       "1                                0.316108                            0.299225   \n",
       "2                               -1.310799                           -1.847892   \n",
       "3                               -0.197858                           -0.499390   \n",
       "4                               -0.562605                            1.086744   \n",
       "...                                   ...                                 ...   \n",
       "9871                            -0.064585                           -0.062841   \n",
       "9872                            -0.036555                           -0.244200   \n",
       "9873                             0.390295                            0.707784   \n",
       "9874                            -0.112267                           -0.158519   \n",
       "9875                             0.086946                            0.180089   \n",
       "\n",
       "      Nuclei_Texture_Variance_AGP_10_0  Nuclei_Texture_Variance_ER_10_0  \\\n",
       "0                            -0.206448                        -0.158874   \n",
       "1                            -0.173420                         0.057710   \n",
       "2                            -0.000630                         0.055282   \n",
       "3                            -0.065841                        -0.123535   \n",
       "4                             0.311285                         0.727071   \n",
       "...                                ...                              ...   \n",
       "9871                         -0.050082                        -0.050364   \n",
       "9872                         -0.052731                        -0.053152   \n",
       "9873                          0.231027                         0.102048   \n",
       "9874                         -0.020584                        -0.080274   \n",
       "9875                          0.022658                        -0.005595   \n",
       "\n",
       "      Nuclei_Texture_Variance_Mito_10_0  Nuclei_Texture_Variance_RNA_10_0  \\\n",
       "0                             -0.121066                          0.185686   \n",
       "1                              0.010376                          0.272074   \n",
       "2                              0.028152                         -0.610017   \n",
       "3                             -0.071141                         -0.109201   \n",
       "4                              0.874987                          0.189458   \n",
       "...                                 ...                               ...   \n",
       "9871                           0.009238                         -0.025615   \n",
       "9872                          -0.102096                          0.074795   \n",
       "9873                          -0.001059                          0.298214   \n",
       "9874                          -0.091421                         -0.034917   \n",
       "9875                           0.023331                          0.095939   \n",
       "\n",
       "                                                     fp  \n",
       "0     [0, 0, 0, 0, 0, 0, 0, 0, 0, 0, 0, 0, 0, 0, 0, ...  \n",
       "1     [1, 0, 0, 0, 0, 1, 0, 1, 1, 0, 0, 0, 0, 0, 0, ...  \n",
       "2     [0, 0, 0, 0, 0, 0, 0, 0, 0, 0, 0, 0, 0, 0, 0, ...  \n",
       "3     [0, 0, 0, 0, 0, 0, 0, 0, 0, 0, 0, 0, 0, 0, 0, ...  \n",
       "4     [1, 0, 0, 0, 0, 1, 0, 0, 1, 0, 0, 0, 0, 0, 0, ...  \n",
       "...                                                 ...  \n",
       "9871  [0, 0, 0, 0, 0, 0, 0, 0, 0, 0, 0, 0, 0, 0, 0, ...  \n",
       "9872  [0, 0, 0, 0, 0, 0, 0, 0, 0, 0, 0, 0, 0, 0, 0, ...  \n",
       "9873  [1, 1, 0, 0, 1, 1, 0, 0, 0, 0, 0, 0, 0, 0, 0, ...  \n",
       "9874  [0, 0, 0, 0, 0, 1, 0, 0, 0, 0, 0, 0, 0, 0, 0, ...  \n",
       "9875  [0, 0, 0, 0, 0, 0, 0, 0, 0, 0, 0, 0, 0, 1, 0, ...  \n",
       "\n",
       "[9876 rows x 274 columns]"
      ]
     },
     "execution_count": 8,
     "metadata": {},
     "output_type": "execute_result"
    }
   ],
   "source": [
    "assay_data= pd.merge(df_data, CP_features)\n",
    "assay_data= pd.merge(assay_data, mfp_features)\n",
    "assay_data"
   ]
  },
  {
   "cell_type": "code",
   "execution_count": 9,
   "id": "f4722fd6",
   "metadata": {},
   "outputs": [],
   "source": [
    "def TanimotoSimilarity(ex1, ex2, attrs):\n",
    "  \"\"\"\n",
    "    >>> v1 = [0,1,0,1]\n",
    "    >>> v2 = [1,0,1,0]\n",
    "    >>> TanimotoDist(v1,v2,range(4))\n",
    "    1.0\n",
    "    \"\"\"\n",
    "  inter = 0.0\n",
    "  unin = 0.0\n",
    "  for i in attrs:\n",
    "    if (ex1[i] or ex2[i]):\n",
    "      unin += 1\n",
    "      if (ex1[i] and ex2[i]):\n",
    "        inter += 1\n",
    "  if (unin != 0.0):\n",
    "    return (inter / unin)\n",
    "  else:\n",
    "    return 0"
   ]
  },
  {
   "cell_type": "code",
   "execution_count": 10,
   "id": "365bf054",
   "metadata": {},
   "outputs": [],
   "source": [
    "def BulkTanimoto(siv1, sivs):\n",
    "    res = []\n",
    "    for i in range(len(sivs)): \n",
    "        siv2 = sivs[i]\n",
    "        simVal = TanimotoSimilarity(siv1, siv2, range(len(siv1)))\n",
    "        res.append(simVal)\n",
    "    return res"
   ]
  },
  {
   "cell_type": "code",
   "execution_count": 11,
   "id": "778195db",
   "metadata": {},
   "outputs": [
    {
     "data": {
      "text/plain": [
       "[4, 3, 2, 1]"
      ]
     },
     "execution_count": 11,
     "metadata": {},
     "output_type": "execute_result"
    }
   ],
   "source": [
    "[1,2, 3,4][::-1]"
   ]
  },
  {
   "cell_type": "code",
   "execution_count": 12,
   "id": "e5926f68",
   "metadata": {},
   "outputs": [],
   "source": [
    "#Find similarity between each test compounds and train set compounds\n",
    "#mean of the 5 highest tanimoto similarity of MFP keys, all, actives, inactives\n",
    "#perc of compound with MFP TS>0.55, all, actives, inactives\n",
    "neighbours_limit = 5\n",
    "def findsimscore(assay, train, test): \n",
    "    \n",
    "    ts_nearest_list =[]\n",
    "    ts_nearest_actives_list=[]\n",
    "    ts_nearest_inactives_list=[]\n",
    "    perc_list=[]\n",
    "    perc_actives_list=[]\n",
    "    perc_inactives_list=[]\n",
    "    \n",
    "    for index, row in test.iterrows():\n",
    "\n",
    "        fps_test = row[\"fp\"]\n",
    "\n",
    "        temp_train = pd.DataFrame()\n",
    "        temp_train= train\n",
    "\n",
    "        fps_temp_train=[(x) for x in temp_train[\"fp\"]]\n",
    "        ts_nearest = []\n",
    "        ts_nearest = BulkTanimoto(fps_test ,fps_temp_train)\n",
    "\n",
    "        #Add all values with Activity\n",
    "        df_temp = pd.DataFrame([temp_train[[assay]].values.flatten(), ts_nearest]).T\n",
    "        df_temp.columns = [\"Activity\", \"TS_similarity\"]\n",
    "        \n",
    "        #Calculate overall percetages\n",
    "        count = len([i for i in df_temp[\"TS_similarity\"].values if i > 0.55])\n",
    "        total= len(df_temp)\n",
    "        perc= float(count/total)  \n",
    "        perc_list.append(perc)\n",
    "       \n",
    "        ts_nearest_ovarall = df_temp.sort_values(by=\"TS_similarity\", ascending=False)[\"TS_similarity\"][:neighbours_limit].mean()\n",
    "        #print(ts_nearest_ovarall)\n",
    "        ts_nearest_list.append(ts_nearest_ovarall)\n",
    "        \n",
    "        #Calculate percetages active compound\n",
    "        count = len([i for i in df_temp[df_temp[\"Activity\"]==1][\"TS_similarity\"].values if i > 0.55])\n",
    "        total= (len(df_temp[df_temp[\"Activity\"]==1]))\n",
    "        perc_actives= float(count/total)\n",
    "        perc_actives_list.append(perc_actives)\n",
    "        \n",
    "        ts_nearest_actives = df_temp[df_temp[\"Activity\"]==1].sort_values(by=\"TS_similarity\", ascending=False)[\"TS_similarity\"][:neighbours_limit].mean()\n",
    "        #print(ts_nearest_actives)\n",
    "        ts_nearest_actives_list.append(ts_nearest_actives)\n",
    "        \n",
    "        #Calculate percetages inactive compound\n",
    "        count = len([i for i in df_temp[df_temp[\"Activity\"]==0][\"TS_similarity\"].values if i > 0.55])\n",
    "        total= (len(df_temp[df_temp[\"Activity\"]==0]))\n",
    "        perc_inactives= float(count/total)\n",
    "        perc_inactives_list.append(perc_inactives)\n",
    "        \n",
    "        ts_nearest_inactives = df_temp[df_temp[\"Activity\"]==0].sort_values(by=\"TS_similarity\", ascending=False)[\"TS_similarity\"][:neighbours_limit].mean()\n",
    "        #print(ts_nearest_inactives)\n",
    "        ts_nearest_inactives_list.append(ts_nearest_inactives)\n",
    "\n",
    "    ts_nearest_list=np.array(ts_nearest_list)\n",
    "    ts_nearest_list= ts_nearest_list.reshape(len(test))\n",
    "    \n",
    "    ts_nearest_actives_list=np.array(ts_nearest_actives_list)\n",
    "    ts_nearest_actives_list= ts_nearest_actives_list.reshape(len(test))\n",
    "    \n",
    "    ts_nearest_inactives_list=np.array(ts_nearest_inactives_list)\n",
    "    ts_nearest_inactives_list= ts_nearest_inactives_list.reshape(len(test))\n",
    "\n",
    "    perc_list=np.array(perc_list)\n",
    "    perc_list= perc_list.reshape(len(test))\n",
    "    \n",
    "    perc_actives_list=np.array(perc_actives_list)\n",
    "    perc_actives_list= perc_actives_list.reshape(len(test))\n",
    "    \n",
    "    perc_inactives_list=np.array(perc_inactives_list)\n",
    "    perc_inactives_list= perc_inactives_list.reshape(len(test))\n",
    "\n",
    "    df_ts_nearest = pd.DataFrame({\"ts_nearest\": ts_nearest_list, \"perc\": perc_list,\n",
    "                              \"ts_nearest_actives\": ts_nearest_actives_list, \"perc_actives\": perc_actives_list,\n",
    "                              \"ts_nearest_inactives\": ts_nearest_inactives_list, \"perc_inactives\": perc_inactives_list})\n",
    "    return df_ts_nearest"
   ]
  },
  {
   "cell_type": "code",
   "execution_count": 13,
   "id": "6c1a7680",
   "metadata": {},
   "outputs": [],
   "source": [
    "#Find similarity between each test compounds and train set compounds\n",
    "#mean of the 5 highest PC keys, all, actives, inactives\n",
    "#perc of compound with PC TS>0.55, all, actives, inactives\n",
    "\n",
    "neighbours_limit = 5\n",
    "def findpearsonscore(assay, train, test): \n",
    "    pc_highest_list =[]\n",
    "    pc_highest_actives_list=[]\n",
    "    pc_highest_inactives_list=[]\n",
    "    perc_list=[]\n",
    "    perc_actives_list=[]\n",
    "    perc_inactives_list=[]\n",
    "    \n",
    "    for index, row in test.iterrows():\n",
    "\n",
    "        fps_test = row[CP_features_list].to_numpy()\n",
    "\n",
    "        temp_train = pd.DataFrame()\n",
    "        temp_train= train\n",
    "\n",
    "        fps_temp_train=[(x) for x in temp_train[CP_features_list].to_numpy()]\n",
    "        pearson_s_list = []\n",
    "        \n",
    "        for n in range(len(fps_temp_train)):\n",
    "            \n",
    "            pearson= stats.pearsonr(fps_test, fps_temp_train[n])\n",
    "            pearson_s_list.append(pearson[0])\n",
    "            #mean of 15 positive correlations\n",
    "            \n",
    "        #Add all values with Activity\n",
    "        df_temp = pd.DataFrame([temp_train[[assay]].values.flatten(), pearson_s_list]).T\n",
    "        df_temp.columns = [\"Activity\", \"PC_corr\"]\n",
    "        \n",
    "        #Calculate overall percetages\n",
    "        count = len([i for i in df_temp[\"PC_corr\"].values if i > 0.55])\n",
    "        total= len(df_temp)\n",
    "        perc= float(count/total)  \n",
    "        perc_list.append(perc)\n",
    "       \n",
    "        pc_highest_ovarall = df_temp.sort_values(by=\"PC_corr\", ascending=False)[\"PC_corr\"][:neighbours_limit].mean()\n",
    "        #print(pc_highest_ovarall)\n",
    "        pc_highest_list.append(pc_highest_ovarall)\n",
    "        \n",
    "        #Calculate percetages active compound\n",
    "        count = len([i for i in df_temp[df_temp[\"Activity\"]==1][\"PC_corr\"].values if i > 0.50])\n",
    "        total= (len(df_temp[df_temp[\"Activity\"]==1]))\n",
    "        perc_actives= float(count/total)\n",
    "        perc_actives_list.append(perc_actives)\n",
    "        \n",
    "        pc_highest_actives = df_temp[df_temp[\"Activity\"]==1].sort_values(by=\"PC_corr\", ascending=False)[\"PC_corr\"][:neighbours_limit].mean()\n",
    "        #print(pc_highest_actives)\n",
    "        pc_highest_actives_list.append(pc_highest_actives)\n",
    "        \n",
    "        #Calculate percetages inactive compound\n",
    "        count = len([i for i in df_temp[df_temp[\"Activity\"]==0][\"PC_corr\"].values if i > 0.50])\n",
    "        total= (len(df_temp[df_temp[\"Activity\"]==0]))\n",
    "        perc_inactives= float(count/total)\n",
    "        perc_inactives_list.append(perc_inactives)\n",
    "        \n",
    "        pc_highest_inactives = df_temp[df_temp[\"Activity\"]==0].sort_values(by=\"PC_corr\", ascending=False)[\"PC_corr\"][:neighbours_limit].mean()\n",
    "        #print(ts_nearest_inactives)\n",
    "        pc_highest_inactives_list.append(pc_highest_inactives)\n",
    "\n",
    "    pc_highest_list=np.array(pc_highest_list)\n",
    "    pc_highest_list= pc_highest_list.reshape(len(test))\n",
    "    \n",
    "    pc_highest_actives_list=np.array(pc_highest_actives_list)\n",
    "    pc_highest_actives_list= pc_highest_actives_list.reshape(len(test))\n",
    "    \n",
    "    pc_highest_inactives_list=np.array(pc_highest_inactives_list)\n",
    "    pc_highest_inactives_list= pc_highest_inactives_list.reshape(len(test))\n",
    "\n",
    "    perc_list=np.array(perc_list)\n",
    "    perc_list= perc_list.reshape(len(test))\n",
    "    \n",
    "    perc_actives_list=np.array(perc_actives_list)\n",
    "    perc_actives_list= perc_actives_list.reshape(len(test))\n",
    "    \n",
    "    perc_inactives_list=np.array(perc_inactives_list)\n",
    "    perc_inactives_list= perc_inactives_list.reshape(len(test))\n",
    "\n",
    "    df_pc_highest = pd.DataFrame({\"pc_highest\": pc_highest_list, \"perc\": perc_list,\n",
    "                              \"pc_highest_actives\": pc_highest_actives_list, \"perc_actives\": perc_actives_list,\n",
    "                              \"pc_highest_inactives\": pc_highest_inactives_list, \"perc_inactives\": perc_inactives_list})\n",
    "    return df_pc_highest"
   ]
  },
  {
   "cell_type": "code",
   "execution_count": 14,
   "id": "684976c3",
   "metadata": {},
   "outputs": [],
   "source": [
    "def plot_hist_ts(df):\n",
    "    \n",
    "    #f, (ax_box, ax_hist) = plt.subplots(2, sharex=True, gridspec_kw= {\"height_ratios\": (0.2, 1)})\n",
    "    \n",
    "    mean=df['ts_nearest'].mean()\n",
    "    median=df['ts_nearest'].median()\n",
    "    mode=df['ts_nearest'].mode().tolist()[0]\n",
    "    \n",
    "    \n",
    "    #sns.boxplot(x=df[\"td_nearest\"], ax=ax_box)\n",
    "    #ax_box.axvline(mean, color='r', linestyle='--',  label='Mean')\n",
    "    #ax_box.axvline(median, color='g', linestyle='-',  label='Median')\n",
    "    #ax_box.axvline(mode, color='b', linestyle='-',  label='Mode')\n",
    "\n",
    "    #sns.histplot(x=df[\"td_nearest\"],  kde=True, ax=ax_hist)\n",
    "    #ax_hist.axvline(mean, color='r', linestyle='--', label='Mean')\n",
    "    #ax_hist.axvline(median, color='g', linestyle='-', label='Median')\n",
    "    #ax_hist.axvline(mode, color='b', linestyle='-', label='Mode')\n",
    "\n",
    "    #plt.legend()\n",
    "    #ax_box.set(xlabel='')\n",
    "    #plt.show()\n",
    "    \n",
    "    return mean, median, mode\n",
    "\n",
    "def plot_hist_pc(df):\n",
    "    \n",
    "    #f, (ax_box, ax_hist) = plt.subplots(2, sharex=True, gridspec_kw= {\"height_ratios\": (0.2, 1)})\n",
    "    \n",
    "    mean=df['pc_highest'].mean()\n",
    "    median=df['pc_highest'].median()\n",
    "    mode=df['pc_highest'].mode().tolist()[0]\n",
    "    \n",
    "    \n",
    "    #sns.boxplot(x=df[\"pc_highest\"], ax=ax_box)\n",
    "    #ax_box.axvline(mean, color='r', linestyle='--',  label='Mean')\n",
    "    #ax_box.axvline(median, color='g', linestyle='-',  label='Median')\n",
    "    #ax_box.axvline(mode, color='b', linestyle='-',  label='Mode')\n",
    "\n",
    "    #sns.histplot(x=df[\"pc_highest\"],  kde=True, ax=ax_hist)\n",
    "    #ax_hist.axvline(mean, color='r', linestyle='--', label='Mean')\n",
    "    #ax_hist.axvline(median, color='g', linestyle='-', label='Median')\n",
    "    #ax_hist.axvline(mode, color='b', linestyle='-', label='Mode')\n",
    "\n",
    "    #plt.legend()\n",
    "    #ax_box.set(xlabel='')\n",
    "    #plt.show()\n",
    "    \n",
    "    return mean, median, mode"
   ]
  },
  {
   "cell_type": "code",
   "execution_count": 15,
   "id": "bdc96cde",
   "metadata": {},
   "outputs": [],
   "source": [
    "#Nested Cross validation\n",
    "#stat_list_batch: contains assay number, mean, median, mode of tanimoto distance in that cycle, mcc and auc of that cycle\n",
    "#detail_list_batch contains assay number, each inchi and its proba, pred, true values and ts\n",
    "#pred_list_batch contains proba, pred and true values\n",
    "\n",
    "from sklearn.experimental import enable_halving_search_cv\n",
    "from sklearn.model_selection import HalvingRandomSearchCV\n",
    "from imblearn.over_sampling import SMOTE\n",
    "from imblearn.combine import SMOTEENN, SMOTETomek\n",
    "from imblearn.under_sampling import RandomUnderSampler \n",
    "\n",
    "from collections import Counter\n",
    "from numpy import argmax\n",
    "\n",
    "from sklearn.preprocessing import StandardScaler\n",
    "from sklearn.model_selection import StratifiedKFold\n",
    "from sklearn.model_selection import GridSearchCV\n",
    "from scipy.stats import ks_2samp \n",
    "from scipy.stats import randint\n",
    "from sklearn.model_selection import cross_val_predict\n",
    "\n",
    "def my_function_nested_rhs(assay, cycle):   \n",
    "        \n",
    "    detail_list_batch_train = []\n",
    "\n",
    "    X_fp = df_assay_train.loc[:, \"fp\"].to_numpy()\n",
    "    X_CP = df_assay_train[CP_features_list].to_numpy()\n",
    "    \n",
    "    #print(X)\n",
    "    y = df_assay_train[assay].to_numpy()\n",
    "    #print(y)\n",
    "    \n",
    "    \n",
    "    #Split\n",
    "    outercv = StratifiedKFold(n_splits=5,shuffle=True, random_state=cycle)\n",
    "   \n",
    "    for i, (train_index, test_index) in enumerate(outercv.split(X_fp, y)):\n",
    "        \n",
    "        train= df_assay_train.iloc[train_index]\n",
    "        test= df_assay_train.iloc[test_index]\n",
    "        #print(train)\n",
    "        #print(test)\n",
    "\n",
    "        #df_ts_perc = findsimsperc(assay, train, test) \n",
    "        #print\n",
    "        \n",
    "        df_ts_highest = findsimscore(assay, train, test)\n",
    "        df_pc_highest = findpearsonscore(assay, train, test)    \n",
    "        \n",
    "        mean_ts, median_score, mode_score= plot_hist_ts(df_ts_highest)\n",
    "        mean_pc, median_score, mode_score= plot_hist_pc(df_pc_highest)\n",
    "\n",
    "        #combine results\n",
    "        for InChICode_standardised, ts, ts_perc, ts_actives, ts_perc_actives, ts_inactives, ts_perc_inactives, pc, pc_perc, pc_actives, pc_perc_actives, pc_inactives, pc_perc_inactives  in zip(test.InChICode_standardised, \n",
    "                                                df_ts_highest.ts_nearest, df_ts_highest.perc, df_ts_highest.ts_nearest_actives, df_ts_highest.perc_actives,  df_ts_highest.ts_nearest_inactives, df_ts_highest.perc_inactives,   \n",
    "                                                  df_pc_highest.pc_highest, df_pc_highest.perc, df_pc_highest.pc_highest_actives, df_pc_highest.perc_actives, df_pc_highest.pc_highest_inactives, df_pc_highest.perc_inactives):\n",
    "            detail_list_batch_train.append([assay, InChICode_standardised, ts, ts_perc, ts_actives, ts_perc_actives, \n",
    "                                            ts_inactives, ts_perc_inactives, pc, pc_perc, pc_actives, \n",
    "                                            pc_perc_actives, pc_inactives, pc_perc_inactives, \"Training\"])\n",
    "    \n",
    "    return detail_list_batch_train"
   ]
  },
  {
   "cell_type": "code",
   "execution_count": 16,
   "id": "6b91e887",
   "metadata": {},
   "outputs": [],
   "source": [
    "#Predict External Test Set\n",
    "#detail_list_batch contains assay number, each inchi and its proba, pred, true values and ts\n",
    "\n",
    "def my_function_heldout_rhs(assay, cycle):   \n",
    "        \n",
    "        detail_list_batch_test = []\n",
    "\n",
    "        train= df_assay_train\n",
    "        test= df_assay_test\n",
    "\n",
    "        df_ts_highest = findsimscore(assay, train, test)\n",
    "        df_pc_highest = findpearsonscore(assay, train, test)    \n",
    "        \n",
    "        mean_ts, median_score, mode_score= plot_hist_ts(df_ts_highest)\n",
    "        mean_pc, median_score, mode_score= plot_hist_pc(df_pc_highest)\n",
    "        \n",
    "        #combine results\n",
    "        for InChICode_standardised, ts, ts_perc, ts_actives, ts_perc_actives, ts_inactives, ts_perc_inactives, pc, pc_perc, pc_actives, pc_perc_actives, pc_inactives, pc_perc_inactives  in zip(test.InChICode_standardised, \n",
    "                                                df_ts_highest.ts_nearest, df_ts_highest.perc, df_ts_highest.ts_nearest_actives, df_ts_highest.perc_actives,  df_ts_highest.ts_nearest_inactives, df_ts_highest.perc_inactives,   \n",
    "                                                  df_pc_highest.pc_highest, df_pc_highest.perc, df_pc_highest.pc_highest_actives, df_pc_highest.perc_actives, df_pc_highest.pc_highest_inactives, df_pc_highest.perc_inactives):\n",
    "            detail_list_batch_test.append([assay, InChICode_standardised, ts, ts_perc, ts_actives, ts_perc_actives, \n",
    "                                           ts_inactives, ts_perc_inactives, pc, pc_perc, pc_actives, pc_perc_actives, \n",
    "                                           pc_inactives, pc_perc_inactives, \"HeldOut\"])\n",
    "    \n",
    "        return detail_list_batch_test"
   ]
  },
  {
   "cell_type": "code",
   "execution_count": 17,
   "id": "99590aac",
   "metadata": {
    "scrolled": true
   },
   "outputs": [
    {
     "name": "stderr",
     "output_type": "stream",
     "text": [
      "\r",
      "  0%|                                                    | 0/88 [00:00<?, ?it/s]"
     ]
    },
    {
     "name": "stdout",
     "output_type": "stream",
     "text": [
      "Assay  588458\n",
      "Total Compounds  448\n",
      "Inactive Compounds  336\n",
      "Active Compounds  112\n",
      "Perform nested cross validation on training set\n",
      "Predictions on held out set\n"
     ]
    },
    {
     "name": "stderr",
     "output_type": "stream",
     "text": [
      "\r",
      "  1%|▌                                           | 1/88 [00:17<24:43, 17.05s/it]"
     ]
    },
    {
     "name": "stdout",
     "output_type": "stream",
     "text": [
      "Assay  588334\n",
      "Total Compounds  528\n",
      "Inactive Compounds  396\n",
      "Active Compounds  132\n",
      "Perform nested cross validation on training set\n",
      "Predictions on held out set\n"
     ]
    },
    {
     "name": "stderr",
     "output_type": "stream",
     "text": [
      "\r",
      "  2%|█                                           | 2/88 [00:39<29:22, 20.49s/it]"
     ]
    },
    {
     "name": "stdout",
     "output_type": "stream",
     "text": [
      "Assay  2642\n",
      "Total Compounds  764\n",
      "Inactive Compounds  573\n",
      "Active Compounds  191\n",
      "Perform nested cross validation on training set\n",
      "Predictions on held out set\n"
     ]
    },
    {
     "name": "stderr",
     "output_type": "stream",
     "text": [
      "\r",
      "  3%|█▌                                          | 3/88 [01:26<45:36, 32.19s/it]"
     ]
    },
    {
     "name": "stdout",
     "output_type": "stream",
     "text": [
      "Assay  2156\n",
      "Total Compounds  568\n",
      "Inactive Compounds  426\n",
      "Active Compounds  142\n",
      "Perform nested cross validation on training set\n",
      "Predictions on held out set\n"
     ]
    },
    {
     "name": "stderr",
     "output_type": "stream",
     "text": [
      "\r",
      "  5%|██                                          | 4/88 [01:52<41:47, 29.85s/it]"
     ]
    },
    {
     "name": "stdout",
     "output_type": "stream",
     "text": [
      "Assay  2330\n",
      "Total Compounds  328\n",
      "Inactive Compounds  246\n",
      "Active Compounds  82\n",
      "Perform nested cross validation on training set\n",
      "Predictions on held out set\n"
     ]
    },
    {
     "name": "stderr",
     "output_type": "stream",
     "text": [
      "\r",
      "  6%|██▌                                         | 5/88 [02:02<31:16, 22.60s/it]"
     ]
    },
    {
     "name": "stdout",
     "output_type": "stream",
     "text": [
      "Assay  2216\n",
      "Total Compounds  592\n",
      "Inactive Compounds  444\n",
      "Active Compounds  148\n",
      "Perform nested cross validation on training set\n",
      "Predictions on held out set\n"
     ]
    },
    {
     "name": "stderr",
     "output_type": "stream",
     "text": [
      "\r",
      "  7%|███                                         | 6/88 [02:31<33:50, 24.77s/it]"
     ]
    },
    {
     "name": "stdout",
     "output_type": "stream",
     "text": [
      "Assay  743015\n",
      "Total Compounds  353\n",
      "Inactive Compounds  215\n",
      "Active Compounds  138\n",
      "Perform nested cross validation on training set\n",
      "Predictions on held out set\n"
     ]
    },
    {
     "name": "stderr",
     "output_type": "stream",
     "text": [
      "\r",
      "  8%|███▌                                        | 7/88 [02:42<27:23, 20.29s/it]"
     ]
    },
    {
     "name": "stdout",
     "output_type": "stream",
     "text": [
      "Assay  504444\n",
      "Total Compounds  1076\n",
      "Inactive Compounds  807\n",
      "Active Compounds  269\n",
      "Perform nested cross validation on training set\n",
      "Predictions on held out set\n"
     ]
    },
    {
     "name": "stderr",
     "output_type": "stream",
     "text": [
      "\r",
      "  9%|████                                        | 8/88 [04:10<56:00, 42.01s/it]"
     ]
    },
    {
     "name": "stdout",
     "output_type": "stream",
     "text": [
      "Assay  894\n",
      "Total Compounds  1156\n",
      "Inactive Compounds  867\n",
      "Active Compounds  289\n",
      "Perform nested cross validation on training set\n",
      "Predictions on held out set\n"
     ]
    },
    {
     "name": "stderr",
     "output_type": "stream",
     "text": [
      "\r",
      " 10%|████▎                                     | 9/88 [05:52<1:19:58, 60.74s/it]"
     ]
    },
    {
     "name": "stdout",
     "output_type": "stream",
     "text": [
      "Assay  720635\n",
      "Total Compounds  255\n",
      "Inactive Compounds  175\n",
      "Active Compounds  80\n",
      "Perform nested cross validation on training set\n",
      "Predictions on held out set\n"
     ]
    },
    {
     "name": "stderr",
     "output_type": "stream",
     "text": [
      "\r",
      " 11%|████▉                                      | 10/88 [05:58<57:04, 43.91s/it]"
     ]
    },
    {
     "name": "stdout",
     "output_type": "stream",
     "text": [
      "Assay  1688\n",
      "Total Compounds  608\n",
      "Inactive Compounds  456\n",
      "Active Compounds  152\n",
      "Perform nested cross validation on training set\n",
      "Predictions on held out set\n"
     ]
    },
    {
     "name": "stderr",
     "output_type": "stream",
     "text": [
      "\r",
      " 12%|█████▍                                     | 11/88 [06:28<50:41, 39.49s/it]"
     ]
    },
    {
     "name": "stdout",
     "output_type": "stream",
     "text": [
      "Assay  2599\n",
      "Total Compounds  900\n",
      "Inactive Compounds  675\n",
      "Active Compounds  225\n",
      "Perform nested cross validation on training set\n",
      "Predictions on held out set\n"
     ]
    },
    {
     "name": "stderr",
     "output_type": "stream",
     "text": [
      "\r",
      " 14%|█████▊                                     | 12/88 [07:29<58:35, 46.25s/it]"
     ]
    },
    {
     "name": "stdout",
     "output_type": "stream",
     "text": [
      "Assay  602340\n",
      "Total Compounds  300\n",
      "Inactive Compounds  225\n",
      "Active Compounds  75\n",
      "Perform nested cross validation on training set\n",
      "Predictions on held out set\n"
     ]
    },
    {
     "name": "stderr",
     "output_type": "stream",
     "text": [
      "\r",
      " 15%|██████▎                                    | 13/88 [07:38<43:27, 34.77s/it]"
     ]
    },
    {
     "name": "stdout",
     "output_type": "stream",
     "text": [
      "Assay  2796\n",
      "Total Compounds  1348\n",
      "Inactive Compounds  1011\n",
      "Active Compounds  337\n",
      "Perform nested cross validation on training set\n",
      "Predictions on held out set\n"
     ]
    },
    {
     "name": "stderr",
     "output_type": "stream",
     "text": [
      "\r",
      " 16%|██████▌                                  | 14/88 [09:55<1:21:13, 65.85s/it]"
     ]
    },
    {
     "name": "stdout",
     "output_type": "stream",
     "text": [
      "Assay  504652\n",
      "Total Compounds  1176\n",
      "Inactive Compounds  882\n",
      "Active Compounds  294\n",
      "Perform nested cross validation on training set\n",
      "Predictions on held out set\n"
     ]
    },
    {
     "name": "stderr",
     "output_type": "stream",
     "text": [
      "\r",
      " 17%|██████▉                                  | 15/88 [11:41<1:34:41, 77.83s/it]"
     ]
    },
    {
     "name": "stdout",
     "output_type": "stream",
     "text": [
      "Assay  651658\n",
      "Total Compounds  384\n",
      "Inactive Compounds  288\n",
      "Active Compounds  96\n",
      "Perform nested cross validation on training set\n",
      "Predictions on held out set\n"
     ]
    },
    {
     "name": "stderr",
     "output_type": "stream",
     "text": [
      "\r",
      " 18%|███████▍                                 | 16/88 [11:54<1:09:58, 58.31s/it]"
     ]
    },
    {
     "name": "stdout",
     "output_type": "stream",
     "text": [
      "Assay  720582\n",
      "Total Compounds  464\n",
      "Inactive Compounds  348\n",
      "Active Compounds  116\n",
      "Perform nested cross validation on training set\n",
      "Predictions on held out set\n"
     ]
    },
    {
     "name": "stderr",
     "output_type": "stream",
     "text": [
      "\r",
      " 19%|████████▎                                  | 17/88 [12:12<54:40, 46.20s/it]"
     ]
    },
    {
     "name": "stdout",
     "output_type": "stream",
     "text": [
      "Assay  624256\n",
      "Total Compounds  500\n",
      "Inactive Compounds  375\n",
      "Active Compounds  125\n",
      "Perform nested cross validation on training set\n",
      "Predictions on held out set\n"
     ]
    },
    {
     "name": "stderr",
     "output_type": "stream",
     "text": [
      "\r",
      " 20%|████████▊                                  | 18/88 [12:33<45:03, 38.62s/it]"
     ]
    },
    {
     "name": "stdout",
     "output_type": "stream",
     "text": [
      "Assay  1531\n",
      "Total Compounds  456\n",
      "Inactive Compounds  342\n",
      "Active Compounds  114\n",
      "Perform nested cross validation on training set\n",
      "Predictions on held out set\n"
     ]
    },
    {
     "name": "stderr",
     "output_type": "stream",
     "text": [
      "\r",
      " 22%|█████████▎                                 | 19/88 [12:51<37:12, 32.35s/it]"
     ]
    },
    {
     "name": "stdout",
     "output_type": "stream",
     "text": [
      "Assay  588852\n",
      "Total Compounds  492\n",
      "Inactive Compounds  369\n",
      "Active Compounds  123\n",
      "Perform nested cross validation on training set\n",
      "Predictions on held out set\n"
     ]
    },
    {
     "name": "stderr",
     "output_type": "stream",
     "text": [
      "\r",
      " 23%|█████████▊                                 | 20/88 [13:11<32:37, 28.79s/it]"
     ]
    },
    {
     "name": "stdout",
     "output_type": "stream",
     "text": [
      "Assay  485270\n",
      "Total Compounds  728\n",
      "Inactive Compounds  546\n",
      "Active Compounds  182\n",
      "Perform nested cross validation on training set\n",
      "Predictions on held out set\n"
     ]
    },
    {
     "name": "stderr",
     "output_type": "stream",
     "text": [
      "\r",
      " 24%|██████████▎                                | 21/88 [13:54<36:41, 32.86s/it]"
     ]
    },
    {
     "name": "stdout",
     "output_type": "stream",
     "text": [
      "Assay  743012\n",
      "Total Compounds  362\n",
      "Inactive Compounds  224\n",
      "Active Compounds  138\n",
      "Perform nested cross validation on training set\n",
      "Predictions on held out set\n"
     ]
    },
    {
     "name": "stderr",
     "output_type": "stream",
     "text": [
      "\r",
      " 25%|██████████▊                                | 22/88 [14:05<29:06, 26.46s/it]"
     ]
    },
    {
     "name": "stdout",
     "output_type": "stream",
     "text": [
      "Assay  777\n",
      "Total Compounds  3416\n",
      "Inactive Compounds  2562\n",
      "Active Compounds  854\n",
      "Perform nested cross validation on training set\n",
      "Predictions on held out set\n"
     ]
    },
    {
     "name": "stderr",
     "output_type": "stream",
     "text": [
      "\r",
      " 26%|██████████▍                             | 23/88 [27:54<4:49:20, 267.08s/it]"
     ]
    },
    {
     "name": "stdout",
     "output_type": "stream",
     "text": [
      "Assay  504582\n",
      "Total Compounds  412\n",
      "Inactive Compounds  309\n",
      "Active Compounds  103\n",
      "Perform nested cross validation on training set\n",
      "Predictions on held out set\n"
     ]
    },
    {
     "name": "stderr",
     "output_type": "stream",
     "text": [
      "\r",
      " 27%|██████████▉                             | 24/88 [28:08<3:23:59, 191.24s/it]"
     ]
    },
    {
     "name": "stdout",
     "output_type": "stream",
     "text": [
      "Assay  504660\n",
      "Total Compounds  496\n",
      "Inactive Compounds  372\n",
      "Active Compounds  124\n",
      "Perform nested cross validation on training set\n",
      "Predictions on held out set\n"
     ]
    },
    {
     "name": "stderr",
     "output_type": "stream",
     "text": [
      "\r",
      " 28%|███████████▎                            | 25/88 [28:28<2:26:57, 139.96s/it]"
     ]
    },
    {
     "name": "stdout",
     "output_type": "stream",
     "text": [
      "Assay  2553\n",
      "Total Compounds  420\n",
      "Inactive Compounds  315\n",
      "Active Compounds  105\n",
      "Perform nested cross validation on training set\n",
      "Predictions on held out set\n"
     ]
    },
    {
     "name": "stderr",
     "output_type": "stream",
     "text": [
      "\r",
      " 30%|███████████▊                            | 26/88 [28:43<1:45:51, 102.44s/it]"
     ]
    },
    {
     "name": "stdout",
     "output_type": "stream",
     "text": [
      "Assay  743014\n",
      "Total Compounds  339\n",
      "Inactive Compounds  219\n",
      "Active Compounds  120\n",
      "Perform nested cross validation on training set\n",
      "Predictions on held out set\n"
     ]
    },
    {
     "name": "stderr",
     "output_type": "stream",
     "text": [
      "\r",
      " 31%|████████████▌                            | 27/88 [28:53<1:15:57, 74.72s/it]"
     ]
    },
    {
     "name": "stdout",
     "output_type": "stream",
     "text": [
      "Assay  1822\n",
      "Total Compounds  540\n",
      "Inactive Compounds  405\n",
      "Active Compounds  135\n",
      "Perform nested cross validation on training set\n",
      "Predictions on held out set\n"
     ]
    },
    {
     "name": "stderr",
     "output_type": "stream",
     "text": [
      "\r",
      " 32%|█████████████▋                             | 28/88 [29:17<59:22, 59.37s/it]"
     ]
    },
    {
     "name": "stdout",
     "output_type": "stream",
     "text": [
      "Assay  938\n",
      "Total Compounds  560\n",
      "Inactive Compounds  420\n",
      "Active Compounds  140\n",
      "Perform nested cross validation on training set\n",
      "Predictions on held out set\n"
     ]
    },
    {
     "name": "stderr",
     "output_type": "stream",
     "text": [
      "\r",
      " 33%|██████████████▏                            | 29/88 [29:42<48:18, 49.13s/it]"
     ]
    },
    {
     "name": "stdout",
     "output_type": "stream",
     "text": [
      "Assay  1529\n",
      "Total Compounds  584\n",
      "Inactive Compounds  438\n",
      "Active Compounds  146\n",
      "Perform nested cross validation on training set\n",
      "Predictions on held out set\n"
     ]
    },
    {
     "name": "stderr",
     "output_type": "stream",
     "text": [
      "\r",
      " 34%|██████████████▋                            | 30/88 [30:09<41:06, 42.53s/it]"
     ]
    },
    {
     "name": "stdout",
     "output_type": "stream",
     "text": [
      "Assay  651610\n",
      "Total Compounds  596\n",
      "Inactive Compounds  447\n",
      "Active Compounds  149\n",
      "Perform nested cross validation on training set\n",
      "Predictions on held out set\n"
     ]
    },
    {
     "name": "stderr",
     "output_type": "stream",
     "text": [
      "\r",
      " 35%|███████████████▏                           | 31/88 [30:37<36:21, 38.27s/it]"
     ]
    },
    {
     "name": "stdout",
     "output_type": "stream",
     "text": [
      "Assay  624466\n",
      "Total Compounds  680\n",
      "Inactive Compounds  510\n",
      "Active Compounds  170\n",
      "Perform nested cross validation on training set\n",
      "Predictions on held out set\n"
     ]
    },
    {
     "name": "stderr",
     "output_type": "stream",
     "text": [
      "\r",
      " 36%|███████████████▋                           | 32/88 [31:14<35:07, 37.63s/it]"
     ]
    },
    {
     "name": "stdout",
     "output_type": "stream",
     "text": [
      "Assay  932\n",
      "Total Compounds  1676\n",
      "Inactive Compounds  1257\n",
      "Active Compounds  419\n",
      "Perform nested cross validation on training set\n",
      "Predictions on held out set\n"
     ]
    },
    {
     "name": "stderr",
     "output_type": "stream",
     "text": [
      "\r",
      " 38%|███████████████▍                         | 33/88 [34:36<1:19:45, 87.01s/it]"
     ]
    },
    {
     "name": "stdout",
     "output_type": "stream",
     "text": [
      "Assay  720648\n",
      "Total Compounds  472\n",
      "Inactive Compounds  354\n",
      "Active Compounds  118\n",
      "Perform nested cross validation on training set\n",
      "Predictions on held out set\n"
     ]
    },
    {
     "name": "stderr",
     "output_type": "stream",
     "text": [
      "\r",
      " 39%|████████████████▌                          | 34/88 [34:54<59:47, 66.44s/it]"
     ]
    },
    {
     "name": "stdout",
     "output_type": "stream",
     "text": [
      "Assay  2540\n",
      "Total Compounds  500\n",
      "Inactive Compounds  375\n",
      "Active Compounds  125\n",
      "Perform nested cross validation on training set\n",
      "Predictions on held out set\n"
     ]
    },
    {
     "name": "stderr",
     "output_type": "stream",
     "text": [
      "\r",
      " 40%|█████████████████                          | 35/88 [35:15<46:30, 52.65s/it]"
     ]
    },
    {
     "name": "stdout",
     "output_type": "stream",
     "text": [
      "Assay  2098\n",
      "Total Compounds  468\n",
      "Inactive Compounds  351\n",
      "Active Compounds  117\n",
      "Perform nested cross validation on training set\n",
      "Predictions on held out set\n"
     ]
    },
    {
     "name": "stderr",
     "output_type": "stream",
     "text": [
      "\r",
      " 41%|█████████████████▌                         | 36/88 [35:33<36:38, 42.29s/it]"
     ]
    },
    {
     "name": "stdout",
     "output_type": "stream",
     "text": [
      "Assay  Novartis1\n",
      "Total Compounds  121\n",
      "Inactive Compounds  83\n",
      "Active Compounds  38\n",
      "Perform nested cross validation on training set\n",
      "Predictions on held out set\n"
     ]
    },
    {
     "name": "stderr",
     "output_type": "stream",
     "text": [
      "\r",
      " 42%|██████████████████                         | 37/88 [35:35<25:37, 30.15s/it]"
     ]
    },
    {
     "name": "stdout",
     "output_type": "stream",
     "text": [
      "Assay  Novartis2\n",
      "Total Compounds  129\n",
      "Inactive Compounds  82\n",
      "Active Compounds  47\n",
      "Perform nested cross validation on training set\n",
      "Predictions on held out set\n"
     ]
    },
    {
     "name": "stderr",
     "output_type": "stream",
     "text": [
      "\r",
      " 43%|██████████████████▌                        | 38/88 [35:37<18:05, 21.70s/it]"
     ]
    },
    {
     "name": "stdout",
     "output_type": "stream",
     "text": [
      "Assay  2685\n",
      "Total Compounds  152\n",
      "Inactive Compounds  114\n",
      "Active Compounds  38\n",
      "Perform nested cross validation on training set\n",
      "Predictions on held out set\n"
     ]
    },
    {
     "name": "stderr",
     "output_type": "stream",
     "text": [
      "\r",
      " 44%|███████████████████                        | 39/88 [35:39<13:02, 15.97s/it]"
     ]
    },
    {
     "name": "stdout",
     "output_type": "stream",
     "text": [
      "Assay  485294\n",
      "Total Compounds  114\n",
      "Inactive Compounds  81\n",
      "Active Compounds  33\n",
      "Perform nested cross validation on training set\n",
      "Predictions on held out set\n"
     ]
    },
    {
     "name": "stderr",
     "output_type": "stream",
     "text": [
      "\r",
      " 45%|███████████████████▌                       | 40/88 [35:41<09:20, 11.68s/it]"
     ]
    },
    {
     "name": "stdout",
     "output_type": "stream",
     "text": [
      "Assay  2517\n",
      "Total Compounds  272\n",
      "Inactive Compounds  204\n",
      "Active Compounds  68\n",
      "Perform nested cross validation on training set\n",
      "Predictions on held out set\n"
     ]
    },
    {
     "name": "stderr",
     "output_type": "stream",
     "text": [
      "\r",
      " 47%|████████████████████                       | 41/88 [35:48<08:00, 10.23s/it]"
     ]
    },
    {
     "name": "stdout",
     "output_type": "stream",
     "text": [
      "Assay  504333\n",
      "Total Compounds  928\n",
      "Inactive Compounds  330\n",
      "Active Compounds  598\n",
      "Perform nested cross validation on training set\n",
      "Predictions on held out set\n"
     ]
    },
    {
     "name": "stderr",
     "output_type": "stream",
     "text": [
      "\r",
      " 48%|████████████████████▌                      | 42/88 [36:52<20:23, 26.59s/it]"
     ]
    },
    {
     "name": "stdout",
     "output_type": "stream",
     "text": [
      "Assay  881\n",
      "Total Compounds  268\n",
      "Inactive Compounds  201\n",
      "Active Compounds  67\n",
      "Perform nested cross validation on training set\n",
      "Predictions on held out set\n"
     ]
    },
    {
     "name": "stderr",
     "output_type": "stream",
     "text": [
      "\r",
      " 49%|█████████████████████                      | 43/88 [36:59<15:27, 20.62s/it]"
     ]
    },
    {
     "name": "stdout",
     "output_type": "stream",
     "text": [
      "Assay  504339\n",
      "Total Compounds  805\n",
      "Inactive Compounds  222\n",
      "Active Compounds  583\n",
      "Perform nested cross validation on training set\n",
      "Predictions on held out set\n"
     ]
    },
    {
     "name": "stderr",
     "output_type": "stream",
     "text": [
      "\r",
      " 50%|█████████████████████▌                     | 44/88 [37:49<21:30, 29.34s/it]"
     ]
    },
    {
     "name": "stdout",
     "output_type": "stream",
     "text": [
      "Assay  504466\n",
      "Total Compounds  292\n",
      "Inactive Compounds  73\n",
      "Active Compounds  219\n",
      "Perform nested cross validation on training set\n",
      "Predictions on held out set\n"
     ]
    },
    {
     "name": "stderr",
     "output_type": "stream",
     "text": [
      "\r",
      " 51%|█████████████████████▉                     | 45/88 [37:57<16:23, 22.86s/it]"
     ]
    },
    {
     "name": "stdout",
     "output_type": "stream",
     "text": [
      "Assay  504332\n",
      "Total Compounds  1632\n",
      "Inactive Compounds  408\n",
      "Active Compounds  1224\n",
      "Perform nested cross validation on training set\n",
      "Predictions on held out set\n"
     ]
    },
    {
     "name": "stderr",
     "output_type": "stream",
     "text": [
      "\r",
      " 52%|██████████████████████▍                    | 46/88 [41:09<51:40, 73.82s/it]"
     ]
    },
    {
     "name": "stdout",
     "output_type": "stream",
     "text": [
      "Assay  504327\n",
      "Total Compounds  155\n",
      "Inactive Compounds  99\n",
      "Active Compounds  56\n",
      "Perform nested cross validation on training set\n",
      "Predictions on held out set\n"
     ]
    },
    {
     "name": "stderr",
     "output_type": "stream",
     "text": [
      "\r",
      " 53%|██████████████████████▉                    | 47/88 [41:12<35:51, 52.48s/it]"
     ]
    },
    {
     "name": "stdout",
     "output_type": "stream",
     "text": [
      "Assay  488953\n",
      "Total Compounds  125\n",
      "Inactive Compounds  52\n",
      "Active Compounds  73\n",
      "Perform nested cross validation on training set\n",
      "Predictions on held out set\n"
     ]
    },
    {
     "name": "stderr",
     "output_type": "stream",
     "text": [
      "\r",
      " 55%|███████████████████████▍                   | 48/88 [41:14<24:52, 37.32s/it]"
     ]
    },
    {
     "name": "stdout",
     "output_type": "stream",
     "text": [
      "Assay  1851_2\n",
      "Total Compounds  824\n",
      "Inactive Compounds  589\n",
      "Active Compounds  235\n",
      "Perform nested cross validation on training set\n",
      "Predictions on held out set\n"
     ]
    },
    {
     "name": "stderr",
     "output_type": "stream",
     "text": [
      "\r",
      " 56%|███████████████████████▉                   | 49/88 [42:05<26:58, 41.51s/it]"
     ]
    },
    {
     "name": "stdout",
     "output_type": "stream",
     "text": [
      "Assay  1851_4\n",
      "Total Compounds  762\n",
      "Inactive Compounds  338\n",
      "Active Compounds  424\n",
      "Perform nested cross validation on training set\n",
      "Predictions on held out set\n"
     ]
    },
    {
     "name": "stderr",
     "output_type": "stream",
     "text": [
      "\r",
      " 57%|████████████████████████▍                  | 50/88 [42:49<26:47, 42.31s/it]"
     ]
    },
    {
     "name": "stdout",
     "output_type": "stream",
     "text": [
      "Assay  1851_1\n",
      "Total Compounds  830\n",
      "Inactive Compounds  495\n",
      "Active Compounds  335\n",
      "Perform nested cross validation on training set\n",
      "Predictions on held out set\n"
     ]
    },
    {
     "name": "stderr",
     "output_type": "stream",
     "text": [
      "\r",
      " 58%|████████████████████████▉                  | 51/88 [43:42<27:56, 45.31s/it]"
     ]
    },
    {
     "name": "stdout",
     "output_type": "stream",
     "text": [
      "Assay  1851_3\n",
      "Total Compounds  772\n",
      "Inactive Compounds  497\n",
      "Active Compounds  275\n",
      "Perform nested cross validation on training set\n",
      "Predictions on held out set\n"
     ]
    },
    {
     "name": "stderr",
     "output_type": "stream",
     "text": [
      "\r",
      " 59%|█████████████████████████▍                 | 52/88 [44:27<27:12, 45.34s/it]"
     ]
    },
    {
     "name": "stdout",
     "output_type": "stream",
     "text": [
      "Assay  1851_5\n",
      "Total Compounds  790\n",
      "Inactive Compounds  535\n",
      "Active Compounds  255\n",
      "Perform nested cross validation on training set\n",
      "Predictions on held out set\n"
     ]
    },
    {
     "name": "stderr",
     "output_type": "stream",
     "text": [
      "\r",
      " 60%|█████████████████████████▉                 | 53/88 [45:15<26:48, 45.96s/it]"
     ]
    },
    {
     "name": "stdout",
     "output_type": "stream",
     "text": [
      "Assay  449750\n",
      "Total Compounds  158\n",
      "Inactive Compounds  59\n",
      "Active Compounds  99\n",
      "Perform nested cross validation on training set\n",
      "Predictions on held out set\n"
     ]
    },
    {
     "name": "stderr",
     "output_type": "stream",
     "text": [
      "\r",
      " 61%|██████████████████████████▍                | 54/88 [45:17<18:42, 33.02s/it]"
     ]
    },
    {
     "name": "stdout",
     "output_type": "stream",
     "text": [
      "Assay  504847\n",
      "Total Compounds  320\n",
      "Inactive Compounds  94\n",
      "Active Compounds  226\n",
      "Perform nested cross validation on training set\n",
      "Predictions on held out set\n"
     ]
    },
    {
     "name": "stderr",
     "output_type": "stream",
     "text": [
      "\r",
      " 62%|██████████████████████████▉                | 55/88 [45:27<14:13, 25.86s/it]"
     ]
    },
    {
     "name": "stdout",
     "output_type": "stream",
     "text": [
      "Assay  504834\n",
      "Total Compounds  2755\n",
      "Inactive Compounds  1916\n",
      "Active Compounds  839\n",
      "Perform nested cross validation on training set\n",
      "Predictions on held out set\n"
     ]
    },
    {
     "name": "stderr",
     "output_type": "stream",
     "text": [
      "\r",
      " 64%|█████████████████████████▍              | 56/88 [54:24<1:35:38, 179.33s/it]"
     ]
    },
    {
     "name": "stdout",
     "output_type": "stream",
     "text": [
      "Assay  540317\n",
      "Total Compounds  312\n",
      "Inactive Compounds  234\n",
      "Active Compounds  78\n",
      "Perform nested cross validation on training set\n",
      "Predictions on held out set\n"
     ]
    },
    {
     "name": "stderr",
     "output_type": "stream",
     "text": [
      "\r",
      " 65%|█████████████████████████▉              | 57/88 [54:33<1:06:12, 128.14s/it]"
     ]
    },
    {
     "name": "stdout",
     "output_type": "stream",
     "text": [
      "Assay  588453\n",
      "Total Compounds  706\n",
      "Inactive Compounds  521\n",
      "Active Compounds  185\n",
      "Perform nested cross validation on training set\n",
      "Predictions on held out set\n"
     ]
    },
    {
     "name": "stderr",
     "output_type": "stream",
     "text": [
      "\r",
      " 66%|███████████████████████████▋              | 58/88 [55:11<50:38, 101.29s/it]"
     ]
    },
    {
     "name": "stdout",
     "output_type": "stream",
     "text": [
      "Assay  588590\n",
      "Total Compounds  680\n",
      "Inactive Compounds  510\n",
      "Active Compounds  170\n",
      "Perform nested cross validation on training set\n",
      "Predictions on held out set\n"
     ]
    },
    {
     "name": "stderr",
     "output_type": "stream",
     "text": [
      "\r",
      " 67%|████████████████████████████▊              | 59/88 [55:47<39:29, 81.70s/it]"
     ]
    },
    {
     "name": "stdout",
     "output_type": "stream",
     "text": [
      "Assay  588795\n",
      "Total Compounds  113\n",
      "Inactive Compounds  55\n",
      "Active Compounds  58\n",
      "Perform nested cross validation on training set\n",
      "Predictions on held out set\n"
     ]
    },
    {
     "name": "stderr",
     "output_type": "stream",
     "text": [
      "\r",
      " 68%|█████████████████████████████▎             | 60/88 [55:49<26:55, 57.69s/it]"
     ]
    },
    {
     "name": "stdout",
     "output_type": "stream",
     "text": [
      "Assay  504845\n",
      "Total Compounds  126\n",
      "Inactive Compounds  82\n",
      "Active Compounds  44\n",
      "Perform nested cross validation on training set\n",
      "Predictions on held out set\n"
     ]
    },
    {
     "name": "stderr",
     "output_type": "stream",
     "text": [
      "\r",
      " 69%|█████████████████████████████▊             | 61/88 [55:51<18:26, 40.98s/it]"
     ]
    },
    {
     "name": "stdout",
     "output_type": "stream",
     "text": [
      "Assay  588856\n",
      "Total Compounds  424\n",
      "Inactive Compounds  318\n",
      "Active Compounds  106\n",
      "Perform nested cross validation on training set\n",
      "Predictions on held out set\n"
     ]
    },
    {
     "name": "stderr",
     "output_type": "stream",
     "text": [
      "\r",
      " 70%|██████████████████████████████▎            | 62/88 [56:08<14:35, 33.66s/it]"
     ]
    },
    {
     "name": "stdout",
     "output_type": "stream",
     "text": [
      "Assay  504832\n",
      "Total Compounds  2633\n",
      "Inactive Compounds  1800\n",
      "Active Compounds  833\n",
      "Perform nested cross validation on training set\n",
      "Predictions on held out set\n"
     ]
    },
    {
     "name": "stderr",
     "output_type": "stream",
     "text": [
      "\r",
      " 72%|███████████████████████████▏          | 63/88 [1:05:20<1:18:49, 189.19s/it]"
     ]
    },
    {
     "name": "stdout",
     "output_type": "stream",
     "text": [
      "Assay  588855\n",
      "Total Compounds  380\n",
      "Inactive Compounds  212\n",
      "Active Compounds  168\n",
      "Perform nested cross validation on training set\n",
      "Predictions on held out set\n"
     ]
    },
    {
     "name": "stderr",
     "output_type": "stream",
     "text": [
      "\r",
      " 73%|█████████████████████████████           | 64/88 [1:05:33<54:36, 136.54s/it]"
     ]
    },
    {
     "name": "stdout",
     "output_type": "stream",
     "text": [
      "Assay  121\n",
      "Total Compounds  100\n",
      "Inactive Compounds  75\n",
      "Active Compounds  25\n",
      "Perform nested cross validation on training set\n",
      "Predictions on held out set\n"
     ]
    },
    {
     "name": "stderr",
     "output_type": "stream",
     "text": [
      "\r",
      " 74%|██████████████████████████████▎          | 65/88 [1:05:35<36:47, 96.00s/it]"
     ]
    },
    {
     "name": "stdout",
     "output_type": "stream",
     "text": [
      "Assay  624032\n",
      "Total Compounds  107\n",
      "Inactive Compounds  55\n",
      "Active Compounds  52\n",
      "Perform nested cross validation on training set\n",
      "Predictions on held out set\n"
     ]
    },
    {
     "name": "stderr",
     "output_type": "stream",
     "text": [
      "\r",
      " 75%|██████████████████████████████▊          | 66/88 [1:05:36<24:48, 67.67s/it]"
     ]
    },
    {
     "name": "stdout",
     "output_type": "stream",
     "text": [
      "Assay  119\n",
      "Total Compounds  104\n",
      "Inactive Compounds  78\n",
      "Active Compounds  26\n",
      "Perform nested cross validation on training set\n",
      "Predictions on held out set\n"
     ]
    },
    {
     "name": "stderr",
     "output_type": "stream",
     "text": [
      "\r",
      " 76%|███████████████████████████████▏         | 67/88 [1:05:38<16:44, 47.83s/it]"
     ]
    },
    {
     "name": "stdout",
     "output_type": "stream",
     "text": [
      "Assay  624296\n",
      "Total Compounds  710\n",
      "Inactive Compounds  197\n",
      "Active Compounds  513\n",
      "Perform nested cross validation on training set\n",
      "Predictions on held out set\n"
     ]
    },
    {
     "name": "stderr",
     "output_type": "stream",
     "text": [
      "\r",
      " 77%|███████████████████████████████▋         | 68/88 [1:06:17<15:07, 45.37s/it]"
     ]
    },
    {
     "name": "stdout",
     "output_type": "stream",
     "text": [
      "Assay  651965\n",
      "Total Compounds  452\n",
      "Inactive Compounds  113\n",
      "Active Compounds  339\n",
      "Perform nested cross validation on training set\n",
      "Predictions on held out set\n"
     ]
    },
    {
     "name": "stderr",
     "output_type": "stream",
     "text": [
      "\r",
      " 78%|████████████████████████████████▏        | 69/88 [1:06:34<11:40, 36.85s/it]"
     ]
    },
    {
     "name": "stdout",
     "output_type": "stream",
     "text": [
      "Assay  624170\n",
      "Total Compounds  152\n",
      "Inactive Compounds  114\n",
      "Active Compounds  38\n",
      "Perform nested cross validation on training set\n",
      "Predictions on held out set\n"
     ]
    },
    {
     "name": "stderr",
     "output_type": "stream",
     "text": [
      "\r",
      " 80%|████████████████████████████████▌        | 70/88 [1:06:37<07:58, 26.58s/it]"
     ]
    },
    {
     "name": "stdout",
     "output_type": "stream",
     "text": [
      "Assay  651820\n",
      "Total Compounds  328\n",
      "Inactive Compounds  82\n",
      "Active Compounds  246\n",
      "Perform nested cross validation on training set\n",
      "Predictions on held out set\n"
     ]
    },
    {
     "name": "stderr",
     "output_type": "stream",
     "text": [
      "\r",
      " 81%|█████████████████████████████████        | 71/88 [1:06:47<06:05, 21.51s/it]"
     ]
    },
    {
     "name": "stdout",
     "output_type": "stream",
     "text": [
      "Assay  624297\n",
      "Total Compounds  771\n",
      "Inactive Compounds  483\n",
      "Active Compounds  288\n",
      "Perform nested cross validation on training set\n",
      "Predictions on held out set\n"
     ]
    },
    {
     "name": "stderr",
     "output_type": "stream",
     "text": [
      "\r",
      " 82%|█████████████████████████████████▌       | 72/88 [1:07:32<07:40, 28.79s/it]"
     ]
    },
    {
     "name": "stdout",
     "output_type": "stream",
     "text": [
      "Assay  651635\n",
      "Total Compounds  354\n",
      "Inactive Compounds  205\n",
      "Active Compounds  149\n",
      "Perform nested cross validation on training set\n",
      "Predictions on held out set\n"
     ]
    },
    {
     "name": "stderr",
     "output_type": "stream",
     "text": [
      "\r",
      " 83%|██████████████████████████████████       | 73/88 [1:07:44<05:52, 23.53s/it]"
     ]
    },
    {
     "name": "stdout",
     "output_type": "stream",
     "text": [
      "Assay  624417\n",
      "Total Compounds  846\n",
      "Inactive Compounds  619\n",
      "Active Compounds  227\n",
      "Perform nested cross validation on training set\n",
      "Predictions on held out set\n"
     ]
    },
    {
     "name": "stderr",
     "output_type": "stream",
     "text": [
      "\r",
      " 84%|██████████████████████████████████▍      | 74/88 [1:08:38<07:39, 32.83s/it]"
     ]
    },
    {
     "name": "stdout",
     "output_type": "stream",
     "text": [
      "Assay  624202\n",
      "Total Compounds  379\n",
      "Inactive Compounds  126\n",
      "Active Compounds  253\n",
      "Perform nested cross validation on training set\n",
      "Predictions on held out set\n"
     ]
    },
    {
     "name": "stderr",
     "output_type": "stream",
     "text": [
      "\r",
      " 85%|██████████████████████████████████▉      | 75/88 [1:08:51<05:47, 26.71s/it]"
     ]
    },
    {
     "name": "stdout",
     "output_type": "stream",
     "text": [
      "Assay  624287\n",
      "Total Compounds  104\n",
      "Inactive Compounds  78\n",
      "Active Compounds  26\n",
      "Perform nested cross validation on training set\n",
      "Predictions on held out set\n"
     ]
    },
    {
     "name": "stderr",
     "output_type": "stream",
     "text": [
      "\r",
      " 86%|███████████████████████████████████▍     | 76/88 [1:08:52<03:49, 19.14s/it]"
     ]
    },
    {
     "name": "stdout",
     "output_type": "stream",
     "text": [
      "Assay  624288\n",
      "Total Compounds  155\n",
      "Inactive Compounds  94\n",
      "Active Compounds  61\n",
      "Perform nested cross validation on training set\n",
      "Predictions on held out set\n"
     ]
    },
    {
     "name": "stderr",
     "output_type": "stream",
     "text": [
      "\r",
      " 88%|███████████████████████████████████▉     | 77/88 [1:08:55<02:36, 14.20s/it]"
     ]
    },
    {
     "name": "stdout",
     "output_type": "stream",
     "text": [
      "Assay  651644\n",
      "Total Compounds  152\n",
      "Inactive Compounds  114\n",
      "Active Compounds  38\n",
      "Perform nested cross validation on training set\n",
      "Predictions on held out set\n"
     ]
    },
    {
     "name": "stderr",
     "output_type": "stream",
     "text": [
      "\r",
      " 89%|████████████████████████████████████▎    | 78/88 [1:08:57<01:47, 10.73s/it]"
     ]
    },
    {
     "name": "stdout",
     "output_type": "stream",
     "text": [
      "Assay  652104\n",
      "Total Compounds  394\n",
      "Inactive Compounds  155\n",
      "Active Compounds  239\n",
      "Perform nested cross validation on training set\n",
      "Predictions on held out set\n"
     ]
    },
    {
     "name": "stderr",
     "output_type": "stream",
     "text": [
      "\r",
      " 90%|████████████████████████████████████▊    | 79/88 [1:09:11<01:43, 11.52s/it]"
     ]
    },
    {
     "name": "stdout",
     "output_type": "stream",
     "text": [
      "Assay  720579\n",
      "Total Compounds  106\n",
      "Inactive Compounds  28\n",
      "Active Compounds  78\n",
      "Perform nested cross validation on training set\n",
      "Predictions on held out set\n"
     ]
    },
    {
     "name": "stderr",
     "output_type": "stream",
     "text": [
      "\r",
      " 91%|█████████████████████████████████████▎   | 80/88 [1:09:12<01:08,  8.54s/it]"
     ]
    },
    {
     "name": "stdout",
     "output_type": "stream",
     "text": [
      "Assay  720533\n",
      "Total Compounds  180\n",
      "Inactive Compounds  49\n",
      "Active Compounds  131\n",
      "Perform nested cross validation on training set\n",
      "Predictions on held out set\n"
     ]
    },
    {
     "name": "stderr",
     "output_type": "stream",
     "text": [
      "\r",
      " 92%|█████████████████████████████████████▋   | 81/88 [1:09:16<00:49,  7.04s/it]"
     ]
    },
    {
     "name": "stdout",
     "output_type": "stream",
     "text": [
      "Assay  720542\n",
      "Total Compounds  104\n",
      "Inactive Compounds  78\n",
      "Active Compounds  26\n",
      "Perform nested cross validation on training set\n",
      "Predictions on held out set\n"
     ]
    },
    {
     "name": "stderr",
     "output_type": "stream",
     "text": [
      "\r",
      " 93%|██████████████████████████████████████▏  | 82/88 [1:09:17<00:32,  5.38s/it]"
     ]
    },
    {
     "name": "stdout",
     "output_type": "stream",
     "text": [
      "Assay  720580\n",
      "Total Compounds  121\n",
      "Inactive Compounds  46\n",
      "Active Compounds  75\n",
      "Perform nested cross validation on training set\n",
      "Predictions on held out set\n"
     ]
    },
    {
     "name": "stderr",
     "output_type": "stream",
     "text": [
      "\r",
      " 94%|██████████████████████████████████████▋  | 83/88 [1:09:19<00:21,  4.33s/it]"
     ]
    },
    {
     "name": "stdout",
     "output_type": "stream",
     "text": [
      "Assay  720504\n",
      "Total Compounds  128\n",
      "Inactive Compounds  32\n",
      "Active Compounds  96\n",
      "Perform nested cross validation on training set\n",
      "Predictions on held out set\n"
     ]
    },
    {
     "name": "stderr",
     "output_type": "stream",
     "text": [
      "\r",
      " 95%|███████████████████████████████████████▏ | 84/88 [1:09:21<00:14,  3.65s/it]"
     ]
    },
    {
     "name": "stdout",
     "output_type": "stream",
     "text": [
      "Assay  720532\n",
      "Total Compounds  301\n",
      "Inactive Compounds  91\n",
      "Active Compounds  210\n",
      "Perform nested cross validation on training set\n",
      "Predictions on held out set\n"
     ]
    },
    {
     "name": "stderr",
     "output_type": "stream",
     "text": [
      "\r",
      " 97%|███████████████████████████████████████▌ | 85/88 [1:09:30<00:15,  5.04s/it]"
     ]
    },
    {
     "name": "stdout",
     "output_type": "stream",
     "text": [
      "Assay  1159524\n",
      "Total Compounds  880\n",
      "Inactive Compounds  660\n",
      "Active Compounds  220\n",
      "Perform nested cross validation on training set\n",
      "Predictions on held out set\n"
     ]
    },
    {
     "name": "stderr",
     "output_type": "stream",
     "text": [
      "\r",
      " 98%|████████████████████████████████████████ | 86/88 [1:10:29<00:42, 21.25s/it]"
     ]
    },
    {
     "name": "stdout",
     "output_type": "stream",
     "text": [
      "Assay  1117304\n",
      "Total Compounds  386\n",
      "Inactive Compounds  260\n",
      "Active Compounds  126\n",
      "Perform nested cross validation on training set\n",
      "Predictions on held out set\n"
     ]
    },
    {
     "name": "stderr",
     "output_type": "stream",
     "text": [
      "\r",
      " 99%|████████████████████████████████████████▌| 87/88 [1:10:42<00:18, 18.71s/it]"
     ]
    },
    {
     "name": "stdout",
     "output_type": "stream",
     "text": [
      "Assay  1117305\n",
      "Total Compounds  359\n",
      "Inactive Compounds  247\n",
      "Active Compounds  112\n",
      "Perform nested cross validation on training set\n",
      "Predictions on held out set\n"
     ]
    },
    {
     "name": "stderr",
     "output_type": "stream",
     "text": [
      "100%|█████████████████████████████████████████| 88/88 [1:10:53<00:00, 48.33s/it]\n"
     ]
    }
   ],
   "source": [
    "from tqdm import tqdm\n",
    "from sklearn.model_selection import train_test_split\n",
    "\n",
    "master_detail_list=[]\n",
    "for assay in tqdm(assay_list[:]):\n",
    "    \n",
    "    print(\"Assay \", assay )\n",
    "    df_assay= assay_data[pd.notnull(assay_data[assay])]\n",
    "\n",
    "    print(\"Total Compounds \", len(df_assay) )\n",
    "\n",
    "    df_assay_inactive = df_assay[df_assay[assay] == 0]\n",
    "    inactives_n=len(df_assay_inactive)\n",
    "    print(\"Inactive Compounds \", inactives_n)\n",
    "\n",
    "    df_assay_active = df_assay[df_assay[assay] == 1]\n",
    "    actives_n=len(df_assay_active)\n",
    "    print(\"Active Compounds \", actives_n)\n",
    "\n",
    "    df_assay_train, df_assay_test= train_test_split(df_assay, stratify=df_assay[[assay]], test_size=0.20, random_state=42)\n",
    "    \n",
    "    print(\"Perform nested cross validation on training set\")\n",
    "    detail_list_train =  my_function_nested_rhs(assay, 42)\n",
    "   \n",
    "    \n",
    "    print(\"Predictions on held out set\")\n",
    "    detail_list_test = my_function_heldout_rhs(assay, 42)\n",
    "\n",
    "    \n",
    "    master_detail_list.append(detail_list_train) \n",
    "    master_detail_list.append(detail_list_test) \n",
    "     "
   ]
  },
  {
   "cell_type": "code",
   "execution_count": 18,
   "id": "f1ca7a69",
   "metadata": {},
   "outputs": [
    {
     "data": {
      "text/html": [
       "<div>\n",
       "<style scoped>\n",
       "    .dataframe tbody tr th:only-of-type {\n",
       "        vertical-align: middle;\n",
       "    }\n",
       "\n",
       "    .dataframe tbody tr th {\n",
       "        vertical-align: top;\n",
       "    }\n",
       "\n",
       "    .dataframe thead th {\n",
       "        text-align: right;\n",
       "    }\n",
       "</style>\n",
       "<table border=\"1\" class=\"dataframe\">\n",
       "  <thead>\n",
       "    <tr style=\"text-align: right;\">\n",
       "      <th></th>\n",
       "      <th>assay</th>\n",
       "      <th>InChICode_standardised</th>\n",
       "      <th>ts</th>\n",
       "      <th>ts_perc</th>\n",
       "      <th>ts_actives</th>\n",
       "      <th>ts_perc_actives</th>\n",
       "      <th>ts_inactives</th>\n",
       "      <th>ts_perc_inactives</th>\n",
       "      <th>pc</th>\n",
       "      <th>pc_perc</th>\n",
       "      <th>pc_actives</th>\n",
       "      <th>pc_perc_actives</th>\n",
       "      <th>pc_inactives</th>\n",
       "      <th>pc_perc_inactives</th>\n",
       "      <th>Data</th>\n",
       "    </tr>\n",
       "  </thead>\n",
       "  <tbody>\n",
       "    <tr>\n",
       "      <th>0</th>\n",
       "      <td>588458</td>\n",
       "      <td>InChI=1S/C19H19N3O5S3/c23-16-6-5-13(30(25,26)2...</td>\n",
       "      <td>0.446814</td>\n",
       "      <td>0.000000</td>\n",
       "      <td>0.396191</td>\n",
       "      <td>0.000000</td>\n",
       "      <td>0.433559</td>\n",
       "      <td>0.000000</td>\n",
       "      <td>0.442869</td>\n",
       "      <td>0.000000</td>\n",
       "      <td>0.416542</td>\n",
       "      <td>0.000000</td>\n",
       "      <td>0.430447</td>\n",
       "      <td>0.000000</td>\n",
       "      <td>Training</td>\n",
       "    </tr>\n",
       "    <tr>\n",
       "      <th>1</th>\n",
       "      <td>588458</td>\n",
       "      <td>InChI=1S/C9H8ClN3S/c1-6-11-12-9(14)13(6)8-4-2-...</td>\n",
       "      <td>0.443323</td>\n",
       "      <td>0.000000</td>\n",
       "      <td>0.378563</td>\n",
       "      <td>0.000000</td>\n",
       "      <td>0.414811</td>\n",
       "      <td>0.000000</td>\n",
       "      <td>0.689046</td>\n",
       "      <td>0.139860</td>\n",
       "      <td>0.662077</td>\n",
       "      <td>0.222222</td>\n",
       "      <td>0.678060</td>\n",
       "      <td>0.214953</td>\n",
       "      <td>Training</td>\n",
       "    </tr>\n",
       "    <tr>\n",
       "      <th>2</th>\n",
       "      <td>588458</td>\n",
       "      <td>InChI=1S/C20H20N2O4/c1-2-25-20(24)17-12-18-16(...</td>\n",
       "      <td>0.440373</td>\n",
       "      <td>0.000000</td>\n",
       "      <td>0.373476</td>\n",
       "      <td>0.000000</td>\n",
       "      <td>0.428608</td>\n",
       "      <td>0.000000</td>\n",
       "      <td>0.729628</td>\n",
       "      <td>0.143357</td>\n",
       "      <td>0.676574</td>\n",
       "      <td>0.152778</td>\n",
       "      <td>0.719979</td>\n",
       "      <td>0.186916</td>\n",
       "      <td>Training</td>\n",
       "    </tr>\n",
       "    <tr>\n",
       "      <th>3</th>\n",
       "      <td>588458</td>\n",
       "      <td>InChI=1S/C26H24N2O5S/c1-33-19-11-9-18(10-12-19...</td>\n",
       "      <td>0.478412</td>\n",
       "      <td>0.006993</td>\n",
       "      <td>0.332100</td>\n",
       "      <td>0.000000</td>\n",
       "      <td>0.478412</td>\n",
       "      <td>0.009346</td>\n",
       "      <td>0.536519</td>\n",
       "      <td>0.000000</td>\n",
       "      <td>0.458671</td>\n",
       "      <td>0.013889</td>\n",
       "      <td>0.526597</td>\n",
       "      <td>0.018692</td>\n",
       "      <td>Training</td>\n",
       "    </tr>\n",
       "    <tr>\n",
       "      <th>4</th>\n",
       "      <td>588458</td>\n",
       "      <td>InChI=1S/C19H21N3O3S/c1-13-10-16-11-15(4-9-19(...</td>\n",
       "      <td>0.473341</td>\n",
       "      <td>0.000000</td>\n",
       "      <td>0.401539</td>\n",
       "      <td>0.000000</td>\n",
       "      <td>0.420060</td>\n",
       "      <td>0.000000</td>\n",
       "      <td>0.707402</td>\n",
       "      <td>0.055944</td>\n",
       "      <td>0.599794</td>\n",
       "      <td>0.055556</td>\n",
       "      <td>0.673625</td>\n",
       "      <td>0.074766</td>\n",
       "      <td>Training</td>\n",
       "    </tr>\n",
       "    <tr>\n",
       "      <th>...</th>\n",
       "      <td>...</td>\n",
       "      <td>...</td>\n",
       "      <td>...</td>\n",
       "      <td>...</td>\n",
       "      <td>...</td>\n",
       "      <td>...</td>\n",
       "      <td>...</td>\n",
       "      <td>...</td>\n",
       "      <td>...</td>\n",
       "      <td>...</td>\n",
       "      <td>...</td>\n",
       "      <td>...</td>\n",
       "      <td>...</td>\n",
       "      <td>...</td>\n",
       "      <td>...</td>\n",
       "    </tr>\n",
       "    <tr>\n",
       "      <th>50191</th>\n",
       "      <td>1117305</td>\n",
       "      <td>InChI=1S/C7H8ClN3O4S2/c8-4-1-5-7(2-6(4)16(9,12...</td>\n",
       "      <td>0.498732</td>\n",
       "      <td>0.006969</td>\n",
       "      <td>0.479915</td>\n",
       "      <td>0.022222</td>\n",
       "      <td>0.314529</td>\n",
       "      <td>0.000000</td>\n",
       "      <td>0.645185</td>\n",
       "      <td>0.045296</td>\n",
       "      <td>0.605005</td>\n",
       "      <td>0.111111</td>\n",
       "      <td>0.628868</td>\n",
       "      <td>0.055838</td>\n",
       "      <td>HeldOut</td>\n",
       "    </tr>\n",
       "    <tr>\n",
       "      <th>50192</th>\n",
       "      <td>1117305</td>\n",
       "      <td>InChI=1S/C14H9I3O4/c15-9-6-8(1-2-12(9)18)21-14...</td>\n",
       "      <td>0.436372</td>\n",
       "      <td>0.000000</td>\n",
       "      <td>0.394652</td>\n",
       "      <td>0.000000</td>\n",
       "      <td>0.423370</td>\n",
       "      <td>0.000000</td>\n",
       "      <td>0.584091</td>\n",
       "      <td>0.020906</td>\n",
       "      <td>0.532951</td>\n",
       "      <td>0.044444</td>\n",
       "      <td>0.584091</td>\n",
       "      <td>0.060914</td>\n",
       "      <td>HeldOut</td>\n",
       "    </tr>\n",
       "    <tr>\n",
       "      <th>50193</th>\n",
       "      <td>1117305</td>\n",
       "      <td>InChI=1S/C18H19Cl2NO4/c1-5-25-18(23)14-10(3)21...</td>\n",
       "      <td>0.481728</td>\n",
       "      <td>0.003484</td>\n",
       "      <td>0.331436</td>\n",
       "      <td>0.000000</td>\n",
       "      <td>0.471541</td>\n",
       "      <td>0.005076</td>\n",
       "      <td>0.725631</td>\n",
       "      <td>0.149826</td>\n",
       "      <td>0.685987</td>\n",
       "      <td>0.244444</td>\n",
       "      <td>0.723294</td>\n",
       "      <td>0.167513</td>\n",
       "      <td>HeldOut</td>\n",
       "    </tr>\n",
       "    <tr>\n",
       "      <th>50194</th>\n",
       "      <td>1117305</td>\n",
       "      <td>InChI=1S/C16H11BrN2O/c17-9-5-6-14-11(7-9)12-8-...</td>\n",
       "      <td>0.380949</td>\n",
       "      <td>0.000000</td>\n",
       "      <td>0.279776</td>\n",
       "      <td>0.000000</td>\n",
       "      <td>0.380949</td>\n",
       "      <td>0.000000</td>\n",
       "      <td>0.812100</td>\n",
       "      <td>0.118467</td>\n",
       "      <td>0.697407</td>\n",
       "      <td>0.100000</td>\n",
       "      <td>0.812100</td>\n",
       "      <td>0.142132</td>\n",
       "      <td>HeldOut</td>\n",
       "    </tr>\n",
       "    <tr>\n",
       "      <th>50195</th>\n",
       "      <td>1117305</td>\n",
       "      <td>InChI=1S/C19H21NO4/c1-20-5-4-10-7-15(22)19(24-...</td>\n",
       "      <td>0.496593</td>\n",
       "      <td>0.000000</td>\n",
       "      <td>0.494046</td>\n",
       "      <td>0.000000</td>\n",
       "      <td>0.442036</td>\n",
       "      <td>0.000000</td>\n",
       "      <td>0.475183</td>\n",
       "      <td>0.000000</td>\n",
       "      <td>0.401511</td>\n",
       "      <td>0.000000</td>\n",
       "      <td>0.460427</td>\n",
       "      <td>0.010152</td>\n",
       "      <td>HeldOut</td>\n",
       "    </tr>\n",
       "  </tbody>\n",
       "</table>\n",
       "<p>50196 rows × 15 columns</p>\n",
       "</div>"
      ],
      "text/plain": [
       "         assay                             InChICode_standardised        ts  \\\n",
       "0       588458  InChI=1S/C19H19N3O5S3/c23-16-6-5-13(30(25,26)2...  0.446814   \n",
       "1       588458  InChI=1S/C9H8ClN3S/c1-6-11-12-9(14)13(6)8-4-2-...  0.443323   \n",
       "2       588458  InChI=1S/C20H20N2O4/c1-2-25-20(24)17-12-18-16(...  0.440373   \n",
       "3       588458  InChI=1S/C26H24N2O5S/c1-33-19-11-9-18(10-12-19...  0.478412   \n",
       "4       588458  InChI=1S/C19H21N3O3S/c1-13-10-16-11-15(4-9-19(...  0.473341   \n",
       "...        ...                                                ...       ...   \n",
       "50191  1117305  InChI=1S/C7H8ClN3O4S2/c8-4-1-5-7(2-6(4)16(9,12...  0.498732   \n",
       "50192  1117305  InChI=1S/C14H9I3O4/c15-9-6-8(1-2-12(9)18)21-14...  0.436372   \n",
       "50193  1117305  InChI=1S/C18H19Cl2NO4/c1-5-25-18(23)14-10(3)21...  0.481728   \n",
       "50194  1117305  InChI=1S/C16H11BrN2O/c17-9-5-6-14-11(7-9)12-8-...  0.380949   \n",
       "50195  1117305  InChI=1S/C19H21NO4/c1-20-5-4-10-7-15(22)19(24-...  0.496593   \n",
       "\n",
       "        ts_perc  ts_actives  ts_perc_actives  ts_inactives  ts_perc_inactives  \\\n",
       "0      0.000000    0.396191         0.000000      0.433559           0.000000   \n",
       "1      0.000000    0.378563         0.000000      0.414811           0.000000   \n",
       "2      0.000000    0.373476         0.000000      0.428608           0.000000   \n",
       "3      0.006993    0.332100         0.000000      0.478412           0.009346   \n",
       "4      0.000000    0.401539         0.000000      0.420060           0.000000   \n",
       "...         ...         ...              ...           ...                ...   \n",
       "50191  0.006969    0.479915         0.022222      0.314529           0.000000   \n",
       "50192  0.000000    0.394652         0.000000      0.423370           0.000000   \n",
       "50193  0.003484    0.331436         0.000000      0.471541           0.005076   \n",
       "50194  0.000000    0.279776         0.000000      0.380949           0.000000   \n",
       "50195  0.000000    0.494046         0.000000      0.442036           0.000000   \n",
       "\n",
       "             pc   pc_perc  pc_actives  pc_perc_actives  pc_inactives  \\\n",
       "0      0.442869  0.000000    0.416542         0.000000      0.430447   \n",
       "1      0.689046  0.139860    0.662077         0.222222      0.678060   \n",
       "2      0.729628  0.143357    0.676574         0.152778      0.719979   \n",
       "3      0.536519  0.000000    0.458671         0.013889      0.526597   \n",
       "4      0.707402  0.055944    0.599794         0.055556      0.673625   \n",
       "...         ...       ...         ...              ...           ...   \n",
       "50191  0.645185  0.045296    0.605005         0.111111      0.628868   \n",
       "50192  0.584091  0.020906    0.532951         0.044444      0.584091   \n",
       "50193  0.725631  0.149826    0.685987         0.244444      0.723294   \n",
       "50194  0.812100  0.118467    0.697407         0.100000      0.812100   \n",
       "50195  0.475183  0.000000    0.401511         0.000000      0.460427   \n",
       "\n",
       "       pc_perc_inactives      Data  \n",
       "0               0.000000  Training  \n",
       "1               0.214953  Training  \n",
       "2               0.186916  Training  \n",
       "3               0.018692  Training  \n",
       "4               0.074766  Training  \n",
       "...                  ...       ...  \n",
       "50191           0.055838   HeldOut  \n",
       "50192           0.060914   HeldOut  \n",
       "50193           0.167513   HeldOut  \n",
       "50194           0.142132   HeldOut  \n",
       "50195           0.010152   HeldOut  \n",
       "\n",
       "[50196 rows x 15 columns]"
      ]
     },
     "execution_count": 18,
     "metadata": {},
     "output_type": "execute_result"
    }
   ],
   "source": [
    "flatList_master_detail_list = [ item for elem in master_detail_list for item in elem]\n",
    "list_of_lists_df = pd.DataFrame(flatList_master_detail_list,columns=[\"assay\",\"InChICode_standardised\",\n",
    "                                                                    \"ts\", \"ts_perc\", \"ts_actives\", \"ts_perc_actives\", \n",
    "                                                                     \"ts_inactives\", \"ts_perc_inactives\", \"pc\", \"pc_perc\", \"pc_actives\", \"pc_perc_actives\", \n",
    "                                                                     \"pc_inactives\", \"pc_perc_inactives\", \n",
    "                                                                     \"Data\"])\n",
    "list_of_lists_df"
   ]
  },
  {
   "cell_type": "code",
   "execution_count": 19,
   "id": "051267b1",
   "metadata": {},
   "outputs": [],
   "source": [
    "list_of_lists_df.to_csv(\"Similarity_def_mean_train_test_no_Class.csv\", index=False)"
   ]
  },
  {
   "cell_type": "code",
   "execution_count": null,
   "id": "423f4265",
   "metadata": {},
   "outputs": [],
   "source": []
  }
 ],
 "metadata": {
  "kernelspec": {
   "display_name": "Python 3 (ipykernel)",
   "language": "python",
   "name": "python3"
  },
  "language_info": {
   "codemirror_mode": {
    "name": "ipython",
    "version": 3
   },
   "file_extension": ".py",
   "mimetype": "text/x-python",
   "name": "python",
   "nbconvert_exporter": "python",
   "pygments_lexer": "ipython3",
   "version": "3.9.6"
  }
 },
 "nbformat": 4,
 "nbformat_minor": 5
}
