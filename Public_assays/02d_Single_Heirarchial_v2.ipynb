{
 "cells": [
  {
   "cell_type": "code",
   "execution_count": 1,
   "metadata": {},
   "outputs": [],
   "source": [
    "#This notebook builds a heirarchial model from baseline randomforest \n",
    "#Morgan fingerprint \n",
    "#and cell painting"
   ]
  },
  {
   "cell_type": "code",
   "execution_count": 2,
   "metadata": {},
   "outputs": [],
   "source": [
    "from rdkit import Chem, DataStructs\n",
    "from scipy.stats import randint\n",
    "from rdkit.Chem import AllChem\n",
    "from scipy import stats\n",
    "from rdkit.Chem import rdMolDescriptors as rdmd\n",
    "from rdkit.Chem.Scaffolds import MurckoScaffold\n",
    "import pandas as pd\n",
    "from tqdm import tqdm\n",
    "import time\n",
    "import numpy as np\n",
    "from scipy.spatial.distance import cdist\n",
    "from sklearn.cluster import MiniBatchKMeans\n",
    "import matplotlib.pyplot as plt\n",
    "from sklearn.ensemble import RandomForestClassifier\n",
    "from sklearn.model_selection import train_test_split\n",
    "from sklearn.metrics import matthews_corrcoef,confusion_matrix, roc_auc_score, roc_curve\n",
    "import seaborn as sns"
   ]
  },
  {
   "cell_type": "code",
   "execution_count": 3,
   "metadata": {},
   "outputs": [
    {
     "data": {
      "text/html": [
       "<div>\n",
       "<style scoped>\n",
       "    .dataframe tbody tr th:only-of-type {\n",
       "        vertical-align: middle;\n",
       "    }\n",
       "\n",
       "    .dataframe tbody tr th {\n",
       "        vertical-align: top;\n",
       "    }\n",
       "\n",
       "    .dataframe thead th {\n",
       "        text-align: right;\n",
       "    }\n",
       "</style>\n",
       "<table border=\"1\" class=\"dataframe\">\n",
       "  <thead>\n",
       "    <tr style=\"text-align: right;\">\n",
       "      <th></th>\n",
       "      <th>assay</th>\n",
       "      <th>InChICode_standardised</th>\n",
       "      <th>fp_proba</th>\n",
       "      <th>fp_pred</th>\n",
       "      <th>fp_threshold</th>\n",
       "      <th>CP_proba</th>\n",
       "      <th>CP_pred</th>\n",
       "      <th>CP_threshold</th>\n",
       "      <th>true</th>\n",
       "      <th>Data</th>\n",
       "      <th>MFP_Correct</th>\n",
       "      <th>CP_Correct</th>\n",
       "      <th>fp_proba_scaled</th>\n",
       "      <th>CP_proba_scaled</th>\n",
       "      <th>simple_pred</th>\n",
       "      <th>Ensemble_Correct</th>\n",
       "    </tr>\n",
       "  </thead>\n",
       "  <tbody>\n",
       "    <tr>\n",
       "      <th>0</th>\n",
       "      <td>588458</td>\n",
       "      <td>InChI=1S/C19H19N3O5S3/c23-16-6-5-13(30(25,26)2...</td>\n",
       "      <td>0.072320</td>\n",
       "      <td>0</td>\n",
       "      <td>0.227732</td>\n",
       "      <td>0.291514</td>\n",
       "      <td>1</td>\n",
       "      <td>0.291203</td>\n",
       "      <td>0.0</td>\n",
       "      <td>Training</td>\n",
       "      <td>True</td>\n",
       "      <td>False</td>\n",
       "      <td>0.158783</td>\n",
       "      <td>0.500219</td>\n",
       "      <td>0.0</td>\n",
       "      <td>True</td>\n",
       "    </tr>\n",
       "    <tr>\n",
       "      <th>1</th>\n",
       "      <td>588458</td>\n",
       "      <td>InChI=1S/C9H8ClN3S/c1-6-11-12-9(14)13(6)8-4-2-...</td>\n",
       "      <td>0.241077</td>\n",
       "      <td>1</td>\n",
       "      <td>0.227732</td>\n",
       "      <td>0.334301</td>\n",
       "      <td>1</td>\n",
       "      <td>0.291203</td>\n",
       "      <td>0.0</td>\n",
       "      <td>Training</td>\n",
       "      <td>False</td>\n",
       "      <td>False</td>\n",
       "      <td>0.508641</td>\n",
       "      <td>0.530402</td>\n",
       "      <td>1.0</td>\n",
       "      <td>False</td>\n",
       "    </tr>\n",
       "    <tr>\n",
       "      <th>2</th>\n",
       "      <td>588458</td>\n",
       "      <td>InChI=1S/C20H20N2O4/c1-2-25-20(24)17-12-18-16(...</td>\n",
       "      <td>0.119513</td>\n",
       "      <td>0</td>\n",
       "      <td>0.227732</td>\n",
       "      <td>0.186209</td>\n",
       "      <td>0</td>\n",
       "      <td>0.291203</td>\n",
       "      <td>0.0</td>\n",
       "      <td>Training</td>\n",
       "      <td>True</td>\n",
       "      <td>True</td>\n",
       "      <td>0.262399</td>\n",
       "      <td>0.319723</td>\n",
       "      <td>0.0</td>\n",
       "      <td>True</td>\n",
       "    </tr>\n",
       "    <tr>\n",
       "      <th>3</th>\n",
       "      <td>588458</td>\n",
       "      <td>InChI=1S/C26H24N2O5S/c1-33-19-11-9-18(10-12-19...</td>\n",
       "      <td>0.045993</td>\n",
       "      <td>0</td>\n",
       "      <td>0.227732</td>\n",
       "      <td>0.472894</td>\n",
       "      <td>1</td>\n",
       "      <td>0.291203</td>\n",
       "      <td>1.0</td>\n",
       "      <td>Training</td>\n",
       "      <td>False</td>\n",
       "      <td>True</td>\n",
       "      <td>0.100980</td>\n",
       "      <td>0.628169</td>\n",
       "      <td>0.0</td>\n",
       "      <td>False</td>\n",
       "    </tr>\n",
       "    <tr>\n",
       "      <th>4</th>\n",
       "      <td>588458</td>\n",
       "      <td>InChI=1S/C19H21N3O3S/c1-13-10-16-11-15(4-9-19(...</td>\n",
       "      <td>0.269438</td>\n",
       "      <td>1</td>\n",
       "      <td>0.227732</td>\n",
       "      <td>0.168755</td>\n",
       "      <td>0</td>\n",
       "      <td>0.291203</td>\n",
       "      <td>0.0</td>\n",
       "      <td>Training</td>\n",
       "      <td>False</td>\n",
       "      <td>True</td>\n",
       "      <td>0.527003</td>\n",
       "      <td>0.289754</td>\n",
       "      <td>0.0</td>\n",
       "      <td>True</td>\n",
       "    </tr>\n",
       "    <tr>\n",
       "      <th>...</th>\n",
       "      <td>...</td>\n",
       "      <td>...</td>\n",
       "      <td>...</td>\n",
       "      <td>...</td>\n",
       "      <td>...</td>\n",
       "      <td>...</td>\n",
       "      <td>...</td>\n",
       "      <td>...</td>\n",
       "      <td>...</td>\n",
       "      <td>...</td>\n",
       "      <td>...</td>\n",
       "      <td>...</td>\n",
       "      <td>...</td>\n",
       "      <td>...</td>\n",
       "      <td>...</td>\n",
       "      <td>...</td>\n",
       "    </tr>\n",
       "    <tr>\n",
       "      <th>50191</th>\n",
       "      <td>1117305</td>\n",
       "      <td>InChI=1S/C7H8ClN3O4S2/c8-4-1-5-7(2-6(4)16(9,12...</td>\n",
       "      <td>0.703995</td>\n",
       "      <td>1</td>\n",
       "      <td>0.457779</td>\n",
       "      <td>0.556806</td>\n",
       "      <td>1</td>\n",
       "      <td>0.264151</td>\n",
       "      <td>0.0</td>\n",
       "      <td>HeldOut</td>\n",
       "      <td>False</td>\n",
       "      <td>False</td>\n",
       "      <td>0.727044</td>\n",
       "      <td>0.698855</td>\n",
       "      <td>1.0</td>\n",
       "      <td>False</td>\n",
       "    </tr>\n",
       "    <tr>\n",
       "      <th>50192</th>\n",
       "      <td>1117305</td>\n",
       "      <td>InChI=1S/C14H9I3O4/c15-9-6-8(1-2-12(9)18)21-14...</td>\n",
       "      <td>0.196017</td>\n",
       "      <td>0</td>\n",
       "      <td>0.457779</td>\n",
       "      <td>0.210436</td>\n",
       "      <td>0</td>\n",
       "      <td>0.264151</td>\n",
       "      <td>0.0</td>\n",
       "      <td>HeldOut</td>\n",
       "      <td>True</td>\n",
       "      <td>True</td>\n",
       "      <td>0.214095</td>\n",
       "      <td>0.398324</td>\n",
       "      <td>0.0</td>\n",
       "      <td>True</td>\n",
       "    </tr>\n",
       "    <tr>\n",
       "      <th>50193</th>\n",
       "      <td>1117305</td>\n",
       "      <td>InChI=1S/C18H19Cl2NO4/c1-5-25-18(23)14-10(3)21...</td>\n",
       "      <td>0.202912</td>\n",
       "      <td>0</td>\n",
       "      <td>0.457779</td>\n",
       "      <td>0.487726</td>\n",
       "      <td>1</td>\n",
       "      <td>0.264151</td>\n",
       "      <td>1.0</td>\n",
       "      <td>HeldOut</td>\n",
       "      <td>False</td>\n",
       "      <td>True</td>\n",
       "      <td>0.221627</td>\n",
       "      <td>0.651916</td>\n",
       "      <td>0.0</td>\n",
       "      <td>False</td>\n",
       "    </tr>\n",
       "    <tr>\n",
       "      <th>50194</th>\n",
       "      <td>1117305</td>\n",
       "      <td>InChI=1S/C16H11BrN2O/c17-9-5-6-14-11(7-9)12-8-...</td>\n",
       "      <td>0.149597</td>\n",
       "      <td>0</td>\n",
       "      <td>0.457779</td>\n",
       "      <td>0.238125</td>\n",
       "      <td>0</td>\n",
       "      <td>0.264151</td>\n",
       "      <td>0.0</td>\n",
       "      <td>HeldOut</td>\n",
       "      <td>True</td>\n",
       "      <td>True</td>\n",
       "      <td>0.163395</td>\n",
       "      <td>0.450736</td>\n",
       "      <td>0.0</td>\n",
       "      <td>True</td>\n",
       "    </tr>\n",
       "    <tr>\n",
       "      <th>50195</th>\n",
       "      <td>1117305</td>\n",
       "      <td>InChI=1S/C19H21NO4/c1-20-5-4-10-7-15(22)19(24-...</td>\n",
       "      <td>0.806297</td>\n",
       "      <td>1</td>\n",
       "      <td>0.457779</td>\n",
       "      <td>0.396923</td>\n",
       "      <td>1</td>\n",
       "      <td>0.264151</td>\n",
       "      <td>1.0</td>\n",
       "      <td>HeldOut</td>\n",
       "      <td>True</td>\n",
       "      <td>True</td>\n",
       "      <td>0.821380</td>\n",
       "      <td>0.590217</td>\n",
       "      <td>1.0</td>\n",
       "      <td>True</td>\n",
       "    </tr>\n",
       "  </tbody>\n",
       "</table>\n",
       "<p>50196 rows × 16 columns</p>\n",
       "</div>"
      ],
      "text/plain": [
       "         assay                             InChICode_standardised  fp_proba  \\\n",
       "0       588458  InChI=1S/C19H19N3O5S3/c23-16-6-5-13(30(25,26)2...  0.072320   \n",
       "1       588458  InChI=1S/C9H8ClN3S/c1-6-11-12-9(14)13(6)8-4-2-...  0.241077   \n",
       "2       588458  InChI=1S/C20H20N2O4/c1-2-25-20(24)17-12-18-16(...  0.119513   \n",
       "3       588458  InChI=1S/C26H24N2O5S/c1-33-19-11-9-18(10-12-19...  0.045993   \n",
       "4       588458  InChI=1S/C19H21N3O3S/c1-13-10-16-11-15(4-9-19(...  0.269438   \n",
       "...        ...                                                ...       ...   \n",
       "50191  1117305  InChI=1S/C7H8ClN3O4S2/c8-4-1-5-7(2-6(4)16(9,12...  0.703995   \n",
       "50192  1117305  InChI=1S/C14H9I3O4/c15-9-6-8(1-2-12(9)18)21-14...  0.196017   \n",
       "50193  1117305  InChI=1S/C18H19Cl2NO4/c1-5-25-18(23)14-10(3)21...  0.202912   \n",
       "50194  1117305  InChI=1S/C16H11BrN2O/c17-9-5-6-14-11(7-9)12-8-...  0.149597   \n",
       "50195  1117305  InChI=1S/C19H21NO4/c1-20-5-4-10-7-15(22)19(24-...  0.806297   \n",
       "\n",
       "       fp_pred  fp_threshold  CP_proba  CP_pred  CP_threshold  true      Data  \\\n",
       "0            0      0.227732  0.291514        1      0.291203   0.0  Training   \n",
       "1            1      0.227732  0.334301        1      0.291203   0.0  Training   \n",
       "2            0      0.227732  0.186209        0      0.291203   0.0  Training   \n",
       "3            0      0.227732  0.472894        1      0.291203   1.0  Training   \n",
       "4            1      0.227732  0.168755        0      0.291203   0.0  Training   \n",
       "...        ...           ...       ...      ...           ...   ...       ...   \n",
       "50191        1      0.457779  0.556806        1      0.264151   0.0   HeldOut   \n",
       "50192        0      0.457779  0.210436        0      0.264151   0.0   HeldOut   \n",
       "50193        0      0.457779  0.487726        1      0.264151   1.0   HeldOut   \n",
       "50194        0      0.457779  0.238125        0      0.264151   0.0   HeldOut   \n",
       "50195        1      0.457779  0.396923        1      0.264151   1.0   HeldOut   \n",
       "\n",
       "       MFP_Correct  CP_Correct  fp_proba_scaled  CP_proba_scaled  simple_pred  \\\n",
       "0             True       False         0.158783         0.500219          0.0   \n",
       "1            False       False         0.508641         0.530402          1.0   \n",
       "2             True        True         0.262399         0.319723          0.0   \n",
       "3            False        True         0.100980         0.628169          0.0   \n",
       "4            False        True         0.527003         0.289754          0.0   \n",
       "...            ...         ...              ...              ...          ...   \n",
       "50191        False       False         0.727044         0.698855          1.0   \n",
       "50192         True        True         0.214095         0.398324          0.0   \n",
       "50193        False        True         0.221627         0.651916          0.0   \n",
       "50194         True        True         0.163395         0.450736          0.0   \n",
       "50195         True        True         0.821380         0.590217          1.0   \n",
       "\n",
       "       Ensemble_Correct  \n",
       "0                  True  \n",
       "1                 False  \n",
       "2                  True  \n",
       "3                 False  \n",
       "4                  True  \n",
       "...                 ...  \n",
       "50191             False  \n",
       "50192              True  \n",
       "50193             False  \n",
       "50194              True  \n",
       "50195              True  \n",
       "\n",
       "[50196 rows x 16 columns]"
      ]
     },
     "execution_count": 3,
     "metadata": {},
     "output_type": "execute_result"
    }
   ],
   "source": [
    "list_of_lists_df = pd.read_csv(\"Predictions_train_heldout_scaled_prob_all_assays_ensemble.csv\")\n",
    "list_of_lists_df"
   ]
  },
  {
   "cell_type": "code",
   "execution_count": 4,
   "metadata": {},
   "outputs": [],
   "source": [
    "from sklearn.linear_model import LogisticRegression\n",
    "from io import StringIO\n",
    "from itertools import product\n",
    "import sys\n",
    "import matplotlib.pyplot as plt\n",
    "from sklearn.tree import plot_tree\n",
    "from sklearn.tree import DecisionTreeClassifier\n",
    "from sklearn.model_selection import StratifiedKFold"
   ]
  },
  {
   "cell_type": "code",
   "execution_count": 5,
   "metadata": {},
   "outputs": [],
   "source": [
    "def RF_Fn(assay):\n",
    "\n",
    "    detail_list=pd.DataFrame()\n",
    "    detail_list = list_of_lists_df[list_of_lists_df[\"assay\"]==assay].reset_index(drop=True)\n",
    "    \n",
    "    \n",
    "    proba_batch=[]\n",
    "    pred_batch=[]\n",
    "    true_batch=[]\n",
    "    StdInChI_batch=[]\n",
    "    \n",
    "    train= detail_list[detail_list[\"Data\"]==\"Training\"]\n",
    "\n",
    "    test= detail_list[detail_list[\"Data\"]==\"HeldOut\"]\n",
    "    \n",
    "\n",
    "    print(\"Herirachal model for training data\")    \n",
    "\n",
    "    print(\"RF Model\")\n",
    "            \n",
    "    X_train = train[[\"fp_proba_scaled\", \"CP_proba_scaled\"]].to_numpy()\n",
    "    y_train = train[\"true\"].to_numpy()\n",
    "    X_test = test[[\"fp_proba_scaled\", \"CP_proba_scaled\"]].to_numpy()\n",
    "    y_test = test[\"true\"].to_numpy()\n",
    "\n",
    "\n",
    "    inner_cv = StratifiedKFold(n_splits=5, shuffle=True, random_state=42)\n",
    "         \n",
    "    param_dist_grid = {\n",
    "        'n_estimators':[100, 300, 400, 500],\n",
    "        'random_state': [42],\n",
    "        'n_jobs': [1],\n",
    "        'class_weight' : [None, 'balanced']\n",
    "        }\n",
    "        \n",
    "    rf = RandomForestClassifier(n_jobs=-1)\n",
    "    rsh = HalvingRandomSearchCV(estimator=rf, param_distributions=param_dist_grid, factor=2, \n",
    "                                random_state=42, n_jobs=20, verbose=0,  cv = inner_cv)\n",
    "\n",
    "    rsh.fit(X_train, y_train)\n",
    "\n",
    "    print(\"Tuned Mode: \", rsh.best_params_)\n",
    "    clf = rsh.best_estimator_\n",
    "        \n",
    "    #n_estimators=100\n",
    "    #clf = RandomForestClassifier(n_estimators=n_estimators, max_depth=10, random_state=42, class_weight=\"balanced\")           \n",
    "    clf.fit(X_train, y_train)\n",
    "    \n",
    "    #Threshold Balancing\n",
    "    cross_val_prob = cross_val_predict(rsh.best_estimator_, X_train, y_train, cv=inner_cv, method='predict_proba')[:, 1]\n",
    "    # calculate roc curves\n",
    "    fpr, tpr, thresholds = roc_curve(y_train, cross_val_prob)\n",
    "    # get the best threshold\n",
    "    J = tpr - fpr\n",
    "    ix = argmax(J)\n",
    "    best_thresh = thresholds[ix]\n",
    "    print('Best Threshold=%f' % (best_thresh))\n",
    "\n",
    "\n",
    "    proba = clf.predict_proba(X_test)[:,1]\n",
    "    pred  = [ 1 if x>best_thresh  else 0 for x in proba ] \n",
    "\n",
    "           \n",
    "    StdInChI = test[\"InChICode_standardised\"].to_numpy()\n",
    "    #pred = clf.predict(X_test) \n",
    "    #proba = clf.predict_proba(X_test)[:,1]\n",
    "    true = test[\"true\"].to_numpy()\n",
    "            \n",
    "\n",
    "    StdInChI_batch = np.concatenate([StdInChI_batch, StdInChI])\n",
    "    proba_batch = np.concatenate([proba_batch, proba])\n",
    "    pred_batch = np.concatenate([pred_batch, pred])\n",
    "    true_batch = np.concatenate([true_batch, true])\n",
    "\n",
    "    print(len(pred_batch))\n",
    "    print(len(true_batch))\n",
    "   \n",
    "    return StdInChI_batch, true_batch, pred_batch, proba_batch"
   ]
  },
  {
   "cell_type": "code",
   "execution_count": 6,
   "metadata": {},
   "outputs": [],
   "source": [
    "from sklearn.metrics import f1_score\n",
    "from sklearn.metrics import precision_score\n",
    "from sklearn.metrics import classification_report\n",
    "from sklearn.metrics import balanced_accuracy_score\n",
    "\n",
    "def check_heirarchial(assay, method, y_true, y_pred, y_prob):\n",
    "    \n",
    "    conf_matrix = confusion_matrix(y_true, y_pred)\n",
    "    #print(conf_matrix)\n",
    "    \n",
    "    #print(classification_report(y_true, y_pred))\n",
    "    \n",
    "    ba= balanced_accuracy_score(y_true, y_pred)\n",
    "    #print('balanced_accuracy_score ',ba)\n",
    "    \n",
    "    mcc=matthews_corrcoef(y_true, y_pred)\n",
    "    #print('matthews_corrcoef ',mcc)\n",
    "    # Sensitivity, hit rate, recall, or true positive rate\n",
    "    \n",
    "    f1= f1_score(y_true, y_pred, average='binary')\n",
    "    precision = precision_score(y_true, y_pred, average='binary')\n",
    "    \n",
    "    #print('F1 Toxic', f1)\n",
    "    #print('precision', precision)\n",
    "    \n",
    "    Specificity = conf_matrix[0,0]/(conf_matrix[0,0]+conf_matrix[0,1])\n",
    "    # Specificity or true negative rate\n",
    "    Sensitivity = conf_matrix[1,1]/(conf_matrix[1,0]+conf_matrix[1,1]) \n",
    "    \n",
    "    #print( 'Sensitivity', Sensitivity)\n",
    "    #print( 'Specificity', Specificity)\n",
    "    AUC = roc_auc_score(y_true, y_prob)\n",
    "    #print('AUC-ROC ',AUC)    \n",
    "    # calculate roc curves\n",
    "    best_model_fpr, best_model_tpr, _ = roc_curve(y_true, y_prob)   \n",
    "    \n",
    "    \n",
    "    row=[assay, method, f1, precision, Sensitivity, Specificity, ba, mcc, AUC]\n",
    "    metrics_list.append(row)\n",
    "    \n",
    "    return metrics_list"
   ]
  },
  {
   "cell_type": "code",
   "execution_count": 7,
   "metadata": {},
   "outputs": [],
   "source": [
    "from sklearn.model_selection import KFold\n",
    "from sklearn.model_selection import cross_val_predict\n",
    "from collections import Counter\n",
    "from numpy import argmax\n",
    "from sklearn.experimental import enable_halving_search_cv\n",
    "from sklearn.model_selection import HalvingRandomSearchCV"
   ]
  },
  {
   "cell_type": "code",
   "execution_count": 8,
   "metadata": {
    "scrolled": true
   },
   "outputs": [
    {
     "name": "stderr",
     "output_type": "stream",
     "text": [
      "\r",
      "  0%|                                                    | 0/88 [00:00<?, ?it/s]"
     ]
    },
    {
     "name": "stdout",
     "output_type": "stream",
     "text": [
      "Assay:  588458\n",
      "Heirarchial_Model\n",
      "Herirachal model for training data\n",
      "RF Model\n",
      "Tuned Mode:  {'random_state': 42, 'n_jobs': 1, 'n_estimators': 400, 'class_weight': 'balanced'}\n"
     ]
    },
    {
     "name": "stderr",
     "output_type": "stream",
     "text": [
      "\r",
      "  1%|▌                                           | 1/88 [00:06<08:52,  6.12s/it]"
     ]
    },
    {
     "name": "stdout",
     "output_type": "stream",
     "text": [
      "Best Threshold=0.565000\n",
      "90\n",
      "90\n",
      "588458\n",
      "Assay:  588334\n",
      "Heirarchial_Model\n",
      "Herirachal model for training data\n",
      "RF Model\n",
      "Tuned Mode:  {'random_state': 42, 'n_jobs': 1, 'n_estimators': 500, 'class_weight': 'balanced'}\n"
     ]
    },
    {
     "name": "stderr",
     "output_type": "stream",
     "text": [
      "\r",
      "  2%|█                                           | 2/88 [00:12<08:44,  6.10s/it]"
     ]
    },
    {
     "name": "stdout",
     "output_type": "stream",
     "text": [
      "Best Threshold=0.244000\n",
      "106\n",
      "106\n",
      "588334\n",
      "Assay:  2642\n",
      "Heirarchial_Model\n",
      "Herirachal model for training data\n",
      "RF Model\n",
      "Tuned Mode:  {'random_state': 42, 'n_jobs': 1, 'n_estimators': 400, 'class_weight': 'balanced'}\n"
     ]
    },
    {
     "name": "stderr",
     "output_type": "stream",
     "text": [
      "\r",
      "  3%|█▌                                          | 3/88 [00:17<08:10,  5.78s/it]"
     ]
    },
    {
     "name": "stdout",
     "output_type": "stream",
     "text": [
      "Best Threshold=0.297500\n",
      "153\n",
      "153\n",
      "2642\n",
      "Assay:  2156\n",
      "Heirarchial_Model\n",
      "Herirachal model for training data\n",
      "RF Model\n",
      "Tuned Mode:  {'random_state': 42, 'n_jobs': 1, 'n_estimators': 300, 'class_weight': 'balanced'}\n"
     ]
    },
    {
     "name": "stderr",
     "output_type": "stream",
     "text": [
      "\r",
      "  5%|██                                          | 4/88 [00:21<07:16,  5.20s/it]"
     ]
    },
    {
     "name": "stdout",
     "output_type": "stream",
     "text": [
      "Best Threshold=0.013333\n",
      "114\n",
      "114\n",
      "2156\n",
      "Assay:  2330\n",
      "Heirarchial_Model\n",
      "Herirachal model for training data\n",
      "RF Model\n",
      "Tuned Mode:  {'random_state': 42, 'n_jobs': 1, 'n_estimators': 400, 'class_weight': None}\n"
     ]
    },
    {
     "name": "stderr",
     "output_type": "stream",
     "text": [
      "\r",
      "  6%|██▌                                         | 5/88 [00:26<07:04,  5.11s/it]"
     ]
    },
    {
     "name": "stdout",
     "output_type": "stream",
     "text": [
      "Best Threshold=0.402500\n",
      "66\n",
      "66\n",
      "2330\n",
      "Assay:  2216\n",
      "Heirarchial_Model\n",
      "Herirachal model for training data\n",
      "RF Model\n",
      "Tuned Mode:  {'random_state': 42, 'n_jobs': 1, 'n_estimators': 500, 'class_weight': 'balanced'}\n"
     ]
    },
    {
     "name": "stderr",
     "output_type": "stream",
     "text": [
      "\r",
      "  7%|███                                         | 6/88 [00:33<07:29,  5.48s/it]"
     ]
    },
    {
     "name": "stdout",
     "output_type": "stream",
     "text": [
      "Best Threshold=0.344000\n",
      "119\n",
      "119\n",
      "2216\n",
      "Assay:  743015\n",
      "Heirarchial_Model\n",
      "Herirachal model for training data\n",
      "RF Model\n",
      "Tuned Mode:  {'random_state': 42, 'n_jobs': 1, 'n_estimators': 100, 'class_weight': None}\n"
     ]
    },
    {
     "name": "stderr",
     "output_type": "stream",
     "text": [
      "\r",
      "  8%|███▌                                        | 7/88 [00:35<06:09,  4.57s/it]"
     ]
    },
    {
     "name": "stdout",
     "output_type": "stream",
     "text": [
      "Best Threshold=0.680000\n",
      "71\n",
      "71\n",
      "743015\n",
      "Assay:  504444\n",
      "Heirarchial_Model\n",
      "Herirachal model for training data\n",
      "RF Model\n",
      "Tuned Mode:  {'random_state': 42, 'n_jobs': 1, 'n_estimators': 500, 'class_weight': 'balanced'}\n"
     ]
    },
    {
     "name": "stderr",
     "output_type": "stream",
     "text": [
      "\r",
      "  9%|████                                        | 8/88 [00:42<07:02,  5.28s/it]"
     ]
    },
    {
     "name": "stdout",
     "output_type": "stream",
     "text": [
      "Best Threshold=0.232000\n",
      "216\n",
      "216\n",
      "504444\n",
      "Assay:  894\n",
      "Heirarchial_Model\n",
      "Herirachal model for training data\n",
      "RF Model\n",
      "Tuned Mode:  {'random_state': 42, 'n_jobs': 1, 'n_estimators': 100, 'class_weight': 'balanced'}\n"
     ]
    },
    {
     "name": "stderr",
     "output_type": "stream",
     "text": [
      "\r",
      " 10%|████▌                                       | 9/88 [00:45<06:01,  4.58s/it]"
     ]
    },
    {
     "name": "stdout",
     "output_type": "stream",
     "text": [
      "Best Threshold=0.290000\n",
      "232\n",
      "232\n",
      "894\n",
      "Assay:  720635\n",
      "Heirarchial_Model\n",
      "Herirachal model for training data\n",
      "RF Model\n",
      "Tuned Mode:  {'random_state': 42, 'n_jobs': 1, 'n_estimators': 100, 'class_weight': 'balanced'}\n"
     ]
    },
    {
     "name": "stderr",
     "output_type": "stream",
     "text": [
      "\r",
      " 11%|████▉                                      | 10/88 [00:47<05:01,  3.86s/it]"
     ]
    },
    {
     "name": "stdout",
     "output_type": "stream",
     "text": [
      "Best Threshold=0.190000\n",
      "51\n",
      "51\n",
      "720635\n",
      "Assay:  1688\n",
      "Heirarchial_Model\n",
      "Herirachal model for training data\n",
      "RF Model\n",
      "Tuned Mode:  {'random_state': 42, 'n_jobs': 1, 'n_estimators': 100, 'class_weight': 'balanced'}\n"
     ]
    },
    {
     "name": "stderr",
     "output_type": "stream",
     "text": [
      "\r",
      " 12%|█████▍                                     | 11/88 [00:50<04:26,  3.46s/it]"
     ]
    },
    {
     "name": "stdout",
     "output_type": "stream",
     "text": [
      "Best Threshold=0.220000\n",
      "122\n",
      "122\n",
      "1688\n",
      "Assay:  2599\n",
      "Heirarchial_Model\n",
      "Herirachal model for training data\n",
      "RF Model\n",
      "Tuned Mode:  {'random_state': 42, 'n_jobs': 1, 'n_estimators': 500, 'class_weight': 'balanced'}\n"
     ]
    },
    {
     "name": "stderr",
     "output_type": "stream",
     "text": [
      "\r",
      " 14%|█████▊                                     | 12/88 [00:56<05:33,  4.39s/it]"
     ]
    },
    {
     "name": "stdout",
     "output_type": "stream",
     "text": [
      "Best Threshold=0.400000\n",
      "180\n",
      "180\n",
      "2599\n",
      "Assay:  602340\n",
      "Heirarchial_Model\n",
      "Herirachal model for training data\n",
      "RF Model\n",
      "Tuned Mode:  {'random_state': 42, 'n_jobs': 1, 'n_estimators': 100, 'class_weight': None}\n"
     ]
    },
    {
     "name": "stderr",
     "output_type": "stream",
     "text": [
      "\r",
      " 15%|██████▎                                    | 13/88 [00:59<04:48,  3.85s/it]"
     ]
    },
    {
     "name": "stdout",
     "output_type": "stream",
     "text": [
      "Best Threshold=0.070000\n",
      "60\n",
      "60\n",
      "602340\n",
      "Assay:  2796\n",
      "Heirarchial_Model\n",
      "Herirachal model for training data\n",
      "RF Model\n",
      "Tuned Mode:  {'random_state': 42, 'n_jobs': 1, 'n_estimators': 500, 'class_weight': 'balanced'}\n"
     ]
    },
    {
     "name": "stderr",
     "output_type": "stream",
     "text": [
      "\r",
      " 16%|██████▊                                    | 14/88 [01:07<06:07,  4.97s/it]"
     ]
    },
    {
     "name": "stdout",
     "output_type": "stream",
     "text": [
      "Best Threshold=0.220000\n",
      "270\n",
      "270\n",
      "2796\n",
      "Assay:  504652\n",
      "Heirarchial_Model\n",
      "Herirachal model for training data\n",
      "RF Model\n",
      "Tuned Mode:  {'random_state': 42, 'n_jobs': 1, 'n_estimators': 400, 'class_weight': None}\n"
     ]
    },
    {
     "name": "stderr",
     "output_type": "stream",
     "text": [
      "\r",
      " 17%|███████▎                                   | 15/88 [01:13<06:27,  5.31s/it]"
     ]
    },
    {
     "name": "stdout",
     "output_type": "stream",
     "text": [
      "Best Threshold=0.512500\n",
      "236\n",
      "236\n",
      "504652\n",
      "Assay:  651658\n",
      "Heirarchial_Model\n",
      "Herirachal model for training data\n",
      "RF Model\n",
      "Tuned Mode:  {'random_state': 42, 'n_jobs': 1, 'n_estimators': 100, 'class_weight': 'balanced'}\n"
     ]
    },
    {
     "name": "stderr",
     "output_type": "stream",
     "text": [
      "\r",
      " 18%|███████▊                                   | 16/88 [01:15<05:21,  4.47s/it]"
     ]
    },
    {
     "name": "stdout",
     "output_type": "stream",
     "text": [
      "Best Threshold=0.190000\n",
      "77\n",
      "77\n",
      "651658\n",
      "Assay:  720582\n",
      "Heirarchial_Model\n",
      "Herirachal model for training data\n",
      "RF Model\n",
      "Tuned Mode:  {'random_state': 42, 'n_jobs': 1, 'n_estimators': 100, 'class_weight': 'balanced'}\n"
     ]
    },
    {
     "name": "stderr",
     "output_type": "stream",
     "text": [
      "\r",
      " 19%|████████▎                                  | 17/88 [01:18<04:35,  3.88s/it]"
     ]
    },
    {
     "name": "stdout",
     "output_type": "stream",
     "text": [
      "Best Threshold=0.270000\n",
      "93\n",
      "93\n",
      "720582\n",
      "Assay:  624256\n",
      "Heirarchial_Model\n",
      "Herirachal model for training data\n",
      "RF Model\n",
      "Tuned Mode:  {'random_state': 42, 'n_jobs': 1, 'n_estimators': 500, 'class_weight': 'balanced'}\n"
     ]
    },
    {
     "name": "stderr",
     "output_type": "stream",
     "text": [
      "\r",
      " 20%|████████▊                                  | 18/88 [01:24<05:16,  4.52s/it]"
     ]
    },
    {
     "name": "stdout",
     "output_type": "stream",
     "text": [
      "Best Threshold=0.132000\n",
      "100\n",
      "100\n",
      "624256\n",
      "Assay:  1531\n",
      "Heirarchial_Model\n",
      "Herirachal model for training data\n",
      "RF Model\n",
      "Tuned Mode:  {'random_state': 42, 'n_jobs': 1, 'n_estimators': 400, 'class_weight': None}\n"
     ]
    },
    {
     "name": "stderr",
     "output_type": "stream",
     "text": [
      "\r",
      " 22%|█████████▎                                 | 19/88 [01:29<05:21,  4.65s/it]"
     ]
    },
    {
     "name": "stdout",
     "output_type": "stream",
     "text": [
      "Best Threshold=0.327500\n",
      "92\n",
      "92\n",
      "1531\n",
      "Assay:  588852\n",
      "Heirarchial_Model\n",
      "Herirachal model for training data\n",
      "RF Model\n",
      "Tuned Mode:  {'random_state': 42, 'n_jobs': 1, 'n_estimators': 500, 'class_weight': 'balanced'}\n"
     ]
    },
    {
     "name": "stderr",
     "output_type": "stream",
     "text": [
      "\r",
      " 23%|█████████▊                                 | 20/88 [01:35<05:43,  5.05s/it]"
     ]
    },
    {
     "name": "stdout",
     "output_type": "stream",
     "text": [
      "Best Threshold=0.260000\n",
      "99\n",
      "99\n",
      "588852\n",
      "Assay:  485270\n",
      "Heirarchial_Model\n",
      "Herirachal model for training data\n",
      "RF Model\n",
      "Tuned Mode:  {'random_state': 42, 'n_jobs': 1, 'n_estimators': 500, 'class_weight': 'balanced'}\n"
     ]
    },
    {
     "name": "stderr",
     "output_type": "stream",
     "text": [
      "\r",
      " 24%|██████████▎                                | 21/88 [01:41<06:03,  5.43s/it]"
     ]
    },
    {
     "name": "stdout",
     "output_type": "stream",
     "text": [
      "Best Threshold=0.158000\n",
      "146\n",
      "146\n",
      "485270\n",
      "Assay:  743012\n",
      "Heirarchial_Model\n",
      "Herirachal model for training data\n",
      "RF Model\n",
      "Tuned Mode:  {'random_state': 42, 'n_jobs': 1, 'n_estimators': 500, 'class_weight': 'balanced'}\n"
     ]
    },
    {
     "name": "stderr",
     "output_type": "stream",
     "text": [
      "\r",
      " 25%|██████████▊                                | 22/88 [01:47<06:04,  5.52s/it]"
     ]
    },
    {
     "name": "stdout",
     "output_type": "stream",
     "text": [
      "Best Threshold=0.558000\n",
      "73\n",
      "73\n",
      "743012\n",
      "Assay:  777\n",
      "Heirarchial_Model\n",
      "Herirachal model for training data\n",
      "RF Model\n",
      "Tuned Mode:  {'random_state': 42, 'n_jobs': 1, 'n_estimators': 500, 'class_weight': 'balanced'}\n"
     ]
    },
    {
     "name": "stderr",
     "output_type": "stream",
     "text": [
      "\r",
      " 26%|███████████▏                               | 23/88 [01:58<07:49,  7.23s/it]"
     ]
    },
    {
     "name": "stdout",
     "output_type": "stream",
     "text": [
      "Best Threshold=0.252000\n",
      "684\n",
      "684\n",
      "777\n",
      "Assay:  504582\n",
      "Heirarchial_Model\n",
      "Herirachal model for training data\n",
      "RF Model\n",
      "Tuned Mode:  {'random_state': 42, 'n_jobs': 1, 'n_estimators': 500, 'class_weight': None}\n"
     ]
    },
    {
     "name": "stderr",
     "output_type": "stream",
     "text": [
      "\r",
      " 27%|███████████▋                               | 24/88 [02:04<07:16,  6.82s/it]"
     ]
    },
    {
     "name": "stdout",
     "output_type": "stream",
     "text": [
      "Best Threshold=0.468000\n",
      "83\n",
      "83\n",
      "504582\n",
      "Assay:  504660\n",
      "Heirarchial_Model\n",
      "Herirachal model for training data\n",
      "RF Model\n",
      "Tuned Mode:  {'random_state': 42, 'n_jobs': 1, 'n_estimators': 400, 'class_weight': 'balanced'}\n"
     ]
    },
    {
     "name": "stderr",
     "output_type": "stream",
     "text": [
      "\r",
      " 28%|████████████▏                              | 25/88 [02:09<06:38,  6.32s/it]"
     ]
    },
    {
     "name": "stdout",
     "output_type": "stream",
     "text": [
      "Best Threshold=0.300000\n",
      "100\n",
      "100\n",
      "504660\n",
      "Assay:  2553\n",
      "Heirarchial_Model\n",
      "Herirachal model for training data\n",
      "RF Model\n",
      "Tuned Mode:  {'random_state': 42, 'n_jobs': 1, 'n_estimators': 500, 'class_weight': 'balanced'}\n"
     ]
    },
    {
     "name": "stderr",
     "output_type": "stream",
     "text": [
      "\r",
      " 30%|████████████▋                              | 26/88 [02:15<06:23,  6.18s/it]"
     ]
    },
    {
     "name": "stdout",
     "output_type": "stream",
     "text": [
      "Best Threshold=0.264000\n",
      "84\n",
      "84\n",
      "2553\n",
      "Assay:  743014\n",
      "Heirarchial_Model\n",
      "Herirachal model for training data\n",
      "RF Model\n",
      "Tuned Mode:  {'random_state': 42, 'n_jobs': 1, 'n_estimators': 500, 'class_weight': 'balanced'}\n"
     ]
    },
    {
     "name": "stderr",
     "output_type": "stream",
     "text": [
      "\r",
      " 31%|█████████████▏                             | 27/88 [02:20<06:07,  6.02s/it]"
     ]
    },
    {
     "name": "stdout",
     "output_type": "stream",
     "text": [
      "Best Threshold=0.542000\n",
      "68\n",
      "68\n",
      "743014\n",
      "Assay:  1822\n",
      "Heirarchial_Model\n",
      "Herirachal model for training data\n",
      "RF Model\n",
      "Tuned Mode:  {'random_state': 42, 'n_jobs': 1, 'n_estimators': 500, 'class_weight': 'balanced'}\n"
     ]
    },
    {
     "name": "stderr",
     "output_type": "stream",
     "text": [
      "\r",
      " 32%|█████████████▋                             | 28/88 [02:26<06:01,  6.02s/it]"
     ]
    },
    {
     "name": "stdout",
     "output_type": "stream",
     "text": [
      "Best Threshold=0.326000\n",
      "108\n",
      "108\n",
      "1822\n",
      "Assay:  938\n",
      "Heirarchial_Model\n",
      "Herirachal model for training data\n",
      "RF Model\n",
      "Tuned Mode:  {'random_state': 42, 'n_jobs': 1, 'n_estimators': 100, 'class_weight': 'balanced'}\n"
     ]
    },
    {
     "name": "stderr",
     "output_type": "stream",
     "text": [
      "\r",
      " 33%|██████████████▏                            | 29/88 [02:29<04:57,  5.04s/it]"
     ]
    },
    {
     "name": "stdout",
     "output_type": "stream",
     "text": [
      "Best Threshold=0.090000\n",
      "112\n",
      "112\n",
      "938\n",
      "Assay:  1529\n",
      "Heirarchial_Model\n",
      "Herirachal model for training data\n",
      "RF Model\n",
      "Tuned Mode:  {'random_state': 42, 'n_jobs': 1, 'n_estimators': 400, 'class_weight': None}\n"
     ]
    },
    {
     "name": "stderr",
     "output_type": "stream",
     "text": [
      "\r",
      " 34%|██████████████▋                            | 30/88 [02:34<04:55,  5.09s/it]"
     ]
    },
    {
     "name": "stdout",
     "output_type": "stream",
     "text": [
      "Best Threshold=0.020000\n",
      "117\n",
      "117\n",
      "1529\n",
      "Assay:  651610\n",
      "Heirarchial_Model\n",
      "Herirachal model for training data\n",
      "RF Model\n",
      "Tuned Mode:  {'random_state': 42, 'n_jobs': 1, 'n_estimators': 500, 'class_weight': 'balanced'}\n"
     ]
    },
    {
     "name": "stderr",
     "output_type": "stream",
     "text": [
      "\r",
      " 35%|███████████████▏                           | 31/88 [02:40<05:05,  5.36s/it]"
     ]
    },
    {
     "name": "stdout",
     "output_type": "stream",
     "text": [
      "Best Threshold=0.224000\n",
      "120\n",
      "120\n",
      "651610\n",
      "Assay:  624466\n",
      "Heirarchial_Model\n",
      "Herirachal model for training data\n",
      "RF Model\n",
      "Tuned Mode:  {'random_state': 42, 'n_jobs': 1, 'n_estimators': 500, 'class_weight': None}\n"
     ]
    },
    {
     "name": "stderr",
     "output_type": "stream",
     "text": [
      "\r",
      " 36%|███████████████▋                           | 32/88 [02:47<05:14,  5.61s/it]"
     ]
    },
    {
     "name": "stdout",
     "output_type": "stream",
     "text": [
      "Best Threshold=0.230000\n",
      "136\n",
      "136\n",
      "624466\n",
      "Assay:  932\n",
      "Heirarchial_Model\n",
      "Herirachal model for training data\n",
      "RF Model\n",
      "Tuned Mode:  {'random_state': 42, 'n_jobs': 1, 'n_estimators': 100, 'class_weight': 'balanced'}\n"
     ]
    },
    {
     "name": "stderr",
     "output_type": "stream",
     "text": [
      "\r",
      " 38%|████████████████▏                          | 33/88 [02:50<04:27,  4.87s/it]"
     ]
    },
    {
     "name": "stdout",
     "output_type": "stream",
     "text": [
      "Best Threshold=0.190000\n",
      "336\n",
      "336\n",
      "932\n",
      "Assay:  720648\n",
      "Heirarchial_Model\n",
      "Herirachal model for training data\n",
      "RF Model\n",
      "Tuned Mode:  {'random_state': 42, 'n_jobs': 1, 'n_estimators': 500, 'class_weight': 'balanced'}\n"
     ]
    },
    {
     "name": "stderr",
     "output_type": "stream",
     "text": [
      "\r",
      " 39%|████████████████▌                          | 34/88 [02:56<04:39,  5.17s/it]"
     ]
    },
    {
     "name": "stdout",
     "output_type": "stream",
     "text": [
      "Best Threshold=0.322000\n",
      "95\n",
      "95\n",
      "720648\n",
      "Assay:  2540\n",
      "Heirarchial_Model\n",
      "Herirachal model for training data\n",
      "RF Model\n",
      "Tuned Mode:  {'random_state': 42, 'n_jobs': 1, 'n_estimators': 400, 'class_weight': 'balanced'}\n"
     ]
    },
    {
     "name": "stderr",
     "output_type": "stream",
     "text": [
      "\r",
      " 40%|█████████████████                          | 35/88 [03:01<04:32,  5.14s/it]"
     ]
    },
    {
     "name": "stdout",
     "output_type": "stream",
     "text": [
      "Best Threshold=0.265000\n",
      "100\n",
      "100\n",
      "2540\n",
      "Assay:  2098\n",
      "Heirarchial_Model\n",
      "Herirachal model for training data\n",
      "RF Model\n",
      "Tuned Mode:  {'random_state': 42, 'n_jobs': 1, 'n_estimators': 500, 'class_weight': None}\n"
     ]
    },
    {
     "name": "stderr",
     "output_type": "stream",
     "text": [
      "\r",
      " 41%|█████████████████▌                         | 36/88 [03:07<04:41,  5.41s/it]"
     ]
    },
    {
     "name": "stdout",
     "output_type": "stream",
     "text": [
      "Best Threshold=0.450000\n",
      "94\n",
      "94\n",
      "2098\n",
      "Assay:  Novartis1\n",
      "Heirarchial_Model\n",
      "Herirachal model for training data\n",
      "RF Model\n",
      "Tuned Mode:  {'random_state': 42, 'n_jobs': 1, 'n_estimators': 500, 'class_weight': 'balanced'}\n"
     ]
    },
    {
     "name": "stderr",
     "output_type": "stream",
     "text": [
      "\r",
      " 42%|██████████████████                         | 37/88 [03:11<04:21,  5.12s/it]"
     ]
    },
    {
     "name": "stdout",
     "output_type": "stream",
     "text": [
      "Best Threshold=0.500000\n",
      "25\n",
      "25\n",
      "Novartis1\n",
      "Assay:  Novartis2\n",
      "Heirarchial_Model\n",
      "Herirachal model for training data\n",
      "RF Model\n",
      "Tuned Mode:  {'random_state': 42, 'n_jobs': 1, 'n_estimators': 500, 'class_weight': 'balanced'}\n"
     ]
    },
    {
     "name": "stderr",
     "output_type": "stream",
     "text": [
      "\r",
      " 43%|██████████████████▌                        | 38/88 [03:16<04:06,  4.93s/it]"
     ]
    },
    {
     "name": "stdout",
     "output_type": "stream",
     "text": [
      "Best Threshold=1.840000\n",
      "26\n",
      "26\n",
      "Novartis2\n",
      "Assay:  2685\n",
      "Heirarchial_Model\n",
      "Herirachal model for training data\n",
      "RF Model\n",
      "Tuned Mode:  {'random_state': 42, 'n_jobs': 1, 'n_estimators': 100, 'class_weight': 'balanced'}\n"
     ]
    },
    {
     "name": "stderr",
     "output_type": "stream",
     "text": [
      "\r",
      " 44%|███████████████████                        | 39/88 [03:18<03:18,  4.06s/it]"
     ]
    },
    {
     "name": "stdout",
     "output_type": "stream",
     "text": [
      "Best Threshold=0.090000\n",
      "31\n",
      "31\n",
      "2685\n",
      "Assay:  485294\n",
      "Heirarchial_Model\n",
      "Herirachal model for training data\n",
      "RF Model\n",
      "Tuned Mode:  {'random_state': 42, 'n_jobs': 1, 'n_estimators': 100, 'class_weight': None}\n"
     ]
    },
    {
     "name": "stderr",
     "output_type": "stream",
     "text": [
      "\r",
      " 45%|███████████████████▌                       | 40/88 [03:19<02:38,  3.30s/it]"
     ]
    },
    {
     "name": "stdout",
     "output_type": "stream",
     "text": [
      "Best Threshold=0.690000\n",
      "23\n",
      "23\n",
      "485294\n",
      "Assay:  2517\n",
      "Heirarchial_Model\n",
      "Herirachal model for training data\n",
      "RF Model\n",
      "Tuned Mode:  {'random_state': 42, 'n_jobs': 1, 'n_estimators': 500, 'class_weight': 'balanced'}\n"
     ]
    },
    {
     "name": "stderr",
     "output_type": "stream",
     "text": [
      "\r",
      " 47%|████████████████████                       | 41/88 [03:25<03:07,  3.98s/it]"
     ]
    },
    {
     "name": "stdout",
     "output_type": "stream",
     "text": [
      "Best Threshold=0.166000\n",
      "55\n",
      "55\n",
      "2517\n",
      "Assay:  504333\n",
      "Heirarchial_Model\n",
      "Herirachal model for training data\n",
      "RF Model\n",
      "Tuned Mode:  {'random_state': 42, 'n_jobs': 1, 'n_estimators': 500, 'class_weight': 'balanced'}\n"
     ]
    },
    {
     "name": "stderr",
     "output_type": "stream",
     "text": [
      "\r",
      " 48%|████████████████████▌                      | 42/88 [03:32<03:43,  4.85s/it]"
     ]
    },
    {
     "name": "stdout",
     "output_type": "stream",
     "text": [
      "Best Threshold=0.902000\n",
      "186\n",
      "186\n",
      "504333\n",
      "Assay:  881\n",
      "Heirarchial_Model\n",
      "Herirachal model for training data\n",
      "RF Model\n",
      "Tuned Mode:  {'random_state': 42, 'n_jobs': 1, 'n_estimators': 500, 'class_weight': 'balanced'}\n"
     ]
    },
    {
     "name": "stderr",
     "output_type": "stream",
     "text": [
      "\r",
      " 49%|█████████████████████                      | 43/88 [03:37<03:48,  5.07s/it]"
     ]
    },
    {
     "name": "stdout",
     "output_type": "stream",
     "text": [
      "Best Threshold=0.208000\n",
      "54\n",
      "54\n",
      "881\n",
      "Assay:  504339\n",
      "Heirarchial_Model\n",
      "Herirachal model for training data\n",
      "RF Model\n",
      "Tuned Mode:  {'random_state': 42, 'n_jobs': 1, 'n_estimators': 500, 'class_weight': 'balanced'}\n"
     ]
    },
    {
     "name": "stderr",
     "output_type": "stream",
     "text": [
      "\r",
      " 50%|█████████████████████▌                     | 44/88 [03:44<04:03,  5.53s/it]"
     ]
    },
    {
     "name": "stdout",
     "output_type": "stream",
     "text": [
      "Best Threshold=0.592000\n",
      "161\n",
      "161\n",
      "504339\n",
      "Assay:  504466\n",
      "Heirarchial_Model\n",
      "Herirachal model for training data\n",
      "RF Model\n",
      "Tuned Mode:  {'random_state': 42, 'n_jobs': 1, 'n_estimators': 400, 'class_weight': None}\n"
     ]
    },
    {
     "name": "stderr",
     "output_type": "stream",
     "text": [
      "\r",
      " 51%|█████████████████████▉                     | 45/88 [03:49<03:50,  5.36s/it]"
     ]
    },
    {
     "name": "stdout",
     "output_type": "stream",
     "text": [
      "Best Threshold=0.975000\n",
      "59\n",
      "59\n",
      "504466\n",
      "Assay:  504332\n",
      "Heirarchial_Model\n",
      "Herirachal model for training data\n",
      "RF Model\n",
      "Tuned Mode:  {'random_state': 42, 'n_jobs': 1, 'n_estimators': 500, 'class_weight': None}\n"
     ]
    },
    {
     "name": "stderr",
     "output_type": "stream",
     "text": [
      "\r",
      " 52%|██████████████████████▍                    | 46/88 [03:57<04:20,  6.21s/it]"
     ]
    },
    {
     "name": "stdout",
     "output_type": "stream",
     "text": [
      "Best Threshold=0.814000\n",
      "327\n",
      "327\n",
      "504332\n",
      "Assay:  504327\n",
      "Heirarchial_Model\n",
      "Herirachal model for training data\n",
      "RF Model\n",
      "Tuned Mode:  {'random_state': 42, 'n_jobs': 1, 'n_estimators': 100, 'class_weight': 'balanced'}\n"
     ]
    },
    {
     "name": "stderr",
     "output_type": "stream",
     "text": [
      "\r",
      " 53%|██████████████████████▉                    | 47/88 [03:59<03:24,  4.99s/it]"
     ]
    },
    {
     "name": "stdout",
     "output_type": "stream",
     "text": [
      "Best Threshold=0.650000\n",
      "31\n",
      "31\n",
      "504327\n",
      "Assay:  488953\n",
      "Heirarchial_Model\n",
      "Herirachal model for training data\n",
      "RF Model\n",
      "Tuned Mode:  {'random_state': 42, 'n_jobs': 1, 'n_estimators': 300, 'class_weight': 'balanced'}\n"
     ]
    },
    {
     "name": "stderr",
     "output_type": "stream",
     "text": [
      "\r",
      " 55%|███████████████████████▍                   | 48/88 [04:02<02:59,  4.48s/it]"
     ]
    },
    {
     "name": "stdout",
     "output_type": "stream",
     "text": [
      "Best Threshold=0.113333\n",
      "25\n",
      "25\n",
      "488953\n",
      "Assay:  1851_2\n",
      "Heirarchial_Model\n",
      "Herirachal model for training data\n",
      "RF Model\n",
      "Tuned Mode:  {'random_state': 42, 'n_jobs': 1, 'n_estimators': 500, 'class_weight': 'balanced'}\n"
     ]
    },
    {
     "name": "stderr",
     "output_type": "stream",
     "text": [
      "\r",
      " 56%|███████████████████████▉                   | 49/88 [04:09<03:19,  5.11s/it]"
     ]
    },
    {
     "name": "stdout",
     "output_type": "stream",
     "text": [
      "Best Threshold=0.056000\n",
      "165\n",
      "165\n",
      "1851_2\n",
      "Assay:  1851_4\n",
      "Heirarchial_Model\n",
      "Herirachal model for training data\n",
      "RF Model\n",
      "Tuned Mode:  {'random_state': 42, 'n_jobs': 1, 'n_estimators': 100, 'class_weight': 'balanced'}\n"
     ]
    },
    {
     "name": "stderr",
     "output_type": "stream",
     "text": [
      "\r",
      " 57%|████████████████████████▍                  | 50/88 [04:12<02:44,  4.32s/it]"
     ]
    },
    {
     "name": "stdout",
     "output_type": "stream",
     "text": [
      "Best Threshold=0.350000\n",
      "153\n",
      "153\n",
      "1851_4\n",
      "Assay:  1851_1\n",
      "Heirarchial_Model\n",
      "Herirachal model for training data\n",
      "RF Model\n",
      "Tuned Mode:  {'random_state': 42, 'n_jobs': 1, 'n_estimators': 500, 'class_weight': None}\n"
     ]
    },
    {
     "name": "stderr",
     "output_type": "stream",
     "text": [
      "\r",
      " 58%|████████████████████████▉                  | 51/88 [04:18<03:03,  4.96s/it]"
     ]
    },
    {
     "name": "stdout",
     "output_type": "stream",
     "text": [
      "Best Threshold=0.368000\n",
      "166\n",
      "166\n",
      "1851_1\n",
      "Assay:  1851_3\n",
      "Heirarchial_Model\n",
      "Herirachal model for training data\n",
      "RF Model\n",
      "Tuned Mode:  {'random_state': 42, 'n_jobs': 1, 'n_estimators': 300, 'class_weight': 'balanced'}\n"
     ]
    },
    {
     "name": "stderr",
     "output_type": "stream",
     "text": [
      "\r",
      " 59%|█████████████████████████▍                 | 52/88 [04:23<02:54,  4.86s/it]"
     ]
    },
    {
     "name": "stdout",
     "output_type": "stream",
     "text": [
      "Best Threshold=0.433333\n",
      "155\n",
      "155\n",
      "1851_3\n",
      "Assay:  1851_5\n",
      "Heirarchial_Model\n",
      "Herirachal model for training data\n",
      "RF Model\n",
      "Tuned Mode:  {'random_state': 42, 'n_jobs': 1, 'n_estimators': 400, 'class_weight': 'balanced'}\n"
     ]
    },
    {
     "name": "stderr",
     "output_type": "stream",
     "text": [
      "\r",
      " 60%|█████████████████████████▉                 | 53/88 [04:28<02:57,  5.07s/it]"
     ]
    },
    {
     "name": "stdout",
     "output_type": "stream",
     "text": [
      "Best Threshold=0.455000\n",
      "158\n",
      "158\n",
      "1851_5\n",
      "Assay:  449750\n",
      "Heirarchial_Model\n",
      "Herirachal model for training data\n",
      "RF Model\n",
      "Tuned Mode:  {'random_state': 42, 'n_jobs': 1, 'n_estimators': 500, 'class_weight': 'balanced'}\n"
     ]
    },
    {
     "name": "stderr",
     "output_type": "stream",
     "text": [
      "\r",
      " 61%|██████████████████████████▍                | 54/88 [04:33<02:47,  4.94s/it]"
     ]
    },
    {
     "name": "stdout",
     "output_type": "stream",
     "text": [
      "Best Threshold=0.574000\n",
      "32\n",
      "32\n",
      "449750\n",
      "Assay:  504847\n",
      "Heirarchial_Model\n",
      "Herirachal model for training data\n",
      "RF Model\n",
      "Tuned Mode:  {'random_state': 42, 'n_jobs': 1, 'n_estimators': 500, 'class_weight': 'balanced'}\n"
     ]
    },
    {
     "name": "stderr",
     "output_type": "stream",
     "text": [
      "\r",
      " 62%|██████████████████████████▉                | 55/88 [04:39<02:51,  5.20s/it]"
     ]
    },
    {
     "name": "stdout",
     "output_type": "stream",
     "text": [
      "Best Threshold=0.852000\n",
      "64\n",
      "64\n",
      "504847\n",
      "Assay:  504834\n",
      "Heirarchial_Model\n",
      "Herirachal model for training data\n",
      "RF Model\n",
      "Tuned Mode:  {'random_state': 42, 'n_jobs': 1, 'n_estimators': 500, 'class_weight': 'balanced'}\n"
     ]
    },
    {
     "name": "stderr",
     "output_type": "stream",
     "text": [
      "\r",
      " 64%|███████████████████████████▎               | 56/88 [04:50<03:44,  7.02s/it]"
     ]
    },
    {
     "name": "stdout",
     "output_type": "stream",
     "text": [
      "Best Threshold=0.478000\n",
      "551\n",
      "551\n",
      "504834\n",
      "Assay:  540317\n",
      "Heirarchial_Model\n",
      "Herirachal model for training data\n",
      "RF Model\n",
      "Tuned Mode:  {'random_state': 42, 'n_jobs': 1, 'n_estimators': 400, 'class_weight': 'balanced'}\n"
     ]
    },
    {
     "name": "stderr",
     "output_type": "stream",
     "text": [
      "\r",
      " 65%|███████████████████████████▊               | 57/88 [04:55<03:17,  6.36s/it]"
     ]
    },
    {
     "name": "stdout",
     "output_type": "stream",
     "text": [
      "Best Threshold=1.815000\n",
      "63\n",
      "63\n",
      "540317\n",
      "Assay:  588453\n",
      "Heirarchial_Model\n",
      "Herirachal model for training data\n",
      "RF Model\n",
      "Tuned Mode:  {'random_state': 42, 'n_jobs': 1, 'n_estimators': 100, 'class_weight': None}\n"
     ]
    },
    {
     "name": "stderr",
     "output_type": "stream",
     "text": [
      "\r",
      " 66%|████████████████████████████▎              | 58/88 [04:57<02:36,  5.23s/it]"
     ]
    },
    {
     "name": "stdout",
     "output_type": "stream",
     "text": [
      "Best Threshold=0.070000\n",
      "142\n",
      "142\n",
      "588453\n",
      "Assay:  588590\n",
      "Heirarchial_Model\n",
      "Herirachal model for training data\n",
      "RF Model\n",
      "Tuned Mode:  {'random_state': 42, 'n_jobs': 1, 'n_estimators': 300, 'class_weight': 'balanced'}\n"
     ]
    },
    {
     "name": "stderr",
     "output_type": "stream",
     "text": [
      "\r",
      " 67%|████████████████████████████▊              | 59/88 [05:02<02:25,  5.02s/it]"
     ]
    },
    {
     "name": "stdout",
     "output_type": "stream",
     "text": [
      "Best Threshold=0.013333\n",
      "136\n",
      "136\n",
      "588590\n",
      "Assay:  588795\n",
      "Heirarchial_Model\n",
      "Herirachal model for training data\n",
      "RF Model\n",
      "Tuned Mode:  {'random_state': 42, 'n_jobs': 1, 'n_estimators': 300, 'class_weight': None}\n"
     ]
    },
    {
     "name": "stderr",
     "output_type": "stream",
     "text": [
      "\r",
      " 68%|█████████████████████████████▎             | 60/88 [05:05<02:04,  4.45s/it]"
     ]
    },
    {
     "name": "stdout",
     "output_type": "stream",
     "text": [
      "Best Threshold=0.316667\n",
      "23\n",
      "23\n",
      "588795\n",
      "Assay:  504845\n",
      "Heirarchial_Model\n",
      "Herirachal model for training data\n",
      "RF Model\n",
      "Tuned Mode:  {'random_state': 42, 'n_jobs': 1, 'n_estimators': 500, 'class_weight': 'balanced'}\n"
     ]
    },
    {
     "name": "stderr",
     "output_type": "stream",
     "text": [
      "\r",
      " 69%|█████████████████████████████▊             | 61/88 [05:09<02:01,  4.49s/it]"
     ]
    },
    {
     "name": "stdout",
     "output_type": "stream",
     "text": [
      "Best Threshold=0.636000\n",
      "26\n",
      "26\n",
      "504845\n",
      "Assay:  588856\n",
      "Heirarchial_Model\n",
      "Herirachal model for training data\n",
      "RF Model\n",
      "Tuned Mode:  {'random_state': 42, 'n_jobs': 1, 'n_estimators': 500, 'class_weight': 'balanced'}\n"
     ]
    },
    {
     "name": "stderr",
     "output_type": "stream",
     "text": [
      "\r",
      " 70%|██████████████████████████████▎            | 62/88 [05:15<02:07,  4.91s/it]"
     ]
    },
    {
     "name": "stdout",
     "output_type": "stream",
     "text": [
      "Best Threshold=0.226000\n",
      "85\n",
      "85\n",
      "588856\n",
      "Assay:  504832\n",
      "Heirarchial_Model\n",
      "Herirachal model for training data\n",
      "RF Model\n",
      "Tuned Mode:  {'random_state': 42, 'n_jobs': 1, 'n_estimators': 400, 'class_weight': None}\n"
     ]
    },
    {
     "name": "stderr",
     "output_type": "stream",
     "text": [
      "\r",
      " 72%|██████████████████████████████▊            | 63/88 [05:25<02:36,  6.26s/it]"
     ]
    },
    {
     "name": "stdout",
     "output_type": "stream",
     "text": [
      "Best Threshold=0.395000\n",
      "527\n",
      "527\n",
      "504832\n",
      "Assay:  588855\n",
      "Heirarchial_Model\n",
      "Herirachal model for training data\n",
      "RF Model\n",
      "Tuned Mode:  {'random_state': 42, 'n_jobs': 1, 'n_estimators': 100, 'class_weight': None}\n"
     ]
    },
    {
     "name": "stderr",
     "output_type": "stream",
     "text": [
      "\r",
      " 73%|███████████████████████████████▎           | 64/88 [05:27<02:01,  5.08s/it]"
     ]
    },
    {
     "name": "stdout",
     "output_type": "stream",
     "text": [
      "Best Threshold=0.490000\n",
      "76\n",
      "76\n",
      "588855\n",
      "Assay:  121\n",
      "Heirarchial_Model\n",
      "Herirachal model for training data\n",
      "RF Model\n",
      "Tuned Mode:  {'random_state': 42, 'n_jobs': 1, 'n_estimators': 300, 'class_weight': None}\n"
     ]
    },
    {
     "name": "stderr",
     "output_type": "stream",
     "text": [
      "\r",
      " 74%|███████████████████████████████▊           | 65/88 [05:30<01:42,  4.44s/it]"
     ]
    },
    {
     "name": "stdout",
     "output_type": "stream",
     "text": [
      "Best Threshold=0.290000\n",
      "20\n",
      "20\n",
      "121\n",
      "Assay:  624032\n",
      "Heirarchial_Model\n",
      "Herirachal model for training data\n",
      "RF Model\n",
      "Tuned Mode:  {'random_state': 42, 'n_jobs': 1, 'n_estimators': 100, 'class_weight': None}\n"
     ]
    },
    {
     "name": "stderr",
     "output_type": "stream",
     "text": [
      "\r",
      " 75%|████████████████████████████████▎          | 66/88 [05:32<01:19,  3.63s/it]"
     ]
    },
    {
     "name": "stdout",
     "output_type": "stream",
     "text": [
      "Best Threshold=0.610000\n",
      "22\n",
      "22\n",
      "624032\n",
      "Assay:  119\n",
      "Heirarchial_Model\n",
      "Herirachal model for training data\n",
      "RF Model\n",
      "Tuned Mode:  {'random_state': 42, 'n_jobs': 1, 'n_estimators': 500, 'class_weight': 'balanced'}\n"
     ]
    },
    {
     "name": "stderr",
     "output_type": "stream",
     "text": [
      "\r",
      " 76%|████████████████████████████████▋          | 67/88 [05:36<01:22,  3.92s/it]"
     ]
    },
    {
     "name": "stdout",
     "output_type": "stream",
     "text": [
      "Best Threshold=0.290000\n",
      "21\n",
      "21\n",
      "119\n",
      "Assay:  624296\n",
      "Heirarchial_Model\n",
      "Herirachal model for training data\n",
      "RF Model\n",
      "Tuned Mode:  {'random_state': 42, 'n_jobs': 1, 'n_estimators': 500, 'class_weight': 'balanced'}\n"
     ]
    },
    {
     "name": "stderr",
     "output_type": "stream",
     "text": [
      "\r",
      " 77%|█████████████████████████████████▏         | 68/88 [05:43<01:32,  4.62s/it]"
     ]
    },
    {
     "name": "stdout",
     "output_type": "stream",
     "text": [
      "Best Threshold=0.714000\n",
      "142\n",
      "142\n",
      "624296\n",
      "Assay:  651965\n",
      "Heirarchial_Model\n",
      "Herirachal model for training data\n",
      "RF Model\n",
      "Tuned Mode:  {'random_state': 42, 'n_jobs': 1, 'n_estimators': 400, 'class_weight': 'balanced'}\n"
     ]
    },
    {
     "name": "stderr",
     "output_type": "stream",
     "text": [
      "\r",
      " 78%|█████████████████████████████████▋         | 69/88 [05:48<01:30,  4.76s/it]"
     ]
    },
    {
     "name": "stdout",
     "output_type": "stream",
     "text": [
      "Best Threshold=0.907500\n",
      "91\n",
      "91\n",
      "651965\n",
      "Assay:  624170\n",
      "Heirarchial_Model\n",
      "Herirachal model for training data\n",
      "RF Model\n",
      "Tuned Mode:  {'random_state': 42, 'n_jobs': 1, 'n_estimators': 500, 'class_weight': 'balanced'}\n"
     ]
    },
    {
     "name": "stderr",
     "output_type": "stream",
     "text": [
      "\r",
      " 80%|██████████████████████████████████▏        | 70/88 [05:52<01:24,  4.72s/it]"
     ]
    },
    {
     "name": "stdout",
     "output_type": "stream",
     "text": [
      "Best Threshold=0.018000\n",
      "31\n",
      "31\n",
      "624170\n",
      "Assay:  651820\n",
      "Heirarchial_Model\n",
      "Herirachal model for training data\n",
      "RF Model\n",
      "Tuned Mode:  {'random_state': 42, 'n_jobs': 1, 'n_estimators': 500, 'class_weight': 'balanced'}\n"
     ]
    },
    {
     "name": "stderr",
     "output_type": "stream",
     "text": [
      "\r",
      " 81%|██████████████████████████████████▋        | 71/88 [05:58<01:24,  5.00s/it]"
     ]
    },
    {
     "name": "stdout",
     "output_type": "stream",
     "text": [
      "Best Threshold=0.498000\n",
      "66\n",
      "66\n",
      "651820\n",
      "Assay:  624297\n",
      "Heirarchial_Model\n",
      "Herirachal model for training data\n",
      "RF Model\n",
      "Tuned Mode:  {'random_state': 42, 'n_jobs': 1, 'n_estimators': 500, 'class_weight': 'balanced'}\n"
     ]
    },
    {
     "name": "stderr",
     "output_type": "stream",
     "text": [
      "\r",
      " 82%|███████████████████████████████████▏       | 72/88 [06:05<01:27,  5.47s/it]"
     ]
    },
    {
     "name": "stdout",
     "output_type": "stream",
     "text": [
      "Best Threshold=0.364000\n",
      "155\n",
      "155\n",
      "624297\n",
      "Assay:  651635\n",
      "Heirarchial_Model\n",
      "Herirachal model for training data\n",
      "RF Model\n",
      "Tuned Mode:  {'random_state': 42, 'n_jobs': 1, 'n_estimators': 500, 'class_weight': 'balanced'}\n"
     ]
    },
    {
     "name": "stderr",
     "output_type": "stream",
     "text": [
      "\r",
      " 83%|███████████████████████████████████▋       | 73/88 [06:10<01:23,  5.56s/it]"
     ]
    },
    {
     "name": "stdout",
     "output_type": "stream",
     "text": [
      "Best Threshold=0.212000\n",
      "71\n",
      "71\n",
      "651635\n",
      "Assay:  624417\n",
      "Heirarchial_Model\n",
      "Herirachal model for training data\n",
      "RF Model\n",
      "Tuned Mode:  {'random_state': 42, 'n_jobs': 1, 'n_estimators': 300, 'class_weight': 'balanced'}\n"
     ]
    },
    {
     "name": "stderr",
     "output_type": "stream",
     "text": [
      "\r",
      " 84%|████████████████████████████████████▏      | 74/88 [06:15<01:13,  5.25s/it]"
     ]
    },
    {
     "name": "stdout",
     "output_type": "stream",
     "text": [
      "Best Threshold=0.503333\n",
      "170\n",
      "170\n",
      "624417\n",
      "Assay:  624202\n",
      "Heirarchial_Model\n",
      "Herirachal model for training data\n",
      "RF Model\n",
      "Tuned Mode:  {'random_state': 42, 'n_jobs': 1, 'n_estimators': 500, 'class_weight': 'balanced'}\n"
     ]
    },
    {
     "name": "stderr",
     "output_type": "stream",
     "text": [
      "\r",
      " 85%|████████████████████████████████████▋      | 75/88 [06:21<01:10,  5.44s/it]"
     ]
    },
    {
     "name": "stdout",
     "output_type": "stream",
     "text": [
      "Best Threshold=0.756000\n",
      "76\n",
      "76\n",
      "624202\n",
      "Assay:  624287\n",
      "Heirarchial_Model\n",
      "Herirachal model for training data\n",
      "RF Model\n",
      "Tuned Mode:  {'random_state': 42, 'n_jobs': 1, 'n_estimators': 300, 'class_weight': None}\n"
     ]
    },
    {
     "name": "stderr",
     "output_type": "stream",
     "text": [
      "\r",
      " 86%|█████████████████████████████████████▏     | 76/88 [06:24<00:56,  4.71s/it]"
     ]
    },
    {
     "name": "stdout",
     "output_type": "stream",
     "text": [
      "Best Threshold=0.370000\n",
      "21\n",
      "21\n",
      "624287\n",
      "Assay:  624288\n",
      "Heirarchial_Model\n",
      "Herirachal model for training data\n",
      "RF Model\n",
      "Tuned Mode:  {'random_state': 42, 'n_jobs': 1, 'n_estimators': 400, 'class_weight': None}\n"
     ]
    },
    {
     "name": "stderr",
     "output_type": "stream",
     "text": [
      "\r",
      " 88%|█████████████████████████████████████▋     | 77/88 [06:28<00:49,  4.50s/it]"
     ]
    },
    {
     "name": "stdout",
     "output_type": "stream",
     "text": [
      "Best Threshold=0.095000\n",
      "31\n",
      "31\n",
      "624288\n",
      "Assay:  651644\n",
      "Heirarchial_Model\n",
      "Herirachal model for training data\n",
      "RF Model\n",
      "Tuned Mode:  {'random_state': 42, 'n_jobs': 1, 'n_estimators': 500, 'class_weight': 'balanced'}\n"
     ]
    },
    {
     "name": "stderr",
     "output_type": "stream",
     "text": [
      "\r",
      " 89%|██████████████████████████████████████     | 78/88 [06:32<00:45,  4.51s/it]"
     ]
    },
    {
     "name": "stdout",
     "output_type": "stream",
     "text": [
      "Best Threshold=0.108000\n",
      "31\n",
      "31\n",
      "651644\n",
      "Assay:  652104\n",
      "Heirarchial_Model\n",
      "Herirachal model for training data\n",
      "RF Model\n",
      "Tuned Mode:  {'random_state': 42, 'n_jobs': 1, 'n_estimators': 300, 'class_weight': None}\n"
     ]
    },
    {
     "name": "stderr",
     "output_type": "stream",
     "text": [
      "\r",
      " 90%|██████████████████████████████████████▌    | 79/88 [06:36<00:39,  4.40s/it]"
     ]
    },
    {
     "name": "stdout",
     "output_type": "stream",
     "text": [
      "Best Threshold=0.846667\n",
      "79\n",
      "79\n",
      "652104\n",
      "Assay:  720579\n",
      "Heirarchial_Model\n",
      "Herirachal model for training data\n",
      "RF Model\n",
      "Tuned Mode:  {'random_state': 42, 'n_jobs': 1, 'n_estimators': 100, 'class_weight': None}\n"
     ]
    },
    {
     "name": "stderr",
     "output_type": "stream",
     "text": [
      "\r",
      " 91%|███████████████████████████████████████    | 80/88 [06:38<00:28,  3.59s/it]"
     ]
    },
    {
     "name": "stdout",
     "output_type": "stream",
     "text": [
      "Best Threshold=0.670000\n",
      "22\n",
      "22\n",
      "720579\n",
      "Assay:  720533\n",
      "Heirarchial_Model\n",
      "Herirachal model for training data\n",
      "RF Model\n",
      "Tuned Mode:  {'random_state': 42, 'n_jobs': 1, 'n_estimators': 500, 'class_weight': None}\n"
     ]
    },
    {
     "name": "stderr",
     "output_type": "stream",
     "text": [
      "\r",
      " 92%|███████████████████████████████████████▌   | 81/88 [06:43<00:27,  3.97s/it]"
     ]
    },
    {
     "name": "stdout",
     "output_type": "stream",
     "text": [
      "Best Threshold=0.860000\n",
      "36\n",
      "36\n",
      "720533\n",
      "Assay:  720542\n",
      "Heirarchial_Model\n",
      "Herirachal model for training data\n",
      "RF Model\n",
      "Tuned Mode:  {'random_state': 42, 'n_jobs': 1, 'n_estimators': 100, 'class_weight': None}\n"
     ]
    },
    {
     "name": "stderr",
     "output_type": "stream",
     "text": [
      "\r",
      " 93%|████████████████████████████████████████   | 82/88 [06:45<00:19,  3.29s/it]"
     ]
    },
    {
     "name": "stdout",
     "output_type": "stream",
     "text": [
      "Best Threshold=0.120000\n",
      "21\n",
      "21\n",
      "720542\n",
      "Assay:  720580\n",
      "Heirarchial_Model\n",
      "Herirachal model for training data\n",
      "RF Model\n",
      "Tuned Mode:  {'random_state': 42, 'n_jobs': 1, 'n_estimators': 500, 'class_weight': 'balanced'}\n"
     ]
    },
    {
     "name": "stderr",
     "output_type": "stream",
     "text": [
      "\r",
      " 94%|████████████████████████████████████████▌  | 83/88 [06:49<00:18,  3.64s/it]"
     ]
    },
    {
     "name": "stdout",
     "output_type": "stream",
     "text": [
      "Best Threshold=1.980000\n",
      "25\n",
      "25\n",
      "720580\n",
      "Assay:  720504\n",
      "Heirarchial_Model\n",
      "Herirachal model for training data\n",
      "RF Model\n",
      "Tuned Mode:  {'random_state': 42, 'n_jobs': 1, 'n_estimators': 400, 'class_weight': None}\n"
     ]
    },
    {
     "name": "stderr",
     "output_type": "stream",
     "text": [
      "\r",
      " 95%|█████████████████████████████████████████  | 84/88 [06:53<00:14,  3.70s/it]"
     ]
    },
    {
     "name": "stdout",
     "output_type": "stream",
     "text": [
      "Best Threshold=0.507500\n",
      "26\n",
      "26\n",
      "720504\n",
      "Assay:  720532\n",
      "Heirarchial_Model\n",
      "Herirachal model for training data\n",
      "RF Model\n",
      "Tuned Mode:  {'random_state': 42, 'n_jobs': 1, 'n_estimators': 100, 'class_weight': 'balanced'}\n"
     ]
    },
    {
     "name": "stderr",
     "output_type": "stream",
     "text": [
      "\r",
      " 97%|█████████████████████████████████████████▌ | 85/88 [06:56<00:10,  3.39s/it]"
     ]
    },
    {
     "name": "stdout",
     "output_type": "stream",
     "text": [
      "Best Threshold=0.810000\n",
      "61\n",
      "61\n",
      "720532\n",
      "Assay:  1159524\n",
      "Heirarchial_Model\n",
      "Herirachal model for training data\n",
      "RF Model\n",
      "Tuned Mode:  {'random_state': 42, 'n_jobs': 1, 'n_estimators': 500, 'class_weight': 'balanced'}\n"
     ]
    },
    {
     "name": "stderr",
     "output_type": "stream",
     "text": [
      "\r",
      " 98%|██████████████████████████████████████████ | 86/88 [07:02<00:08,  4.40s/it]"
     ]
    },
    {
     "name": "stdout",
     "output_type": "stream",
     "text": [
      "Best Threshold=0.186000\n",
      "176\n",
      "176\n",
      "1159524\n",
      "Assay:  1117304\n",
      "Heirarchial_Model\n",
      "Herirachal model for training data\n",
      "RF Model\n",
      "Tuned Mode:  {'random_state': 42, 'n_jobs': 1, 'n_estimators': 400, 'class_weight': 'balanced'}\n"
     ]
    },
    {
     "name": "stderr",
     "output_type": "stream",
     "text": [
      "\r",
      " 99%|██████████████████████████████████████████▌| 87/88 [07:07<00:04,  4.56s/it]"
     ]
    },
    {
     "name": "stdout",
     "output_type": "stream",
     "text": [
      "Best Threshold=0.210000\n",
      "78\n",
      "78\n",
      "1117304\n",
      "Assay:  1117305\n",
      "Heirarchial_Model\n",
      "Herirachal model for training data\n",
      "RF Model\n",
      "Tuned Mode:  {'random_state': 42, 'n_jobs': 1, 'n_estimators': 500, 'class_weight': 'balanced'}\n"
     ]
    },
    {
     "name": "stderr",
     "output_type": "stream",
     "text": [
      "100%|███████████████████████████████████████████| 88/88 [07:13<00:00,  4.93s/it]"
     ]
    },
    {
     "name": "stdout",
     "output_type": "stream",
     "text": [
      "Best Threshold=0.584000\n",
      "72\n",
      "72\n",
      "1117305\n"
     ]
    },
    {
     "name": "stderr",
     "output_type": "stream",
     "text": [
      "\n"
     ]
    }
   ],
   "source": [
    "import warnings\n",
    "warnings.filterwarnings(\"ignore\") #ignore, default\n",
    "import pandas\n",
    "\n",
    "#sns.set(rc={'figure.figsize':(2, 2)})\n",
    "#plt.rcParams['figure.dpi'] = 80\n",
    "#sns.set_style(\"white\")\n",
    "metrics_list=[]\n",
    "all_preds_test_compounds=pd.DataFrame(columns=['assay', 'InChICode_standardised', 'fp_proba', 'fp_pred', 'fp_threshold', 'CP_proba',\n",
    "       'CP_pred', 'CP_threshold', 'true', 'Data', 'MFP_Correct',\n",
    "       'CP_Correct', 'fp_proba_scaled', 'CP_proba_scaled', 'simple_pred',\n",
    "       'Ensemble_Correct', 'heirarchial_pred', 'heirarchial_Correct'])\n",
    "\n",
    "\n",
    "#for assay in tqdm(assaylist[:7]):\n",
    "for assay in tqdm(list_of_lists_df.assay.unique()[:]):\n",
    "    \n",
    "    print(\"Assay: \", assay)\n",
    "    detail_list=pd.DataFrame()\n",
    "    detail_list = list_of_lists_df[list_of_lists_df[\"assay\"]==assay].reset_index(drop=True)\n",
    "    detail_list_test = detail_list[detail_list[\"Data\"]==\"HeldOut\"]\n",
    "\n",
    "    print(\"Heirarchial_Model\")\n",
    "    merger_df=pd.DataFrame()\n",
    "    \n",
    "    StdInChI_batch, true_batch, pred_batch, proba_batch = RF_Fn(assay)\n",
    "    check_heirarchial(assay, \"Heirarchial Model\", true_batch, pred_batch, proba_batch)\n",
    "    \n",
    "    #print(true_batch)\n",
    "    \n",
    "    print(assay)\n",
    "    \n",
    "    merger_df[\"InChICode_standardised\"]=StdInChI_batch\n",
    "    merger_df[\"heirarchial_pred\"]= pred_batch\n",
    "    merger_df[\"true\"]=true_batch\n",
    "    merger_df[\"heirarchial_Correct\"]= merger_df[\"heirarchial_pred\"] == merger_df[\"true\"]\n",
    "    merger_df[\"assay\"]=assay\n",
    "    \n",
    "    \n",
    "    #For each assay combine original predictions and merger_df predictions\n",
    "    #all_preds = pd.DataFrame()\n",
    "    all_preds_test_compounds= pd.concat([all_preds_test_compounds, pd.merge(detail_list_test, merger_df)])  \n",
    "    \n",
    "    \n",
    "    "
   ]
  },
  {
   "cell_type": "code",
   "execution_count": 9,
   "metadata": {},
   "outputs": [
    {
     "data": {
      "text/html": [
       "<div>\n",
       "<style scoped>\n",
       "    .dataframe tbody tr th:only-of-type {\n",
       "        vertical-align: middle;\n",
       "    }\n",
       "\n",
       "    .dataframe tbody tr th {\n",
       "        vertical-align: top;\n",
       "    }\n",
       "\n",
       "    .dataframe thead th {\n",
       "        text-align: right;\n",
       "    }\n",
       "</style>\n",
       "<table border=\"1\" class=\"dataframe\">\n",
       "  <thead>\n",
       "    <tr style=\"text-align: right;\">\n",
       "      <th></th>\n",
       "      <th>assay</th>\n",
       "      <th>InChICode_standardised</th>\n",
       "      <th>fp_proba</th>\n",
       "      <th>fp_pred</th>\n",
       "      <th>fp_threshold</th>\n",
       "      <th>CP_proba</th>\n",
       "      <th>CP_pred</th>\n",
       "      <th>CP_threshold</th>\n",
       "      <th>true</th>\n",
       "      <th>Data</th>\n",
       "      <th>MFP_Correct</th>\n",
       "      <th>CP_Correct</th>\n",
       "      <th>fp_proba_scaled</th>\n",
       "      <th>CP_proba_scaled</th>\n",
       "      <th>simple_pred</th>\n",
       "      <th>Ensemble_Correct</th>\n",
       "      <th>heirarchial_pred</th>\n",
       "      <th>heirarchial_Correct</th>\n",
       "    </tr>\n",
       "  </thead>\n",
       "  <tbody>\n",
       "    <tr>\n",
       "      <th>0</th>\n",
       "      <td>588458</td>\n",
       "      <td>InChI=1S/C14H15BrN2O3/c1-17(2)6-5-16-13(18)11-...</td>\n",
       "      <td>0.335765</td>\n",
       "      <td>1</td>\n",
       "      <td>0.310223</td>\n",
       "      <td>0.478519</td>\n",
       "      <td>1</td>\n",
       "      <td>0.304308</td>\n",
       "      <td>0.0</td>\n",
       "      <td>HeldOut</td>\n",
       "      <td>False</td>\n",
       "      <td>False</td>\n",
       "      <td>0.518514</td>\n",
       "      <td>0.625207</td>\n",
       "      <td>1.0</td>\n",
       "      <td>False</td>\n",
       "      <td>0.0</td>\n",
       "      <td>True</td>\n",
       "    </tr>\n",
       "    <tr>\n",
       "      <th>1</th>\n",
       "      <td>588458</td>\n",
       "      <td>InChI=1S/C23H22N2O2/c26-23(16-22-21-9-5-4-6-17...</td>\n",
       "      <td>0.210945</td>\n",
       "      <td>0</td>\n",
       "      <td>0.310223</td>\n",
       "      <td>0.168993</td>\n",
       "      <td>0</td>\n",
       "      <td>0.304308</td>\n",
       "      <td>0.0</td>\n",
       "      <td>HeldOut</td>\n",
       "      <td>True</td>\n",
       "      <td>True</td>\n",
       "      <td>0.339990</td>\n",
       "      <td>0.277667</td>\n",
       "      <td>0.0</td>\n",
       "      <td>True</td>\n",
       "      <td>0.0</td>\n",
       "      <td>True</td>\n",
       "    </tr>\n",
       "    <tr>\n",
       "      <th>2</th>\n",
       "      <td>588458</td>\n",
       "      <td>InChI=1S/C22H17F2NO3/c23-18-7-1-15(2-8-18)13-2...</td>\n",
       "      <td>0.155810</td>\n",
       "      <td>0</td>\n",
       "      <td>0.310223</td>\n",
       "      <td>0.248408</td>\n",
       "      <td>0</td>\n",
       "      <td>0.304308</td>\n",
       "      <td>0.0</td>\n",
       "      <td>HeldOut</td>\n",
       "      <td>True</td>\n",
       "      <td>True</td>\n",
       "      <td>0.251126</td>\n",
       "      <td>0.408151</td>\n",
       "      <td>0.0</td>\n",
       "      <td>True</td>\n",
       "      <td>0.0</td>\n",
       "      <td>True</td>\n",
       "    </tr>\n",
       "    <tr>\n",
       "      <th>3</th>\n",
       "      <td>588458</td>\n",
       "      <td>InChI=1S/C24H24N6O4/c25-22-20(24(31)26-7-8-29-...</td>\n",
       "      <td>0.163149</td>\n",
       "      <td>0</td>\n",
       "      <td>0.310223</td>\n",
       "      <td>0.208577</td>\n",
       "      <td>0</td>\n",
       "      <td>0.304308</td>\n",
       "      <td>0.0</td>\n",
       "      <td>HeldOut</td>\n",
       "      <td>True</td>\n",
       "      <td>True</td>\n",
       "      <td>0.262955</td>\n",
       "      <td>0.342707</td>\n",
       "      <td>0.0</td>\n",
       "      <td>True</td>\n",
       "      <td>0.0</td>\n",
       "      <td>True</td>\n",
       "    </tr>\n",
       "    <tr>\n",
       "      <th>4</th>\n",
       "      <td>588458</td>\n",
       "      <td>InChI=1S/C15H23BrN2O4S/c1-10-8-18(11(2)9-19)23...</td>\n",
       "      <td>0.285539</td>\n",
       "      <td>0</td>\n",
       "      <td>0.310223</td>\n",
       "      <td>0.554642</td>\n",
       "      <td>1</td>\n",
       "      <td>0.304308</td>\n",
       "      <td>0.0</td>\n",
       "      <td>HeldOut</td>\n",
       "      <td>True</td>\n",
       "      <td>False</td>\n",
       "      <td>0.460216</td>\n",
       "      <td>0.679917</td>\n",
       "      <td>1.0</td>\n",
       "      <td>False</td>\n",
       "      <td>0.0</td>\n",
       "      <td>True</td>\n",
       "    </tr>\n",
       "    <tr>\n",
       "      <th>...</th>\n",
       "      <td>...</td>\n",
       "      <td>...</td>\n",
       "      <td>...</td>\n",
       "      <td>...</td>\n",
       "      <td>...</td>\n",
       "      <td>...</td>\n",
       "      <td>...</td>\n",
       "      <td>...</td>\n",
       "      <td>...</td>\n",
       "      <td>...</td>\n",
       "      <td>...</td>\n",
       "      <td>...</td>\n",
       "      <td>...</td>\n",
       "      <td>...</td>\n",
       "      <td>...</td>\n",
       "      <td>...</td>\n",
       "      <td>...</td>\n",
       "      <td>...</td>\n",
       "    </tr>\n",
       "    <tr>\n",
       "      <th>67</th>\n",
       "      <td>1117305</td>\n",
       "      <td>InChI=1S/C7H8ClN3O4S2/c8-4-1-5-7(2-6(4)16(9,12...</td>\n",
       "      <td>0.703995</td>\n",
       "      <td>1</td>\n",
       "      <td>0.457779</td>\n",
       "      <td>0.556806</td>\n",
       "      <td>1</td>\n",
       "      <td>0.264151</td>\n",
       "      <td>0.0</td>\n",
       "      <td>HeldOut</td>\n",
       "      <td>False</td>\n",
       "      <td>False</td>\n",
       "      <td>0.727044</td>\n",
       "      <td>0.698855</td>\n",
       "      <td>1.0</td>\n",
       "      <td>False</td>\n",
       "      <td>0.0</td>\n",
       "      <td>True</td>\n",
       "    </tr>\n",
       "    <tr>\n",
       "      <th>68</th>\n",
       "      <td>1117305</td>\n",
       "      <td>InChI=1S/C14H9I3O4/c15-9-6-8(1-2-12(9)18)21-14...</td>\n",
       "      <td>0.196017</td>\n",
       "      <td>0</td>\n",
       "      <td>0.457779</td>\n",
       "      <td>0.210436</td>\n",
       "      <td>0</td>\n",
       "      <td>0.264151</td>\n",
       "      <td>0.0</td>\n",
       "      <td>HeldOut</td>\n",
       "      <td>True</td>\n",
       "      <td>True</td>\n",
       "      <td>0.214095</td>\n",
       "      <td>0.398324</td>\n",
       "      <td>0.0</td>\n",
       "      <td>True</td>\n",
       "      <td>0.0</td>\n",
       "      <td>True</td>\n",
       "    </tr>\n",
       "    <tr>\n",
       "      <th>69</th>\n",
       "      <td>1117305</td>\n",
       "      <td>InChI=1S/C18H19Cl2NO4/c1-5-25-18(23)14-10(3)21...</td>\n",
       "      <td>0.202912</td>\n",
       "      <td>0</td>\n",
       "      <td>0.457779</td>\n",
       "      <td>0.487726</td>\n",
       "      <td>1</td>\n",
       "      <td>0.264151</td>\n",
       "      <td>1.0</td>\n",
       "      <td>HeldOut</td>\n",
       "      <td>False</td>\n",
       "      <td>True</td>\n",
       "      <td>0.221627</td>\n",
       "      <td>0.651916</td>\n",
       "      <td>0.0</td>\n",
       "      <td>False</td>\n",
       "      <td>0.0</td>\n",
       "      <td>False</td>\n",
       "    </tr>\n",
       "    <tr>\n",
       "      <th>70</th>\n",
       "      <td>1117305</td>\n",
       "      <td>InChI=1S/C16H11BrN2O/c17-9-5-6-14-11(7-9)12-8-...</td>\n",
       "      <td>0.149597</td>\n",
       "      <td>0</td>\n",
       "      <td>0.457779</td>\n",
       "      <td>0.238125</td>\n",
       "      <td>0</td>\n",
       "      <td>0.264151</td>\n",
       "      <td>0.0</td>\n",
       "      <td>HeldOut</td>\n",
       "      <td>True</td>\n",
       "      <td>True</td>\n",
       "      <td>0.163395</td>\n",
       "      <td>0.450736</td>\n",
       "      <td>0.0</td>\n",
       "      <td>True</td>\n",
       "      <td>0.0</td>\n",
       "      <td>True</td>\n",
       "    </tr>\n",
       "    <tr>\n",
       "      <th>71</th>\n",
       "      <td>1117305</td>\n",
       "      <td>InChI=1S/C19H21NO4/c1-20-5-4-10-7-15(22)19(24-...</td>\n",
       "      <td>0.806297</td>\n",
       "      <td>1</td>\n",
       "      <td>0.457779</td>\n",
       "      <td>0.396923</td>\n",
       "      <td>1</td>\n",
       "      <td>0.264151</td>\n",
       "      <td>1.0</td>\n",
       "      <td>HeldOut</td>\n",
       "      <td>True</td>\n",
       "      <td>True</td>\n",
       "      <td>0.821380</td>\n",
       "      <td>0.590217</td>\n",
       "      <td>1.0</td>\n",
       "      <td>True</td>\n",
       "      <td>0.0</td>\n",
       "      <td>False</td>\n",
       "    </tr>\n",
       "  </tbody>\n",
       "</table>\n",
       "<p>10072 rows × 18 columns</p>\n",
       "</div>"
      ],
      "text/plain": [
       "      assay                             InChICode_standardised  fp_proba  \\\n",
       "0    588458  InChI=1S/C14H15BrN2O3/c1-17(2)6-5-16-13(18)11-...  0.335765   \n",
       "1    588458  InChI=1S/C23H22N2O2/c26-23(16-22-21-9-5-4-6-17...  0.210945   \n",
       "2    588458  InChI=1S/C22H17F2NO3/c23-18-7-1-15(2-8-18)13-2...  0.155810   \n",
       "3    588458  InChI=1S/C24H24N6O4/c25-22-20(24(31)26-7-8-29-...  0.163149   \n",
       "4    588458  InChI=1S/C15H23BrN2O4S/c1-10-8-18(11(2)9-19)23...  0.285539   \n",
       "..      ...                                                ...       ...   \n",
       "67  1117305  InChI=1S/C7H8ClN3O4S2/c8-4-1-5-7(2-6(4)16(9,12...  0.703995   \n",
       "68  1117305  InChI=1S/C14H9I3O4/c15-9-6-8(1-2-12(9)18)21-14...  0.196017   \n",
       "69  1117305  InChI=1S/C18H19Cl2NO4/c1-5-25-18(23)14-10(3)21...  0.202912   \n",
       "70  1117305  InChI=1S/C16H11BrN2O/c17-9-5-6-14-11(7-9)12-8-...  0.149597   \n",
       "71  1117305  InChI=1S/C19H21NO4/c1-20-5-4-10-7-15(22)19(24-...  0.806297   \n",
       "\n",
       "   fp_pred  fp_threshold  CP_proba CP_pred  CP_threshold  true     Data  \\\n",
       "0        1      0.310223  0.478519       1      0.304308   0.0  HeldOut   \n",
       "1        0      0.310223  0.168993       0      0.304308   0.0  HeldOut   \n",
       "2        0      0.310223  0.248408       0      0.304308   0.0  HeldOut   \n",
       "3        0      0.310223  0.208577       0      0.304308   0.0  HeldOut   \n",
       "4        0      0.310223  0.554642       1      0.304308   0.0  HeldOut   \n",
       "..     ...           ...       ...     ...           ...   ...      ...   \n",
       "67       1      0.457779  0.556806       1      0.264151   0.0  HeldOut   \n",
       "68       0      0.457779  0.210436       0      0.264151   0.0  HeldOut   \n",
       "69       0      0.457779  0.487726       1      0.264151   1.0  HeldOut   \n",
       "70       0      0.457779  0.238125       0      0.264151   0.0  HeldOut   \n",
       "71       1      0.457779  0.396923       1      0.264151   1.0  HeldOut   \n",
       "\n",
       "   MFP_Correct CP_Correct  fp_proba_scaled  CP_proba_scaled  simple_pred  \\\n",
       "0        False      False         0.518514         0.625207          1.0   \n",
       "1         True       True         0.339990         0.277667          0.0   \n",
       "2         True       True         0.251126         0.408151          0.0   \n",
       "3         True       True         0.262955         0.342707          0.0   \n",
       "4         True      False         0.460216         0.679917          1.0   \n",
       "..         ...        ...              ...              ...          ...   \n",
       "67       False      False         0.727044         0.698855          1.0   \n",
       "68        True       True         0.214095         0.398324          0.0   \n",
       "69       False       True         0.221627         0.651916          0.0   \n",
       "70        True       True         0.163395         0.450736          0.0   \n",
       "71        True       True         0.821380         0.590217          1.0   \n",
       "\n",
       "   Ensemble_Correct  heirarchial_pred heirarchial_Correct  \n",
       "0             False               0.0                True  \n",
       "1              True               0.0                True  \n",
       "2              True               0.0                True  \n",
       "3              True               0.0                True  \n",
       "4             False               0.0                True  \n",
       "..              ...               ...                 ...  \n",
       "67            False               0.0                True  \n",
       "68             True               0.0                True  \n",
       "69            False               0.0               False  \n",
       "70             True               0.0                True  \n",
       "71             True               0.0               False  \n",
       "\n",
       "[10072 rows x 18 columns]"
      ]
     },
     "execution_count": 9,
     "metadata": {},
     "output_type": "execute_result"
    }
   ],
   "source": [
    "all_preds_test_compounds"
   ]
  },
  {
   "cell_type": "code",
   "execution_count": 10,
   "metadata": {},
   "outputs": [],
   "source": [
    "all_preds_test_compounds.to_csv(\"Predictions_train_heldout_scaled_prob_all_assays_heirarchial_model_test_compounds.csv\", index=False)"
   ]
  },
  {
   "cell_type": "code",
   "execution_count": 11,
   "metadata": {},
   "outputs": [
    {
     "data": {
      "text/html": [
       "<div>\n",
       "<style scoped>\n",
       "    .dataframe tbody tr th:only-of-type {\n",
       "        vertical-align: middle;\n",
       "    }\n",
       "\n",
       "    .dataframe tbody tr th {\n",
       "        vertical-align: top;\n",
       "    }\n",
       "\n",
       "    .dataframe thead th {\n",
       "        text-align: right;\n",
       "    }\n",
       "</style>\n",
       "<table border=\"1\" class=\"dataframe\">\n",
       "  <thead>\n",
       "    <tr style=\"text-align: right;\">\n",
       "      <th></th>\n",
       "      <th>assay</th>\n",
       "      <th>method</th>\n",
       "      <th>f1</th>\n",
       "      <th>precision</th>\n",
       "      <th>Sensitivity</th>\n",
       "      <th>Specificity</th>\n",
       "      <th>ba</th>\n",
       "      <th>mcc</th>\n",
       "      <th>AUC</th>\n",
       "    </tr>\n",
       "  </thead>\n",
       "  <tbody>\n",
       "    <tr>\n",
       "      <th>0</th>\n",
       "      <td>588458</td>\n",
       "      <td>Heirarchial Model</td>\n",
       "      <td>0.312500</td>\n",
       "      <td>0.500000</td>\n",
       "      <td>0.227273</td>\n",
       "      <td>0.926471</td>\n",
       "      <td>0.576872</td>\n",
       "      <td>0.210241</td>\n",
       "      <td>0.664104</td>\n",
       "    </tr>\n",
       "    <tr>\n",
       "      <th>1</th>\n",
       "      <td>588334</td>\n",
       "      <td>Heirarchial Model</td>\n",
       "      <td>0.320988</td>\n",
       "      <td>0.236364</td>\n",
       "      <td>0.500000</td>\n",
       "      <td>0.475000</td>\n",
       "      <td>0.487500</td>\n",
       "      <td>-0.021528</td>\n",
       "      <td>0.533413</td>\n",
       "    </tr>\n",
       "    <tr>\n",
       "      <th>2</th>\n",
       "      <td>2642</td>\n",
       "      <td>Heirarchial Model</td>\n",
       "      <td>0.280000</td>\n",
       "      <td>0.225806</td>\n",
       "      <td>0.368421</td>\n",
       "      <td>0.582609</td>\n",
       "      <td>0.475515</td>\n",
       "      <td>-0.043098</td>\n",
       "      <td>0.470252</td>\n",
       "    </tr>\n",
       "    <tr>\n",
       "      <th>3</th>\n",
       "      <td>2156</td>\n",
       "      <td>Heirarchial Model</td>\n",
       "      <td>0.408759</td>\n",
       "      <td>0.256881</td>\n",
       "      <td>1.000000</td>\n",
       "      <td>0.058140</td>\n",
       "      <td>0.529070</td>\n",
       "      <td>0.122209</td>\n",
       "      <td>0.596761</td>\n",
       "    </tr>\n",
       "    <tr>\n",
       "      <th>4</th>\n",
       "      <td>2330</td>\n",
       "      <td>Heirarchial Model</td>\n",
       "      <td>0.750000</td>\n",
       "      <td>0.750000</td>\n",
       "      <td>0.750000</td>\n",
       "      <td>0.920000</td>\n",
       "      <td>0.835000</td>\n",
       "      <td>0.670000</td>\n",
       "      <td>0.894375</td>\n",
       "    </tr>\n",
       "    <tr>\n",
       "      <th>...</th>\n",
       "      <td>...</td>\n",
       "      <td>...</td>\n",
       "      <td>...</td>\n",
       "      <td>...</td>\n",
       "      <td>...</td>\n",
       "      <td>...</td>\n",
       "      <td>...</td>\n",
       "      <td>...</td>\n",
       "      <td>...</td>\n",
       "    </tr>\n",
       "    <tr>\n",
       "      <th>83</th>\n",
       "      <td>720504</td>\n",
       "      <td>Heirarchial Model</td>\n",
       "      <td>0.863636</td>\n",
       "      <td>0.760000</td>\n",
       "      <td>1.000000</td>\n",
       "      <td>0.142857</td>\n",
       "      <td>0.571429</td>\n",
       "      <td>0.329502</td>\n",
       "      <td>0.293233</td>\n",
       "    </tr>\n",
       "    <tr>\n",
       "      <th>84</th>\n",
       "      <td>720532</td>\n",
       "      <td>Heirarchial Model</td>\n",
       "      <td>0.507937</td>\n",
       "      <td>0.800000</td>\n",
       "      <td>0.372093</td>\n",
       "      <td>0.777778</td>\n",
       "      <td>0.574935</td>\n",
       "      <td>0.145606</td>\n",
       "      <td>0.516150</td>\n",
       "    </tr>\n",
       "    <tr>\n",
       "      <th>85</th>\n",
       "      <td>1159524</td>\n",
       "      <td>Heirarchial Model</td>\n",
       "      <td>0.375000</td>\n",
       "      <td>0.270000</td>\n",
       "      <td>0.613636</td>\n",
       "      <td>0.446970</td>\n",
       "      <td>0.530303</td>\n",
       "      <td>0.052981</td>\n",
       "      <td>0.530045</td>\n",
       "    </tr>\n",
       "    <tr>\n",
       "      <th>86</th>\n",
       "      <td>1117304</td>\n",
       "      <td>Heirarchial Model</td>\n",
       "      <td>0.525000</td>\n",
       "      <td>0.381818</td>\n",
       "      <td>0.840000</td>\n",
       "      <td>0.358491</td>\n",
       "      <td>0.599245</td>\n",
       "      <td>0.203143</td>\n",
       "      <td>0.579245</td>\n",
       "    </tr>\n",
       "    <tr>\n",
       "      <th>87</th>\n",
       "      <td>1117305</td>\n",
       "      <td>Heirarchial Model</td>\n",
       "      <td>0.216216</td>\n",
       "      <td>0.266667</td>\n",
       "      <td>0.181818</td>\n",
       "      <td>0.780000</td>\n",
       "      <td>0.480909</td>\n",
       "      <td>-0.043308</td>\n",
       "      <td>0.486364</td>\n",
       "    </tr>\n",
       "  </tbody>\n",
       "</table>\n",
       "<p>88 rows × 9 columns</p>\n",
       "</div>"
      ],
      "text/plain": [
       "      assay             method        f1  precision  Sensitivity  Specificity  \\\n",
       "0    588458  Heirarchial Model  0.312500   0.500000     0.227273     0.926471   \n",
       "1    588334  Heirarchial Model  0.320988   0.236364     0.500000     0.475000   \n",
       "2      2642  Heirarchial Model  0.280000   0.225806     0.368421     0.582609   \n",
       "3      2156  Heirarchial Model  0.408759   0.256881     1.000000     0.058140   \n",
       "4      2330  Heirarchial Model  0.750000   0.750000     0.750000     0.920000   \n",
       "..      ...                ...       ...        ...          ...          ...   \n",
       "83   720504  Heirarchial Model  0.863636   0.760000     1.000000     0.142857   \n",
       "84   720532  Heirarchial Model  0.507937   0.800000     0.372093     0.777778   \n",
       "85  1159524  Heirarchial Model  0.375000   0.270000     0.613636     0.446970   \n",
       "86  1117304  Heirarchial Model  0.525000   0.381818     0.840000     0.358491   \n",
       "87  1117305  Heirarchial Model  0.216216   0.266667     0.181818     0.780000   \n",
       "\n",
       "          ba       mcc       AUC  \n",
       "0   0.576872  0.210241  0.664104  \n",
       "1   0.487500 -0.021528  0.533413  \n",
       "2   0.475515 -0.043098  0.470252  \n",
       "3   0.529070  0.122209  0.596761  \n",
       "4   0.835000  0.670000  0.894375  \n",
       "..       ...       ...       ...  \n",
       "83  0.571429  0.329502  0.293233  \n",
       "84  0.574935  0.145606  0.516150  \n",
       "85  0.530303  0.052981  0.530045  \n",
       "86  0.599245  0.203143  0.579245  \n",
       "87  0.480909 -0.043308  0.486364  \n",
       "\n",
       "[88 rows x 9 columns]"
      ]
     },
     "execution_count": 11,
     "metadata": {},
     "output_type": "execute_result"
    }
   ],
   "source": [
    "metrics_list = pd.DataFrame(metrics_list,columns=[\"assay\",\"method\",\"f1\", \"precision\", \"Sensitivity\", \"Specificity\", \"ba\", \"mcc\", \"AUC\"])\n",
    "metrics_list"
   ]
  },
  {
   "cell_type": "code",
   "execution_count": 12,
   "metadata": {},
   "outputs": [],
   "source": [
    "metrics_list.to_csv(\"heirarchial_model_metrics.csv\", index=False)"
   ]
  },
  {
   "cell_type": "code",
   "execution_count": null,
   "metadata": {},
   "outputs": [],
   "source": []
  },
  {
   "cell_type": "code",
   "execution_count": null,
   "metadata": {},
   "outputs": [],
   "source": []
  }
 ],
 "metadata": {
  "kernelspec": {
   "display_name": "Python 3 (ipykernel)",
   "language": "python",
   "name": "python3"
  },
  "language_info": {
   "codemirror_mode": {
    "name": "ipython",
    "version": 3
   },
   "file_extension": ".py",
   "mimetype": "text/x-python",
   "name": "python",
   "nbconvert_exporter": "python",
   "pygments_lexer": "ipython3",
   "version": "3.9.6"
  }
 },
 "nbformat": 4,
 "nbformat_minor": 4
}
